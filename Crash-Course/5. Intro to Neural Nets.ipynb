{
 "cells": [
  {
   "cell_type": "markdown",
   "id": "842f3e69-68c2-46dc-a547-92201b2985c1",
   "metadata": {},
   "source": [
    "# Introduction to Neural Nets\n",
    "\n",
    "This Colab builds a deep neural network to perform more sophisticated linear regression than the earlier Colabs.\n",
    "\n",
    "https://colab.research.google.com/github/google/eng-edu/blob/main/ml/cc/exercises/intro_to_neural_nets.ipynb?utm_source=mlcc&utm_campaign=colab-external&utm_medium=referral&utm_content=intro_to_nn_tf2-colab&hl=en"
   ]
  },
  {
   "cell_type": "markdown",
   "id": "3d433a9a-6b8b-4024-933c-99cb19879c40",
   "metadata": {},
   "source": [
    "## Learning Objectives:\n",
    "\n",
    "After doing this Colab, you'll know how to do the following:\n",
    "\n",
    "  * Create a simple deep neural network.\n",
    "  * Tune the hyperparameters for a simple deep neural network."
   ]
  },
  {
   "cell_type": "markdown",
   "id": "4dafb388-4bb3-4198-8cf7-aff80c087107",
   "metadata": {},
   "source": [
    "## The Dataset\n",
    "  \n",
    "Like several of the previous Colabs, this Colab uses the [California Housing Dataset](https://developers.google.com/machine-learning/crash-course/california-housing-data-description)."
   ]
  },
  {
   "cell_type": "markdown",
   "id": "dc9e0be1-c0f1-40eb-8eb9-e30b8b8d6e00",
   "metadata": {},
   "source": [
    "## Import relevant modules\n",
    "\n",
    "The following hidden code cell imports the necessary code to run the code in the rest of this Colaboratory."
   ]
  },
  {
   "cell_type": "code",
   "execution_count": 1,
   "id": "99e44f0e-26f4-4228-9ffd-7524e87c29ce",
   "metadata": {},
   "outputs": [
    {
     "name": "stdout",
     "output_type": "stream",
     "text": [
      "Imported modules.\n"
     ]
    }
   ],
   "source": [
    "#@title Import relevant modules\n",
    "import numpy as np\n",
    "import pandas as pd\n",
    "import tensorflow as tf\n",
    "\n",
    "import torch\n",
    "from torch import nn\n",
    "from torch.utils.data import Dataset, DataLoader\n",
    "import torchvision.transforms as transforms\n",
    "from sklearn.model_selection import train_test_split\n",
    "import math\n",
    "from tqdm.notebook import tqdm\n",
    "\n",
    "from matplotlib import pyplot as plt\n",
    "import seaborn as sns\n",
    "\n",
    "# The following lines adjust the granularity of reporting. \n",
    "pd.options.display.max_rows = 10\n",
    "pd.options.display.float_format = \"{:.1f}\".format\n",
    "\n",
    "print(\"Imported modules.\")"
   ]
  },
  {
   "cell_type": "markdown",
   "id": "3ca23163-1495-41ae-9187-0e625e4b8d52",
   "metadata": {},
   "source": [
    "## Load the dataset\n",
    "\n",
    "Like most of the previous Colab exercises, this exercise uses the California Housing Dataset.  The following code cell loads the separate .csv files and creates the following two pandas DataFrames:\n",
    "\n",
    "* `train_df`, which contains the training set\n",
    "* `test_df`, which contains the test set\n",
    "   "
   ]
  },
  {
   "cell_type": "code",
   "execution_count": 2,
   "id": "3e6d0a86-b257-4982-919e-a7aee3814080",
   "metadata": {},
   "outputs": [],
   "source": [
    "# Load the dataset\n",
    "orign_train_df = pd.read_csv(\"https://download.mlcc.google.com/mledu-datasets/california_housing_train.csv\")\n",
    "test_df = pd.read_csv(\"https://download.mlcc.google.com/mledu-datasets/california_housing_test.csv\")\n",
    "\n",
    "# Shuffle the examples\n",
    "orign_train_df = orign_train_df.reindex(np.random.permutation(orign_train_df.index))"
   ]
  },
  {
   "cell_type": "markdown",
   "id": "f564ffa0-fbba-4ab4-ac86-27f9c4dc786b",
   "metadata": {},
   "source": [
    "## Normalize values\n",
    "\n",
    "When building a model with multiple features, the values of each feature should cover roughly the same range.  The following code cell normalizes datasets by converting each raw value to its Z-score. (For more information about Z-scores, see the Classification exercise.)"
   ]
  },
  {
   "cell_type": "code",
   "execution_count": 3,
   "id": "e9fd5e89-3187-4c47-895e-5159350dc73b",
   "metadata": {},
   "outputs": [
    {
     "name": "stdout",
     "output_type": "stream",
     "text": [
      "Normalized the values.\n"
     ]
    }
   ],
   "source": [
    "# Calculate the Z-scores of each column in the training set:\n",
    "train_df_mean = orign_train_df.mean()\n",
    "train_df_std = orign_train_df.std()\n",
    "train_df_norm = (orign_train_df - train_df_mean)/train_df_std\n",
    "\n",
    "# Calculate the Z-scores of each column in the test set.\n",
    "test_df_mean = test_df.mean()\n",
    "test_df_std = test_df.std()\n",
    "test_df_norm = (test_df - test_df_mean)/test_df_std\n",
    "\n",
    "print(\"Normalized the values.\")"
   ]
  },
  {
   "cell_type": "code",
   "execution_count": 4,
   "id": "dbcd6ad3-f096-44d2-8ee7-b8f974faacf6",
   "metadata": {},
   "outputs": [],
   "source": [
    "# resolution_in_Zs = 0.3  # 3/10 of a standard deviation.\n",
    "\n",
    "# feature_columns = []\n",
    "\n",
    "# # Create a bucket feature column for latitude.\n",
    "# latitude_as_a_numeric_column = tf.feature_column.numeric_column(\"latitude\")\n",
    "# latitude_boundaries = list(np.arange(int(min(train_df_norm['latitude'])), \n",
    "#                                      int(max(train_df_norm['latitude'])), \n",
    "#                                      resolution_in_Zs))\n",
    "# latitude = tf.feature_column.bucketized_column(latitude_as_a_numeric_column, latitude_boundaries)\n",
    "\n",
    "# # Create a bucket feature column for longitude.\n",
    "# longitude_as_a_numeric_column = tf.feature_column.numeric_column(\"longitude\")\n",
    "# longitude_boundaries = list(np.arange(int(min(train_df_norm['longitude'])), \n",
    "#                                       int(max(train_df_norm['longitude'])), \n",
    "#                                       resolution_in_Zs))\n",
    "\n",
    "# # Represent median_income as a floating-point value.\n",
    "# median_income = tf.feature_column.numeric_column(\"median_income\")\n",
    "# feature_columns.append(median_income)\n",
    "\n",
    "# # Represent population as a floating-point value.\n",
    "# population = tf.feature_column.numeric_column(\"population\")\n",
    "# feature_columns.append(population)\n",
    "\n",
    "# # Convert the list of feature columns into a layer that will later be fed into\n",
    "# # the model. \n",
    "# # my_feature_layer = tf.keras.layers.DenseFeatures(feature_columns)\n",
    "# feature_columns\n",
    "\n",
    "# Construct features\n",
    "def coord_bins(coord):\n",
    "    # returns the `bins` parameter in pd.cut\n",
    "    return np.linspace(np.min(coord), np.max(coord), 10) # 在指定的時間間隔內返回均勻分布的數字\n",
    "\n",
    "\n",
    "def coord_to_loc(longitude, latitude):\n",
    "    longitude_bins, latitude_bins = coord_bins(longitude), coord_bins(latitude)\n",
    "    longitude_binned = np.digitize(longitude, bins=longitude_bins) # 獲取每個值所屬數組的bin的索引\n",
    "    latitude_binned = np.digitize(latitude, bins=latitude_bins)\n",
    "\n",
    "    longitude_binned_onehot, latitude_binned_onehot = (\n",
    "        pd.get_dummies(longitude_binned),\n",
    "        pd.get_dummies(latitude_binned),\n",
    "    )\n",
    "    \n",
    "    # numpy.einsum在初學的時候也許不是必要的函數，但對於時間複雜度高的計算，此方程式可以提高運算速度，主要用於計算向量及矩陣，\n",
    "    # 總共有兩個部分組成，一是計算規則，二是要計算的陣列或矩陣\n",
    "    \n",
    "    return np.einsum(\n",
    "        \"...i,...j\", longitude_binned_onehot, latitude_binned_onehot\n",
    "    ).reshape(longitude.shape[0], -1)"
   ]
  },
  {
   "cell_type": "code",
   "execution_count": 5,
   "id": "ffdf27a6-93e4-457f-b0ee-13b83f936f42",
   "metadata": {},
   "outputs": [
    {
     "name": "stdout",
     "output_type": "stream",
     "text": [
      "(17000, 100)\n",
      "(3000, 100)\n",
      "(17000, 102)\n",
      "(3000, 102)\n"
     ]
    }
   ],
   "source": [
    "loc_train = coord_to_loc(train_df_norm[\"longitude\"], train_df_norm[\"latitude\"])\n",
    "loc_test = coord_to_loc(test_df_norm[\"longitude\"], test_df_norm[\"latitude\"])\n",
    "\n",
    "x_train = np.hstack(\n",
    "    (train_df_norm[[\"median_income\", \"population\"]].to_numpy(), loc_train)\n",
    ")\n",
    "x_test = np.hstack((test_df_norm[[\"median_income\", \"population\"]].to_numpy(), loc_test))\n",
    "\n",
    "print(loc_train.shape)\n",
    "print(loc_test.shape)\n",
    "\n",
    "print(x_train.shape)\n",
    "print(x_test.shape)"
   ]
  },
  {
   "cell_type": "code",
   "execution_count": 6,
   "id": "641af430-4b92-40b7-82f9-e0b0b0759ba8",
   "metadata": {},
   "outputs": [],
   "source": [
    "class HousingDataset(Dataset):\n",
    "    def __init__(self, x, y):\n",
    "        self.x = torch.tensor(x, dtype=torch.float)\n",
    "        self.y = torch.tensor(y.to_numpy().reshape(-1, 1), dtype=torch.float)\n",
    "\n",
    "    def __getitem__(self, idx):\n",
    "        return (self.x[idx], self.y[idx])\n",
    "\n",
    "    def __len__(self):\n",
    "        return len(self.y)\n",
    "\n",
    "\n",
    "dat = HousingDataset(x_train, train_df_norm[\"median_house_value\"])\n",
    "dat_test = HousingDataset(x_test, test_df_norm[\"median_house_value\"])"
   ]
  },
  {
   "cell_type": "code",
   "execution_count": 7,
   "id": "6b0b2eea-77cd-4a7d-a596-d7af298c394d",
   "metadata": {},
   "outputs": [
    {
     "name": "stdout",
     "output_type": "stream",
     "text": [
      "num_features: 102\n"
     ]
    }
   ],
   "source": [
    "num_features = dat.x.shape[1]\n",
    "print(f\"num_features: {num_features}\")"
   ]
  },
  {
   "cell_type": "markdown",
   "id": "a5594167-5151-4eaa-ad4d-7ee214535fab",
   "metadata": {},
   "source": [
    "## Build a linear regression model as a baseline\n",
    "\n",
    "Before creating a deep neural net, find a [baseline](https://developers.google.com/machine-learning/glossary/#baseline) loss by running a simple linear regression model that uses the feature layer you just created. \n"
   ]
  },
  {
   "cell_type": "code",
   "execution_count": 8,
   "id": "e3458a08-f50b-4c6b-8dd0-6ad640acc25a",
   "metadata": {},
   "outputs": [
    {
     "data": {
      "text/plain": [
       "Sequential(\n",
       "  (hid): Sequential(\n",
       "    (0): Linear(in_features=102, out_features=1, bias=True)\n",
       "  )\n",
       ")"
      ]
     },
     "execution_count": 8,
     "metadata": {},
     "output_type": "execute_result"
    }
   ],
   "source": [
    "from torch import nn\n",
    "\n",
    "class Sequential(nn.Module):\n",
    "    def __init__(self):\n",
    "        super(Sequential, self).__init__()\n",
    "        self.hid = nn.Sequential(\n",
    "                    nn.Linear(num_features, 1)                    \n",
    "                )\n",
    "    def forward(self, x):\n",
    "        out = self.hid(x)\n",
    "        return out\n",
    "    \n",
    "Sequential()"
   ]
  },
  {
   "cell_type": "code",
   "execution_count": 9,
   "id": "f1072ca2-9230-4837-bab8-9ff4b6f50a0b",
   "metadata": {},
   "outputs": [],
   "source": [
    "from sklearn.model_selection import train_test_split\n",
    "\n",
    "# The following variables are the hyperparameters.\n",
    "learning_rate = 0.01\n",
    "n_epochs = 15\n",
    "batch_size = 1000\n",
    "label_name = \"median_house_value\"\n",
    "\n",
    "\n",
    "train_ds, valid_ds = train_test_split(dat, test_size=0.2)\n",
    "\n",
    "train_loader=DataLoader(train_ds,batch_size=batch_size,shuffle=True)\n",
    "\n",
    "valid_loader=DataLoader(valid_ds,batch_size=batch_size,shuffle=False)\n",
    "\n",
    "test_loader=DataLoader(dat_test,batch_size=batch_size,shuffle=False)"
   ]
  },
  {
   "cell_type": "code",
   "execution_count": 10,
   "id": "3a582d6c-f5b1-44a5-b207-727235147e84",
   "metadata": {},
   "outputs": [
    {
     "data": {
      "application/vnd.jupyter.widget-view+json": {
       "model_id": "e796637ab84347fb8df7b287c997faed",
       "version_major": 2,
       "version_minor": 0
      },
      "text/plain": [
       "HBox(children=(FloatProgress(value=0.0, max=14.0), HTML(value='')))"
      ]
     },
     "metadata": {},
     "output_type": "display_data"
    },
    {
     "name": "stdout",
     "output_type": "stream",
     "text": [
      "\n",
      "[ Epoch | 001/015 ]           train_loss = 0.57865 mean_squared_error = 0.57865\n"
     ]
    },
    {
     "data": {
      "application/vnd.jupyter.widget-view+json": {
       "model_id": "b1a7fb68bf87421f9198c35a730f480b",
       "version_major": 2,
       "version_minor": 0
      },
      "text/plain": [
       "HBox(children=(FloatProgress(value=0.0, max=14.0), HTML(value='')))"
      ]
     },
     "metadata": {},
     "output_type": "display_data"
    },
    {
     "name": "stdout",
     "output_type": "stream",
     "text": [
      "\n",
      "[ Epoch | 002/015 ]           train_loss = 0.39834 mean_squared_error = 0.39834\n"
     ]
    },
    {
     "data": {
      "application/vnd.jupyter.widget-view+json": {
       "model_id": "fc054086991f4c059422b149a46582fd",
       "version_major": 2,
       "version_minor": 0
      },
      "text/plain": [
       "HBox(children=(FloatProgress(value=0.0, max=14.0), HTML(value='')))"
      ]
     },
     "metadata": {},
     "output_type": "display_data"
    },
    {
     "name": "stdout",
     "output_type": "stream",
     "text": [
      "\n",
      "[ Epoch | 003/015 ]           train_loss = 0.38171 mean_squared_error = 0.38171\n"
     ]
    },
    {
     "data": {
      "application/vnd.jupyter.widget-view+json": {
       "model_id": "9848420de957462baf831c8ad76c46ff",
       "version_major": 2,
       "version_minor": 0
      },
      "text/plain": [
       "HBox(children=(FloatProgress(value=0.0, max=14.0), HTML(value='')))"
      ]
     },
     "metadata": {},
     "output_type": "display_data"
    },
    {
     "name": "stdout",
     "output_type": "stream",
     "text": [
      "\n",
      "[ Epoch | 004/015 ]           train_loss = 0.38176 mean_squared_error = 0.38176\n"
     ]
    },
    {
     "data": {
      "application/vnd.jupyter.widget-view+json": {
       "model_id": "12cb9a3ed75b4e958054fd9908767d2c",
       "version_major": 2,
       "version_minor": 0
      },
      "text/plain": [
       "HBox(children=(FloatProgress(value=0.0, max=14.0), HTML(value='')))"
      ]
     },
     "metadata": {},
     "output_type": "display_data"
    },
    {
     "name": "stdout",
     "output_type": "stream",
     "text": [
      "\n",
      "[ Epoch | 005/015 ]           train_loss = 0.38112 mean_squared_error = 0.38112\n"
     ]
    },
    {
     "data": {
      "application/vnd.jupyter.widget-view+json": {
       "model_id": "5070f35d31de4eaeb639c684789e2d5f",
       "version_major": 2,
       "version_minor": 0
      },
      "text/plain": [
       "HBox(children=(FloatProgress(value=0.0, max=14.0), HTML(value='')))"
      ]
     },
     "metadata": {},
     "output_type": "display_data"
    },
    {
     "name": "stdout",
     "output_type": "stream",
     "text": [
      "\n",
      "[ Epoch | 006/015 ]           train_loss = 0.38087 mean_squared_error = 0.38087\n"
     ]
    },
    {
     "data": {
      "application/vnd.jupyter.widget-view+json": {
       "model_id": "a260d1af81d44cd28129ef3c7b0d4550",
       "version_major": 2,
       "version_minor": 0
      },
      "text/plain": [
       "HBox(children=(FloatProgress(value=0.0, max=14.0), HTML(value='')))"
      ]
     },
     "metadata": {},
     "output_type": "display_data"
    },
    {
     "name": "stdout",
     "output_type": "stream",
     "text": [
      "\n",
      "[ Epoch | 007/015 ]           train_loss = 0.38104 mean_squared_error = 0.38104\n"
     ]
    },
    {
     "data": {
      "application/vnd.jupyter.widget-view+json": {
       "model_id": "5f3f313040274deaae7107524a6a848e",
       "version_major": 2,
       "version_minor": 0
      },
      "text/plain": [
       "HBox(children=(FloatProgress(value=0.0, max=14.0), HTML(value='')))"
      ]
     },
     "metadata": {},
     "output_type": "display_data"
    },
    {
     "name": "stdout",
     "output_type": "stream",
     "text": [
      "\n",
      "[ Epoch | 008/015 ]           train_loss = 0.38117 mean_squared_error = 0.38117\n"
     ]
    },
    {
     "data": {
      "application/vnd.jupyter.widget-view+json": {
       "model_id": "3f590924b364416e8ecc6bd07a60d3c9",
       "version_major": 2,
       "version_minor": 0
      },
      "text/plain": [
       "HBox(children=(FloatProgress(value=0.0, max=14.0), HTML(value='')))"
      ]
     },
     "metadata": {},
     "output_type": "display_data"
    },
    {
     "name": "stdout",
     "output_type": "stream",
     "text": [
      "\n",
      "[ Epoch | 009/015 ]           train_loss = 0.38130 mean_squared_error = 0.38130\n"
     ]
    },
    {
     "data": {
      "application/vnd.jupyter.widget-view+json": {
       "model_id": "3903c278d7ea4a7292065e338ebae895",
       "version_major": 2,
       "version_minor": 0
      },
      "text/plain": [
       "HBox(children=(FloatProgress(value=0.0, max=14.0), HTML(value='')))"
      ]
     },
     "metadata": {},
     "output_type": "display_data"
    },
    {
     "name": "stdout",
     "output_type": "stream",
     "text": [
      "\n",
      "[ Epoch | 010/015 ]           train_loss = 0.38065 mean_squared_error = 0.38065\n"
     ]
    },
    {
     "data": {
      "application/vnd.jupyter.widget-view+json": {
       "model_id": "6e01128e75304a9e89dbed91edde8c69",
       "version_major": 2,
       "version_minor": 0
      },
      "text/plain": [
       "HBox(children=(FloatProgress(value=0.0, max=14.0), HTML(value='')))"
      ]
     },
     "metadata": {},
     "output_type": "display_data"
    },
    {
     "name": "stdout",
     "output_type": "stream",
     "text": [
      "\n",
      "[ Epoch | 011/015 ]           train_loss = 0.38075 mean_squared_error = 0.38075\n"
     ]
    },
    {
     "data": {
      "application/vnd.jupyter.widget-view+json": {
       "model_id": "a8b704d9cfda4fb09a840d54c94686ac",
       "version_major": 2,
       "version_minor": 0
      },
      "text/plain": [
       "HBox(children=(FloatProgress(value=0.0, max=14.0), HTML(value='')))"
      ]
     },
     "metadata": {},
     "output_type": "display_data"
    },
    {
     "name": "stdout",
     "output_type": "stream",
     "text": [
      "\n",
      "[ Epoch | 012/015 ]           train_loss = 0.38086 mean_squared_error = 0.38086\n"
     ]
    },
    {
     "data": {
      "application/vnd.jupyter.widget-view+json": {
       "model_id": "5b2364844b1a46eb97b07075613a91cc",
       "version_major": 2,
       "version_minor": 0
      },
      "text/plain": [
       "HBox(children=(FloatProgress(value=0.0, max=14.0), HTML(value='')))"
      ]
     },
     "metadata": {},
     "output_type": "display_data"
    },
    {
     "name": "stdout",
     "output_type": "stream",
     "text": [
      "\n",
      "[ Epoch | 013/015 ]           train_loss = 0.38019 mean_squared_error = 0.38019\n"
     ]
    },
    {
     "data": {
      "application/vnd.jupyter.widget-view+json": {
       "model_id": "92e310e29eab4657ae14310f6f96cf1f",
       "version_major": 2,
       "version_minor": 0
      },
      "text/plain": [
       "HBox(children=(FloatProgress(value=0.0, max=14.0), HTML(value='')))"
      ]
     },
     "metadata": {},
     "output_type": "display_data"
    },
    {
     "name": "stdout",
     "output_type": "stream",
     "text": [
      "\n",
      "[ Epoch | 014/015 ]           train_loss = 0.38078 mean_squared_error = 0.38078\n"
     ]
    },
    {
     "data": {
      "application/vnd.jupyter.widget-view+json": {
       "model_id": "5f1e1458089343d9b9b39c52adf760de",
       "version_major": 2,
       "version_minor": 0
      },
      "text/plain": [
       "HBox(children=(FloatProgress(value=0.0, max=14.0), HTML(value='')))"
      ]
     },
     "metadata": {},
     "output_type": "display_data"
    },
    {
     "name": "stdout",
     "output_type": "stream",
     "text": [
      "\n",
      "[ Epoch | 015/015 ]           train_loss = 0.38191 mean_squared_error = 0.38191\n",
      "Defined the build_model and train_model functions.\n"
     ]
    }
   ],
   "source": [
    "model = Sequential()\n",
    "\n",
    "optimizer = torch.optim.RMSprop(model.parameters(), lr=learning_rate)\n",
    "# optimizer = torch.optim.RMSprop(model.parameters(), lr=learning_rate, alpha=0.1, eps=1e-08, \n",
    "#                                 weight_decay=0.1, momentum=0.2, centered=False)\n",
    "loss_func = nn.MSELoss()   \n",
    "    \n",
    "    \n",
    "epoch_train_loss = []\n",
    "\n",
    "epoch_valid_loss = []\n",
    "\n",
    "    \n",
    "for epoch in range(n_epochs):\n",
    "    # ---------- Training ----------\n",
    "    # Make sure the model is in train mode before training.\n",
    "    model.train()\n",
    "\n",
    "    # These are used to record information in training.\n",
    "    train_loss = []\n",
    "    train_accs = []    \n",
    "    \n",
    "    # for batch in tqdm(trainloader):\n",
    "    for batch in tqdm(train_loader):\n",
    "        X, y = batch          \n",
    "        # print(X)\n",
    "        y_hat = model(X)\n",
    "        loss = loss_func(y_hat, y) #rmse\n",
    "        optimizer.zero_grad()\n",
    "        loss.backward()\n",
    "        optimizer.step()  \n",
    "        \n",
    "        # Record the loss and accuracy.\n",
    "        train_loss.append(loss.item())\n",
    "        \n",
    "    train_loss = sum(train_loss) / len(train_loss)\n",
    "    \n",
    "    epoch_train_loss.append(train_loss)   \n",
    "  \n",
    "    # Print the information.\n",
    "    print(f\"[ Epoch | {epoch + 1:03d}/{n_epochs:03d} ] \\\n",
    "          train_loss = {train_loss:.5f} mean_squared_error = {train_loss:.5f}\")\n",
    "    \n",
    "print(\"Defined the build_model and train_model functions.\")"
   ]
  },
  {
   "cell_type": "code",
   "execution_count": 11,
   "id": "cea64ee6-bda6-46d4-9c7c-07a0530831ac",
   "metadata": {},
   "outputs": [
    {
     "data": {
      "application/vnd.jupyter.widget-view+json": {
       "model_id": "f1f379804d1a4ac3bf72c66af24bb920",
       "version_major": 2,
       "version_minor": 0
      },
      "text/plain": [
       "HBox(children=(FloatProgress(value=0.0, max=3.0), HTML(value='')))"
      ]
     },
     "metadata": {},
     "output_type": "display_data"
    },
    {
     "name": "stdout",
     "output_type": "stream",
     "text": [
      "\n",
      "test_loss = 0.40784 mean_squared_error = 0.40784\n"
     ]
    }
   ],
   "source": [
    "model.eval()\n",
    "\n",
    "# These are used to record information in validation.\n",
    "test_loss = []\n",
    "\n",
    "for batch in tqdm(test_loader):\n",
    "    X, y = batch          \n",
    "    # print(X)\n",
    "    y_hat = model(X)\n",
    "    loss = loss_func(y_hat, y) #rmse\n",
    "    \n",
    "    # Record the loss and accuracy.\n",
    "    test_loss.append(loss.item())\n",
    "    \n",
    "    \n",
    " # The average loss and accuracy for entire validation set is the average of the recorded values.\n",
    "test_loss = sum(test_loss) / len(test_loss)\n",
    "\n",
    "# Print the information.\n",
    "print(f\"test_loss = {test_loss:.5f} mean_squared_error = {test_loss:.5f}\")    "
   ]
  },
  {
   "cell_type": "markdown",
   "id": "d2ff4342-b669-4bb4-93cb-d1e2b318da24",
   "metadata": {},
   "source": [
    "## Define a deep neural net model\n",
    "\n",
    "The `create_model` function defines the topography of the deep neural net, specifying the following:\n",
    "\n",
    "* The number of [layers](https://developers.google.com/machine-learning/glossary/#layer) in the deep neural net.\n",
    "* The number of [nodes](https://developers.google.com/machine-learning/glossary/#node) in each layer.\n",
    "\n",
    "The `create_model` function also defines the [activation function](https://developers.google.com/machine-learning/glossary/#activation_function) of each layer."
   ]
  },
  {
   "cell_type": "code",
   "execution_count": 12,
   "id": "ede5633b-23c6-4770-98d7-2492ac0f54e5",
   "metadata": {},
   "outputs": [
    {
     "data": {
      "text/plain": [
       "Sequential(\n",
       "  (hid): Sequential(\n",
       "    (0): Linear(in_features=102, out_features=20, bias=True)\n",
       "    (1): Linear(in_features=20, out_features=12, bias=True)\n",
       "    (2): Linear(in_features=12, out_features=1, bias=True)\n",
       "  )\n",
       ")"
      ]
     },
     "execution_count": 12,
     "metadata": {},
     "output_type": "execute_result"
    }
   ],
   "source": [
    "from torch import nn\n",
    "\n",
    "class Sequential(nn.Module):\n",
    "    def __init__(self):\n",
    "        super(Sequential, self).__init__()\n",
    "        self.hid = nn.Sequential(\n",
    "                    nn.Linear(num_features, 20) ,                   \n",
    "                    nn.Linear(20, 12),\n",
    "                    nn.Linear(12, 1),\n",
    "                )\n",
    "    def forward(self, x):\n",
    "        out = self.hid(x)\n",
    "        return out\n",
    "    \n",
    "Sequential()"
   ]
  },
  {
   "cell_type": "markdown",
   "id": "9bd467f8-69ac-4070-96c5-c6768a40c9a7",
   "metadata": {},
   "source": [
    "## Define a training function\n",
    "\n",
    "The `train_model` function trains the model from the input features and labels. The [tf.keras.Model.fit](https://www.tensorflow.org/api_docs/python/tf/keras/Sequential#fit) method performs the actual training. The `x` parameter of the `fit` method is very flexible, enabling you to pass feature data in a variety of ways. The following implementation passes a Python dictionary in which:\n",
    "\n",
    "* The *keys* are the names of each feature (for example, `longitude`, `latitude`, and so on).\n",
    "* The *value* of each key is a NumPy array containing the values of that feature. \n",
    "\n",
    "**Note:** Although you are passing *every* feature to `model.fit`, most of those values will be ignored. Only the features accessed by `my_feature_layer` will actually be used to train the model."
   ]
  },
  {
   "cell_type": "code",
   "execution_count": 13,
   "id": "b456e5a6-7b44-42c7-95b2-cb7cebe49e7f",
   "metadata": {},
   "outputs": [],
   "source": [
    "# The following variables are the hyperparameters.\n",
    "learning_rate = 0.01\n",
    "n_epochs = 20\n",
    "batch_size = 1000"
   ]
  },
  {
   "cell_type": "code",
   "execution_count": 14,
   "id": "231dce73-6159-48d6-aa86-beb27675c2d3",
   "metadata": {},
   "outputs": [
    {
     "data": {
      "application/vnd.jupyter.widget-view+json": {
       "model_id": "464791ed498a40ddb3840f6cd16c63c1",
       "version_major": 2,
       "version_minor": 0
      },
      "text/plain": [
       "HBox(children=(FloatProgress(value=0.0, max=14.0), HTML(value='')))"
      ]
     },
     "metadata": {},
     "output_type": "display_data"
    },
    {
     "name": "stdout",
     "output_type": "stream",
     "text": [
      "\n",
      "[ Epoch | 001/020 ]           train_loss = 0.56859 mean_squared_error = 0.56859\n"
     ]
    },
    {
     "data": {
      "application/vnd.jupyter.widget-view+json": {
       "model_id": "c543a016acd749908479f503ed14e045",
       "version_major": 2,
       "version_minor": 0
      },
      "text/plain": [
       "HBox(children=(FloatProgress(value=0.0, max=14.0), HTML(value='')))"
      ]
     },
     "metadata": {},
     "output_type": "display_data"
    },
    {
     "name": "stdout",
     "output_type": "stream",
     "text": [
      "\n",
      "[ Epoch | 002/020 ]           train_loss = 0.38325 mean_squared_error = 0.38325\n"
     ]
    },
    {
     "data": {
      "application/vnd.jupyter.widget-view+json": {
       "model_id": "46f382a39778433ea340440033cb50f8",
       "version_major": 2,
       "version_minor": 0
      },
      "text/plain": [
       "HBox(children=(FloatProgress(value=0.0, max=14.0), HTML(value='')))"
      ]
     },
     "metadata": {},
     "output_type": "display_data"
    },
    {
     "name": "stdout",
     "output_type": "stream",
     "text": [
      "\n",
      "[ Epoch | 003/020 ]           train_loss = 0.38320 mean_squared_error = 0.38320\n"
     ]
    },
    {
     "data": {
      "application/vnd.jupyter.widget-view+json": {
       "model_id": "ab80efe39d2d450287d2bcc1a18a4154",
       "version_major": 2,
       "version_minor": 0
      },
      "text/plain": [
       "HBox(children=(FloatProgress(value=0.0, max=14.0), HTML(value='')))"
      ]
     },
     "metadata": {},
     "output_type": "display_data"
    },
    {
     "name": "stdout",
     "output_type": "stream",
     "text": [
      "\n",
      "[ Epoch | 004/020 ]           train_loss = 0.38812 mean_squared_error = 0.38812\n"
     ]
    },
    {
     "data": {
      "application/vnd.jupyter.widget-view+json": {
       "model_id": "577f40f8c3e94083a205c3759a07bb8a",
       "version_major": 2,
       "version_minor": 0
      },
      "text/plain": [
       "HBox(children=(FloatProgress(value=0.0, max=14.0), HTML(value='')))"
      ]
     },
     "metadata": {},
     "output_type": "display_data"
    },
    {
     "name": "stdout",
     "output_type": "stream",
     "text": [
      "\n",
      "[ Epoch | 005/020 ]           train_loss = 0.38415 mean_squared_error = 0.38415\n"
     ]
    },
    {
     "data": {
      "application/vnd.jupyter.widget-view+json": {
       "model_id": "91aa998601674d0c82dc28b35d534b74",
       "version_major": 2,
       "version_minor": 0
      },
      "text/plain": [
       "HBox(children=(FloatProgress(value=0.0, max=14.0), HTML(value='')))"
      ]
     },
     "metadata": {},
     "output_type": "display_data"
    },
    {
     "name": "stdout",
     "output_type": "stream",
     "text": [
      "\n",
      "[ Epoch | 006/020 ]           train_loss = 0.38632 mean_squared_error = 0.38632\n"
     ]
    },
    {
     "data": {
      "application/vnd.jupyter.widget-view+json": {
       "model_id": "f4ec26d6bbb64dc49e889819ff08c4bc",
       "version_major": 2,
       "version_minor": 0
      },
      "text/plain": [
       "HBox(children=(FloatProgress(value=0.0, max=14.0), HTML(value='')))"
      ]
     },
     "metadata": {},
     "output_type": "display_data"
    },
    {
     "name": "stdout",
     "output_type": "stream",
     "text": [
      "\n",
      "[ Epoch | 007/020 ]           train_loss = 0.38157 mean_squared_error = 0.38157\n"
     ]
    },
    {
     "data": {
      "application/vnd.jupyter.widget-view+json": {
       "model_id": "0f5cc1b1b7ff4d6e8d1beed160ce0aee",
       "version_major": 2,
       "version_minor": 0
      },
      "text/plain": [
       "HBox(children=(FloatProgress(value=0.0, max=14.0), HTML(value='')))"
      ]
     },
     "metadata": {},
     "output_type": "display_data"
    },
    {
     "name": "stdout",
     "output_type": "stream",
     "text": [
      "\n",
      "[ Epoch | 008/020 ]           train_loss = 0.38317 mean_squared_error = 0.38317\n"
     ]
    },
    {
     "data": {
      "application/vnd.jupyter.widget-view+json": {
       "model_id": "b92cf35e4890494f9c8fc1812f9dac36",
       "version_major": 2,
       "version_minor": 0
      },
      "text/plain": [
       "HBox(children=(FloatProgress(value=0.0, max=14.0), HTML(value='')))"
      ]
     },
     "metadata": {},
     "output_type": "display_data"
    },
    {
     "name": "stdout",
     "output_type": "stream",
     "text": [
      "\n",
      "[ Epoch | 009/020 ]           train_loss = 0.38333 mean_squared_error = 0.38333\n"
     ]
    },
    {
     "data": {
      "application/vnd.jupyter.widget-view+json": {
       "model_id": "3d0fcce5e3bc4192af7fae168c5632fe",
       "version_major": 2,
       "version_minor": 0
      },
      "text/plain": [
       "HBox(children=(FloatProgress(value=0.0, max=14.0), HTML(value='')))"
      ]
     },
     "metadata": {},
     "output_type": "display_data"
    },
    {
     "name": "stdout",
     "output_type": "stream",
     "text": [
      "\n",
      "[ Epoch | 010/020 ]           train_loss = 0.38933 mean_squared_error = 0.38933\n"
     ]
    },
    {
     "data": {
      "application/vnd.jupyter.widget-view+json": {
       "model_id": "31edbe72c08b4409a35c0642f90e5cba",
       "version_major": 2,
       "version_minor": 0
      },
      "text/plain": [
       "HBox(children=(FloatProgress(value=0.0, max=14.0), HTML(value='')))"
      ]
     },
     "metadata": {},
     "output_type": "display_data"
    },
    {
     "name": "stdout",
     "output_type": "stream",
     "text": [
      "\n",
      "[ Epoch | 011/020 ]           train_loss = 0.38400 mean_squared_error = 0.38400\n"
     ]
    },
    {
     "data": {
      "application/vnd.jupyter.widget-view+json": {
       "model_id": "06a92e16fbc94fad8539fed0769fc30e",
       "version_major": 2,
       "version_minor": 0
      },
      "text/plain": [
       "HBox(children=(FloatProgress(value=0.0, max=14.0), HTML(value='')))"
      ]
     },
     "metadata": {},
     "output_type": "display_data"
    },
    {
     "name": "stdout",
     "output_type": "stream",
     "text": [
      "\n",
      "[ Epoch | 012/020 ]           train_loss = 0.38610 mean_squared_error = 0.38610\n"
     ]
    },
    {
     "data": {
      "application/vnd.jupyter.widget-view+json": {
       "model_id": "1138a1fb69f54eb7865a833dec495175",
       "version_major": 2,
       "version_minor": 0
      },
      "text/plain": [
       "HBox(children=(FloatProgress(value=0.0, max=14.0), HTML(value='')))"
      ]
     },
     "metadata": {},
     "output_type": "display_data"
    },
    {
     "name": "stdout",
     "output_type": "stream",
     "text": [
      "\n",
      "[ Epoch | 013/020 ]           train_loss = 0.38518 mean_squared_error = 0.38518\n"
     ]
    },
    {
     "data": {
      "application/vnd.jupyter.widget-view+json": {
       "model_id": "0cbe5bef4d894a8f9fd4b6c0f26605b1",
       "version_major": 2,
       "version_minor": 0
      },
      "text/plain": [
       "HBox(children=(FloatProgress(value=0.0, max=14.0), HTML(value='')))"
      ]
     },
     "metadata": {},
     "output_type": "display_data"
    },
    {
     "name": "stdout",
     "output_type": "stream",
     "text": [
      "\n",
      "[ Epoch | 014/020 ]           train_loss = 0.38473 mean_squared_error = 0.38473\n"
     ]
    },
    {
     "data": {
      "application/vnd.jupyter.widget-view+json": {
       "model_id": "7b1b667027df43289b1d907890f14e4c",
       "version_major": 2,
       "version_minor": 0
      },
      "text/plain": [
       "HBox(children=(FloatProgress(value=0.0, max=14.0), HTML(value='')))"
      ]
     },
     "metadata": {},
     "output_type": "display_data"
    },
    {
     "name": "stdout",
     "output_type": "stream",
     "text": [
      "\n",
      "[ Epoch | 015/020 ]           train_loss = 0.38509 mean_squared_error = 0.38509\n"
     ]
    },
    {
     "data": {
      "application/vnd.jupyter.widget-view+json": {
       "model_id": "cd969bdb9e244fdc9d4e4798ce2b0304",
       "version_major": 2,
       "version_minor": 0
      },
      "text/plain": [
       "HBox(children=(FloatProgress(value=0.0, max=14.0), HTML(value='')))"
      ]
     },
     "metadata": {},
     "output_type": "display_data"
    },
    {
     "name": "stdout",
     "output_type": "stream",
     "text": [
      "\n",
      "[ Epoch | 016/020 ]           train_loss = 0.38673 mean_squared_error = 0.38673\n"
     ]
    },
    {
     "data": {
      "application/vnd.jupyter.widget-view+json": {
       "model_id": "4eea132ed6c445f29c01a6b1483359e5",
       "version_major": 2,
       "version_minor": 0
      },
      "text/plain": [
       "HBox(children=(FloatProgress(value=0.0, max=14.0), HTML(value='')))"
      ]
     },
     "metadata": {},
     "output_type": "display_data"
    },
    {
     "name": "stdout",
     "output_type": "stream",
     "text": [
      "\n",
      "[ Epoch | 017/020 ]           train_loss = 0.38594 mean_squared_error = 0.38594\n"
     ]
    },
    {
     "data": {
      "application/vnd.jupyter.widget-view+json": {
       "model_id": "87b6fa1d22a74ae1b4129c7600f8edaa",
       "version_major": 2,
       "version_minor": 0
      },
      "text/plain": [
       "HBox(children=(FloatProgress(value=0.0, max=14.0), HTML(value='')))"
      ]
     },
     "metadata": {},
     "output_type": "display_data"
    },
    {
     "name": "stdout",
     "output_type": "stream",
     "text": [
      "\n",
      "[ Epoch | 018/020 ]           train_loss = 0.38536 mean_squared_error = 0.38536\n"
     ]
    },
    {
     "data": {
      "application/vnd.jupyter.widget-view+json": {
       "model_id": "9824b24eaa8942b5b86dcd2b036c2ffd",
       "version_major": 2,
       "version_minor": 0
      },
      "text/plain": [
       "HBox(children=(FloatProgress(value=0.0, max=14.0), HTML(value='')))"
      ]
     },
     "metadata": {},
     "output_type": "display_data"
    },
    {
     "name": "stdout",
     "output_type": "stream",
     "text": [
      "\n",
      "[ Epoch | 019/020 ]           train_loss = 0.38213 mean_squared_error = 0.38213\n"
     ]
    },
    {
     "data": {
      "application/vnd.jupyter.widget-view+json": {
       "model_id": "9d7794898b474874a7fc1b7706f6aeb2",
       "version_major": 2,
       "version_minor": 0
      },
      "text/plain": [
       "HBox(children=(FloatProgress(value=0.0, max=14.0), HTML(value='')))"
      ]
     },
     "metadata": {},
     "output_type": "display_data"
    },
    {
     "name": "stdout",
     "output_type": "stream",
     "text": [
      "\n",
      "[ Epoch | 020/020 ]           train_loss = 0.38391 mean_squared_error = 0.38391\n",
      "Defined the build_model and train_model functions.\n"
     ]
    },
    {
     "data": {
      "image/png": "[encoded data removed]",
      "text/plain": [
       "<Figure size 432x288 with 1 Axes>"
      ]
     },
     "metadata": {
      "needs_background": "light"
     },
     "output_type": "display_data"
    }
   ],
   "source": [
    "model = Sequential()\n",
    "\n",
    "optimizer = torch.optim.RMSprop(model.parameters(), lr=learning_rate)\n",
    "# optimizer = torch.optim.RMSprop(model.parameters(), lr=learning_rate, alpha=0.1, eps=1e-08, \n",
    "#                                 weight_decay=0.1, momentum=0.2, centered=False)\n",
    "loss_func = nn.MSELoss()   \n",
    "    \n",
    "    \n",
    "epoch_train_loss = []\n",
    "\n",
    "epoch_valid_loss = []\n",
    "\n",
    "    \n",
    "for epoch in range(n_epochs):\n",
    "    # ---------- Training ----------\n",
    "    # Make sure the model is in train mode before training.\n",
    "    model.train()\n",
    "\n",
    "    # These are used to record information in training.\n",
    "    train_loss = []\n",
    "    train_accs = []    \n",
    "    \n",
    "    # for batch in tqdm(trainloader):\n",
    "    for batch in tqdm(train_loader):\n",
    "        X, y = batch          \n",
    "        # print(X)\n",
    "        y_hat = model(X)\n",
    "        loss = loss_func(y_hat, y) #rmse\n",
    "        optimizer.zero_grad()\n",
    "        loss.backward()\n",
    "        optimizer.step()  \n",
    "        \n",
    "        # Record the loss and accuracy.\n",
    "        train_loss.append(loss.item())\n",
    "        \n",
    "    train_loss = sum(train_loss) / len(train_loss)\n",
    "    \n",
    "    epoch_train_loss.append(train_loss)   \n",
    "  \n",
    "    # Print the information.\n",
    "    print(f\"[ Epoch | {epoch + 1:03d}/{n_epochs:03d} ] \\\n",
    "          train_loss = {train_loss:.5f} mean_squared_error = {train_loss:.5f}\")\n",
    "    \n",
    "print(\"Defined the build_model and train_model functions.\")\n",
    "\n",
    "\n",
    "\n",
    "import matplotlib.pyplot as plt\n",
    "\n",
    "# Loss curve\n",
    "plt.plot(epoch_train_loss)\n",
    "plt.title('Loss')\n",
    "plt.legend(['train'])\n",
    "plt.savefig('loss.png')\n",
    "plt.show()"
   ]
  },
  {
   "cell_type": "code",
   "execution_count": 15,
   "id": "2b598f8e-ab28-4363-a1fa-6377d5090f7c",
   "metadata": {},
   "outputs": [
    {
     "data": {
      "application/vnd.jupyter.widget-view+json": {
       "model_id": "c34eb47512dd4540aaa88f76a51ad5bf",
       "version_major": 2,
       "version_minor": 0
      },
      "text/plain": [
       "HBox(children=(FloatProgress(value=0.0, max=3.0), HTML(value='')))"
      ]
     },
     "metadata": {},
     "output_type": "display_data"
    },
    {
     "name": "stdout",
     "output_type": "stream",
     "text": [
      "\n",
      "test_loss = 0.40823 mean_squared_error = 0.40823\n"
     ]
    }
   ],
   "source": [
    "model.eval()\n",
    "\n",
    "# These are used to record information in validation.\n",
    "test_loss = []\n",
    "\n",
    "for batch in tqdm(test_loader):\n",
    "    X, y = batch          \n",
    "    # print(X)\n",
    "    y_hat = model(X)\n",
    "    loss = loss_func(y_hat, y) #rmse\n",
    "    \n",
    "    # Record the loss and accuracy.\n",
    "    test_loss.append(loss.item())\n",
    "    \n",
    "    \n",
    " # The average loss and accuracy for entire validation set is the average of the recorded values.\n",
    "test_loss = sum(test_loss) / len(test_loss)\n",
    "\n",
    "# Print the information.\n",
    "print(f\"test_loss = {test_loss:.5f} mean_squared_error = {test_loss:.5f}\")    "
   ]
  },
  {
   "cell_type": "markdown",
   "id": "5e1cb868-e1ef-4331-9a8a-5eb5eaf3520a",
   "metadata": {},
   "source": [
    "## Task 3: Regularize the deep neural network (if you have enough time)\n",
    "\n",
    "Notice that the model's loss against the test set is *much higher* than the loss against the training set.  In other words, the deep neural network is [overfitting](https://developers.google.com/machine-learning/glossary/#overfitting) to the data in the training set.  To reduce overfitting, regularize the model.  The course has suggested several different ways to regularize a model, including:\n",
    "\n",
    "  * [L1 regularization](https://developers.google.com/machine-learning/glossary/#L1_regularization)\n",
    "  * [L2 regularization](https://developers.google.com/machine-learning/glossary/#L2_regularization)\n",
    "  * [Dropout regularization](https://developers.google.com/machine-learning/glossary/#dropout_regularization)\n",
    "\n",
    "Your task is to experiment with one or more regularization mechanisms to bring the test loss closer to the training loss (while still keeping test loss relatively low).  \n",
    "\n",
    "**Note:** When you add a regularization function to a model, you might need to tweak other hyperparameters. \n",
    "\n",
    "### Implementing L1 or L2 regularization\n",
    "\n",
    "To use L1 or L2 regularization on a hidden layer, specify the `kernel_regularizer` argument to [tf.keras.layers.Dense](https://www.tensorflow.org/api_docs/python/tf/keras/layers/Dense). Assign one of the following methods to this argument:\n",
    "\n",
    "* `tf.keras.regularizers.l1` for L1 regularization\n",
    "* `tf.keras.regularizers.l2` for L2 regularization\n",
    "\n",
    "Each of the preceding methods takes an `l` parameter, which adjusts the [regularization rate](https://developers.google.com/machine-learning/glossary/#regularization_rate). Assign a decimal value between 0 and 1.0 to `l`; the higher the decimal, the greater the regularization. For example, the following applies L2 regularization at a strength of 0.01. \n",
    "\n",
    "```\n",
    "model.add(tf.keras.layers.Dense(units=20, \n",
    "                                activation='relu',\n",
    "                                kernel_regularizer=tf.keras.regularizers.l2(l=0.01),\n",
    "                                name='Hidden1'))\n",
    "```"
   ]
  },
  {
   "cell_type": "markdown",
   "id": "17271c57-af37-4085-b273-f89380a6847f",
   "metadata": {},
   "source": [
    "## Regularization\n",
    "\n",
    "Note that the model's loss against the test set is much higher than the loss against the training set. This indicates the model is overfitting to the data, and we need regularization to reduce the overfitting. Try L1, L2 and dropout regularizations.\n",
    "\n",
    "- For L1 regularization, add `nn.L1Loss` to the list of loss functions: `loss = nn.MSELoss()(y_hat, y) + lambda * nn.L1Loss()(y_hat, y)`.\n",
    "- For L2 regularization, use the `weight_decay` parameter in the optimizer, e.g. `torch.optim.SGD`.\n",
    "- See below for an example of adding dropout layers.\n"
   ]
  },
  {
   "cell_type": "code",
   "execution_count": 16,
   "id": "f5069d58-6c3b-415b-9f16-61d3a72a02c0",
   "metadata": {},
   "outputs": [],
   "source": [
    "# https://pyquestions.com/adding-l1-l2-regularization-in-pytorch\n",
    "# https://github.com/szymonmaszke/torchlayers/blob/master/torchlayers/regularization.py\n",
    "\n",
    "class L1(torch.nn.Module):\n",
    "    def __init__(self, module, weight_decay):\n",
    "        super().__init__()\n",
    "        self.module = module\n",
    "        self.weight_decay = weight_decay\n",
    "\n",
    "        # Backward hook is registered on the specified module\n",
    "        self.hook = self.module.register_full_backward_hook(self._weight_decay_hook)\n",
    "\n",
    "    # Not dependent on backprop incoming values, placeholder\n",
    "    def _weight_decay_hook(self, *_):\n",
    "        for param in self.module.parameters():\n",
    "            # If there is no gradient or it was zeroed out\n",
    "            # Zeroed out using optimizer.zero_grad() usually\n",
    "            # Turn on if needed with grad accumulation/more safer way\n",
    "            # if param.grad is None or torch.all(param.grad == 0.0):\n",
    "\n",
    "            # Apply regularization on it\n",
    "            param.grad = self.regularize(param)\n",
    "\n",
    "    def regularize(self, parameter):\n",
    "        # L1 regularization formula\n",
    "        return self.weight_decay * torch.sign(parameter.data)\n",
    "\n",
    "    def forward(self, *args, **kwargs):\n",
    "        # Simply forward and args and kwargs to module\n",
    "        return self.module(*args, **kwargs)\n",
    "    \n",
    "class L2(torch.nn.Module):\n",
    "    def __init__(self, module, weight_decay):\n",
    "        super().__init__()\n",
    "        self.module = module\n",
    "        self.weight_decay = weight_decay\n",
    "\n",
    "        # Backward hook is registered on the specified module\n",
    "        self.hook = self.module.register_full_backward_hook(self._weight_decay_hook)\n",
    "\n",
    "    # Not dependent on backprop incoming values, placeholder\n",
    "    def _weight_decay_hook(self, *_):\n",
    "        for param in self.module.parameters():\n",
    "            # If there is no gradient or it was zeroed out\n",
    "            # Zeroed out using optimizer.zero_grad() usually\n",
    "            # Turn on if needed with grad accumulation/more safer way\n",
    "            # if param.grad is None or torch.all(param.grad == 0.0):\n",
    "\n",
    "            # Apply regularization on it\n",
    "            param.grad = self.regularize(param)\n",
    "\n",
    "    def regularize(self, parameter):\n",
    "        # L2 regularization formula\n",
    "        return self.weight_decay * parameter.data\n",
    "\n",
    "    def forward(self, *args, **kwargs):\n",
    "        # Simply forward and args and kwargs to module\n",
    "        return self.module(*args, **kwargs)    "
   ]
  },
  {
   "cell_type": "markdown",
   "id": "d55e8e2b-2447-4ad9-89e7-6017519aafcd",
   "metadata": {},
   "source": [
    "### Implementing Dropout regularization\n",
    "\n",
    "You implement dropout regularization as a separate layer in the topography. For example, the following code demonstrates how to add a dropout regularization layer between the first hidden layer and the second hidden layer:\n",
    "\n",
    "```\n",
    "model.add(tf.keras.layers.Dense( *define first hidden layer*)\n",
    " \n",
    "model.add(tf.keras.layers.Dropout(rate=0.25))\n",
    "\n",
    "model.add(tf.keras.layers.Dense( *define second hidden layer*)\n",
    "```\n",
    "\n",
    "The `rate` parameter to [tf.keras.layers.Dropout](https://www.tensorflow.org/api_docs/python/tf/keras/layers/Dropout) specifies the fraction of nodes that the model should drop out during training. \n"
   ]
  },
  {
   "cell_type": "code",
   "execution_count": 17,
   "id": "5d8cb03e-4671-42c7-9b0b-cb5385dd57f0",
   "metadata": {},
   "outputs": [],
   "source": [
    "learning_rate = 0.007\n",
    "n_epochs = 140\n",
    "batch_size = 1000"
   ]
  },
  {
   "cell_type": "code",
   "execution_count": 18,
   "id": "529150aa-9903-42cc-8116-b4761bbdeb81",
   "metadata": {},
   "outputs": [
    {
     "data": {
      "text/plain": [
       "Sequential(\n",
       "  (hid): Sequential(\n",
       "    (0): L2(\n",
       "      (module): Linear(in_features=102, out_features=20, bias=True)\n",
       "    )\n",
       "    (1): Dropout(p=0.25, inplace=False)\n",
       "    (2): Linear(in_features=20, out_features=12, bias=True)\n",
       "    (3): Linear(in_features=12, out_features=1, bias=True)\n",
       "  )\n",
       ")"
      ]
     },
     "execution_count": 18,
     "metadata": {},
     "output_type": "execute_result"
    }
   ],
   "source": [
    "from torch import nn\n",
    "\n",
    "class Sequential(nn.Module):\n",
    "    def __init__(self):\n",
    "        super(Sequential, self).__init__()\n",
    "        self.hid = nn.Sequential(\n",
    "                    L2(nn.Linear(num_features, 20), weight_decay=0.01) ,   \n",
    "                    nn.Dropout(0.25),\n",
    "                    nn.Linear(20, 12),\n",
    "                    nn.Linear(12, 1),\n",
    "                )\n",
    "    def forward(self, x):\n",
    "        out = self.hid(x)\n",
    "        return out\n",
    "    \n",
    "Sequential()"
   ]
  },
  {
   "cell_type": "code",
   "execution_count": 19,
   "id": "8e5b5c63-24cd-4933-aa13-30a4986cc9ad",
   "metadata": {},
   "outputs": [
    {
     "data": {
      "application/vnd.jupyter.widget-view+json": {
       "model_id": "53a1b0f6f3274af8a9b8dd4ddf1362f3",
       "version_major": 2,
       "version_minor": 0
      },
      "text/plain": [
       "HBox(children=(FloatProgress(value=0.0, max=14.0), HTML(value='')))"
      ]
     },
     "metadata": {},
     "output_type": "display_data"
    },
    {
     "name": "stdout",
     "output_type": "stream",
     "text": [
      "\n",
      "[ Epoch | 001/140 ]           train_loss = 0.73580 mean_squared_error = 0.73580\n"
     ]
    },
    {
     "data": {
      "application/vnd.jupyter.widget-view+json": {
       "model_id": "b8090fabda894c44851ee6c63ca20bcd",
       "version_major": 2,
       "version_minor": 0
      },
      "text/plain": [
       "HBox(children=(FloatProgress(value=0.0, max=14.0), HTML(value='')))"
      ]
     },
     "metadata": {},
     "output_type": "display_data"
    },
    {
     "name": "stdout",
     "output_type": "stream",
     "text": [
      "\n",
      "[ Epoch | 002/140 ]           train_loss = 0.43491 mean_squared_error = 0.43491\n"
     ]
    },
    {
     "data": {
      "application/vnd.jupyter.widget-view+json": {
       "model_id": "d47963435f0e4a09b304e6c551a9f3c0",
       "version_major": 2,
       "version_minor": 0
      },
      "text/plain": [
       "HBox(children=(FloatProgress(value=0.0, max=14.0), HTML(value='')))"
      ]
     },
     "metadata": {},
     "output_type": "display_data"
    },
    {
     "name": "stdout",
     "output_type": "stream",
     "text": [
      "\n",
      "[ Epoch | 003/140 ]           train_loss = 0.40711 mean_squared_error = 0.40711\n"
     ]
    },
    {
     "data": {
      "application/vnd.jupyter.widget-view+json": {
       "model_id": "88c8915facfa4865b7b8a6d39b62a37e",
       "version_major": 2,
       "version_minor": 0
      },
      "text/plain": [
       "HBox(children=(FloatProgress(value=0.0, max=14.0), HTML(value='')))"
      ]
     },
     "metadata": {},
     "output_type": "display_data"
    },
    {
     "name": "stdout",
     "output_type": "stream",
     "text": [
      "\n",
      "[ Epoch | 004/140 ]           train_loss = 0.40142 mean_squared_error = 0.40142\n"
     ]
    },
    {
     "data": {
      "application/vnd.jupyter.widget-view+json": {
       "model_id": "91f629b4c30a4489ac0991d9076d37b4",
       "version_major": 2,
       "version_minor": 0
      },
      "text/plain": [
       "HBox(children=(FloatProgress(value=0.0, max=14.0), HTML(value='')))"
      ]
     },
     "metadata": {},
     "output_type": "display_data"
    },
    {
     "name": "stdout",
     "output_type": "stream",
     "text": [
      "\n",
      "[ Epoch | 005/140 ]           train_loss = 0.39934 mean_squared_error = 0.39934\n"
     ]
    },
    {
     "data": {
      "application/vnd.jupyter.widget-view+json": {
       "model_id": "074715c67a9a48a59243660f0a2969a7",
       "version_major": 2,
       "version_minor": 0
      },
      "text/plain": [
       "HBox(children=(FloatProgress(value=0.0, max=14.0), HTML(value='')))"
      ]
     },
     "metadata": {},
     "output_type": "display_data"
    },
    {
     "name": "stdout",
     "output_type": "stream",
     "text": [
      "\n",
      "[ Epoch | 006/140 ]           train_loss = 0.39535 mean_squared_error = 0.39535\n"
     ]
    },
    {
     "data": {
      "application/vnd.jupyter.widget-view+json": {
       "model_id": "b8c27ac550704dd19dd5d8b77ad142b8",
       "version_major": 2,
       "version_minor": 0
      },
      "text/plain": [
       "HBox(children=(FloatProgress(value=0.0, max=14.0), HTML(value='')))"
      ]
     },
     "metadata": {},
     "output_type": "display_data"
    },
    {
     "name": "stdout",
     "output_type": "stream",
     "text": [
      "\n",
      "[ Epoch | 007/140 ]           train_loss = 0.39776 mean_squared_error = 0.39776\n"
     ]
    },
    {
     "data": {
      "application/vnd.jupyter.widget-view+json": {
       "model_id": "6e3114e7d7f24d8bb72238aa6186462e",
       "version_major": 2,
       "version_minor": 0
      },
      "text/plain": [
       "HBox(children=(FloatProgress(value=0.0, max=14.0), HTML(value='')))"
      ]
     },
     "metadata": {},
     "output_type": "display_data"
    },
    {
     "name": "stdout",
     "output_type": "stream",
     "text": [
      "\n",
      "[ Epoch | 008/140 ]           train_loss = 0.39479 mean_squared_error = 0.39479\n"
     ]
    },
    {
     "data": {
      "application/vnd.jupyter.widget-view+json": {
       "model_id": "9ea2a16c19af432abec910896084bfc1",
       "version_major": 2,
       "version_minor": 0
      },
      "text/plain": [
       "HBox(children=(FloatProgress(value=0.0, max=14.0), HTML(value='')))"
      ]
     },
     "metadata": {},
     "output_type": "display_data"
    },
    {
     "name": "stdout",
     "output_type": "stream",
     "text": [
      "\n",
      "[ Epoch | 009/140 ]           train_loss = 0.39451 mean_squared_error = 0.39451\n"
     ]
    },
    {
     "data": {
      "application/vnd.jupyter.widget-view+json": {
       "model_id": "ad7314b282c5449282d14793652ec2cf",
       "version_major": 2,
       "version_minor": 0
      },
      "text/plain": [
       "HBox(children=(FloatProgress(value=0.0, max=14.0), HTML(value='')))"
      ]
     },
     "metadata": {},
     "output_type": "display_data"
    },
    {
     "name": "stdout",
     "output_type": "stream",
     "text": [
      "\n",
      "[ Epoch | 010/140 ]           train_loss = 0.39179 mean_squared_error = 0.39179\n"
     ]
    },
    {
     "data": {
      "application/vnd.jupyter.widget-view+json": {
       "model_id": "e25e652592d943be871c1f62258197d3",
       "version_major": 2,
       "version_minor": 0
      },
      "text/plain": [
       "HBox(children=(FloatProgress(value=0.0, max=14.0), HTML(value='')))"
      ]
     },
     "metadata": {},
     "output_type": "display_data"
    },
    {
     "name": "stdout",
     "output_type": "stream",
     "text": [
      "\n",
      "[ Epoch | 011/140 ]           train_loss = 0.39392 mean_squared_error = 0.39392\n"
     ]
    },
    {
     "data": {
      "application/vnd.jupyter.widget-view+json": {
       "model_id": "7bb27b47cfc94e3eb5f3e347aed42580",
       "version_major": 2,
       "version_minor": 0
      },
      "text/plain": [
       "HBox(children=(FloatProgress(value=0.0, max=14.0), HTML(value='')))"
      ]
     },
     "metadata": {},
     "output_type": "display_data"
    },
    {
     "name": "stdout",
     "output_type": "stream",
     "text": [
      "\n",
      "[ Epoch | 012/140 ]           train_loss = 0.39339 mean_squared_error = 0.39339\n"
     ]
    },
    {
     "data": {
      "application/vnd.jupyter.widget-view+json": {
       "model_id": "4611c603b5dc463e90ba46fcd204dc4e",
       "version_major": 2,
       "version_minor": 0
      },
      "text/plain": [
       "HBox(children=(FloatProgress(value=0.0, max=14.0), HTML(value='')))"
      ]
     },
     "metadata": {},
     "output_type": "display_data"
    },
    {
     "name": "stdout",
     "output_type": "stream",
     "text": [
      "\n",
      "[ Epoch | 013/140 ]           train_loss = 0.39297 mean_squared_error = 0.39297\n"
     ]
    },
    {
     "data": {
      "application/vnd.jupyter.widget-view+json": {
       "model_id": "ee762a80684347808908e6f3f5688030",
       "version_major": 2,
       "version_minor": 0
      },
      "text/plain": [
       "HBox(children=(FloatProgress(value=0.0, max=14.0), HTML(value='')))"
      ]
     },
     "metadata": {},
     "output_type": "display_data"
    },
    {
     "name": "stdout",
     "output_type": "stream",
     "text": [
      "\n",
      "[ Epoch | 014/140 ]           train_loss = 0.39102 mean_squared_error = 0.39102\n"
     ]
    },
    {
     "data": {
      "application/vnd.jupyter.widget-view+json": {
       "model_id": "94445633420948ca9f1c57ec7516bde0",
       "version_major": 2,
       "version_minor": 0
      },
      "text/plain": [
       "HBox(children=(FloatProgress(value=0.0, max=14.0), HTML(value='')))"
      ]
     },
     "metadata": {},
     "output_type": "display_data"
    },
    {
     "name": "stdout",
     "output_type": "stream",
     "text": [
      "\n",
      "[ Epoch | 015/140 ]           train_loss = 0.39512 mean_squared_error = 0.39512\n"
     ]
    },
    {
     "data": {
      "application/vnd.jupyter.widget-view+json": {
       "model_id": "47373b2a9de846d89a5486fb41582c99",
       "version_major": 2,
       "version_minor": 0
      },
      "text/plain": [
       "HBox(children=(FloatProgress(value=0.0, max=14.0), HTML(value='')))"
      ]
     },
     "metadata": {},
     "output_type": "display_data"
    },
    {
     "name": "stdout",
     "output_type": "stream",
     "text": [
      "\n",
      "[ Epoch | 016/140 ]           train_loss = 0.39109 mean_squared_error = 0.39109\n"
     ]
    },
    {
     "data": {
      "application/vnd.jupyter.widget-view+json": {
       "model_id": "0ff453d89bdc45109cc2c180bbcdee30",
       "version_major": 2,
       "version_minor": 0
      },
      "text/plain": [
       "HBox(children=(FloatProgress(value=0.0, max=14.0), HTML(value='')))"
      ]
     },
     "metadata": {},
     "output_type": "display_data"
    },
    {
     "name": "stdout",
     "output_type": "stream",
     "text": [
      "\n",
      "[ Epoch | 017/140 ]           train_loss = 0.39199 mean_squared_error = 0.39199\n"
     ]
    },
    {
     "data": {
      "application/vnd.jupyter.widget-view+json": {
       "model_id": "487e3b60b13141e7bc6904ed56bf2d15",
       "version_major": 2,
       "version_minor": 0
      },
      "text/plain": [
       "HBox(children=(FloatProgress(value=0.0, max=14.0), HTML(value='')))"
      ]
     },
     "metadata": {},
     "output_type": "display_data"
    },
    {
     "name": "stdout",
     "output_type": "stream",
     "text": [
      "\n",
      "[ Epoch | 018/140 ]           train_loss = 0.39275 mean_squared_error = 0.39275\n"
     ]
    },
    {
     "data": {
      "application/vnd.jupyter.widget-view+json": {
       "model_id": "9ab84ce1297c46de9a3ed9efa9cb5735",
       "version_major": 2,
       "version_minor": 0
      },
      "text/plain": [
       "HBox(children=(FloatProgress(value=0.0, max=14.0), HTML(value='')))"
      ]
     },
     "metadata": {},
     "output_type": "display_data"
    },
    {
     "name": "stdout",
     "output_type": "stream",
     "text": [
      "\n",
      "[ Epoch | 019/140 ]           train_loss = 0.39304 mean_squared_error = 0.39304\n"
     ]
    },
    {
     "data": {
      "application/vnd.jupyter.widget-view+json": {
       "model_id": "03ad982119c14c378422f363e2fca3b6",
       "version_major": 2,
       "version_minor": 0
      },
      "text/plain": [
       "HBox(children=(FloatProgress(value=0.0, max=14.0), HTML(value='')))"
      ]
     },
     "metadata": {},
     "output_type": "display_data"
    },
    {
     "name": "stdout",
     "output_type": "stream",
     "text": [
      "\n",
      "[ Epoch | 020/140 ]           train_loss = 0.39308 mean_squared_error = 0.39308\n"
     ]
    },
    {
     "data": {
      "application/vnd.jupyter.widget-view+json": {
       "model_id": "f6e785a2d79c4420b478d4a2c4b44e6f",
       "version_major": 2,
       "version_minor": 0
      },
      "text/plain": [
       "HBox(children=(FloatProgress(value=0.0, max=14.0), HTML(value='')))"
      ]
     },
     "metadata": {},
     "output_type": "display_data"
    },
    {
     "name": "stdout",
     "output_type": "stream",
     "text": [
      "\n",
      "[ Epoch | 021/140 ]           train_loss = 0.39227 mean_squared_error = 0.39227\n"
     ]
    },
    {
     "data": {
      "application/vnd.jupyter.widget-view+json": {
       "model_id": "d45710d8f3654d9794e955da33997ab4",
       "version_major": 2,
       "version_minor": 0
      },
      "text/plain": [
       "HBox(children=(FloatProgress(value=0.0, max=14.0), HTML(value='')))"
      ]
     },
     "metadata": {},
     "output_type": "display_data"
    },
    {
     "name": "stdout",
     "output_type": "stream",
     "text": [
      "\n",
      "[ Epoch | 022/140 ]           train_loss = 0.39483 mean_squared_error = 0.39483\n"
     ]
    },
    {
     "data": {
      "application/vnd.jupyter.widget-view+json": {
       "model_id": "018c6a98ffe74cc8a6622b5249cd2a26",
       "version_major": 2,
       "version_minor": 0
      },
      "text/plain": [
       "HBox(children=(FloatProgress(value=0.0, max=14.0), HTML(value='')))"
      ]
     },
     "metadata": {},
     "output_type": "display_data"
    },
    {
     "name": "stdout",
     "output_type": "stream",
     "text": [
      "\n",
      "[ Epoch | 023/140 ]           train_loss = 0.39236 mean_squared_error = 0.39236\n"
     ]
    },
    {
     "data": {
      "application/vnd.jupyter.widget-view+json": {
       "model_id": "0bcf2f4e87684ee4a870a39213e42711",
       "version_major": 2,
       "version_minor": 0
      },
      "text/plain": [
       "HBox(children=(FloatProgress(value=0.0, max=14.0), HTML(value='')))"
      ]
     },
     "metadata": {},
     "output_type": "display_data"
    },
    {
     "name": "stdout",
     "output_type": "stream",
     "text": [
      "\n",
      "[ Epoch | 024/140 ]           train_loss = 0.39554 mean_squared_error = 0.39554\n"
     ]
    },
    {
     "data": {
      "application/vnd.jupyter.widget-view+json": {
       "model_id": "a2bfdae422614ec99bb8bc853ab3c9c5",
       "version_major": 2,
       "version_minor": 0
      },
      "text/plain": [
       "HBox(children=(FloatProgress(value=0.0, max=14.0), HTML(value='')))"
      ]
     },
     "metadata": {},
     "output_type": "display_data"
    },
    {
     "name": "stdout",
     "output_type": "stream",
     "text": [
      "\n",
      "[ Epoch | 025/140 ]           train_loss = 0.39169 mean_squared_error = 0.39169\n"
     ]
    },
    {
     "data": {
      "application/vnd.jupyter.widget-view+json": {
       "model_id": "c2d714ec94614c218417ec6cdd66eab2",
       "version_major": 2,
       "version_minor": 0
      },
      "text/plain": [
       "HBox(children=(FloatProgress(value=0.0, max=14.0), HTML(value='')))"
      ]
     },
     "metadata": {},
     "output_type": "display_data"
    },
    {
     "name": "stdout",
     "output_type": "stream",
     "text": [
      "\n",
      "[ Epoch | 026/140 ]           train_loss = 0.39265 mean_squared_error = 0.39265\n"
     ]
    },
    {
     "data": {
      "application/vnd.jupyter.widget-view+json": {
       "model_id": "96c8571baaba42e883e5416b250adde4",
       "version_major": 2,
       "version_minor": 0
      },
      "text/plain": [
       "HBox(children=(FloatProgress(value=0.0, max=14.0), HTML(value='')))"
      ]
     },
     "metadata": {},
     "output_type": "display_data"
    },
    {
     "name": "stdout",
     "output_type": "stream",
     "text": [
      "\n",
      "[ Epoch | 027/140 ]           train_loss = 0.39261 mean_squared_error = 0.39261\n"
     ]
    },
    {
     "data": {
      "application/vnd.jupyter.widget-view+json": {
       "model_id": "470c0f01e26f439684d8b9b6866b89ce",
       "version_major": 2,
       "version_minor": 0
      },
      "text/plain": [
       "HBox(children=(FloatProgress(value=0.0, max=14.0), HTML(value='')))"
      ]
     },
     "metadata": {},
     "output_type": "display_data"
    },
    {
     "name": "stdout",
     "output_type": "stream",
     "text": [
      "\n",
      "[ Epoch | 028/140 ]           train_loss = 0.39196 mean_squared_error = 0.39196\n"
     ]
    },
    {
     "data": {
      "application/vnd.jupyter.widget-view+json": {
       "model_id": "e08703efa9f649c0a5246d95d76823f8",
       "version_major": 2,
       "version_minor": 0
      },
      "text/plain": [
       "HBox(children=(FloatProgress(value=0.0, max=14.0), HTML(value='')))"
      ]
     },
     "metadata": {},
     "output_type": "display_data"
    },
    {
     "name": "stdout",
     "output_type": "stream",
     "text": [
      "\n",
      "[ Epoch | 029/140 ]           train_loss = 0.39006 mean_squared_error = 0.39006\n"
     ]
    },
    {
     "data": {
      "application/vnd.jupyter.widget-view+json": {
       "model_id": "449ff371a1904fa78536982ee20b0bdb",
       "version_major": 2,
       "version_minor": 0
      },
      "text/plain": [
       "HBox(children=(FloatProgress(value=0.0, max=14.0), HTML(value='')))"
      ]
     },
     "metadata": {},
     "output_type": "display_data"
    },
    {
     "name": "stdout",
     "output_type": "stream",
     "text": [
      "\n",
      "[ Epoch | 030/140 ]           train_loss = 0.39253 mean_squared_error = 0.39253\n"
     ]
    },
    {
     "data": {
      "application/vnd.jupyter.widget-view+json": {
       "model_id": "82e44354b9ab4cb598493d8f2f1bd60e",
       "version_major": 2,
       "version_minor": 0
      },
      "text/plain": [
       "HBox(children=(FloatProgress(value=0.0, max=14.0), HTML(value='')))"
      ]
     },
     "metadata": {},
     "output_type": "display_data"
    },
    {
     "name": "stdout",
     "output_type": "stream",
     "text": [
      "\n",
      "[ Epoch | 031/140 ]           train_loss = 0.39130 mean_squared_error = 0.39130\n"
     ]
    },
    {
     "data": {
      "application/vnd.jupyter.widget-view+json": {
       "model_id": "3029489d8a7143b78a2ee826b5419479",
       "version_major": 2,
       "version_minor": 0
      },
      "text/plain": [
       "HBox(children=(FloatProgress(value=0.0, max=14.0), HTML(value='')))"
      ]
     },
     "metadata": {},
     "output_type": "display_data"
    },
    {
     "name": "stdout",
     "output_type": "stream",
     "text": [
      "\n",
      "[ Epoch | 032/140 ]           train_loss = 0.39304 mean_squared_error = 0.39304\n"
     ]
    },
    {
     "data": {
      "application/vnd.jupyter.widget-view+json": {
       "model_id": "9e96bbb7633048388bf791d56b376e52",
       "version_major": 2,
       "version_minor": 0
      },
      "text/plain": [
       "HBox(children=(FloatProgress(value=0.0, max=14.0), HTML(value='')))"
      ]
     },
     "metadata": {},
     "output_type": "display_data"
    },
    {
     "name": "stdout",
     "output_type": "stream",
     "text": [
      "\n",
      "[ Epoch | 033/140 ]           train_loss = 0.39164 mean_squared_error = 0.39164\n"
     ]
    },
    {
     "data": {
      "application/vnd.jupyter.widget-view+json": {
       "model_id": "6e3469222cb543b086218acd4f97f4d1",
       "version_major": 2,
       "version_minor": 0
      },
      "text/plain": [
       "HBox(children=(FloatProgress(value=0.0, max=14.0), HTML(value='')))"
      ]
     },
     "metadata": {},
     "output_type": "display_data"
    },
    {
     "name": "stdout",
     "output_type": "stream",
     "text": [
      "\n",
      "[ Epoch | 034/140 ]           train_loss = 0.39270 mean_squared_error = 0.39270\n"
     ]
    },
    {
     "data": {
      "application/vnd.jupyter.widget-view+json": {
       "model_id": "37551e2e3fbf4278b9086f31be767e44",
       "version_major": 2,
       "version_minor": 0
      },
      "text/plain": [
       "HBox(children=(FloatProgress(value=0.0, max=14.0), HTML(value='')))"
      ]
     },
     "metadata": {},
     "output_type": "display_data"
    },
    {
     "name": "stdout",
     "output_type": "stream",
     "text": [
      "\n",
      "[ Epoch | 035/140 ]           train_loss = 0.39049 mean_squared_error = 0.39049\n"
     ]
    },
    {
     "data": {
      "application/vnd.jupyter.widget-view+json": {
       "model_id": "c32196bfee7c467f9685a63afb84a0b3",
       "version_major": 2,
       "version_minor": 0
      },
      "text/plain": [
       "HBox(children=(FloatProgress(value=0.0, max=14.0), HTML(value='')))"
      ]
     },
     "metadata": {},
     "output_type": "display_data"
    },
    {
     "name": "stdout",
     "output_type": "stream",
     "text": [
      "\n",
      "[ Epoch | 036/140 ]           train_loss = 0.39013 mean_squared_error = 0.39013\n"
     ]
    },
    {
     "data": {
      "application/vnd.jupyter.widget-view+json": {
       "model_id": "2e4664d4e04b4386953231d4ed3f4d26",
       "version_major": 2,
       "version_minor": 0
      },
      "text/plain": [
       "HBox(children=(FloatProgress(value=0.0, max=14.0), HTML(value='')))"
      ]
     },
     "metadata": {},
     "output_type": "display_data"
    },
    {
     "name": "stdout",
     "output_type": "stream",
     "text": [
      "\n",
      "[ Epoch | 037/140 ]           train_loss = 0.39091 mean_squared_error = 0.39091\n"
     ]
    },
    {
     "data": {
      "application/vnd.jupyter.widget-view+json": {
       "model_id": "26135a11e93f42258eeebf5fedf8757d",
       "version_major": 2,
       "version_minor": 0
      },
      "text/plain": [
       "HBox(children=(FloatProgress(value=0.0, max=14.0), HTML(value='')))"
      ]
     },
     "metadata": {},
     "output_type": "display_data"
    },
    {
     "name": "stdout",
     "output_type": "stream",
     "text": [
      "\n",
      "[ Epoch | 038/140 ]           train_loss = 0.39173 mean_squared_error = 0.39173\n"
     ]
    },
    {
     "data": {
      "application/vnd.jupyter.widget-view+json": {
       "model_id": "05930f2b43ec4693b2592b1e61e953de",
       "version_major": 2,
       "version_minor": 0
      },
      "text/plain": [
       "HBox(children=(FloatProgress(value=0.0, max=14.0), HTML(value='')))"
      ]
     },
     "metadata": {},
     "output_type": "display_data"
    },
    {
     "name": "stdout",
     "output_type": "stream",
     "text": [
      "\n",
      "[ Epoch | 039/140 ]           train_loss = 0.38970 mean_squared_error = 0.38970\n"
     ]
    },
    {
     "data": {
      "application/vnd.jupyter.widget-view+json": {
       "model_id": "aa3575eccaf84977bdf75c413646b221",
       "version_major": 2,
       "version_minor": 0
      },
      "text/plain": [
       "HBox(children=(FloatProgress(value=0.0, max=14.0), HTML(value='')))"
      ]
     },
     "metadata": {},
     "output_type": "display_data"
    },
    {
     "name": "stdout",
     "output_type": "stream",
     "text": [
      "\n",
      "[ Epoch | 040/140 ]           train_loss = 0.38978 mean_squared_error = 0.38978\n"
     ]
    },
    {
     "data": {
      "application/vnd.jupyter.widget-view+json": {
       "model_id": "f8ea3816640f4de8bd31ab53965786ba",
       "version_major": 2,
       "version_minor": 0
      },
      "text/plain": [
       "HBox(children=(FloatProgress(value=0.0, max=14.0), HTML(value='')))"
      ]
     },
     "metadata": {},
     "output_type": "display_data"
    },
    {
     "name": "stdout",
     "output_type": "stream",
     "text": [
      "\n",
      "[ Epoch | 041/140 ]           train_loss = 0.39004 mean_squared_error = 0.39004\n"
     ]
    },
    {
     "data": {
      "application/vnd.jupyter.widget-view+json": {
       "model_id": "fec0363200564638bdb5e06f4096a7df",
       "version_major": 2,
       "version_minor": 0
      },
      "text/plain": [
       "HBox(children=(FloatProgress(value=0.0, max=14.0), HTML(value='')))"
      ]
     },
     "metadata": {},
     "output_type": "display_data"
    },
    {
     "name": "stdout",
     "output_type": "stream",
     "text": [
      "\n",
      "[ Epoch | 042/140 ]           train_loss = 0.39274 mean_squared_error = 0.39274\n"
     ]
    },
    {
     "data": {
      "application/vnd.jupyter.widget-view+json": {
       "model_id": "f216390da8c94b31b741e207575a486b",
       "version_major": 2,
       "version_minor": 0
      },
      "text/plain": [
       "HBox(children=(FloatProgress(value=0.0, max=14.0), HTML(value='')))"
      ]
     },
     "metadata": {},
     "output_type": "display_data"
    },
    {
     "name": "stdout",
     "output_type": "stream",
     "text": [
      "\n",
      "[ Epoch | 043/140 ]           train_loss = 0.39024 mean_squared_error = 0.39024\n"
     ]
    },
    {
     "data": {
      "application/vnd.jupyter.widget-view+json": {
       "model_id": "66a1b9944c534785abf8df2297d4b5e2",
       "version_major": 2,
       "version_minor": 0
      },
      "text/plain": [
       "HBox(children=(FloatProgress(value=0.0, max=14.0), HTML(value='')))"
      ]
     },
     "metadata": {},
     "output_type": "display_data"
    },
    {
     "name": "stdout",
     "output_type": "stream",
     "text": [
      "\n",
      "[ Epoch | 044/140 ]           train_loss = 0.39216 mean_squared_error = 0.39216\n"
     ]
    },
    {
     "data": {
      "application/vnd.jupyter.widget-view+json": {
       "model_id": "db60d5fa500446a5b68ae5ee972c32c2",
       "version_major": 2,
       "version_minor": 0
      },
      "text/plain": [
       "HBox(children=(FloatProgress(value=0.0, max=14.0), HTML(value='')))"
      ]
     },
     "metadata": {},
     "output_type": "display_data"
    },
    {
     "name": "stdout",
     "output_type": "stream",
     "text": [
      "\n",
      "[ Epoch | 045/140 ]           train_loss = 0.38856 mean_squared_error = 0.38856\n"
     ]
    },
    {
     "data": {
      "application/vnd.jupyter.widget-view+json": {
       "model_id": "7bf573c5b85b45149133f04daa1f6c23",
       "version_major": 2,
       "version_minor": 0
      },
      "text/plain": [
       "HBox(children=(FloatProgress(value=0.0, max=14.0), HTML(value='')))"
      ]
     },
     "metadata": {},
     "output_type": "display_data"
    },
    {
     "name": "stdout",
     "output_type": "stream",
     "text": [
      "\n",
      "[ Epoch | 046/140 ]           train_loss = 0.39137 mean_squared_error = 0.39137\n"
     ]
    },
    {
     "data": {
      "application/vnd.jupyter.widget-view+json": {
       "model_id": "692b76ff5408436daaf8d2dfcaf9e81b",
       "version_major": 2,
       "version_minor": 0
      },
      "text/plain": [
       "HBox(children=(FloatProgress(value=0.0, max=14.0), HTML(value='')))"
      ]
     },
     "metadata": {},
     "output_type": "display_data"
    },
    {
     "name": "stdout",
     "output_type": "stream",
     "text": [
      "\n",
      "[ Epoch | 047/140 ]           train_loss = 0.39124 mean_squared_error = 0.39124\n"
     ]
    },
    {
     "data": {
      "application/vnd.jupyter.widget-view+json": {
       "model_id": "cd63ec7649bf462dad2fdce800b98629",
       "version_major": 2,
       "version_minor": 0
      },
      "text/plain": [
       "HBox(children=(FloatProgress(value=0.0, max=14.0), HTML(value='')))"
      ]
     },
     "metadata": {},
     "output_type": "display_data"
    },
    {
     "name": "stdout",
     "output_type": "stream",
     "text": [
      "\n",
      "[ Epoch | 048/140 ]           train_loss = 0.39274 mean_squared_error = 0.39274\n"
     ]
    },
    {
     "data": {
      "application/vnd.jupyter.widget-view+json": {
       "model_id": "b4146b54cbad404ab00ee8fd27608327",
       "version_major": 2,
       "version_minor": 0
      },
      "text/plain": [
       "HBox(children=(FloatProgress(value=0.0, max=14.0), HTML(value='')))"
      ]
     },
     "metadata": {},
     "output_type": "display_data"
    },
    {
     "name": "stdout",
     "output_type": "stream",
     "text": [
      "\n",
      "[ Epoch | 049/140 ]           train_loss = 0.39208 mean_squared_error = 0.39208\n"
     ]
    },
    {
     "data": {
      "application/vnd.jupyter.widget-view+json": {
       "model_id": "a65d3e2bf1194cf0ab9c54ffcf44c1c1",
       "version_major": 2,
       "version_minor": 0
      },
      "text/plain": [
       "HBox(children=(FloatProgress(value=0.0, max=14.0), HTML(value='')))"
      ]
     },
     "metadata": {},
     "output_type": "display_data"
    },
    {
     "name": "stdout",
     "output_type": "stream",
     "text": [
      "\n",
      "[ Epoch | 050/140 ]           train_loss = 0.38890 mean_squared_error = 0.38890\n"
     ]
    },
    {
     "data": {
      "application/vnd.jupyter.widget-view+json": {
       "model_id": "9eb6e26b8aab4358be225056a693e89c",
       "version_major": 2,
       "version_minor": 0
      },
      "text/plain": [
       "HBox(children=(FloatProgress(value=0.0, max=14.0), HTML(value='')))"
      ]
     },
     "metadata": {},
     "output_type": "display_data"
    },
    {
     "name": "stdout",
     "output_type": "stream",
     "text": [
      "\n",
      "[ Epoch | 051/140 ]           train_loss = 0.39209 mean_squared_error = 0.39209\n"
     ]
    },
    {
     "data": {
      "application/vnd.jupyter.widget-view+json": {
       "model_id": "044e7f16d9694057b122c0d700218746",
       "version_major": 2,
       "version_minor": 0
      },
      "text/plain": [
       "HBox(children=(FloatProgress(value=0.0, max=14.0), HTML(value='')))"
      ]
     },
     "metadata": {},
     "output_type": "display_data"
    },
    {
     "name": "stdout",
     "output_type": "stream",
     "text": [
      "\n",
      "[ Epoch | 052/140 ]           train_loss = 0.39295 mean_squared_error = 0.39295\n"
     ]
    },
    {
     "data": {
      "application/vnd.jupyter.widget-view+json": {
       "model_id": "2201c7fd380748c7bdaf1d4607781ce9",
       "version_major": 2,
       "version_minor": 0
      },
      "text/plain": [
       "HBox(children=(FloatProgress(value=0.0, max=14.0), HTML(value='')))"
      ]
     },
     "metadata": {},
     "output_type": "display_data"
    },
    {
     "name": "stdout",
     "output_type": "stream",
     "text": [
      "\n",
      "[ Epoch | 053/140 ]           train_loss = 0.39065 mean_squared_error = 0.39065\n"
     ]
    },
    {
     "data": {
      "application/vnd.jupyter.widget-view+json": {
       "model_id": "fc00a8290e194a669535b67070c801d0",
       "version_major": 2,
       "version_minor": 0
      },
      "text/plain": [
       "HBox(children=(FloatProgress(value=0.0, max=14.0), HTML(value='')))"
      ]
     },
     "metadata": {},
     "output_type": "display_data"
    },
    {
     "name": "stdout",
     "output_type": "stream",
     "text": [
      "\n",
      "[ Epoch | 054/140 ]           train_loss = 0.39186 mean_squared_error = 0.39186\n"
     ]
    },
    {
     "data": {
      "application/vnd.jupyter.widget-view+json": {
       "model_id": "1faae777a74941a0b3a4752203bf392b",
       "version_major": 2,
       "version_minor": 0
      },
      "text/plain": [
       "HBox(children=(FloatProgress(value=0.0, max=14.0), HTML(value='')))"
      ]
     },
     "metadata": {},
     "output_type": "display_data"
    },
    {
     "name": "stdout",
     "output_type": "stream",
     "text": [
      "\n",
      "[ Epoch | 055/140 ]           train_loss = 0.39166 mean_squared_error = 0.39166\n"
     ]
    },
    {
     "data": {
      "application/vnd.jupyter.widget-view+json": {
       "model_id": "1a35cd09a2844b39a569864fd2d1b105",
       "version_major": 2,
       "version_minor": 0
      },
      "text/plain": [
       "HBox(children=(FloatProgress(value=0.0, max=14.0), HTML(value='')))"
      ]
     },
     "metadata": {},
     "output_type": "display_data"
    },
    {
     "name": "stdout",
     "output_type": "stream",
     "text": [
      "\n",
      "[ Epoch | 056/140 ]           train_loss = 0.39261 mean_squared_error = 0.39261\n"
     ]
    },
    {
     "data": {
      "application/vnd.jupyter.widget-view+json": {
       "model_id": "23a8098fe28741fdae97bf6bce2c7a89",
       "version_major": 2,
       "version_minor": 0
      },
      "text/plain": [
       "HBox(children=(FloatProgress(value=0.0, max=14.0), HTML(value='')))"
      ]
     },
     "metadata": {},
     "output_type": "display_data"
    },
    {
     "name": "stdout",
     "output_type": "stream",
     "text": [
      "\n",
      "[ Epoch | 057/140 ]           train_loss = 0.38948 mean_squared_error = 0.38948\n"
     ]
    },
    {
     "data": {
      "application/vnd.jupyter.widget-view+json": {
       "model_id": "6035ac934db94d8eb84b7077a901ad79",
       "version_major": 2,
       "version_minor": 0
      },
      "text/plain": [
       "HBox(children=(FloatProgress(value=0.0, max=14.0), HTML(value='')))"
      ]
     },
     "metadata": {},
     "output_type": "display_data"
    },
    {
     "name": "stdout",
     "output_type": "stream",
     "text": [
      "\n",
      "[ Epoch | 058/140 ]           train_loss = 0.39023 mean_squared_error = 0.39023\n"
     ]
    },
    {
     "data": {
      "application/vnd.jupyter.widget-view+json": {
       "model_id": "a363649bda2b463694a9823fd4ab7c0f",
       "version_major": 2,
       "version_minor": 0
      },
      "text/plain": [
       "HBox(children=(FloatProgress(value=0.0, max=14.0), HTML(value='')))"
      ]
     },
     "metadata": {},
     "output_type": "display_data"
    },
    {
     "name": "stdout",
     "output_type": "stream",
     "text": [
      "\n",
      "[ Epoch | 059/140 ]           train_loss = 0.39128 mean_squared_error = 0.39128\n"
     ]
    },
    {
     "data": {
      "application/vnd.jupyter.widget-view+json": {
       "model_id": "9941b2cee3124e2eb81930a55b2a53ff",
       "version_major": 2,
       "version_minor": 0
      },
      "text/plain": [
       "HBox(children=(FloatProgress(value=0.0, max=14.0), HTML(value='')))"
      ]
     },
     "metadata": {},
     "output_type": "display_data"
    },
    {
     "name": "stdout",
     "output_type": "stream",
     "text": [
      "\n",
      "[ Epoch | 060/140 ]           train_loss = 0.39273 mean_squared_error = 0.39273\n"
     ]
    },
    {
     "data": {
      "application/vnd.jupyter.widget-view+json": {
       "model_id": "020df5b67c6d45a7a301d7e4edd3f3fe",
       "version_major": 2,
       "version_minor": 0
      },
      "text/plain": [
       "HBox(children=(FloatProgress(value=0.0, max=14.0), HTML(value='')))"
      ]
     },
     "metadata": {},
     "output_type": "display_data"
    },
    {
     "name": "stdout",
     "output_type": "stream",
     "text": [
      "\n",
      "[ Epoch | 061/140 ]           train_loss = 0.39134 mean_squared_error = 0.39134\n"
     ]
    },
    {
     "data": {
      "application/vnd.jupyter.widget-view+json": {
       "model_id": "b251c7b6d4b04ac4a8ca55ea41ee7de7",
       "version_major": 2,
       "version_minor": 0
      },
      "text/plain": [
       "HBox(children=(FloatProgress(value=0.0, max=14.0), HTML(value='')))"
      ]
     },
     "metadata": {},
     "output_type": "display_data"
    },
    {
     "name": "stdout",
     "output_type": "stream",
     "text": [
      "\n",
      "[ Epoch | 062/140 ]           train_loss = 0.38931 mean_squared_error = 0.38931\n"
     ]
    },
    {
     "data": {
      "application/vnd.jupyter.widget-view+json": {
       "model_id": "b8f784921f1045a9a8adf6ecc8a14725",
       "version_major": 2,
       "version_minor": 0
      },
      "text/plain": [
       "HBox(children=(FloatProgress(value=0.0, max=14.0), HTML(value='')))"
      ]
     },
     "metadata": {},
     "output_type": "display_data"
    },
    {
     "name": "stdout",
     "output_type": "stream",
     "text": [
      "\n",
      "[ Epoch | 063/140 ]           train_loss = 0.38881 mean_squared_error = 0.38881\n"
     ]
    },
    {
     "data": {
      "application/vnd.jupyter.widget-view+json": {
       "model_id": "df2bee61936d45baa042d9e1bf6308d0",
       "version_major": 2,
       "version_minor": 0
      },
      "text/plain": [
       "HBox(children=(FloatProgress(value=0.0, max=14.0), HTML(value='')))"
      ]
     },
     "metadata": {},
     "output_type": "display_data"
    },
    {
     "name": "stdout",
     "output_type": "stream",
     "text": [
      "\n",
      "[ Epoch | 064/140 ]           train_loss = 0.39120 mean_squared_error = 0.39120\n"
     ]
    },
    {
     "data": {
      "application/vnd.jupyter.widget-view+json": {
       "model_id": "eadc1327fd3d4b5f8148abd075e272ea",
       "version_major": 2,
       "version_minor": 0
      },
      "text/plain": [
       "HBox(children=(FloatProgress(value=0.0, max=14.0), HTML(value='')))"
      ]
     },
     "metadata": {},
     "output_type": "display_data"
    },
    {
     "name": "stdout",
     "output_type": "stream",
     "text": [
      "\n",
      "[ Epoch | 065/140 ]           train_loss = 0.39231 mean_squared_error = 0.39231\n"
     ]
    },
    {
     "data": {
      "application/vnd.jupyter.widget-view+json": {
       "model_id": "fa49b1057f6e44068435acf6d507cfd8",
       "version_major": 2,
       "version_minor": 0
      },
      "text/plain": [
       "HBox(children=(FloatProgress(value=0.0, max=14.0), HTML(value='')))"
      ]
     },
     "metadata": {},
     "output_type": "display_data"
    },
    {
     "name": "stdout",
     "output_type": "stream",
     "text": [
      "\n",
      "[ Epoch | 066/140 ]           train_loss = 0.38919 mean_squared_error = 0.38919\n"
     ]
    },
    {
     "data": {
      "application/vnd.jupyter.widget-view+json": {
       "model_id": "b0f7c1a790c14c0e96fcf7dac7bd4be0",
       "version_major": 2,
       "version_minor": 0
      },
      "text/plain": [
       "HBox(children=(FloatProgress(value=0.0, max=14.0), HTML(value='')))"
      ]
     },
     "metadata": {},
     "output_type": "display_data"
    },
    {
     "name": "stdout",
     "output_type": "stream",
     "text": [
      "\n",
      "[ Epoch | 067/140 ]           train_loss = 0.38969 mean_squared_error = 0.38969\n"
     ]
    },
    {
     "data": {
      "application/vnd.jupyter.widget-view+json": {
       "model_id": "f78c88c5f10943849d47e87cecf79c5d",
       "version_major": 2,
       "version_minor": 0
      },
      "text/plain": [
       "HBox(children=(FloatProgress(value=0.0, max=14.0), HTML(value='')))"
      ]
     },
     "metadata": {},
     "output_type": "display_data"
    },
    {
     "name": "stdout",
     "output_type": "stream",
     "text": [
      "\n",
      "[ Epoch | 068/140 ]           train_loss = 0.39143 mean_squared_error = 0.39143\n"
     ]
    },
    {
     "data": {
      "application/vnd.jupyter.widget-view+json": {
       "model_id": "1e2a26ab2f2a452595a7dd686e5603ec",
       "version_major": 2,
       "version_minor": 0
      },
      "text/plain": [
       "HBox(children=(FloatProgress(value=0.0, max=14.0), HTML(value='')))"
      ]
     },
     "metadata": {},
     "output_type": "display_data"
    },
    {
     "name": "stdout",
     "output_type": "stream",
     "text": [
      "\n",
      "[ Epoch | 069/140 ]           train_loss = 0.39194 mean_squared_error = 0.39194\n"
     ]
    },
    {
     "data": {
      "application/vnd.jupyter.widget-view+json": {
       "model_id": "177b56580fce4cdf8b8a3799e38b853d",
       "version_major": 2,
       "version_minor": 0
      },
      "text/plain": [
       "HBox(children=(FloatProgress(value=0.0, max=14.0), HTML(value='')))"
      ]
     },
     "metadata": {},
     "output_type": "display_data"
    },
    {
     "name": "stdout",
     "output_type": "stream",
     "text": [
      "\n",
      "[ Epoch | 070/140 ]           train_loss = 0.39196 mean_squared_error = 0.39196\n"
     ]
    },
    {
     "data": {
      "application/vnd.jupyter.widget-view+json": {
       "model_id": "7ef6080d76904a46837465f5602d9a25",
       "version_major": 2,
       "version_minor": 0
      },
      "text/plain": [
       "HBox(children=(FloatProgress(value=0.0, max=14.0), HTML(value='')))"
      ]
     },
     "metadata": {},
     "output_type": "display_data"
    },
    {
     "name": "stdout",
     "output_type": "stream",
     "text": [
      "\n",
      "[ Epoch | 071/140 ]           train_loss = 0.39312 mean_squared_error = 0.39312\n"
     ]
    },
    {
     "data": {
      "application/vnd.jupyter.widget-view+json": {
       "model_id": "a781f0a2f8a4409e81e81c58a9d3780e",
       "version_major": 2,
       "version_minor": 0
      },
      "text/plain": [
       "HBox(children=(FloatProgress(value=0.0, max=14.0), HTML(value='')))"
      ]
     },
     "metadata": {},
     "output_type": "display_data"
    },
    {
     "name": "stdout",
     "output_type": "stream",
     "text": [
      "\n",
      "[ Epoch | 072/140 ]           train_loss = 0.38981 mean_squared_error = 0.38981\n"
     ]
    },
    {
     "data": {
      "application/vnd.jupyter.widget-view+json": {
       "model_id": "c98368f7dba742ada317703341643c7e",
       "version_major": 2,
       "version_minor": 0
      },
      "text/plain": [
       "HBox(children=(FloatProgress(value=0.0, max=14.0), HTML(value='')))"
      ]
     },
     "metadata": {},
     "output_type": "display_data"
    },
    {
     "name": "stdout",
     "output_type": "stream",
     "text": [
      "\n",
      "[ Epoch | 073/140 ]           train_loss = 0.39260 mean_squared_error = 0.39260\n"
     ]
    },
    {
     "data": {
      "application/vnd.jupyter.widget-view+json": {
       "model_id": "9e20cf32e53d43529eb1d137fe3a31d3",
       "version_major": 2,
       "version_minor": 0
      },
      "text/plain": [
       "HBox(children=(FloatProgress(value=0.0, max=14.0), HTML(value='')))"
      ]
     },
     "metadata": {},
     "output_type": "display_data"
    },
    {
     "name": "stdout",
     "output_type": "stream",
     "text": [
      "\n",
      "[ Epoch | 074/140 ]           train_loss = 0.39212 mean_squared_error = 0.39212\n"
     ]
    },
    {
     "data": {
      "application/vnd.jupyter.widget-view+json": {
       "model_id": "9e80afca3ea54c648e83a0a8b10e98d2",
       "version_major": 2,
       "version_minor": 0
      },
      "text/plain": [
       "HBox(children=(FloatProgress(value=0.0, max=14.0), HTML(value='')))"
      ]
     },
     "metadata": {},
     "output_type": "display_data"
    },
    {
     "name": "stdout",
     "output_type": "stream",
     "text": [
      "\n",
      "[ Epoch | 075/140 ]           train_loss = 0.39076 mean_squared_error = 0.39076\n"
     ]
    },
    {
     "data": {
      "application/vnd.jupyter.widget-view+json": {
       "model_id": "bddcb766a31a4237b3f6b88e5f042f0b",
       "version_major": 2,
       "version_minor": 0
      },
      "text/plain": [
       "HBox(children=(FloatProgress(value=0.0, max=14.0), HTML(value='')))"
      ]
     },
     "metadata": {},
     "output_type": "display_data"
    },
    {
     "name": "stdout",
     "output_type": "stream",
     "text": [
      "\n",
      "[ Epoch | 076/140 ]           train_loss = 0.39241 mean_squared_error = 0.39241\n"
     ]
    },
    {
     "data": {
      "application/vnd.jupyter.widget-view+json": {
       "model_id": "360941f848ee459fba76e9385dc10bd6",
       "version_major": 2,
       "version_minor": 0
      },
      "text/plain": [
       "HBox(children=(FloatProgress(value=0.0, max=14.0), HTML(value='')))"
      ]
     },
     "metadata": {},
     "output_type": "display_data"
    },
    {
     "name": "stdout",
     "output_type": "stream",
     "text": [
      "\n",
      "[ Epoch | 077/140 ]           train_loss = 0.39622 mean_squared_error = 0.39622\n"
     ]
    },
    {
     "data": {
      "application/vnd.jupyter.widget-view+json": {
       "model_id": "84d7e04829e14488a5e5291500604826",
       "version_major": 2,
       "version_minor": 0
      },
      "text/plain": [
       "HBox(children=(FloatProgress(value=0.0, max=14.0), HTML(value='')))"
      ]
     },
     "metadata": {},
     "output_type": "display_data"
    },
    {
     "name": "stdout",
     "output_type": "stream",
     "text": [
      "\n",
      "[ Epoch | 078/140 ]           train_loss = 0.38741 mean_squared_error = 0.38741\n"
     ]
    },
    {
     "data": {
      "application/vnd.jupyter.widget-view+json": {
       "model_id": "490bf51510894e928efe33b514e04908",
       "version_major": 2,
       "version_minor": 0
      },
      "text/plain": [
       "HBox(children=(FloatProgress(value=0.0, max=14.0), HTML(value='')))"
      ]
     },
     "metadata": {},
     "output_type": "display_data"
    },
    {
     "name": "stdout",
     "output_type": "stream",
     "text": [
      "\n",
      "[ Epoch | 079/140 ]           train_loss = 0.39183 mean_squared_error = 0.39183\n"
     ]
    },
    {
     "data": {
      "application/vnd.jupyter.widget-view+json": {
       "model_id": "ec05c5ca0de9406bad5c3914a9c590b0",
       "version_major": 2,
       "version_minor": 0
      },
      "text/plain": [
       "HBox(children=(FloatProgress(value=0.0, max=14.0), HTML(value='')))"
      ]
     },
     "metadata": {},
     "output_type": "display_data"
    },
    {
     "name": "stdout",
     "output_type": "stream",
     "text": [
      "\n",
      "[ Epoch | 080/140 ]           train_loss = 0.39353 mean_squared_error = 0.39353\n"
     ]
    },
    {
     "data": {
      "application/vnd.jupyter.widget-view+json": {
       "model_id": "49233e86ddc04a19a8ee7dc0d875c8f2",
       "version_major": 2,
       "version_minor": 0
      },
      "text/plain": [
       "HBox(children=(FloatProgress(value=0.0, max=14.0), HTML(value='')))"
      ]
     },
     "metadata": {},
     "output_type": "display_data"
    },
    {
     "name": "stdout",
     "output_type": "stream",
     "text": [
      "\n",
      "[ Epoch | 081/140 ]           train_loss = 0.39244 mean_squared_error = 0.39244\n"
     ]
    },
    {
     "data": {
      "application/vnd.jupyter.widget-view+json": {
       "model_id": "25e112e864a2421ab4275961c0a772b5",
       "version_major": 2,
       "version_minor": 0
      },
      "text/plain": [
       "HBox(children=(FloatProgress(value=0.0, max=14.0), HTML(value='')))"
      ]
     },
     "metadata": {},
     "output_type": "display_data"
    },
    {
     "name": "stdout",
     "output_type": "stream",
     "text": [
      "\n",
      "[ Epoch | 082/140 ]           train_loss = 0.39270 mean_squared_error = 0.39270\n"
     ]
    },
    {
     "data": {
      "application/vnd.jupyter.widget-view+json": {
       "model_id": "aa70ca4016d2452e8ca055252a35287f",
       "version_major": 2,
       "version_minor": 0
      },
      "text/plain": [
       "HBox(children=(FloatProgress(value=0.0, max=14.0), HTML(value='')))"
      ]
     },
     "metadata": {},
     "output_type": "display_data"
    },
    {
     "name": "stdout",
     "output_type": "stream",
     "text": [
      "\n",
      "[ Epoch | 083/140 ]           train_loss = 0.39263 mean_squared_error = 0.39263\n"
     ]
    },
    {
     "data": {
      "application/vnd.jupyter.widget-view+json": {
       "model_id": "c8798a4e628b4ddaa61c46b97a2cdefa",
       "version_major": 2,
       "version_minor": 0
      },
      "text/plain": [
       "HBox(children=(FloatProgress(value=0.0, max=14.0), HTML(value='')))"
      ]
     },
     "metadata": {},
     "output_type": "display_data"
    },
    {
     "name": "stdout",
     "output_type": "stream",
     "text": [
      "\n",
      "[ Epoch | 084/140 ]           train_loss = 0.39051 mean_squared_error = 0.39051\n"
     ]
    },
    {
     "data": {
      "application/vnd.jupyter.widget-view+json": {
       "model_id": "6a8b5b49a68b4d39b229c9bd401dfdb3",
       "version_major": 2,
       "version_minor": 0
      },
      "text/plain": [
       "HBox(children=(FloatProgress(value=0.0, max=14.0), HTML(value='')))"
      ]
     },
     "metadata": {},
     "output_type": "display_data"
    },
    {
     "name": "stdout",
     "output_type": "stream",
     "text": [
      "\n",
      "[ Epoch | 085/140 ]           train_loss = 0.39028 mean_squared_error = 0.39028\n"
     ]
    },
    {
     "data": {
      "application/vnd.jupyter.widget-view+json": {
       "model_id": "ddf36f2ed8c74080b36c2887b59f2e5f",
       "version_major": 2,
       "version_minor": 0
      },
      "text/plain": [
       "HBox(children=(FloatProgress(value=0.0, max=14.0), HTML(value='')))"
      ]
     },
     "metadata": {},
     "output_type": "display_data"
    },
    {
     "name": "stdout",
     "output_type": "stream",
     "text": [
      "\n",
      "[ Epoch | 086/140 ]           train_loss = 0.38898 mean_squared_error = 0.38898\n"
     ]
    },
    {
     "data": {
      "application/vnd.jupyter.widget-view+json": {
       "model_id": "584f9905f5eb4e1e968e38a88a411e62",
       "version_major": 2,
       "version_minor": 0
      },
      "text/plain": [
       "HBox(children=(FloatProgress(value=0.0, max=14.0), HTML(value='')))"
      ]
     },
     "metadata": {},
     "output_type": "display_data"
    },
    {
     "name": "stdout",
     "output_type": "stream",
     "text": [
      "\n",
      "[ Epoch | 087/140 ]           train_loss = 0.39005 mean_squared_error = 0.39005\n"
     ]
    },
    {
     "data": {
      "application/vnd.jupyter.widget-view+json": {
       "model_id": "3fd5053192ce4c089816173884f7e56b",
       "version_major": 2,
       "version_minor": 0
      },
      "text/plain": [
       "HBox(children=(FloatProgress(value=0.0, max=14.0), HTML(value='')))"
      ]
     },
     "metadata": {},
     "output_type": "display_data"
    },
    {
     "name": "stdout",
     "output_type": "stream",
     "text": [
      "\n",
      "[ Epoch | 088/140 ]           train_loss = 0.39159 mean_squared_error = 0.39159\n"
     ]
    },
    {
     "data": {
      "application/vnd.jupyter.widget-view+json": {
       "model_id": "aa52403992d94babb023768f2dd448c2",
       "version_major": 2,
       "version_minor": 0
      },
      "text/plain": [
       "HBox(children=(FloatProgress(value=0.0, max=14.0), HTML(value='')))"
      ]
     },
     "metadata": {},
     "output_type": "display_data"
    },
    {
     "name": "stdout",
     "output_type": "stream",
     "text": [
      "\n",
      "[ Epoch | 089/140 ]           train_loss = 0.39094 mean_squared_error = 0.39094\n"
     ]
    },
    {
     "data": {
      "application/vnd.jupyter.widget-view+json": {
       "model_id": "f8292abd672e40f9aaba2770e8c72ff1",
       "version_major": 2,
       "version_minor": 0
      },
      "text/plain": [
       "HBox(children=(FloatProgress(value=0.0, max=14.0), HTML(value='')))"
      ]
     },
     "metadata": {},
     "output_type": "display_data"
    },
    {
     "name": "stdout",
     "output_type": "stream",
     "text": [
      "\n",
      "[ Epoch | 090/140 ]           train_loss = 0.39163 mean_squared_error = 0.39163\n"
     ]
    },
    {
     "data": {
      "application/vnd.jupyter.widget-view+json": {
       "model_id": "80dcf99e2d714981903c0cf71fade946",
       "version_major": 2,
       "version_minor": 0
      },
      "text/plain": [
       "HBox(children=(FloatProgress(value=0.0, max=14.0), HTML(value='')))"
      ]
     },
     "metadata": {},
     "output_type": "display_data"
    },
    {
     "name": "stdout",
     "output_type": "stream",
     "text": [
      "\n",
      "[ Epoch | 091/140 ]           train_loss = 0.39255 mean_squared_error = 0.39255\n"
     ]
    },
    {
     "data": {
      "application/vnd.jupyter.widget-view+json": {
       "model_id": "f98668b3f4d94ddfbecb3abe9df381ee",
       "version_major": 2,
       "version_minor": 0
      },
      "text/plain": [
       "HBox(children=(FloatProgress(value=0.0, max=14.0), HTML(value='')))"
      ]
     },
     "metadata": {},
     "output_type": "display_data"
    },
    {
     "name": "stdout",
     "output_type": "stream",
     "text": [
      "\n",
      "[ Epoch | 092/140 ]           train_loss = 0.39029 mean_squared_error = 0.39029\n"
     ]
    },
    {
     "data": {
      "application/vnd.jupyter.widget-view+json": {
       "model_id": "06722d5247384d5d8e5217743a30e2d8",
       "version_major": 2,
       "version_minor": 0
      },
      "text/plain": [
       "HBox(children=(FloatProgress(value=0.0, max=14.0), HTML(value='')))"
      ]
     },
     "metadata": {},
     "output_type": "display_data"
    },
    {
     "name": "stdout",
     "output_type": "stream",
     "text": [
      "\n",
      "[ Epoch | 093/140 ]           train_loss = 0.39037 mean_squared_error = 0.39037\n"
     ]
    },
    {
     "data": {
      "application/vnd.jupyter.widget-view+json": {
       "model_id": "e21e72649dc74a0aaa007f7956e0f083",
       "version_major": 2,
       "version_minor": 0
      },
      "text/plain": [
       "HBox(children=(FloatProgress(value=0.0, max=14.0), HTML(value='')))"
      ]
     },
     "metadata": {},
     "output_type": "display_data"
    },
    {
     "name": "stdout",
     "output_type": "stream",
     "text": [
      "\n",
      "[ Epoch | 094/140 ]           train_loss = 0.38925 mean_squared_error = 0.38925\n"
     ]
    },
    {
     "data": {
      "application/vnd.jupyter.widget-view+json": {
       "model_id": "df3b56085e3647e189b89f3fd8606b15",
       "version_major": 2,
       "version_minor": 0
      },
      "text/plain": [
       "HBox(children=(FloatProgress(value=0.0, max=14.0), HTML(value='')))"
      ]
     },
     "metadata": {},
     "output_type": "display_data"
    },
    {
     "name": "stdout",
     "output_type": "stream",
     "text": [
      "\n",
      "[ Epoch | 095/140 ]           train_loss = 0.39027 mean_squared_error = 0.39027\n"
     ]
    },
    {
     "data": {
      "application/vnd.jupyter.widget-view+json": {
       "model_id": "67246917a43444eda29dc1b76acf29e6",
       "version_major": 2,
       "version_minor": 0
      },
      "text/plain": [
       "HBox(children=(FloatProgress(value=0.0, max=14.0), HTML(value='')))"
      ]
     },
     "metadata": {},
     "output_type": "display_data"
    },
    {
     "name": "stdout",
     "output_type": "stream",
     "text": [
      "\n",
      "[ Epoch | 096/140 ]           train_loss = 0.39155 mean_squared_error = 0.39155\n"
     ]
    },
    {
     "data": {
      "application/vnd.jupyter.widget-view+json": {
       "model_id": "e5355475bfce4384b01be9539c0b8fd7",
       "version_major": 2,
       "version_minor": 0
      },
      "text/plain": [
       "HBox(children=(FloatProgress(value=0.0, max=14.0), HTML(value='')))"
      ]
     },
     "metadata": {},
     "output_type": "display_data"
    },
    {
     "name": "stdout",
     "output_type": "stream",
     "text": [
      "\n",
      "[ Epoch | 097/140 ]           train_loss = 0.39037 mean_squared_error = 0.39037\n"
     ]
    },
    {
     "data": {
      "application/vnd.jupyter.widget-view+json": {
       "model_id": "e70cae2abe99438db7f1490b007b2407",
       "version_major": 2,
       "version_minor": 0
      },
      "text/plain": [
       "HBox(children=(FloatProgress(value=0.0, max=14.0), HTML(value='')))"
      ]
     },
     "metadata": {},
     "output_type": "display_data"
    },
    {
     "name": "stdout",
     "output_type": "stream",
     "text": [
      "\n",
      "[ Epoch | 098/140 ]           train_loss = 0.39122 mean_squared_error = 0.39122\n"
     ]
    },
    {
     "data": {
      "application/vnd.jupyter.widget-view+json": {
       "model_id": "e68b27fa9db5492c8b8d6ae63c4876d7",
       "version_major": 2,
       "version_minor": 0
      },
      "text/plain": [
       "HBox(children=(FloatProgress(value=0.0, max=14.0), HTML(value='')))"
      ]
     },
     "metadata": {},
     "output_type": "display_data"
    },
    {
     "name": "stdout",
     "output_type": "stream",
     "text": [
      "\n",
      "[ Epoch | 099/140 ]           train_loss = 0.38891 mean_squared_error = 0.38891\n"
     ]
    },
    {
     "data": {
      "application/vnd.jupyter.widget-view+json": {
       "model_id": "0a76d6ff54e34d5bbf218821610e1970",
       "version_major": 2,
       "version_minor": 0
      },
      "text/plain": [
       "HBox(children=(FloatProgress(value=0.0, max=14.0), HTML(value='')))"
      ]
     },
     "metadata": {},
     "output_type": "display_data"
    },
    {
     "name": "stdout",
     "output_type": "stream",
     "text": [
      "\n",
      "[ Epoch | 100/140 ]           train_loss = 0.39005 mean_squared_error = 0.39005\n"
     ]
    },
    {
     "data": {
      "application/vnd.jupyter.widget-view+json": {
       "model_id": "2daba18deaad40ad9e74a39084ba059d",
       "version_major": 2,
       "version_minor": 0
      },
      "text/plain": [
       "HBox(children=(FloatProgress(value=0.0, max=14.0), HTML(value='')))"
      ]
     },
     "metadata": {},
     "output_type": "display_data"
    },
    {
     "name": "stdout",
     "output_type": "stream",
     "text": [
      "\n",
      "[ Epoch | 101/140 ]           train_loss = 0.39142 mean_squared_error = 0.39142\n"
     ]
    },
    {
     "data": {
      "application/vnd.jupyter.widget-view+json": {
       "model_id": "5a1f122aa2c3473c9f8eb7dae77280d2",
       "version_major": 2,
       "version_minor": 0
      },
      "text/plain": [
       "HBox(children=(FloatProgress(value=0.0, max=14.0), HTML(value='')))"
      ]
     },
     "metadata": {},
     "output_type": "display_data"
    },
    {
     "name": "stdout",
     "output_type": "stream",
     "text": [
      "\n",
      "[ Epoch | 102/140 ]           train_loss = 0.38945 mean_squared_error = 0.38945\n"
     ]
    },
    {
     "data": {
      "application/vnd.jupyter.widget-view+json": {
       "model_id": "89394095a5744caab03408bf18828b0d",
       "version_major": 2,
       "version_minor": 0
      },
      "text/plain": [
       "HBox(children=(FloatProgress(value=0.0, max=14.0), HTML(value='')))"
      ]
     },
     "metadata": {},
     "output_type": "display_data"
    },
    {
     "name": "stdout",
     "output_type": "stream",
     "text": [
      "\n",
      "[ Epoch | 103/140 ]           train_loss = 0.39230 mean_squared_error = 0.39230\n"
     ]
    },
    {
     "data": {
      "application/vnd.jupyter.widget-view+json": {
       "model_id": "1139dd3b7f054a40af5bdd97e63eee10",
       "version_major": 2,
       "version_minor": 0
      },
      "text/plain": [
       "HBox(children=(FloatProgress(value=0.0, max=14.0), HTML(value='')))"
      ]
     },
     "metadata": {},
     "output_type": "display_data"
    },
    {
     "name": "stdout",
     "output_type": "stream",
     "text": [
      "\n",
      "[ Epoch | 104/140 ]           train_loss = 0.39141 mean_squared_error = 0.39141\n"
     ]
    },
    {
     "data": {
      "application/vnd.jupyter.widget-view+json": {
       "model_id": "7ffe02ea22ea4e229ebd2b549a57d282",
       "version_major": 2,
       "version_minor": 0
      },
      "text/plain": [
       "HBox(children=(FloatProgress(value=0.0, max=14.0), HTML(value='')))"
      ]
     },
     "metadata": {},
     "output_type": "display_data"
    },
    {
     "name": "stdout",
     "output_type": "stream",
     "text": [
      "\n",
      "[ Epoch | 105/140 ]           train_loss = 0.39074 mean_squared_error = 0.39074\n"
     ]
    },
    {
     "data": {
      "application/vnd.jupyter.widget-view+json": {
       "model_id": "263ce04abc7a4cb395cb5c0b2bc35ca0",
       "version_major": 2,
       "version_minor": 0
      },
      "text/plain": [
       "HBox(children=(FloatProgress(value=0.0, max=14.0), HTML(value='')))"
      ]
     },
     "metadata": {},
     "output_type": "display_data"
    },
    {
     "name": "stdout",
     "output_type": "stream",
     "text": [
      "\n",
      "[ Epoch | 106/140 ]           train_loss = 0.39264 mean_squared_error = 0.39264\n"
     ]
    },
    {
     "data": {
      "application/vnd.jupyter.widget-view+json": {
       "model_id": "1e8e926e36cb40b6956366b64ab0ec1b",
       "version_major": 2,
       "version_minor": 0
      },
      "text/plain": [
       "HBox(children=(FloatProgress(value=0.0, max=14.0), HTML(value='')))"
      ]
     },
     "metadata": {},
     "output_type": "display_data"
    },
    {
     "name": "stdout",
     "output_type": "stream",
     "text": [
      "\n",
      "[ Epoch | 107/140 ]           train_loss = 0.39274 mean_squared_error = 0.39274\n"
     ]
    },
    {
     "data": {
      "application/vnd.jupyter.widget-view+json": {
       "model_id": "63a9a4e58e9d461dacf2e4b069d2e746",
       "version_major": 2,
       "version_minor": 0
      },
      "text/plain": [
       "HBox(children=(FloatProgress(value=0.0, max=14.0), HTML(value='')))"
      ]
     },
     "metadata": {},
     "output_type": "display_data"
    },
    {
     "name": "stdout",
     "output_type": "stream",
     "text": [
      "\n",
      "[ Epoch | 108/140 ]           train_loss = 0.39180 mean_squared_error = 0.39180\n"
     ]
    },
    {
     "data": {
      "application/vnd.jupyter.widget-view+json": {
       "model_id": "8de4e8d909a04c80969855976ba59787",
       "version_major": 2,
       "version_minor": 0
      },
      "text/plain": [
       "HBox(children=(FloatProgress(value=0.0, max=14.0), HTML(value='')))"
      ]
     },
     "metadata": {},
     "output_type": "display_data"
    },
    {
     "name": "stdout",
     "output_type": "stream",
     "text": [
      "\n",
      "[ Epoch | 109/140 ]           train_loss = 0.39319 mean_squared_error = 0.39319\n"
     ]
    },
    {
     "data": {
      "application/vnd.jupyter.widget-view+json": {
       "model_id": "1426511e6eaa4ef78637422cd1693a3c",
       "version_major": 2,
       "version_minor": 0
      },
      "text/plain": [
       "HBox(children=(FloatProgress(value=0.0, max=14.0), HTML(value='')))"
      ]
     },
     "metadata": {},
     "output_type": "display_data"
    },
    {
     "name": "stdout",
     "output_type": "stream",
     "text": [
      "\n",
      "[ Epoch | 110/140 ]           train_loss = 0.39370 mean_squared_error = 0.39370\n"
     ]
    },
    {
     "data": {
      "application/vnd.jupyter.widget-view+json": {
       "model_id": "3d0ab57711974efabcc9601360f09d2c",
       "version_major": 2,
       "version_minor": 0
      },
      "text/plain": [
       "HBox(children=(FloatProgress(value=0.0, max=14.0), HTML(value='')))"
      ]
     },
     "metadata": {},
     "output_type": "display_data"
    },
    {
     "name": "stdout",
     "output_type": "stream",
     "text": [
      "\n",
      "[ Epoch | 111/140 ]           train_loss = 0.39265 mean_squared_error = 0.39265\n"
     ]
    },
    {
     "data": {
      "application/vnd.jupyter.widget-view+json": {
       "model_id": "db7cf67e73ca481f959649079591ddfe",
       "version_major": 2,
       "version_minor": 0
      },
      "text/plain": [
       "HBox(children=(FloatProgress(value=0.0, max=14.0), HTML(value='')))"
      ]
     },
     "metadata": {},
     "output_type": "display_data"
    },
    {
     "name": "stdout",
     "output_type": "stream",
     "text": [
      "\n",
      "[ Epoch | 112/140 ]           train_loss = 0.39049 mean_squared_error = 0.39049\n"
     ]
    },
    {
     "data": {
      "application/vnd.jupyter.widget-view+json": {
       "model_id": "306f946bc3a64ce68155586c0ddc1ceb",
       "version_major": 2,
       "version_minor": 0
      },
      "text/plain": [
       "HBox(children=(FloatProgress(value=0.0, max=14.0), HTML(value='')))"
      ]
     },
     "metadata": {},
     "output_type": "display_data"
    },
    {
     "name": "stdout",
     "output_type": "stream",
     "text": [
      "\n",
      "[ Epoch | 113/140 ]           train_loss = 0.39112 mean_squared_error = 0.39112\n"
     ]
    },
    {
     "data": {
      "application/vnd.jupyter.widget-view+json": {
       "model_id": "de3d2208d0b64f8eb8e93c410bef927a",
       "version_major": 2,
       "version_minor": 0
      },
      "text/plain": [
       "HBox(children=(FloatProgress(value=0.0, max=14.0), HTML(value='')))"
      ]
     },
     "metadata": {},
     "output_type": "display_data"
    },
    {
     "name": "stdout",
     "output_type": "stream",
     "text": [
      "\n",
      "[ Epoch | 114/140 ]           train_loss = 0.39062 mean_squared_error = 0.39062\n"
     ]
    },
    {
     "data": {
      "application/vnd.jupyter.widget-view+json": {
       "model_id": "d8650bc8fbad478d83bc9d21d0d10b27",
       "version_major": 2,
       "version_minor": 0
      },
      "text/plain": [
       "HBox(children=(FloatProgress(value=0.0, max=14.0), HTML(value='')))"
      ]
     },
     "metadata": {},
     "output_type": "display_data"
    },
    {
     "name": "stdout",
     "output_type": "stream",
     "text": [
      "\n",
      "[ Epoch | 115/140 ]           train_loss = 0.39289 mean_squared_error = 0.39289\n"
     ]
    },
    {
     "data": {
      "application/vnd.jupyter.widget-view+json": {
       "model_id": "9882c3cde51544d3bf1d9f3442ae1414",
       "version_major": 2,
       "version_minor": 0
      },
      "text/plain": [
       "HBox(children=(FloatProgress(value=0.0, max=14.0), HTML(value='')))"
      ]
     },
     "metadata": {},
     "output_type": "display_data"
    },
    {
     "name": "stdout",
     "output_type": "stream",
     "text": [
      "\n",
      "[ Epoch | 116/140 ]           train_loss = 0.39175 mean_squared_error = 0.39175\n"
     ]
    },
    {
     "data": {
      "application/vnd.jupyter.widget-view+json": {
       "model_id": "3a1f036b4d7a423ea8393c9d185abbe0",
       "version_major": 2,
       "version_minor": 0
      },
      "text/plain": [
       "HBox(children=(FloatProgress(value=0.0, max=14.0), HTML(value='')))"
      ]
     },
     "metadata": {},
     "output_type": "display_data"
    },
    {
     "name": "stdout",
     "output_type": "stream",
     "text": [
      "\n",
      "[ Epoch | 117/140 ]           train_loss = 0.39313 mean_squared_error = 0.39313\n"
     ]
    },
    {
     "data": {
      "application/vnd.jupyter.widget-view+json": {
       "model_id": "4174fd3f9f604e05ba970e9a3d44fa10",
       "version_major": 2,
       "version_minor": 0
      },
      "text/plain": [
       "HBox(children=(FloatProgress(value=0.0, max=14.0), HTML(value='')))"
      ]
     },
     "metadata": {},
     "output_type": "display_data"
    },
    {
     "name": "stdout",
     "output_type": "stream",
     "text": [
      "\n",
      "[ Epoch | 118/140 ]           train_loss = 0.39327 mean_squared_error = 0.39327\n"
     ]
    },
    {
     "data": {
      "application/vnd.jupyter.widget-view+json": {
       "model_id": "8699881a1bdd4b9f8a44ec27fa013785",
       "version_major": 2,
       "version_minor": 0
      },
      "text/plain": [
       "HBox(children=(FloatProgress(value=0.0, max=14.0), HTML(value='')))"
      ]
     },
     "metadata": {},
     "output_type": "display_data"
    },
    {
     "name": "stdout",
     "output_type": "stream",
     "text": [
      "\n",
      "[ Epoch | 119/140 ]           train_loss = 0.39474 mean_squared_error = 0.39474\n"
     ]
    },
    {
     "data": {
      "application/vnd.jupyter.widget-view+json": {
       "model_id": "02a2d3b5098947fa89acf475a1ec3700",
       "version_major": 2,
       "version_minor": 0
      },
      "text/plain": [
       "HBox(children=(FloatProgress(value=0.0, max=14.0), HTML(value='')))"
      ]
     },
     "metadata": {},
     "output_type": "display_data"
    },
    {
     "name": "stdout",
     "output_type": "stream",
     "text": [
      "\n",
      "[ Epoch | 120/140 ]           train_loss = 0.39425 mean_squared_error = 0.39425\n"
     ]
    },
    {
     "data": {
      "application/vnd.jupyter.widget-view+json": {
       "model_id": "62c821c8b4c64cf399829eac0b241035",
       "version_major": 2,
       "version_minor": 0
      },
      "text/plain": [
       "HBox(children=(FloatProgress(value=0.0, max=14.0), HTML(value='')))"
      ]
     },
     "metadata": {},
     "output_type": "display_data"
    },
    {
     "name": "stdout",
     "output_type": "stream",
     "text": [
      "\n",
      "[ Epoch | 121/140 ]           train_loss = 0.39126 mean_squared_error = 0.39126\n"
     ]
    },
    {
     "data": {
      "application/vnd.jupyter.widget-view+json": {
       "model_id": "22676f0c7a0946d2a8c1d3163123fe75",
       "version_major": 2,
       "version_minor": 0
      },
      "text/plain": [
       "HBox(children=(FloatProgress(value=0.0, max=14.0), HTML(value='')))"
      ]
     },
     "metadata": {},
     "output_type": "display_data"
    },
    {
     "name": "stdout",
     "output_type": "stream",
     "text": [
      "\n",
      "[ Epoch | 122/140 ]           train_loss = 0.39153 mean_squared_error = 0.39153\n"
     ]
    },
    {
     "data": {
      "application/vnd.jupyter.widget-view+json": {
       "model_id": "61d0b37152c7485eb775bcf120934265",
       "version_major": 2,
       "version_minor": 0
      },
      "text/plain": [
       "HBox(children=(FloatProgress(value=0.0, max=14.0), HTML(value='')))"
      ]
     },
     "metadata": {},
     "output_type": "display_data"
    },
    {
     "name": "stdout",
     "output_type": "stream",
     "text": [
      "\n",
      "[ Epoch | 123/140 ]           train_loss = 0.39306 mean_squared_error = 0.39306\n"
     ]
    },
    {
     "data": {
      "application/vnd.jupyter.widget-view+json": {
       "model_id": "0f4bf58fcbbd415e997a39541bf079fa",
       "version_major": 2,
       "version_minor": 0
      },
      "text/plain": [
       "HBox(children=(FloatProgress(value=0.0, max=14.0), HTML(value='')))"
      ]
     },
     "metadata": {},
     "output_type": "display_data"
    },
    {
     "name": "stdout",
     "output_type": "stream",
     "text": [
      "\n",
      "[ Epoch | 124/140 ]           train_loss = 0.38974 mean_squared_error = 0.38974\n"
     ]
    },
    {
     "data": {
      "application/vnd.jupyter.widget-view+json": {
       "model_id": "7b184a165a0443d29d803a7e2439db15",
       "version_major": 2,
       "version_minor": 0
      },
      "text/plain": [
       "HBox(children=(FloatProgress(value=0.0, max=14.0), HTML(value='')))"
      ]
     },
     "metadata": {},
     "output_type": "display_data"
    },
    {
     "name": "stdout",
     "output_type": "stream",
     "text": [
      "\n",
      "[ Epoch | 125/140 ]           train_loss = 0.39210 mean_squared_error = 0.39210\n"
     ]
    },
    {
     "data": {
      "application/vnd.jupyter.widget-view+json": {
       "model_id": "584efde7ea2540b4975736d881f8b5ad",
       "version_major": 2,
       "version_minor": 0
      },
      "text/plain": [
       "HBox(children=(FloatProgress(value=0.0, max=14.0), HTML(value='')))"
      ]
     },
     "metadata": {},
     "output_type": "display_data"
    },
    {
     "name": "stdout",
     "output_type": "stream",
     "text": [
      "\n",
      "[ Epoch | 126/140 ]           train_loss = 0.39143 mean_squared_error = 0.39143\n"
     ]
    },
    {
     "data": {
      "application/vnd.jupyter.widget-view+json": {
       "model_id": "9e157d81167d4dadad16cc0a9c3e7954",
       "version_major": 2,
       "version_minor": 0
      },
      "text/plain": [
       "HBox(children=(FloatProgress(value=0.0, max=14.0), HTML(value='')))"
      ]
     },
     "metadata": {},
     "output_type": "display_data"
    },
    {
     "name": "stdout",
     "output_type": "stream",
     "text": [
      "\n",
      "[ Epoch | 127/140 ]           train_loss = 0.39200 mean_squared_error = 0.39200\n"
     ]
    },
    {
     "data": {
      "application/vnd.jupyter.widget-view+json": {
       "model_id": "59b95f2372a440c986c77f28ca800f12",
       "version_major": 2,
       "version_minor": 0
      },
      "text/plain": [
       "HBox(children=(FloatProgress(value=0.0, max=14.0), HTML(value='')))"
      ]
     },
     "metadata": {},
     "output_type": "display_data"
    },
    {
     "name": "stdout",
     "output_type": "stream",
     "text": [
      "\n",
      "[ Epoch | 128/140 ]           train_loss = 0.38960 mean_squared_error = 0.38960\n"
     ]
    },
    {
     "data": {
      "application/vnd.jupyter.widget-view+json": {
       "model_id": "7241ff63cc054e9f9261c28cad2690b4",
       "version_major": 2,
       "version_minor": 0
      },
      "text/plain": [
       "HBox(children=(FloatProgress(value=0.0, max=14.0), HTML(value='')))"
      ]
     },
     "metadata": {},
     "output_type": "display_data"
    },
    {
     "name": "stdout",
     "output_type": "stream",
     "text": [
      "\n",
      "[ Epoch | 129/140 ]           train_loss = 0.39109 mean_squared_error = 0.39109\n"
     ]
    },
    {
     "data": {
      "application/vnd.jupyter.widget-view+json": {
       "model_id": "979a365b27c946ba80e8d1c94c333c9c",
       "version_major": 2,
       "version_minor": 0
      },
      "text/plain": [
       "HBox(children=(FloatProgress(value=0.0, max=14.0), HTML(value='')))"
      ]
     },
     "metadata": {},
     "output_type": "display_data"
    },
    {
     "name": "stdout",
     "output_type": "stream",
     "text": [
      "\n",
      "[ Epoch | 130/140 ]           train_loss = 0.39019 mean_squared_error = 0.39019\n"
     ]
    },
    {
     "data": {
      "application/vnd.jupyter.widget-view+json": {
       "model_id": "b2482a138c5b42b68302743ff027a8bc",
       "version_major": 2,
       "version_minor": 0
      },
      "text/plain": [
       "HBox(children=(FloatProgress(value=0.0, max=14.0), HTML(value='')))"
      ]
     },
     "metadata": {},
     "output_type": "display_data"
    },
    {
     "name": "stdout",
     "output_type": "stream",
     "text": [
      "\n",
      "[ Epoch | 131/140 ]           train_loss = 0.39140 mean_squared_error = 0.39140\n"
     ]
    },
    {
     "data": {
      "application/vnd.jupyter.widget-view+json": {
       "model_id": "c6e268e5b54443d384dbaf5c8cf6e25f",
       "version_major": 2,
       "version_minor": 0
      },
      "text/plain": [
       "HBox(children=(FloatProgress(value=0.0, max=14.0), HTML(value='')))"
      ]
     },
     "metadata": {},
     "output_type": "display_data"
    },
    {
     "name": "stdout",
     "output_type": "stream",
     "text": [
      "\n",
      "[ Epoch | 132/140 ]           train_loss = 0.39125 mean_squared_error = 0.39125\n"
     ]
    },
    {
     "data": {
      "application/vnd.jupyter.widget-view+json": {
       "model_id": "e1a20be0fb7d49e3ab198a0d0fbd6006",
       "version_major": 2,
       "version_minor": 0
      },
      "text/plain": [
       "HBox(children=(FloatProgress(value=0.0, max=14.0), HTML(value='')))"
      ]
     },
     "metadata": {},
     "output_type": "display_data"
    },
    {
     "name": "stdout",
     "output_type": "stream",
     "text": [
      "\n",
      "[ Epoch | 133/140 ]           train_loss = 0.38951 mean_squared_error = 0.38951\n"
     ]
    },
    {
     "data": {
      "application/vnd.jupyter.widget-view+json": {
       "model_id": "1c86e5c2ee2e4a069087afaf607ac7a2",
       "version_major": 2,
       "version_minor": 0
      },
      "text/plain": [
       "HBox(children=(FloatProgress(value=0.0, max=14.0), HTML(value='')))"
      ]
     },
     "metadata": {},
     "output_type": "display_data"
    },
    {
     "name": "stdout",
     "output_type": "stream",
     "text": [
      "\n",
      "[ Epoch | 134/140 ]           train_loss = 0.39156 mean_squared_error = 0.39156\n"
     ]
    },
    {
     "data": {
      "application/vnd.jupyter.widget-view+json": {
       "model_id": "513b0b0e6c514206b0489c9c1d29bf70",
       "version_major": 2,
       "version_minor": 0
      },
      "text/plain": [
       "HBox(children=(FloatProgress(value=0.0, max=14.0), HTML(value='')))"
      ]
     },
     "metadata": {},
     "output_type": "display_data"
    },
    {
     "name": "stdout",
     "output_type": "stream",
     "text": [
      "\n",
      "[ Epoch | 135/140 ]           train_loss = 0.39100 mean_squared_error = 0.39100\n"
     ]
    },
    {
     "data": {
      "application/vnd.jupyter.widget-view+json": {
       "model_id": "2c995499786e45dab7edfb35508c254c",
       "version_major": 2,
       "version_minor": 0
      },
      "text/plain": [
       "HBox(children=(FloatProgress(value=0.0, max=14.0), HTML(value='')))"
      ]
     },
     "metadata": {},
     "output_type": "display_data"
    },
    {
     "name": "stdout",
     "output_type": "stream",
     "text": [
      "\n",
      "[ Epoch | 136/140 ]           train_loss = 0.39076 mean_squared_error = 0.39076\n"
     ]
    },
    {
     "data": {
      "application/vnd.jupyter.widget-view+json": {
       "model_id": "469ef1676b5e4ad594fe10c03511ca37",
       "version_major": 2,
       "version_minor": 0
      },
      "text/plain": [
       "HBox(children=(FloatProgress(value=0.0, max=14.0), HTML(value='')))"
      ]
     },
     "metadata": {},
     "output_type": "display_data"
    },
    {
     "name": "stdout",
     "output_type": "stream",
     "text": [
      "\n",
      "[ Epoch | 137/140 ]           train_loss = 0.39025 mean_squared_error = 0.39025\n"
     ]
    },
    {
     "data": {
      "application/vnd.jupyter.widget-view+json": {
       "model_id": "495d8a997fec40aca462433e1db1d48b",
       "version_major": 2,
       "version_minor": 0
      },
      "text/plain": [
       "HBox(children=(FloatProgress(value=0.0, max=14.0), HTML(value='')))"
      ]
     },
     "metadata": {},
     "output_type": "display_data"
    },
    {
     "name": "stdout",
     "output_type": "stream",
     "text": [
      "\n",
      "[ Epoch | 138/140 ]           train_loss = 0.39297 mean_squared_error = 0.39297\n"
     ]
    },
    {
     "data": {
      "application/vnd.jupyter.widget-view+json": {
       "model_id": "d6d68d11d8284c8d86eea9bba901a1e5",
       "version_major": 2,
       "version_minor": 0
      },
      "text/plain": [
       "HBox(children=(FloatProgress(value=0.0, max=14.0), HTML(value='')))"
      ]
     },
     "metadata": {},
     "output_type": "display_data"
    },
    {
     "name": "stdout",
     "output_type": "stream",
     "text": [
      "\n",
      "[ Epoch | 139/140 ]           train_loss = 0.39115 mean_squared_error = 0.39115\n"
     ]
    },
    {
     "data": {
      "application/vnd.jupyter.widget-view+json": {
       "model_id": "aabab0458cf64113b9c5a55930ac6edf",
       "version_major": 2,
       "version_minor": 0
      },
      "text/plain": [
       "HBox(children=(FloatProgress(value=0.0, max=14.0), HTML(value='')))"
      ]
     },
     "metadata": {},
     "output_type": "display_data"
    },
    {
     "name": "stdout",
     "output_type": "stream",
     "text": [
      "\n",
      "[ Epoch | 140/140 ]           train_loss = 0.39051 mean_squared_error = 0.39051\n",
      "Defined the build_model and train_model functions.\n"
     ]
    },
    {
     "data": {
      "image/png": "[encoded data removed]",
      "text/plain": [
       "<Figure size 432x288 with 1 Axes>"
      ]
     },
     "metadata": {
      "needs_background": "light"
     },
     "output_type": "display_data"
    }
   ],
   "source": [
    "model = Sequential()\n",
    "\n",
    "optimizer = torch.optim.Adam(model.parameters(), lr=learning_rate, betas=(0.9, 0.999), \n",
    "                             eps=1e-08, weight_decay=0, amsgrad=False)\n",
    "\n",
    "loss_func = nn.MSELoss()   \n",
    "    \n",
    "    \n",
    "epoch_train_loss = []\n",
    "\n",
    "epoch_valid_loss = []\n",
    "\n",
    "    \n",
    "for epoch in range(n_epochs):\n",
    "    # ---------- Training ----------\n",
    "    # Make sure the model is in train mode before training.\n",
    "    model.train()\n",
    "\n",
    "    # These are used to record information in training.\n",
    "    train_loss = []\n",
    "    train_accs = []    \n",
    "    \n",
    "    # for batch in tqdm(trainloader):\n",
    "    for batch in tqdm(train_loader):\n",
    "        X, y = batch          \n",
    "        # print(X)\n",
    "        y_hat = model(X)\n",
    "        loss = loss_func(y_hat, y) #rmse\n",
    "        optimizer.zero_grad()\n",
    "        loss.backward()\n",
    "        optimizer.step()  \n",
    "        \n",
    "        # Record the loss and accuracy.\n",
    "        train_loss.append(loss.item())\n",
    "        \n",
    "    train_loss = sum(train_loss) / len(train_loss)\n",
    "    \n",
    "    epoch_train_loss.append(train_loss)   \n",
    "  \n",
    "    # Print the information.\n",
    "    print(f\"[ Epoch | {epoch + 1:03d}/{n_epochs:03d} ] \\\n",
    "          train_loss = {train_loss:.5f} mean_squared_error = {train_loss:.5f}\")\n",
    "    \n",
    "print(\"Defined the build_model and train_model functions.\")\n",
    "\n",
    "import matplotlib.pyplot as plt\n",
    "\n",
    "# Loss curve\n",
    "plt.plot(epoch_train_loss)\n",
    "plt.title('Loss')\n",
    "plt.legend(['train'])\n",
    "plt.savefig('loss.png')\n",
    "plt.show()"
   ]
  },
  {
   "cell_type": "code",
   "execution_count": 20,
   "id": "ff922952-c5f6-42c1-b948-caeacfe01635",
   "metadata": {},
   "outputs": [
    {
     "data": {
      "application/vnd.jupyter.widget-view+json": {
       "model_id": "16401bf1d92e44e49774f46197db970e",
       "version_major": 2,
       "version_minor": 0
      },
      "text/plain": [
       "HBox(children=(FloatProgress(value=0.0, max=3.0), HTML(value='')))"
      ]
     },
     "metadata": {},
     "output_type": "display_data"
    },
    {
     "name": "stdout",
     "output_type": "stream",
     "text": [
      "\n",
      "test_loss = 0.40673\n"
     ]
    }
   ],
   "source": [
    "model.eval()\n",
    "\n",
    "# These are used to record information in validation.\n",
    "test_loss = []\n",
    "\n",
    "for batch in tqdm(test_loader):\n",
    "    X, y = batch          \n",
    "    # print(X)\n",
    "    y_hat = model(X)\n",
    "    loss = loss_func(y_hat, y) #rmse\n",
    "    \n",
    "    # Record the loss and accuracy.\n",
    "    test_loss.append(loss.item())\n",
    "    \n",
    "    \n",
    " # The average loss and accuracy for entire validation set is the average of the recorded values.\n",
    "test_loss = sum(test_loss) / len(test_loss)\n",
    "\n",
    "# Print the information.\n",
    "print(f\"test_loss = {test_loss:.5f}\")    "
   ]
  },
  {
   "cell_type": "code",
   "execution_count": null,
   "id": "fe987f70-e4a2-4f50-a1e5-5749e4da8f10",
   "metadata": {},
   "outputs": [],
   "source": []
  }
 ],
 "metadata": {
  "kernelspec": {
   "display_name": "Python 3",
   "language": "python",
   "name": "python3"
  },
  "language_info": {
   "codemirror_mode": {
    "name": "ipython",
    "version": 3
   },
   "file_extension": ".py",
   "mimetype": "text/x-python",
   "name": "python",
   "nbconvert_exporter": "python",
   "pygments_lexer": "ipython3",
   "version": "3.6.9"
  }
 },
 "nbformat": 4,
 "nbformat_minor": 5
}
