{
 "cells": [
  {
   "cell_type": "markdown",
   "id": "842f3e69-68c2-46dc-a547-92201b2985c1",
   "metadata": {},
   "source": [
    "# Introduction to Neural Nets\n",
    "\n",
    "This Colab builds a deep neural network to perform more sophisticated linear regression than the earlier Colabs.\n",
    "\n",
    "https://colab.research.google.com/github/google/eng-edu/blob/main/ml/cc/exercises/intro_to_neural_nets.ipynb?utm_source=mlcc&utm_campaign=colab-external&utm_medium=referral&utm_content=intro_to_nn_tf2-colab&hl=en"
   ]
  },
  {
   "cell_type": "markdown",
   "id": "3d433a9a-6b8b-4024-933c-99cb19879c40",
   "metadata": {},
   "source": [
    "## Learning Objectives:\n",
    "\n",
    "After doing this Colab, you'll know how to do the following:\n",
    "\n",
    "  * Create a simple deep neural network.\n",
    "  * Tune the hyperparameters for a simple deep neural network."
   ]
  },
  {
   "cell_type": "markdown",
   "id": "4dafb388-4bb3-4198-8cf7-aff80c087107",
   "metadata": {},
   "source": [
    "## The Dataset\n",
    "  \n",
    "Like several of the previous Colabs, this Colab uses the [California Housing Dataset](https://developers.google.com/machine-learning/crash-course/california-housing-data-description)."
   ]
  },
  {
   "cell_type": "markdown",
   "id": "dc9e0be1-c0f1-40eb-8eb9-e30b8b8d6e00",
   "metadata": {},
   "source": [
    "## Import relevant modules\n",
    "\n",
    "The following hidden code cell imports the necessary code to run the code in the rest of this Colaboratory."
   ]
  },
  {
   "cell_type": "code",
   "execution_count": 1,
   "id": "99e44f0e-26f4-4228-9ffd-7524e87c29ce",
   "metadata": {},
   "outputs": [
    {
     "name": "stdout",
     "output_type": "stream",
     "text": [
      "Imported modules.\n"
     ]
    }
   ],
   "source": [
    "#@title Import relevant modules\n",
    "import numpy as np\n",
    "import pandas as pd\n",
    "import tensorflow as tf\n",
    "\n",
    "import torch\n",
    "from torch import nn\n",
    "from torch.utils.data import Dataset, DataLoader\n",
    "import torchvision.transforms as transforms\n",
    "from sklearn.model_selection import train_test_split\n",
    "import math\n",
    "from tqdm.notebook import tqdm\n",
    "\n",
    "from matplotlib import pyplot as plt\n",
    "import seaborn as sns\n",
    "\n",
    "# The following lines adjust the granularity of reporting. \n",
    "pd.options.display.max_rows = 10\n",
    "pd.options.display.float_format = \"{:.1f}\".format\n",
    "\n",
    "print(\"Imported modules.\")"
   ]
  },
  {
   "cell_type": "markdown",
   "id": "3ca23163-1495-41ae-9187-0e625e4b8d52",
   "metadata": {},
   "source": [
    "## Load the dataset\n",
    "\n",
    "Like most of the previous Colab exercises, this exercise uses the California Housing Dataset.  The following code cell loads the separate .csv files and creates the following two pandas DataFrames:\n",
    "\n",
    "* `train_df`, which contains the training set\n",
    "* `test_df`, which contains the test set\n",
    "   "
   ]
  },
  {
   "cell_type": "code",
   "execution_count": 2,
   "id": "3e6d0a86-b257-4982-919e-a7aee3814080",
   "metadata": {},
   "outputs": [],
   "source": [
    "# Load the dataset\n",
    "orign_train_df = pd.read_csv(\"https://download.mlcc.google.com/mledu-datasets/california_housing_train.csv\")\n",
    "test_df = pd.read_csv(\"https://download.mlcc.google.com/mledu-datasets/california_housing_test.csv\")\n",
    "\n",
    "# Shuffle the examples\n",
    "orign_train_df = orign_train_df.reindex(np.random.permutation(orign_train_df.index))"
   ]
  },
  {
   "cell_type": "markdown",
   "id": "f564ffa0-fbba-4ab4-ac86-27f9c4dc786b",
   "metadata": {},
   "source": [
    "## Normalize values\n",
    "\n",
    "When building a model with multiple features, the values of each feature should cover roughly the same range.  The following code cell normalizes datasets by converting each raw value to its Z-score. (For more information about Z-scores, see the Classification exercise.)"
   ]
  },
  {
   "cell_type": "code",
   "execution_count": 3,
   "id": "e9fd5e89-3187-4c47-895e-5159350dc73b",
   "metadata": {},
   "outputs": [
    {
     "name": "stdout",
     "output_type": "stream",
     "text": [
      "Normalized the values.\n"
     ]
    }
   ],
   "source": [
    "# Calculate the Z-scores of each column in the training set:\n",
    "train_df_mean = orign_train_df.mean()\n",
    "train_df_std = orign_train_df.std()\n",
    "train_df_norm = (orign_train_df - train_df_mean)/train_df_std\n",
    "\n",
    "# Calculate the Z-scores of each column in the test set.\n",
    "test_df_mean = test_df.mean()\n",
    "test_df_std = test_df.std()\n",
    "test_df_norm = (test_df - test_df_mean)/test_df_std\n",
    "\n",
    "print(\"Normalized the values.\")"
   ]
  },
  {
   "cell_type": "code",
   "execution_count": 4,
   "id": "dbcd6ad3-f096-44d2-8ee7-b8f974faacf6",
   "metadata": {},
   "outputs": [
    {
     "data": {
      "text/plain": [
       "[NumericColumn(key='median_income', shape=(1,), default_value=None, dtype=tf.float32, normalizer_fn=None),\n",
       " NumericColumn(key='population', shape=(1,), default_value=None, dtype=tf.float32, normalizer_fn=None)]"
      ]
     },
     "execution_count": 4,
     "metadata": {},
     "output_type": "execute_result"
    }
   ],
   "source": [
    "resolution_in_Zs = 0.3  # 3/10 of a standard deviation.\n",
    "\n",
    "feature_columns = []\n",
    "\n",
    "# Create a bucket feature column for latitude.\n",
    "latitude_as_a_numeric_column = tf.feature_column.numeric_column(\"latitude\")\n",
    "latitude_boundaries = list(np.arange(int(min(train_df_norm['latitude'])), \n",
    "                                     int(max(train_df_norm['latitude'])), \n",
    "                                     resolution_in_Zs))\n",
    "latitude = tf.feature_column.bucketized_column(latitude_as_a_numeric_column, latitude_boundaries)\n",
    "\n",
    "# Create a bucket feature column for longitude.\n",
    "longitude_as_a_numeric_column = tf.feature_column.numeric_column(\"longitude\")\n",
    "longitude_boundaries = list(np.arange(int(min(train_df_norm['longitude'])), \n",
    "                                      int(max(train_df_norm['longitude'])), \n",
    "                                      resolution_in_Zs))\n",
    "\n",
    "# Represent median_income as a floating-point value.\n",
    "median_income = tf.feature_column.numeric_column(\"median_income\")\n",
    "feature_columns.append(median_income)\n",
    "\n",
    "# Represent population as a floating-point value.\n",
    "population = tf.feature_column.numeric_column(\"population\")\n",
    "feature_columns.append(population)\n",
    "\n",
    "# Convert the list of feature columns into a layer that will later be fed into\n",
    "# the model. \n",
    "# my_feature_layer = tf.keras.layers.DenseFeatures(feature_columns)\n",
    "feature_columns"
   ]
  },
  {
   "cell_type": "code",
   "execution_count": 5,
   "id": "54e045bd-f3ba-4559-9abe-c455c944101e",
   "metadata": {},
   "outputs": [
    {
     "name": "stdout",
     "output_type": "stream",
     "text": [
      "latitude_boundaries:  [-1.0, -0.7, -0.3999999999999999, -0.09999999999999987, 0.20000000000000018, 0.5000000000000002, 0.8000000000000003, 1.1000000000000005, 1.4000000000000004, 1.7000000000000002]\n",
      "longitude_boundaries:  [-2.0, -1.7, -1.4, -1.0999999999999999, -0.7999999999999998, -0.4999999999999998, -0.19999999999999973, 0.10000000000000053, 0.40000000000000036, 0.7000000000000002, 1.0000000000000004, 1.3000000000000007, 1.6000000000000005, 1.9000000000000004]\n"
     ]
    },
    {
     "data": {
      "text/plain": [
       "['latitude', 'longitude', 'median_income', 'population']"
      ]
     },
     "execution_count": 5,
     "metadata": {},
     "output_type": "execute_result"
    }
   ],
   "source": [
    "resolution_in_Zs = 0.3  \n",
    "\n",
    "# Create a new empty list that will eventually hold the generated feature column.\n",
    "feature_columns = []\n",
    "\n",
    "# Create a bucket feature column for latitude.\n",
    "# latitude_as_a_numeric_column = tf.feature_column.numeric_column(\"latitude\")\n",
    "latitude_boundaries = list(np.arange(int(min(train_df_norm['latitude'])), \n",
    "                                     int(max(train_df_norm['latitude'])), \n",
    "                                     resolution_in_Zs))\n",
    "\n",
    "print(\"latitude_boundaries: \", latitude_boundaries)\n",
    "# latitude = tf.feature_column.bucketized_column(latitude_as_a_numeric_column, \n",
    "#                                                latitude_boundaries)\n",
    "feature_columns.append(\"latitude\")\n",
    "\n",
    "# Create a bucket feature column for longitude.\n",
    "# longitude_as_a_numeric_column = tf.feature_column.numeric_column(\"longitude\")\n",
    "longitude_boundaries = list(np.arange(int(min(train_df_norm['longitude'])), \n",
    "                                      int(max(train_df_norm['longitude'])), \n",
    "                                      resolution_in_Zs))\n",
    "print(\"longitude_boundaries: \", longitude_boundaries)\n",
    "# longitude = tf.feature_column.bucketized_column(longitude_as_a_numeric_column, \n",
    "#                                                 longitude_boundaries)\n",
    "feature_columns.append(\"longitude\")\n",
    "\n",
    "# Convert the list of feature columns into a layer that will ultimately become\n",
    "# part of the model. Understanding layers is not important right now.\n",
    "# buckets_feature_layer = layers.DenseFeatures(feature_columns)\n",
    "\n",
    "feature_columns = [\"latitude\", \"longitude\", \"median_income\", \"population\"]\n",
    "feature_columns"
   ]
  },
  {
   "cell_type": "code",
   "execution_count": 6,
   "id": "7681a71f-3ea3-4d17-80c9-29258ce33c9c",
   "metadata": {},
   "outputs": [],
   "source": [
    "def latitude_app(val, l):\n",
    "    \n",
    "    if val < l[0]: return 0\n",
    "    \n",
    "    for idx, item in enumerate(l[1:]):\n",
    "        if val < item: return idx\n",
    "    \n",
    "    if val > l[-1]: return len(l) + 1\n",
    "    \n",
    "\n",
    "def longitude_app(val, l):\n",
    "    if val < l[0]: return 0\n",
    "    \n",
    "    for idx, item in enumerate(l[1:]):\n",
    "        if val < item: return idx\n",
    "    \n",
    "    if val > l[-1]: return len(l) + 1  \n",
    "\n",
    "train_df_norm['latitude'] = train_df_norm.apply(lambda r: latitude_app(r['latitude'], latitude_boundaries), axis=1)\n",
    "train_df_norm['longitude'] = train_df_norm.apply(lambda r: longitude_app(r['longitude'], longitude_boundaries), axis=1) \n",
    "\n",
    "test_df_norm['latitude'] = test_df_norm.apply(lambda r: latitude_app(r['latitude'], latitude_boundaries), axis=1)\n",
    "test_df_norm['longitude'] = test_df_norm.apply(lambda r: longitude_app(r['longitude'], longitude_boundaries), axis=1) "
   ]
  },
  {
   "cell_type": "code",
   "execution_count": 7,
   "id": "df9e2205-21c8-413d-80da-4b4046806dd0",
   "metadata": {},
   "outputs": [
    {
     "data": {
      "text/html": [
       "<div>\n",
       "<style scoped>\n",
       "    .dataframe tbody tr th:only-of-type {\n",
       "        vertical-align: middle;\n",
       "    }\n",
       "\n",
       "    .dataframe tbody tr th {\n",
       "        vertical-align: top;\n",
       "    }\n",
       "\n",
       "    .dataframe thead th {\n",
       "        text-align: right;\n",
       "    }\n",
       "</style>\n",
       "<table border=\"1\" class=\"dataframe\">\n",
       "  <thead>\n",
       "    <tr style=\"text-align: right;\">\n",
       "      <th></th>\n",
       "      <th>longitude</th>\n",
       "      <th>latitude</th>\n",
       "      <th>housing_median_age</th>\n",
       "      <th>total_rooms</th>\n",
       "      <th>total_bedrooms</th>\n",
       "      <th>population</th>\n",
       "      <th>households</th>\n",
       "      <th>median_income</th>\n",
       "      <th>median_house_value</th>\n",
       "    </tr>\n",
       "  </thead>\n",
       "  <tbody>\n",
       "    <tr>\n",
       "      <th>12501</th>\n",
       "      <td>3</td>\n",
       "      <td>4</td>\n",
       "      <td>1.3</td>\n",
       "      <td>-0.4</td>\n",
       "      <td>-0.3</td>\n",
       "      <td>0.1</td>\n",
       "      <td>-0.2</td>\n",
       "      <td>-0.5</td>\n",
       "      <td>-0.7</td>\n",
       "    </tr>\n",
       "    <tr>\n",
       "      <th>11215</th>\n",
       "      <td>4</td>\n",
       "      <td>8</td>\n",
       "      <td>-1.4</td>\n",
       "      <td>-0.3</td>\n",
       "      <td>-0.6</td>\n",
       "      <td>-0.6</td>\n",
       "      <td>-0.6</td>\n",
       "      <td>-0.0</td>\n",
       "      <td>-0.2</td>\n",
       "    </tr>\n",
       "    <tr>\n",
       "      <th>5013</th>\n",
       "      <td>9</td>\n",
       "      <td>0</td>\n",
       "      <td>0.6</td>\n",
       "      <td>-0.4</td>\n",
       "      <td>-0.5</td>\n",
       "      <td>-0.5</td>\n",
       "      <td>-0.4</td>\n",
       "      <td>0.4</td>\n",
       "      <td>0.1</td>\n",
       "    </tr>\n",
       "    <tr>\n",
       "      <th>7614</th>\n",
       "      <td>8</td>\n",
       "      <td>0</td>\n",
       "      <td>-0.5</td>\n",
       "      <td>0.7</td>\n",
       "      <td>1.7</td>\n",
       "      <td>0.3</td>\n",
       "      <td>1.7</td>\n",
       "      <td>-0.4</td>\n",
       "      <td>1.2</td>\n",
       "    </tr>\n",
       "    <tr>\n",
       "      <th>12792</th>\n",
       "      <td>2</td>\n",
       "      <td>5</td>\n",
       "      <td>-0.9</td>\n",
       "      <td>0.6</td>\n",
       "      <td>0.5</td>\n",
       "      <td>1.1</td>\n",
       "      <td>0.6</td>\n",
       "      <td>0.6</td>\n",
       "      <td>0.1</td>\n",
       "    </tr>\n",
       "  </tbody>\n",
       "</table>\n",
       "</div>"
      ],
      "text/plain": [
       "       longitude  latitude  housing_median_age  total_rooms  total_bedrooms  \\\n",
       "12501          3         4                 1.3         -0.4            -0.3   \n",
       "11215          4         8                -1.4         -0.3            -0.6   \n",
       "5013           9         0                 0.6         -0.4            -0.5   \n",
       "7614           8         0                -0.5          0.7             1.7   \n",
       "12792          2         5                -0.9          0.6             0.5   \n",
       "\n",
       "       population  households  median_income  median_house_value  \n",
       "12501         0.1        -0.2           -0.5                -0.7  \n",
       "11215        -0.6        -0.6           -0.0                -0.2  \n",
       "5013         -0.5        -0.4            0.4                 0.1  \n",
       "7614          0.3         1.7           -0.4                 1.2  \n",
       "12792         1.1         0.6            0.6                 0.1  "
      ]
     },
     "execution_count": 7,
     "metadata": {},
     "output_type": "execute_result"
    }
   ],
   "source": [
    "train_df_norm.head()"
   ]
  },
  {
   "cell_type": "code",
   "execution_count": 8,
   "id": "e066e30b-fa96-4533-aee9-8224c1371953",
   "metadata": {},
   "outputs": [
    {
     "data": {
      "text/plain": [
       "9"
      ]
     },
     "execution_count": 8,
     "metadata": {},
     "output_type": "execute_result"
    }
   ],
   "source": [
    "len(train_df_norm.columns)"
   ]
  },
  {
   "cell_type": "markdown",
   "id": "a5594167-5151-4eaa-ad4d-7ee214535fab",
   "metadata": {},
   "source": [
    "## Build a linear regression model as a baseline\n",
    "\n",
    "Before creating a deep neural net, find a [baseline](https://developers.google.com/machine-learning/glossary/#baseline) loss by running a simple linear regression model that uses the feature layer you just created. \n"
   ]
  },
  {
   "cell_type": "code",
   "execution_count": 9,
   "id": "e3458a08-f50b-4c6b-8dd0-6ad640acc25a",
   "metadata": {},
   "outputs": [
    {
     "data": {
      "text/plain": [
       "Sequential(\n",
       "  (hid): Sequential(\n",
       "    (0): Linear(in_features=4, out_features=1, bias=True)\n",
       "  )\n",
       ")"
      ]
     },
     "execution_count": 9,
     "metadata": {},
     "output_type": "execute_result"
    }
   ],
   "source": [
    "from torch import nn\n",
    "\n",
    "class Sequential(nn.Module):\n",
    "    def __init__(self):\n",
    "        super(Sequential, self).__init__()\n",
    "        self.hid = nn.Sequential(\n",
    "                    nn.Linear(len(feature_columns), 1)                    \n",
    "                )\n",
    "    def forward(self, x):\n",
    "        out = self.hid(x)\n",
    "        return out\n",
    "    \n",
    "Sequential()"
   ]
  },
  {
   "cell_type": "code",
   "execution_count": 10,
   "id": "f1072ca2-9230-4837-bab8-9ff4b6f50a0b",
   "metadata": {},
   "outputs": [],
   "source": [
    "# The following variables are the hyperparameters.\n",
    "learning_rate = 0.01\n",
    "n_epochs = 15\n",
    "batch_size = 1000\n",
    "label_name = \"median_house_value\"\n",
    "\n",
    "\n",
    "# train_df, valid_df = train_test_split(train_df_norm, test_size=0.2)\n",
    "\n",
    "from sklearn.model_selection import train_test_split\n",
    "\n",
    "tfm = transforms.Compose([\n",
    "    transforms.ToTensor(), # range [0, 255] -> [0.0,1.0]\n",
    "])\n",
    "\n",
    "class MyDataset(Dataset):\n",
    " \n",
    "    def __init__(self, df, tfm):\n",
    "       \n",
    "        self.transform = tfm\n",
    "        x=df[feature_columns].values\n",
    "        y=df[[label_name]].values\n",
    "\n",
    "        self.x_train=torch.tensor(x,dtype=torch.float32)\n",
    "        self.y_train=torch.tensor(y,dtype=torch.float32)    \n",
    "           \n",
    "\n",
    "    def __len__(self):\n",
    "        return len(self.y_train)\n",
    "\n",
    "    def __getitem__(self,idx):\n",
    "        return self.x_train[idx],self.y_train[idx]\n",
    "\n",
    "train_ds = MyDataset(train_df_norm, tfm)\n",
    "# valid_ds = MyDataset(valid_df, tfm)\n",
    "test_ds = MyDataset(test_df_norm, tfm)\n",
    "\n",
    "\n",
    "train_loader=DataLoader(train_ds,batch_size=batch_size,shuffle=False)\n",
    "\n",
    "# valid_loader=DataLoader(valid_ds,batch_size=batch_size,shuffle=False)\n",
    "\n",
    "test_loader=DataLoader(test_ds,batch_size=batch_size,shuffle=False)"
   ]
  },
  {
   "cell_type": "code",
   "execution_count": 11,
   "id": "3a582d6c-f5b1-44a5-b207-727235147e84",
   "metadata": {},
   "outputs": [
    {
     "data": {
      "application/vnd.jupyter.widget-view+json": {
       "model_id": "42d07fe000764207b8e9fb90fc848543",
       "version_major": 2,
       "version_minor": 0
      },
      "text/plain": [
       "HBox(children=(FloatProgress(value=0.0, max=17.0), HTML(value='')))"
      ]
     },
     "metadata": {},
     "output_type": "display_data"
    },
    {
     "name": "stdout",
     "output_type": "stream",
     "text": [
      "\n",
      "[ Epoch | 001/015 ]           train_loss = 0.72899 mean_squared_error = 0.72899\n"
     ]
    },
    {
     "data": {
      "application/vnd.jupyter.widget-view+json": {
       "model_id": "32d56a05ee9f40d3953f9b8799fd5f08",
       "version_major": 2,
       "version_minor": 0
      },
      "text/plain": [
       "HBox(children=(FloatProgress(value=0.0, max=17.0), HTML(value='')))"
      ]
     },
     "metadata": {},
     "output_type": "display_data"
    },
    {
     "name": "stdout",
     "output_type": "stream",
     "text": [
      "\n",
      "[ Epoch | 002/015 ]           train_loss = 0.53634 mean_squared_error = 0.53634\n"
     ]
    },
    {
     "data": {
      "application/vnd.jupyter.widget-view+json": {
       "model_id": "ead713a274f94086acac331ab9fd8294",
       "version_major": 2,
       "version_minor": 0
      },
      "text/plain": [
       "HBox(children=(FloatProgress(value=0.0, max=17.0), HTML(value='')))"
      ]
     },
     "metadata": {},
     "output_type": "display_data"
    },
    {
     "name": "stdout",
     "output_type": "stream",
     "text": [
      "\n",
      "[ Epoch | 003/015 ]           train_loss = 0.51682 mean_squared_error = 0.51682\n"
     ]
    },
    {
     "data": {
      "application/vnd.jupyter.widget-view+json": {
       "model_id": "44d575ee892042daa48a958f73b60dcb",
       "version_major": 2,
       "version_minor": 0
      },
      "text/plain": [
       "HBox(children=(FloatProgress(value=0.0, max=17.0), HTML(value='')))"
      ]
     },
     "metadata": {},
     "output_type": "display_data"
    },
    {
     "name": "stdout",
     "output_type": "stream",
     "text": [
      "\n",
      "[ Epoch | 004/015 ]           train_loss = 0.50613 mean_squared_error = 0.50613\n"
     ]
    },
    {
     "data": {
      "application/vnd.jupyter.widget-view+json": {
       "model_id": "06bb0239f828425d8f1da52167cd10e3",
       "version_major": 2,
       "version_minor": 0
      },
      "text/plain": [
       "HBox(children=(FloatProgress(value=0.0, max=17.0), HTML(value='')))"
      ]
     },
     "metadata": {},
     "output_type": "display_data"
    },
    {
     "name": "stdout",
     "output_type": "stream",
     "text": [
      "\n",
      "[ Epoch | 005/015 ]           train_loss = 0.49705 mean_squared_error = 0.49705\n"
     ]
    },
    {
     "data": {
      "application/vnd.jupyter.widget-view+json": {
       "model_id": "73f0aa3779f846f4bfc1967dc865fa04",
       "version_major": 2,
       "version_minor": 0
      },
      "text/plain": [
       "HBox(children=(FloatProgress(value=0.0, max=17.0), HTML(value='')))"
      ]
     },
     "metadata": {},
     "output_type": "display_data"
    },
    {
     "name": "stdout",
     "output_type": "stream",
     "text": [
      "\n",
      "[ Epoch | 006/015 ]           train_loss = 0.48894 mean_squared_error = 0.48894\n"
     ]
    },
    {
     "data": {
      "application/vnd.jupyter.widget-view+json": {
       "model_id": "a9c60ad2c13f4e789278a497411c1c82",
       "version_major": 2,
       "version_minor": 0
      },
      "text/plain": [
       "HBox(children=(FloatProgress(value=0.0, max=17.0), HTML(value='')))"
      ]
     },
     "metadata": {},
     "output_type": "display_data"
    },
    {
     "name": "stdout",
     "output_type": "stream",
     "text": [
      "\n",
      "[ Epoch | 007/015 ]           train_loss = 0.48169 mean_squared_error = 0.48169\n"
     ]
    },
    {
     "data": {
      "application/vnd.jupyter.widget-view+json": {
       "model_id": "545490e522d8436880178c718301b0b3",
       "version_major": 2,
       "version_minor": 0
      },
      "text/plain": [
       "HBox(children=(FloatProgress(value=0.0, max=17.0), HTML(value='')))"
      ]
     },
     "metadata": {},
     "output_type": "display_data"
    },
    {
     "name": "stdout",
     "output_type": "stream",
     "text": [
      "\n",
      "[ Epoch | 008/015 ]           train_loss = 0.47519 mean_squared_error = 0.47519\n"
     ]
    },
    {
     "data": {
      "application/vnd.jupyter.widget-view+json": {
       "model_id": "92da963db3354ae78d6d26e26cd35c70",
       "version_major": 2,
       "version_minor": 0
      },
      "text/plain": [
       "HBox(children=(FloatProgress(value=0.0, max=17.0), HTML(value='')))"
      ]
     },
     "metadata": {},
     "output_type": "display_data"
    },
    {
     "name": "stdout",
     "output_type": "stream",
     "text": [
      "\n",
      "[ Epoch | 009/015 ]           train_loss = 0.46938 mean_squared_error = 0.46938\n"
     ]
    },
    {
     "data": {
      "application/vnd.jupyter.widget-view+json": {
       "model_id": "4470c13b54c04495bcf7f1da913c4056",
       "version_major": 2,
       "version_minor": 0
      },
      "text/plain": [
       "HBox(children=(FloatProgress(value=0.0, max=17.0), HTML(value='')))"
      ]
     },
     "metadata": {},
     "output_type": "display_data"
    },
    {
     "name": "stdout",
     "output_type": "stream",
     "text": [
      "\n",
      "[ Epoch | 010/015 ]           train_loss = 0.46418 mean_squared_error = 0.46418\n"
     ]
    },
    {
     "data": {
      "application/vnd.jupyter.widget-view+json": {
       "model_id": "e9ea53bfdb2e44eaae2e3fb99e096529",
       "version_major": 2,
       "version_minor": 0
      },
      "text/plain": [
       "HBox(children=(FloatProgress(value=0.0, max=17.0), HTML(value='')))"
      ]
     },
     "metadata": {},
     "output_type": "display_data"
    },
    {
     "name": "stdout",
     "output_type": "stream",
     "text": [
      "\n",
      "[ Epoch | 011/015 ]           train_loss = 0.45952 mean_squared_error = 0.45952\n"
     ]
    },
    {
     "data": {
      "application/vnd.jupyter.widget-view+json": {
       "model_id": "ec45152e6f4e429eabd3505a6b857ab7",
       "version_major": 2,
       "version_minor": 0
      },
      "text/plain": [
       "HBox(children=(FloatProgress(value=0.0, max=17.0), HTML(value='')))"
      ]
     },
     "metadata": {},
     "output_type": "display_data"
    },
    {
     "name": "stdout",
     "output_type": "stream",
     "text": [
      "\n",
      "[ Epoch | 012/015 ]           train_loss = 0.45535 mean_squared_error = 0.45535\n"
     ]
    },
    {
     "data": {
      "application/vnd.jupyter.widget-view+json": {
       "model_id": "6b70856970cb481aa7b437fe4f33a27b",
       "version_major": 2,
       "version_minor": 0
      },
      "text/plain": [
       "HBox(children=(FloatProgress(value=0.0, max=17.0), HTML(value='')))"
      ]
     },
     "metadata": {},
     "output_type": "display_data"
    },
    {
     "name": "stdout",
     "output_type": "stream",
     "text": [
      "\n",
      "[ Epoch | 013/015 ]           train_loss = 0.45163 mean_squared_error = 0.45163\n"
     ]
    },
    {
     "data": {
      "application/vnd.jupyter.widget-view+json": {
       "model_id": "9c8bb33e18e44844a12cd8a799cf2193",
       "version_major": 2,
       "version_minor": 0
      },
      "text/plain": [
       "HBox(children=(FloatProgress(value=0.0, max=17.0), HTML(value='')))"
      ]
     },
     "metadata": {},
     "output_type": "display_data"
    },
    {
     "name": "stdout",
     "output_type": "stream",
     "text": [
      "\n",
      "[ Epoch | 014/015 ]           train_loss = 0.44830 mean_squared_error = 0.44830\n"
     ]
    },
    {
     "data": {
      "application/vnd.jupyter.widget-view+json": {
       "model_id": "05d8c816a40848adadf72fbbc3b0b7ad",
       "version_major": 2,
       "version_minor": 0
      },
      "text/plain": [
       "HBox(children=(FloatProgress(value=0.0, max=17.0), HTML(value='')))"
      ]
     },
     "metadata": {},
     "output_type": "display_data"
    },
    {
     "name": "stdout",
     "output_type": "stream",
     "text": [
      "\n",
      "[ Epoch | 015/015 ]           train_loss = 0.44533 mean_squared_error = 0.44533\n",
      "Defined the build_model and train_model functions.\n"
     ]
    }
   ],
   "source": [
    "model = Sequential()\n",
    "\n",
    "optimizer = torch.optim.RMSprop(model.parameters(), lr=learning_rate)\n",
    "# optimizer = torch.optim.RMSprop(model.parameters(), lr=learning_rate, alpha=0.1, eps=1e-08, \n",
    "#                                 weight_decay=0.1, momentum=0.2, centered=False)\n",
    "loss_func = nn.MSELoss()   \n",
    "    \n",
    "    \n",
    "epoch_train_loss = []\n",
    "\n",
    "epoch_valid_loss = []\n",
    "\n",
    "    \n",
    "for epoch in range(n_epochs):\n",
    "    # ---------- Training ----------\n",
    "    # Make sure the model is in train mode before training.\n",
    "    model.train()\n",
    "\n",
    "    # These are used to record information in training.\n",
    "    train_loss = []\n",
    "    train_accs = []    \n",
    "    \n",
    "    # for batch in tqdm(trainloader):\n",
    "    for batch in tqdm(train_loader):\n",
    "        X, y = batch          \n",
    "        # print(X)\n",
    "        y_hat = model(X)\n",
    "        loss = loss_func(y_hat, y) #rmse\n",
    "        optimizer.zero_grad()\n",
    "        loss.backward()\n",
    "        optimizer.step()  \n",
    "        \n",
    "        # Record the loss and accuracy.\n",
    "        train_loss.append(loss.item())\n",
    "        \n",
    "    train_loss = sum(train_loss) / len(train_loss)\n",
    "    \n",
    "    epoch_train_loss.append(train_loss)   \n",
    "  \n",
    "    # Print the information.\n",
    "    print(f\"[ Epoch | {epoch + 1:03d}/{n_epochs:03d} ] \\\n",
    "          train_loss = {train_loss:.5f} mean_squared_error = {train_loss:.5f}\")\n",
    "    \n",
    "print(\"Defined the build_model and train_model functions.\")"
   ]
  },
  {
   "cell_type": "code",
   "execution_count": 12,
   "id": "cea64ee6-bda6-46d4-9c7c-07a0530831ac",
   "metadata": {},
   "outputs": [
    {
     "data": {
      "application/vnd.jupyter.widget-view+json": {
       "model_id": "b258c9989956443c952172df56aa7c6d",
       "version_major": 2,
       "version_minor": 0
      },
      "text/plain": [
       "HBox(children=(FloatProgress(value=0.0, max=3.0), HTML(value='')))"
      ]
     },
     "metadata": {},
     "output_type": "display_data"
    },
    {
     "name": "stdout",
     "output_type": "stream",
     "text": [
      "\n",
      "test_loss = 0.46419 mean_squared_error = 0.46419\n"
     ]
    }
   ],
   "source": [
    "model.eval()\n",
    "\n",
    "# These are used to record information in validation.\n",
    "test_loss = []\n",
    "\n",
    "for batch in tqdm(test_loader):\n",
    "    X, y = batch          \n",
    "    # print(X)\n",
    "    y_hat = model(X)\n",
    "    loss = loss_func(y_hat, y) #rmse\n",
    "    \n",
    "    # Record the loss and accuracy.\n",
    "    test_loss.append(loss.item())\n",
    "    \n",
    "    \n",
    " # The average loss and accuracy for entire validation set is the average of the recorded values.\n",
    "test_loss = sum(test_loss) / len(test_loss)\n",
    "\n",
    "# Print the information.\n",
    "print(f\"test_loss = {test_loss:.5f} mean_squared_error = {test_loss:.5f}\")    "
   ]
  },
  {
   "cell_type": "markdown",
   "id": "d2ff4342-b669-4bb4-93cb-d1e2b318da24",
   "metadata": {},
   "source": [
    "## Define a deep neural net model\n",
    "\n",
    "The `create_model` function defines the topography of the deep neural net, specifying the following:\n",
    "\n",
    "* The number of [layers](https://developers.google.com/machine-learning/glossary/#layer) in the deep neural net.\n",
    "* The number of [nodes](https://developers.google.com/machine-learning/glossary/#node) in each layer.\n",
    "\n",
    "The `create_model` function also defines the [activation function](https://developers.google.com/machine-learning/glossary/#activation_function) of each layer."
   ]
  },
  {
   "cell_type": "code",
   "execution_count": 13,
   "id": "ede5633b-23c6-4770-98d7-2492ac0f54e5",
   "metadata": {},
   "outputs": [
    {
     "data": {
      "text/plain": [
       "Sequential(\n",
       "  (hid): Sequential(\n",
       "    (0): Linear(in_features=4, out_features=20, bias=True)\n",
       "    (1): Linear(in_features=20, out_features=12, bias=True)\n",
       "    (2): Linear(in_features=12, out_features=1, bias=True)\n",
       "  )\n",
       ")"
      ]
     },
     "execution_count": 13,
     "metadata": {},
     "output_type": "execute_result"
    }
   ],
   "source": [
    "from torch import nn\n",
    "\n",
    "class Sequential(nn.Module):\n",
    "    def __init__(self):\n",
    "        super(Sequential, self).__init__()\n",
    "        self.hid = nn.Sequential(\n",
    "                    nn.Linear(len(feature_columns), 20) ,                   \n",
    "                    nn.Linear(20, 12),\n",
    "                    nn.Linear(12, 1),\n",
    "                )\n",
    "    def forward(self, x):\n",
    "        out = self.hid(x)\n",
    "        return out\n",
    "    \n",
    "Sequential()"
   ]
  },
  {
   "cell_type": "markdown",
   "id": "9bd467f8-69ac-4070-96c5-c6768a40c9a7",
   "metadata": {},
   "source": [
    "## Define a training function\n",
    "\n",
    "The `train_model` function trains the model from the input features and labels. The [tf.keras.Model.fit](https://www.tensorflow.org/api_docs/python/tf/keras/Sequential#fit) method performs the actual training. The `x` parameter of the `fit` method is very flexible, enabling you to pass feature data in a variety of ways. The following implementation passes a Python dictionary in which:\n",
    "\n",
    "* The *keys* are the names of each feature (for example, `longitude`, `latitude`, and so on).\n",
    "* The *value* of each key is a NumPy array containing the values of that feature. \n",
    "\n",
    "**Note:** Although you are passing *every* feature to `model.fit`, most of those values will be ignored. Only the features accessed by `my_feature_layer` will actually be used to train the model."
   ]
  },
  {
   "cell_type": "code",
   "execution_count": 14,
   "id": "b456e5a6-7b44-42c7-95b2-cb7cebe49e7f",
   "metadata": {},
   "outputs": [],
   "source": [
    "# The following variables are the hyperparameters.\n",
    "learning_rate = 0.01\n",
    "n_epochs = 20\n",
    "batch_size = 1000"
   ]
  },
  {
   "cell_type": "code",
   "execution_count": 15,
   "id": "231dce73-6159-48d6-aa86-beb27675c2d3",
   "metadata": {},
   "outputs": [
    {
     "data": {
      "application/vnd.jupyter.widget-view+json": {
       "model_id": "9ae1fbf8a9374f53b60732db0dd1d0f7",
       "version_major": 2,
       "version_minor": 0
      },
      "text/plain": [
       "HBox(children=(FloatProgress(value=0.0, max=17.0), HTML(value='')))"
      ]
     },
     "metadata": {},
     "output_type": "display_data"
    },
    {
     "name": "stdout",
     "output_type": "stream",
     "text": [
      "\n",
      "[ Epoch | 001/020 ]           train_loss = 3.80684 mean_squared_error = 3.80684\n"
     ]
    },
    {
     "data": {
      "application/vnd.jupyter.widget-view+json": {
       "model_id": "f5c604f928bb45d9ba73ff780e66728d",
       "version_major": 2,
       "version_minor": 0
      },
      "text/plain": [
       "HBox(children=(FloatProgress(value=0.0, max=17.0), HTML(value='')))"
      ]
     },
     "metadata": {},
     "output_type": "display_data"
    },
    {
     "name": "stdout",
     "output_type": "stream",
     "text": [
      "\n",
      "[ Epoch | 002/020 ]           train_loss = 0.51735 mean_squared_error = 0.51735\n"
     ]
    },
    {
     "data": {
      "application/vnd.jupyter.widget-view+json": {
       "model_id": "66ad0d4112964119a0b6119ab25f1151",
       "version_major": 2,
       "version_minor": 0
      },
      "text/plain": [
       "HBox(children=(FloatProgress(value=0.0, max=17.0), HTML(value='')))"
      ]
     },
     "metadata": {},
     "output_type": "display_data"
    },
    {
     "name": "stdout",
     "output_type": "stream",
     "text": [
      "\n",
      "[ Epoch | 003/020 ]           train_loss = 0.51010 mean_squared_error = 0.51010\n"
     ]
    },
    {
     "data": {
      "application/vnd.jupyter.widget-view+json": {
       "model_id": "306b6084e3a9469ea8a663ee8710a2b4",
       "version_major": 2,
       "version_minor": 0
      },
      "text/plain": [
       "HBox(children=(FloatProgress(value=0.0, max=17.0), HTML(value='')))"
      ]
     },
     "metadata": {},
     "output_type": "display_data"
    },
    {
     "name": "stdout",
     "output_type": "stream",
     "text": [
      "\n",
      "[ Epoch | 004/020 ]           train_loss = 0.50457 mean_squared_error = 0.50457\n"
     ]
    },
    {
     "data": {
      "application/vnd.jupyter.widget-view+json": {
       "model_id": "9764d932ce044a4da15c7246993f157e",
       "version_major": 2,
       "version_minor": 0
      },
      "text/plain": [
       "HBox(children=(FloatProgress(value=0.0, max=17.0), HTML(value='')))"
      ]
     },
     "metadata": {},
     "output_type": "display_data"
    },
    {
     "name": "stdout",
     "output_type": "stream",
     "text": [
      "\n",
      "[ Epoch | 005/020 ]           train_loss = 0.49868 mean_squared_error = 0.49868\n"
     ]
    },
    {
     "data": {
      "application/vnd.jupyter.widget-view+json": {
       "model_id": "1f35375566ec4edc89a88fa3f5f21297",
       "version_major": 2,
       "version_minor": 0
      },
      "text/plain": [
       "HBox(children=(FloatProgress(value=0.0, max=17.0), HTML(value='')))"
      ]
     },
     "metadata": {},
     "output_type": "display_data"
    },
    {
     "name": "stdout",
     "output_type": "stream",
     "text": [
      "\n",
      "[ Epoch | 006/020 ]           train_loss = 0.49243 mean_squared_error = 0.49243\n"
     ]
    },
    {
     "data": {
      "application/vnd.jupyter.widget-view+json": {
       "model_id": "492851d88c4e4979a1fd33ff46a5dd8a",
       "version_major": 2,
       "version_minor": 0
      },
      "text/plain": [
       "HBox(children=(FloatProgress(value=0.0, max=17.0), HTML(value='')))"
      ]
     },
     "metadata": {},
     "output_type": "display_data"
    },
    {
     "name": "stdout",
     "output_type": "stream",
     "text": [
      "\n",
      "[ Epoch | 007/020 ]           train_loss = 0.48583 mean_squared_error = 0.48583\n"
     ]
    },
    {
     "data": {
      "application/vnd.jupyter.widget-view+json": {
       "model_id": "a41cf566ea6e4f769e9974222c81bda3",
       "version_major": 2,
       "version_minor": 0
      },
      "text/plain": [
       "HBox(children=(FloatProgress(value=0.0, max=17.0), HTML(value='')))"
      ]
     },
     "metadata": {},
     "output_type": "display_data"
    },
    {
     "name": "stdout",
     "output_type": "stream",
     "text": [
      "\n",
      "[ Epoch | 008/020 ]           train_loss = 0.47901 mean_squared_error = 0.47901\n"
     ]
    },
    {
     "data": {
      "application/vnd.jupyter.widget-view+json": {
       "model_id": "dfa544c7213c4905aea1d33ad39e1f7e",
       "version_major": 2,
       "version_minor": 0
      },
      "text/plain": [
       "HBox(children=(FloatProgress(value=0.0, max=17.0), HTML(value='')))"
      ]
     },
     "metadata": {},
     "output_type": "display_data"
    },
    {
     "name": "stdout",
     "output_type": "stream",
     "text": [
      "\n",
      "[ Epoch | 009/020 ]           train_loss = 0.47264 mean_squared_error = 0.47264\n"
     ]
    },
    {
     "data": {
      "application/vnd.jupyter.widget-view+json": {
       "model_id": "5f90f0dc887846e39d530f02da23dff7",
       "version_major": 2,
       "version_minor": 0
      },
      "text/plain": [
       "HBox(children=(FloatProgress(value=0.0, max=17.0), HTML(value='')))"
      ]
     },
     "metadata": {},
     "output_type": "display_data"
    },
    {
     "name": "stdout",
     "output_type": "stream",
     "text": [
      "\n",
      "[ Epoch | 010/020 ]           train_loss = 0.46907 mean_squared_error = 0.46907\n"
     ]
    },
    {
     "data": {
      "application/vnd.jupyter.widget-view+json": {
       "model_id": "69314bb6fc3c4284832102356fe943df",
       "version_major": 2,
       "version_minor": 0
      },
      "text/plain": [
       "HBox(children=(FloatProgress(value=0.0, max=17.0), HTML(value='')))"
      ]
     },
     "metadata": {},
     "output_type": "display_data"
    },
    {
     "name": "stdout",
     "output_type": "stream",
     "text": [
      "\n",
      "[ Epoch | 011/020 ]           train_loss = 0.46705 mean_squared_error = 0.46705\n"
     ]
    },
    {
     "data": {
      "application/vnd.jupyter.widget-view+json": {
       "model_id": "dad06c8a401d47a6b97aa24a75f34ebe",
       "version_major": 2,
       "version_minor": 0
      },
      "text/plain": [
       "HBox(children=(FloatProgress(value=0.0, max=17.0), HTML(value='')))"
      ]
     },
     "metadata": {},
     "output_type": "display_data"
    },
    {
     "name": "stdout",
     "output_type": "stream",
     "text": [
      "\n",
      "[ Epoch | 012/020 ]           train_loss = 0.46426 mean_squared_error = 0.46426\n"
     ]
    },
    {
     "data": {
      "application/vnd.jupyter.widget-view+json": {
       "model_id": "72c2fb5d76344eab9a50a3f5ecc451f9",
       "version_major": 2,
       "version_minor": 0
      },
      "text/plain": [
       "HBox(children=(FloatProgress(value=0.0, max=17.0), HTML(value='')))"
      ]
     },
     "metadata": {},
     "output_type": "display_data"
    },
    {
     "name": "stdout",
     "output_type": "stream",
     "text": [
      "\n",
      "[ Epoch | 013/020 ]           train_loss = 0.46293 mean_squared_error = 0.46293\n"
     ]
    },
    {
     "data": {
      "application/vnd.jupyter.widget-view+json": {
       "model_id": "6d278902b9944e91bb12ff3c7ef44d6d",
       "version_major": 2,
       "version_minor": 0
      },
      "text/plain": [
       "HBox(children=(FloatProgress(value=0.0, max=17.0), HTML(value='')))"
      ]
     },
     "metadata": {},
     "output_type": "display_data"
    },
    {
     "name": "stdout",
     "output_type": "stream",
     "text": [
      "\n",
      "[ Epoch | 014/020 ]           train_loss = 0.46031 mean_squared_error = 0.46031\n"
     ]
    },
    {
     "data": {
      "application/vnd.jupyter.widget-view+json": {
       "model_id": "c560c904584b4f0bb4cc9da773fbf121",
       "version_major": 2,
       "version_minor": 0
      },
      "text/plain": [
       "HBox(children=(FloatProgress(value=0.0, max=17.0), HTML(value='')))"
      ]
     },
     "metadata": {},
     "output_type": "display_data"
    },
    {
     "name": "stdout",
     "output_type": "stream",
     "text": [
      "\n",
      "[ Epoch | 015/020 ]           train_loss = 0.45799 mean_squared_error = 0.45799\n"
     ]
    },
    {
     "data": {
      "application/vnd.jupyter.widget-view+json": {
       "model_id": "d60edd21f02440669dc431993e00a498",
       "version_major": 2,
       "version_minor": 0
      },
      "text/plain": [
       "HBox(children=(FloatProgress(value=0.0, max=17.0), HTML(value='')))"
      ]
     },
     "metadata": {},
     "output_type": "display_data"
    },
    {
     "name": "stdout",
     "output_type": "stream",
     "text": [
      "\n",
      "[ Epoch | 016/020 ]           train_loss = 0.45532 mean_squared_error = 0.45532\n"
     ]
    },
    {
     "data": {
      "application/vnd.jupyter.widget-view+json": {
       "model_id": "b14b5853f2454402b0bab2b8ba53f5e6",
       "version_major": 2,
       "version_minor": 0
      },
      "text/plain": [
       "HBox(children=(FloatProgress(value=0.0, max=17.0), HTML(value='')))"
      ]
     },
     "metadata": {},
     "output_type": "display_data"
    },
    {
     "name": "stdout",
     "output_type": "stream",
     "text": [
      "\n",
      "[ Epoch | 017/020 ]           train_loss = 0.45323 mean_squared_error = 0.45323\n"
     ]
    },
    {
     "data": {
      "application/vnd.jupyter.widget-view+json": {
       "model_id": "554f16c6592a4396838c25529f444cb8",
       "version_major": 2,
       "version_minor": 0
      },
      "text/plain": [
       "HBox(children=(FloatProgress(value=0.0, max=17.0), HTML(value='')))"
      ]
     },
     "metadata": {},
     "output_type": "display_data"
    },
    {
     "name": "stdout",
     "output_type": "stream",
     "text": [
      "\n",
      "[ Epoch | 018/020 ]           train_loss = 0.45114 mean_squared_error = 0.45114\n"
     ]
    },
    {
     "data": {
      "application/vnd.jupyter.widget-view+json": {
       "model_id": "4efe7abc81fa4a09ba4c8ca7d4525388",
       "version_major": 2,
       "version_minor": 0
      },
      "text/plain": [
       "HBox(children=(FloatProgress(value=0.0, max=17.0), HTML(value='')))"
      ]
     },
     "metadata": {},
     "output_type": "display_data"
    },
    {
     "name": "stdout",
     "output_type": "stream",
     "text": [
      "\n",
      "[ Epoch | 019/020 ]           train_loss = 0.44945 mean_squared_error = 0.44945\n"
     ]
    },
    {
     "data": {
      "application/vnd.jupyter.widget-view+json": {
       "model_id": "a5d2f7b78b19494295538b0c51e1d6eb",
       "version_major": 2,
       "version_minor": 0
      },
      "text/plain": [
       "HBox(children=(FloatProgress(value=0.0, max=17.0), HTML(value='')))"
      ]
     },
     "metadata": {},
     "output_type": "display_data"
    },
    {
     "name": "stdout",
     "output_type": "stream",
     "text": [
      "\n",
      "[ Epoch | 020/020 ]           train_loss = 0.44784 mean_squared_error = 0.44784\n",
      "Defined the build_model and train_model functions.\n"
     ]
    },
    {
     "data": {
      "image/png": "[encoded data removed]",
      "text/plain": [
       "<Figure size 432x288 with 1 Axes>"
      ]
     },
     "metadata": {
      "needs_background": "light"
     },
     "output_type": "display_data"
    }
   ],
   "source": [
    "model = Sequential()\n",
    "\n",
    "optimizer = torch.optim.RMSprop(model.parameters(), lr=learning_rate)\n",
    "# optimizer = torch.optim.RMSprop(model.parameters(), lr=learning_rate, alpha=0.1, eps=1e-08, \n",
    "#                                 weight_decay=0.1, momentum=0.2, centered=False)\n",
    "loss_func = nn.MSELoss()   \n",
    "    \n",
    "    \n",
    "epoch_train_loss = []\n",
    "\n",
    "epoch_valid_loss = []\n",
    "\n",
    "    \n",
    "for epoch in range(n_epochs):\n",
    "    # ---------- Training ----------\n",
    "    # Make sure the model is in train mode before training.\n",
    "    model.train()\n",
    "\n",
    "    # These are used to record information in training.\n",
    "    train_loss = []\n",
    "    train_accs = []    \n",
    "    \n",
    "    # for batch in tqdm(trainloader):\n",
    "    for batch in tqdm(train_loader):\n",
    "        X, y = batch          \n",
    "        # print(X)\n",
    "        y_hat = model(X)\n",
    "        loss = loss_func(y_hat, y) #rmse\n",
    "        optimizer.zero_grad()\n",
    "        loss.backward()\n",
    "        optimizer.step()  \n",
    "        \n",
    "        # Record the loss and accuracy.\n",
    "        train_loss.append(loss.item())\n",
    "        \n",
    "    train_loss = sum(train_loss) / len(train_loss)\n",
    "    \n",
    "    epoch_train_loss.append(train_loss)   \n",
    "  \n",
    "    # Print the information.\n",
    "    print(f\"[ Epoch | {epoch + 1:03d}/{n_epochs:03d} ] \\\n",
    "          train_loss = {train_loss:.5f} mean_squared_error = {train_loss:.5f}\")\n",
    "    \n",
    "print(\"Defined the build_model and train_model functions.\")\n",
    "\n",
    "\n",
    "\n",
    "import matplotlib.pyplot as plt\n",
    "\n",
    "# Loss curve\n",
    "plt.plot(epoch_train_loss)\n",
    "plt.title('Loss')\n",
    "plt.legend(['train'])\n",
    "plt.savefig('loss.png')\n",
    "plt.show()"
   ]
  },
  {
   "cell_type": "code",
   "execution_count": 16,
   "id": "2b598f8e-ab28-4363-a1fa-6377d5090f7c",
   "metadata": {},
   "outputs": [
    {
     "data": {
      "application/vnd.jupyter.widget-view+json": {
       "model_id": "acf57af9a8d44cdeb5a664acbee0345f",
       "version_major": 2,
       "version_minor": 0
      },
      "text/plain": [
       "HBox(children=(FloatProgress(value=0.0, max=3.0), HTML(value='')))"
      ]
     },
     "metadata": {},
     "output_type": "display_data"
    },
    {
     "name": "stdout",
     "output_type": "stream",
     "text": [
      "\n",
      "test_loss = 0.45607 mean_squared_error = 0.45607\n"
     ]
    }
   ],
   "source": [
    "model.eval()\n",
    "\n",
    "# These are used to record information in validation.\n",
    "test_loss = []\n",
    "\n",
    "for batch in tqdm(test_loader):\n",
    "    X, y = batch          \n",
    "    # print(X)\n",
    "    y_hat = model(X)\n",
    "    loss = loss_func(y_hat, y) #rmse\n",
    "    \n",
    "    # Record the loss and accuracy.\n",
    "    test_loss.append(loss.item())\n",
    "    \n",
    "    \n",
    " # The average loss and accuracy for entire validation set is the average of the recorded values.\n",
    "test_loss = sum(test_loss) / len(test_loss)\n",
    "\n",
    "# Print the information.\n",
    "print(f\"test_loss = {test_loss:.5f} mean_squared_error = {test_loss:.5f}\")    "
   ]
  },
  {
   "cell_type": "markdown",
   "id": "5e1cb868-e1ef-4331-9a8a-5eb5eaf3520a",
   "metadata": {},
   "source": [
    "## Task 3: Regularize the deep neural network (if you have enough time)\n",
    "\n",
    "Notice that the model's loss against the test set is *much higher* than the loss against the training set.  In other words, the deep neural network is [overfitting](https://developers.google.com/machine-learning/glossary/#overfitting) to the data in the training set.  To reduce overfitting, regularize the model.  The course has suggested several different ways to regularize a model, including:\n",
    "\n",
    "  * [L1 regularization](https://developers.google.com/machine-learning/glossary/#L1_regularization)\n",
    "  * [L2 regularization](https://developers.google.com/machine-learning/glossary/#L2_regularization)\n",
    "  * [Dropout regularization](https://developers.google.com/machine-learning/glossary/#dropout_regularization)\n",
    "\n",
    "Your task is to experiment with one or more regularization mechanisms to bring the test loss closer to the training loss (while still keeping test loss relatively low).  \n",
    "\n",
    "**Note:** When you add a regularization function to a model, you might need to tweak other hyperparameters. \n",
    "\n",
    "### Implementing L1 or L2 regularization\n",
    "\n",
    "To use L1 or L2 regularization on a hidden layer, specify the `kernel_regularizer` argument to [tf.keras.layers.Dense](https://www.tensorflow.org/api_docs/python/tf/keras/layers/Dense). Assign one of the following methods to this argument:\n",
    "\n",
    "* `tf.keras.regularizers.l1` for L1 regularization\n",
    "* `tf.keras.regularizers.l2` for L2 regularization\n",
    "\n",
    "Each of the preceding methods takes an `l` parameter, which adjusts the [regularization rate](https://developers.google.com/machine-learning/glossary/#regularization_rate). Assign a decimal value between 0 and 1.0 to `l`; the higher the decimal, the greater the regularization. For example, the following applies L2 regularization at a strength of 0.01. \n",
    "\n",
    "```\n",
    "model.add(tf.keras.layers.Dense(units=20, \n",
    "                                activation='relu',\n",
    "                                kernel_regularizer=tf.keras.regularizers.l2(l=0.01),\n",
    "                                name='Hidden1'))\n",
    "```\n",
    "\n"
   ]
  },
  {
   "cell_type": "code",
   "execution_count": 17,
   "id": "f5069d58-6c3b-415b-9f16-61d3a72a02c0",
   "metadata": {},
   "outputs": [],
   "source": [
    "# https://pyquestions.com/adding-l1-l2-regularization-in-pytorch\n",
    "# https://github.com/szymonmaszke/torchlayers/blob/master/torchlayers/regularization.py\n",
    "\n",
    "class L1(torch.nn.Module):\n",
    "    def __init__(self, module, weight_decay):\n",
    "        super().__init__()\n",
    "        self.module = module\n",
    "        self.weight_decay = weight_decay\n",
    "\n",
    "        # Backward hook is registered on the specified module\n",
    "        self.hook = self.module.register_full_backward_hook(self._weight_decay_hook)\n",
    "\n",
    "    # Not dependent on backprop incoming values, placeholder\n",
    "    def _weight_decay_hook(self, *_):\n",
    "        for param in self.module.parameters():\n",
    "            # If there is no gradient or it was zeroed out\n",
    "            # Zeroed out using optimizer.zero_grad() usually\n",
    "            # Turn on if needed with grad accumulation/more safer way\n",
    "            # if param.grad is None or torch.all(param.grad == 0.0):\n",
    "\n",
    "            # Apply regularization on it\n",
    "            param.grad = self.regularize(param)\n",
    "\n",
    "    def regularize(self, parameter):\n",
    "        # L1 regularization formula\n",
    "        return self.weight_decay * torch.sign(parameter.data)\n",
    "\n",
    "    def forward(self, *args, **kwargs):\n",
    "        # Simply forward and args and kwargs to module\n",
    "        return self.module(*args, **kwargs)\n",
    "    \n",
    "class L2(torch.nn.Module):\n",
    "    def __init__(self, module, weight_decay):\n",
    "        super().__init__()\n",
    "        self.module = module\n",
    "        self.weight_decay = weight_decay\n",
    "\n",
    "        # Backward hook is registered on the specified module\n",
    "        self.hook = self.module.register_full_backward_hook(self._weight_decay_hook)\n",
    "\n",
    "    # Not dependent on backprop incoming values, placeholder\n",
    "    def _weight_decay_hook(self, *_):\n",
    "        for param in self.module.parameters():\n",
    "            # If there is no gradient or it was zeroed out\n",
    "            # Zeroed out using optimizer.zero_grad() usually\n",
    "            # Turn on if needed with grad accumulation/more safer way\n",
    "            # if param.grad is None or torch.all(param.grad == 0.0):\n",
    "\n",
    "            # Apply regularization on it\n",
    "            param.grad = self.regularize(param)\n",
    "\n",
    "    def regularize(self, parameter):\n",
    "        # L2 regularization formula\n",
    "        return self.weight_decay * parameter.data\n",
    "\n",
    "    def forward(self, *args, **kwargs):\n",
    "        # Simply forward and args and kwargs to module\n",
    "        return self.module(*args, **kwargs)    "
   ]
  },
  {
   "cell_type": "markdown",
   "id": "d55e8e2b-2447-4ad9-89e7-6017519aafcd",
   "metadata": {},
   "source": [
    "### Implementing Dropout regularization\n",
    "\n",
    "You implement dropout regularization as a separate layer in the topography. For example, the following code demonstrates how to add a dropout regularization layer between the first hidden layer and the second hidden layer:\n",
    "\n",
    "```\n",
    "model.add(tf.keras.layers.Dense( *define first hidden layer*)\n",
    " \n",
    "model.add(tf.keras.layers.Dropout(rate=0.25))\n",
    "\n",
    "model.add(tf.keras.layers.Dense( *define second hidden layer*)\n",
    "```\n",
    "\n",
    "The `rate` parameter to [tf.keras.layers.Dropout](https://www.tensorflow.org/api_docs/python/tf/keras/layers/Dropout) specifies the fraction of nodes that the model should drop out during training. \n"
   ]
  },
  {
   "cell_type": "code",
   "execution_count": 18,
   "id": "5d8cb03e-4671-42c7-9b0b-cb5385dd57f0",
   "metadata": {},
   "outputs": [],
   "source": [
    "learning_rate = 0.007\n",
    "n_epochs = 140\n",
    "batch_size = 1000"
   ]
  },
  {
   "cell_type": "code",
   "execution_count": 19,
   "id": "529150aa-9903-42cc-8116-b4761bbdeb81",
   "metadata": {},
   "outputs": [
    {
     "data": {
      "text/plain": [
       "Sequential(\n",
       "  (hid): Sequential(\n",
       "    (0): L2(\n",
       "      (module): Linear(in_features=4, out_features=20, bias=True)\n",
       "    )\n",
       "    (1): Dropout(p=0.25, inplace=False)\n",
       "    (2): Linear(in_features=20, out_features=12, bias=True)\n",
       "    (3): Linear(in_features=12, out_features=1, bias=True)\n",
       "  )\n",
       ")"
      ]
     },
     "execution_count": 19,
     "metadata": {},
     "output_type": "execute_result"
    }
   ],
   "source": [
    "from torch import nn\n",
    "\n",
    "class Sequential(nn.Module):\n",
    "    def __init__(self):\n",
    "        super(Sequential, self).__init__()\n",
    "        self.hid = nn.Sequential(\n",
    "                    L2(nn.Linear(len(feature_columns), 20), weight_decay=0.01) ,   \n",
    "                    nn.Dropout(0.25),\n",
    "                    nn.Linear(20, 12),\n",
    "                    nn.Linear(12, 1),\n",
    "                )\n",
    "    def forward(self, x):\n",
    "        out = self.hid(x)\n",
    "        return out\n",
    "    \n",
    "Sequential()"
   ]
  },
  {
   "cell_type": "code",
   "execution_count": 20,
   "id": "8e5b5c63-24cd-4933-aa13-30a4986cc9ad",
   "metadata": {},
   "outputs": [
    {
     "data": {
      "application/vnd.jupyter.widget-view+json": {
       "model_id": "3e2a0ad3c14d4a998ef7f4027805930f",
       "version_major": 2,
       "version_minor": 0
      },
      "text/plain": [
       "HBox(children=(FloatProgress(value=0.0, max=17.0), HTML(value='')))"
      ]
     },
     "metadata": {},
     "output_type": "display_data"
    },
    {
     "name": "stdout",
     "output_type": "stream",
     "text": [
      "\n",
      "[ Epoch | 001/140 ]           train_loss = 1.38329 mean_squared_error = 1.38329\n"
     ]
    },
    {
     "data": {
      "application/vnd.jupyter.widget-view+json": {
       "model_id": "21714d918e3440a4ae98680b63097ae4",
       "version_major": 2,
       "version_minor": 0
      },
      "text/plain": [
       "HBox(children=(FloatProgress(value=0.0, max=17.0), HTML(value='')))"
      ]
     },
     "metadata": {},
     "output_type": "display_data"
    },
    {
     "name": "stdout",
     "output_type": "stream",
     "text": [
      "\n",
      "[ Epoch | 002/140 ]           train_loss = 0.82657 mean_squared_error = 0.82657\n"
     ]
    },
    {
     "data": {
      "application/vnd.jupyter.widget-view+json": {
       "model_id": "cf2f39e1b88245e0844494b4a77ab028",
       "version_major": 2,
       "version_minor": 0
      },
      "text/plain": [
       "HBox(children=(FloatProgress(value=0.0, max=17.0), HTML(value='')))"
      ]
     },
     "metadata": {},
     "output_type": "display_data"
    },
    {
     "name": "stdout",
     "output_type": "stream",
     "text": [
      "\n",
      "[ Epoch | 003/140 ]           train_loss = 0.65015 mean_squared_error = 0.65015\n"
     ]
    },
    {
     "data": {
      "application/vnd.jupyter.widget-view+json": {
       "model_id": "9ffd228dc61347e0b358ae06578a0ac1",
       "version_major": 2,
       "version_minor": 0
      },
      "text/plain": [
       "HBox(children=(FloatProgress(value=0.0, max=17.0), HTML(value='')))"
      ]
     },
     "metadata": {},
     "output_type": "display_data"
    },
    {
     "name": "stdout",
     "output_type": "stream",
     "text": [
      "\n",
      "[ Epoch | 004/140 ]           train_loss = 0.57588 mean_squared_error = 0.57588\n"
     ]
    },
    {
     "data": {
      "application/vnd.jupyter.widget-view+json": {
       "model_id": "3cd790fbdfba4d09ad5c777896f2c63d",
       "version_major": 2,
       "version_minor": 0
      },
      "text/plain": [
       "HBox(children=(FloatProgress(value=0.0, max=17.0), HTML(value='')))"
      ]
     },
     "metadata": {},
     "output_type": "display_data"
    },
    {
     "name": "stdout",
     "output_type": "stream",
     "text": [
      "\n",
      "[ Epoch | 005/140 ]           train_loss = 0.54896 mean_squared_error = 0.54896\n"
     ]
    },
    {
     "data": {
      "application/vnd.jupyter.widget-view+json": {
       "model_id": "6f572ed0d5ef4357b9c254009ce4c4f8",
       "version_major": 2,
       "version_minor": 0
      },
      "text/plain": [
       "HBox(children=(FloatProgress(value=0.0, max=17.0), HTML(value='')))"
      ]
     },
     "metadata": {},
     "output_type": "display_data"
    },
    {
     "name": "stdout",
     "output_type": "stream",
     "text": [
      "\n",
      "[ Epoch | 006/140 ]           train_loss = 0.52984 mean_squared_error = 0.52984\n"
     ]
    },
    {
     "data": {
      "application/vnd.jupyter.widget-view+json": {
       "model_id": "2fede3a8efe647c0baacfa98acf9dbde",
       "version_major": 2,
       "version_minor": 0
      },
      "text/plain": [
       "HBox(children=(FloatProgress(value=0.0, max=17.0), HTML(value='')))"
      ]
     },
     "metadata": {},
     "output_type": "display_data"
    },
    {
     "name": "stdout",
     "output_type": "stream",
     "text": [
      "\n",
      "[ Epoch | 007/140 ]           train_loss = 0.50746 mean_squared_error = 0.50746\n"
     ]
    },
    {
     "data": {
      "application/vnd.jupyter.widget-view+json": {
       "model_id": "c43d3100cebf4c748284c4f6d8e6cd3f",
       "version_major": 2,
       "version_minor": 0
      },
      "text/plain": [
       "HBox(children=(FloatProgress(value=0.0, max=17.0), HTML(value='')))"
      ]
     },
     "metadata": {},
     "output_type": "display_data"
    },
    {
     "name": "stdout",
     "output_type": "stream",
     "text": [
      "\n",
      "[ Epoch | 008/140 ]           train_loss = 0.49416 mean_squared_error = 0.49416\n"
     ]
    },
    {
     "data": {
      "application/vnd.jupyter.widget-view+json": {
       "model_id": "9adae65f3d054c8ba6b513d6e5abcf81",
       "version_major": 2,
       "version_minor": 0
      },
      "text/plain": [
       "HBox(children=(FloatProgress(value=0.0, max=17.0), HTML(value='')))"
      ]
     },
     "metadata": {},
     "output_type": "display_data"
    },
    {
     "name": "stdout",
     "output_type": "stream",
     "text": [
      "\n",
      "[ Epoch | 009/140 ]           train_loss = 0.47809 mean_squared_error = 0.47809\n"
     ]
    },
    {
     "data": {
      "application/vnd.jupyter.widget-view+json": {
       "model_id": "672cf73dd2124fb0b7f518ec674ba02c",
       "version_major": 2,
       "version_minor": 0
      },
      "text/plain": [
       "HBox(children=(FloatProgress(value=0.0, max=17.0), HTML(value='')))"
      ]
     },
     "metadata": {},
     "output_type": "display_data"
    },
    {
     "name": "stdout",
     "output_type": "stream",
     "text": [
      "\n",
      "[ Epoch | 010/140 ]           train_loss = 0.47138 mean_squared_error = 0.47138\n"
     ]
    },
    {
     "data": {
      "application/vnd.jupyter.widget-view+json": {
       "model_id": "ad89d14542524a97850478b034937857",
       "version_major": 2,
       "version_minor": 0
      },
      "text/plain": [
       "HBox(children=(FloatProgress(value=0.0, max=17.0), HTML(value='')))"
      ]
     },
     "metadata": {},
     "output_type": "display_data"
    },
    {
     "name": "stdout",
     "output_type": "stream",
     "text": [
      "\n",
      "[ Epoch | 011/140 ]           train_loss = 0.46094 mean_squared_error = 0.46094\n"
     ]
    },
    {
     "data": {
      "application/vnd.jupyter.widget-view+json": {
       "model_id": "fd951b5f65b54f6fb28f3a572970dd57",
       "version_major": 2,
       "version_minor": 0
      },
      "text/plain": [
       "HBox(children=(FloatProgress(value=0.0, max=17.0), HTML(value='')))"
      ]
     },
     "metadata": {},
     "output_type": "display_data"
    },
    {
     "name": "stdout",
     "output_type": "stream",
     "text": [
      "\n",
      "[ Epoch | 012/140 ]           train_loss = 0.45330 mean_squared_error = 0.45330\n"
     ]
    },
    {
     "data": {
      "application/vnd.jupyter.widget-view+json": {
       "model_id": "5477da2a20734cd2b7f6a5cc9c490c60",
       "version_major": 2,
       "version_minor": 0
      },
      "text/plain": [
       "HBox(children=(FloatProgress(value=0.0, max=17.0), HTML(value='')))"
      ]
     },
     "metadata": {},
     "output_type": "display_data"
    },
    {
     "name": "stdout",
     "output_type": "stream",
     "text": [
      "\n",
      "[ Epoch | 013/140 ]           train_loss = 0.45235 mean_squared_error = 0.45235\n"
     ]
    },
    {
     "data": {
      "application/vnd.jupyter.widget-view+json": {
       "model_id": "fab8457140ee4842a7c1710f1d637672",
       "version_major": 2,
       "version_minor": 0
      },
      "text/plain": [
       "HBox(children=(FloatProgress(value=0.0, max=17.0), HTML(value='')))"
      ]
     },
     "metadata": {},
     "output_type": "display_data"
    },
    {
     "name": "stdout",
     "output_type": "stream",
     "text": [
      "\n",
      "[ Epoch | 014/140 ]           train_loss = 0.45007 mean_squared_error = 0.45007\n"
     ]
    },
    {
     "data": {
      "application/vnd.jupyter.widget-view+json": {
       "model_id": "4c5d85cb46134c22ae4f2a223b362055",
       "version_major": 2,
       "version_minor": 0
      },
      "text/plain": [
       "HBox(children=(FloatProgress(value=0.0, max=17.0), HTML(value='')))"
      ]
     },
     "metadata": {},
     "output_type": "display_data"
    },
    {
     "name": "stdout",
     "output_type": "stream",
     "text": [
      "\n",
      "[ Epoch | 015/140 ]           train_loss = 0.44972 mean_squared_error = 0.44972\n"
     ]
    },
    {
     "data": {
      "application/vnd.jupyter.widget-view+json": {
       "model_id": "9b5ea3bab7d645599d393ee775b5158a",
       "version_major": 2,
       "version_minor": 0
      },
      "text/plain": [
       "HBox(children=(FloatProgress(value=0.0, max=17.0), HTML(value='')))"
      ]
     },
     "metadata": {},
     "output_type": "display_data"
    },
    {
     "name": "stdout",
     "output_type": "stream",
     "text": [
      "\n",
      "[ Epoch | 016/140 ]           train_loss = 0.44908 mean_squared_error = 0.44908\n"
     ]
    },
    {
     "data": {
      "application/vnd.jupyter.widget-view+json": {
       "model_id": "6f8862afd8974077be1b01e791eb7f69",
       "version_major": 2,
       "version_minor": 0
      },
      "text/plain": [
       "HBox(children=(FloatProgress(value=0.0, max=17.0), HTML(value='')))"
      ]
     },
     "metadata": {},
     "output_type": "display_data"
    },
    {
     "name": "stdout",
     "output_type": "stream",
     "text": [
      "\n",
      "[ Epoch | 017/140 ]           train_loss = 0.44642 mean_squared_error = 0.44642\n"
     ]
    },
    {
     "data": {
      "application/vnd.jupyter.widget-view+json": {
       "model_id": "0cd0ef3fcd634dc897f3993402c04d0f",
       "version_major": 2,
       "version_minor": 0
      },
      "text/plain": [
       "HBox(children=(FloatProgress(value=0.0, max=17.0), HTML(value='')))"
      ]
     },
     "metadata": {},
     "output_type": "display_data"
    },
    {
     "name": "stdout",
     "output_type": "stream",
     "text": [
      "\n",
      "[ Epoch | 018/140 ]           train_loss = 0.44319 mean_squared_error = 0.44319\n"
     ]
    },
    {
     "data": {
      "application/vnd.jupyter.widget-view+json": {
       "model_id": "8c6f23f0b0a443b188630a5c30fac06e",
       "version_major": 2,
       "version_minor": 0
      },
      "text/plain": [
       "HBox(children=(FloatProgress(value=0.0, max=17.0), HTML(value='')))"
      ]
     },
     "metadata": {},
     "output_type": "display_data"
    },
    {
     "name": "stdout",
     "output_type": "stream",
     "text": [
      "\n",
      "[ Epoch | 019/140 ]           train_loss = 0.44115 mean_squared_error = 0.44115\n"
     ]
    },
    {
     "data": {
      "application/vnd.jupyter.widget-view+json": {
       "model_id": "38b96438885f4b2eba49a4d08f6af11f",
       "version_major": 2,
       "version_minor": 0
      },
      "text/plain": [
       "HBox(children=(FloatProgress(value=0.0, max=17.0), HTML(value='')))"
      ]
     },
     "metadata": {},
     "output_type": "display_data"
    },
    {
     "name": "stdout",
     "output_type": "stream",
     "text": [
      "\n",
      "[ Epoch | 020/140 ]           train_loss = 0.44335 mean_squared_error = 0.44335\n"
     ]
    },
    {
     "data": {
      "application/vnd.jupyter.widget-view+json": {
       "model_id": "eb0083ff257047ff834bcbed814ef6cc",
       "version_major": 2,
       "version_minor": 0
      },
      "text/plain": [
       "HBox(children=(FloatProgress(value=0.0, max=17.0), HTML(value='')))"
      ]
     },
     "metadata": {},
     "output_type": "display_data"
    },
    {
     "name": "stdout",
     "output_type": "stream",
     "text": [
      "\n",
      "[ Epoch | 021/140 ]           train_loss = 0.44436 mean_squared_error = 0.44436\n"
     ]
    },
    {
     "data": {
      "application/vnd.jupyter.widget-view+json": {
       "model_id": "e870fcb0d9ce4cbfae1b1a7142a3663b",
       "version_major": 2,
       "version_minor": 0
      },
      "text/plain": [
       "HBox(children=(FloatProgress(value=0.0, max=17.0), HTML(value='')))"
      ]
     },
     "metadata": {},
     "output_type": "display_data"
    },
    {
     "name": "stdout",
     "output_type": "stream",
     "text": [
      "\n",
      "[ Epoch | 022/140 ]           train_loss = 0.44371 mean_squared_error = 0.44371\n"
     ]
    },
    {
     "data": {
      "application/vnd.jupyter.widget-view+json": {
       "model_id": "470ceaee7466415894a99b65f26fbecb",
       "version_major": 2,
       "version_minor": 0
      },
      "text/plain": [
       "HBox(children=(FloatProgress(value=0.0, max=17.0), HTML(value='')))"
      ]
     },
     "metadata": {},
     "output_type": "display_data"
    },
    {
     "name": "stdout",
     "output_type": "stream",
     "text": [
      "\n",
      "[ Epoch | 023/140 ]           train_loss = 0.44172 mean_squared_error = 0.44172\n"
     ]
    },
    {
     "data": {
      "application/vnd.jupyter.widget-view+json": {
       "model_id": "7c7d99137f42436eab66d01b6df9be3e",
       "version_major": 2,
       "version_minor": 0
      },
      "text/plain": [
       "HBox(children=(FloatProgress(value=0.0, max=17.0), HTML(value='')))"
      ]
     },
     "metadata": {},
     "output_type": "display_data"
    },
    {
     "name": "stdout",
     "output_type": "stream",
     "text": [
      "\n",
      "[ Epoch | 024/140 ]           train_loss = 0.44304 mean_squared_error = 0.44304\n"
     ]
    },
    {
     "data": {
      "application/vnd.jupyter.widget-view+json": {
       "model_id": "b121ff945f9e473691193ca098e6fc0e",
       "version_major": 2,
       "version_minor": 0
      },
      "text/plain": [
       "HBox(children=(FloatProgress(value=0.0, max=17.0), HTML(value='')))"
      ]
     },
     "metadata": {},
     "output_type": "display_data"
    },
    {
     "name": "stdout",
     "output_type": "stream",
     "text": [
      "\n",
      "[ Epoch | 025/140 ]           train_loss = 0.44213 mean_squared_error = 0.44213\n"
     ]
    },
    {
     "data": {
      "application/vnd.jupyter.widget-view+json": {
       "model_id": "d6eb0a1c4ce64aaeb6bd156e334aadca",
       "version_major": 2,
       "version_minor": 0
      },
      "text/plain": [
       "HBox(children=(FloatProgress(value=0.0, max=17.0), HTML(value='')))"
      ]
     },
     "metadata": {},
     "output_type": "display_data"
    },
    {
     "name": "stdout",
     "output_type": "stream",
     "text": [
      "\n",
      "[ Epoch | 026/140 ]           train_loss = 0.44116 mean_squared_error = 0.44116\n"
     ]
    },
    {
     "data": {
      "application/vnd.jupyter.widget-view+json": {
       "model_id": "d1e3be695fde4100b028124c8b6aa824",
       "version_major": 2,
       "version_minor": 0
      },
      "text/plain": [
       "HBox(children=(FloatProgress(value=0.0, max=17.0), HTML(value='')))"
      ]
     },
     "metadata": {},
     "output_type": "display_data"
    },
    {
     "name": "stdout",
     "output_type": "stream",
     "text": [
      "\n",
      "[ Epoch | 027/140 ]           train_loss = 0.44306 mean_squared_error = 0.44306\n"
     ]
    },
    {
     "data": {
      "application/vnd.jupyter.widget-view+json": {
       "model_id": "0c3234599b384e39a8064ca61d66a575",
       "version_major": 2,
       "version_minor": 0
      },
      "text/plain": [
       "HBox(children=(FloatProgress(value=0.0, max=17.0), HTML(value='')))"
      ]
     },
     "metadata": {},
     "output_type": "display_data"
    },
    {
     "name": "stdout",
     "output_type": "stream",
     "text": [
      "\n",
      "[ Epoch | 028/140 ]           train_loss = 0.44093 mean_squared_error = 0.44093\n"
     ]
    },
    {
     "data": {
      "application/vnd.jupyter.widget-view+json": {
       "model_id": "b9106b5f0cfb409498c2aac64986b8d2",
       "version_major": 2,
       "version_minor": 0
      },
      "text/plain": [
       "HBox(children=(FloatProgress(value=0.0, max=17.0), HTML(value='')))"
      ]
     },
     "metadata": {},
     "output_type": "display_data"
    },
    {
     "name": "stdout",
     "output_type": "stream",
     "text": [
      "\n",
      "[ Epoch | 029/140 ]           train_loss = 0.43945 mean_squared_error = 0.43945\n"
     ]
    },
    {
     "data": {
      "application/vnd.jupyter.widget-view+json": {
       "model_id": "f0dfa79ae6a749dc95acf14f49f747db",
       "version_major": 2,
       "version_minor": 0
      },
      "text/plain": [
       "HBox(children=(FloatProgress(value=0.0, max=17.0), HTML(value='')))"
      ]
     },
     "metadata": {},
     "output_type": "display_data"
    },
    {
     "name": "stdout",
     "output_type": "stream",
     "text": [
      "\n",
      "[ Epoch | 030/140 ]           train_loss = 0.44034 mean_squared_error = 0.44034\n"
     ]
    },
    {
     "data": {
      "application/vnd.jupyter.widget-view+json": {
       "model_id": "f8303ce5e0d54988adab08edb2016fdf",
       "version_major": 2,
       "version_minor": 0
      },
      "text/plain": [
       "HBox(children=(FloatProgress(value=0.0, max=17.0), HTML(value='')))"
      ]
     },
     "metadata": {},
     "output_type": "display_data"
    },
    {
     "name": "stdout",
     "output_type": "stream",
     "text": [
      "\n",
      "[ Epoch | 031/140 ]           train_loss = 0.43896 mean_squared_error = 0.43896\n"
     ]
    },
    {
     "data": {
      "application/vnd.jupyter.widget-view+json": {
       "model_id": "722179830dd44abebc15c8877764f419",
       "version_major": 2,
       "version_minor": 0
      },
      "text/plain": [
       "HBox(children=(FloatProgress(value=0.0, max=17.0), HTML(value='')))"
      ]
     },
     "metadata": {},
     "output_type": "display_data"
    },
    {
     "name": "stdout",
     "output_type": "stream",
     "text": [
      "\n",
      "[ Epoch | 032/140 ]           train_loss = 0.44420 mean_squared_error = 0.44420\n"
     ]
    },
    {
     "data": {
      "application/vnd.jupyter.widget-view+json": {
       "model_id": "6d74d59e2ba641bda2c191b9a9fe261b",
       "version_major": 2,
       "version_minor": 0
      },
      "text/plain": [
       "HBox(children=(FloatProgress(value=0.0, max=17.0), HTML(value='')))"
      ]
     },
     "metadata": {},
     "output_type": "display_data"
    },
    {
     "name": "stdout",
     "output_type": "stream",
     "text": [
      "\n",
      "[ Epoch | 033/140 ]           train_loss = 0.43996 mean_squared_error = 0.43996\n"
     ]
    },
    {
     "data": {
      "application/vnd.jupyter.widget-view+json": {
       "model_id": "2787ee08d0974b1b8c0f50989b1744e7",
       "version_major": 2,
       "version_minor": 0
      },
      "text/plain": [
       "HBox(children=(FloatProgress(value=0.0, max=17.0), HTML(value='')))"
      ]
     },
     "metadata": {},
     "output_type": "display_data"
    },
    {
     "name": "stdout",
     "output_type": "stream",
     "text": [
      "\n",
      "[ Epoch | 034/140 ]           train_loss = 0.44076 mean_squared_error = 0.44076\n"
     ]
    },
    {
     "data": {
      "application/vnd.jupyter.widget-view+json": {
       "model_id": "71cbccaab1f543d38e7996958b44fbc3",
       "version_major": 2,
       "version_minor": 0
      },
      "text/plain": [
       "HBox(children=(FloatProgress(value=0.0, max=17.0), HTML(value='')))"
      ]
     },
     "metadata": {},
     "output_type": "display_data"
    },
    {
     "name": "stdout",
     "output_type": "stream",
     "text": [
      "\n",
      "[ Epoch | 035/140 ]           train_loss = 0.43794 mean_squared_error = 0.43794\n"
     ]
    },
    {
     "data": {
      "application/vnd.jupyter.widget-view+json": {
       "model_id": "a4dd5b8267254161b86cf9b154333e44",
       "version_major": 2,
       "version_minor": 0
      },
      "text/plain": [
       "HBox(children=(FloatProgress(value=0.0, max=17.0), HTML(value='')))"
      ]
     },
     "metadata": {},
     "output_type": "display_data"
    },
    {
     "name": "stdout",
     "output_type": "stream",
     "text": [
      "\n",
      "[ Epoch | 036/140 ]           train_loss = 0.43930 mean_squared_error = 0.43930\n"
     ]
    },
    {
     "data": {
      "application/vnd.jupyter.widget-view+json": {
       "model_id": "a6270035266340a8b50144b5dfef7dc0",
       "version_major": 2,
       "version_minor": 0
      },
      "text/plain": [
       "HBox(children=(FloatProgress(value=0.0, max=17.0), HTML(value='')))"
      ]
     },
     "metadata": {},
     "output_type": "display_data"
    },
    {
     "name": "stdout",
     "output_type": "stream",
     "text": [
      "\n",
      "[ Epoch | 037/140 ]           train_loss = 0.43615 mean_squared_error = 0.43615\n"
     ]
    },
    {
     "data": {
      "application/vnd.jupyter.widget-view+json": {
       "model_id": "b0efa038126041c2a6763611eb39f6ea",
       "version_major": 2,
       "version_minor": 0
      },
      "text/plain": [
       "HBox(children=(FloatProgress(value=0.0, max=17.0), HTML(value='')))"
      ]
     },
     "metadata": {},
     "output_type": "display_data"
    },
    {
     "name": "stdout",
     "output_type": "stream",
     "text": [
      "\n",
      "[ Epoch | 038/140 ]           train_loss = 0.43913 mean_squared_error = 0.43913\n"
     ]
    },
    {
     "data": {
      "application/vnd.jupyter.widget-view+json": {
       "model_id": "3ad14dd51f65402ea79d789beb6d0299",
       "version_major": 2,
       "version_minor": 0
      },
      "text/plain": [
       "HBox(children=(FloatProgress(value=0.0, max=17.0), HTML(value='')))"
      ]
     },
     "metadata": {},
     "output_type": "display_data"
    },
    {
     "name": "stdout",
     "output_type": "stream",
     "text": [
      "\n",
      "[ Epoch | 039/140 ]           train_loss = 0.43960 mean_squared_error = 0.43960\n"
     ]
    },
    {
     "data": {
      "application/vnd.jupyter.widget-view+json": {
       "model_id": "126429f0b62c48bfb64dc200d7e44d38",
       "version_major": 2,
       "version_minor": 0
      },
      "text/plain": [
       "HBox(children=(FloatProgress(value=0.0, max=17.0), HTML(value='')))"
      ]
     },
     "metadata": {},
     "output_type": "display_data"
    },
    {
     "name": "stdout",
     "output_type": "stream",
     "text": [
      "\n",
      "[ Epoch | 040/140 ]           train_loss = 0.43603 mean_squared_error = 0.43603\n"
     ]
    },
    {
     "data": {
      "application/vnd.jupyter.widget-view+json": {
       "model_id": "c8cc0eeb6abe4ffda3baf8bb6e8a17d1",
       "version_major": 2,
       "version_minor": 0
      },
      "text/plain": [
       "HBox(children=(FloatProgress(value=0.0, max=17.0), HTML(value='')))"
      ]
     },
     "metadata": {},
     "output_type": "display_data"
    },
    {
     "name": "stdout",
     "output_type": "stream",
     "text": [
      "\n",
      "[ Epoch | 041/140 ]           train_loss = 0.43698 mean_squared_error = 0.43698\n"
     ]
    },
    {
     "data": {
      "application/vnd.jupyter.widget-view+json": {
       "model_id": "ed5dfb3137d3460b9996a89085268e65",
       "version_major": 2,
       "version_minor": 0
      },
      "text/plain": [
       "HBox(children=(FloatProgress(value=0.0, max=17.0), HTML(value='')))"
      ]
     },
     "metadata": {},
     "output_type": "display_data"
    },
    {
     "name": "stdout",
     "output_type": "stream",
     "text": [
      "\n",
      "[ Epoch | 042/140 ]           train_loss = 0.43877 mean_squared_error = 0.43877\n"
     ]
    },
    {
     "data": {
      "application/vnd.jupyter.widget-view+json": {
       "model_id": "6a7462ec90ef47d38ae87f74b4ecb44f",
       "version_major": 2,
       "version_minor": 0
      },
      "text/plain": [
       "HBox(children=(FloatProgress(value=0.0, max=17.0), HTML(value='')))"
      ]
     },
     "metadata": {},
     "output_type": "display_data"
    },
    {
     "name": "stdout",
     "output_type": "stream",
     "text": [
      "\n",
      "[ Epoch | 043/140 ]           train_loss = 0.44127 mean_squared_error = 0.44127\n"
     ]
    },
    {
     "data": {
      "application/vnd.jupyter.widget-view+json": {
       "model_id": "f7214a3a4a254e03b22827b6593dc01e",
       "version_major": 2,
       "version_minor": 0
      },
      "text/plain": [
       "HBox(children=(FloatProgress(value=0.0, max=17.0), HTML(value='')))"
      ]
     },
     "metadata": {},
     "output_type": "display_data"
    },
    {
     "name": "stdout",
     "output_type": "stream",
     "text": [
      "\n",
      "[ Epoch | 044/140 ]           train_loss = 0.43733 mean_squared_error = 0.43733\n"
     ]
    },
    {
     "data": {
      "application/vnd.jupyter.widget-view+json": {
       "model_id": "9fecd7cb5b2b4fb3a5bb8cb6d30ef534",
       "version_major": 2,
       "version_minor": 0
      },
      "text/plain": [
       "HBox(children=(FloatProgress(value=0.0, max=17.0), HTML(value='')))"
      ]
     },
     "metadata": {},
     "output_type": "display_data"
    },
    {
     "name": "stdout",
     "output_type": "stream",
     "text": [
      "\n",
      "[ Epoch | 045/140 ]           train_loss = 0.43649 mean_squared_error = 0.43649\n"
     ]
    },
    {
     "data": {
      "application/vnd.jupyter.widget-view+json": {
       "model_id": "93b3ea74b2ae48468d458879ae8b51f0",
       "version_major": 2,
       "version_minor": 0
      },
      "text/plain": [
       "HBox(children=(FloatProgress(value=0.0, max=17.0), HTML(value='')))"
      ]
     },
     "metadata": {},
     "output_type": "display_data"
    },
    {
     "name": "stdout",
     "output_type": "stream",
     "text": [
      "\n",
      "[ Epoch | 046/140 ]           train_loss = 0.43707 mean_squared_error = 0.43707\n"
     ]
    },
    {
     "data": {
      "application/vnd.jupyter.widget-view+json": {
       "model_id": "cceaf12b199f45b890c4befdfc37e76a",
       "version_major": 2,
       "version_minor": 0
      },
      "text/plain": [
       "HBox(children=(FloatProgress(value=0.0, max=17.0), HTML(value='')))"
      ]
     },
     "metadata": {},
     "output_type": "display_data"
    },
    {
     "name": "stdout",
     "output_type": "stream",
     "text": [
      "\n",
      "[ Epoch | 047/140 ]           train_loss = 0.43730 mean_squared_error = 0.43730\n"
     ]
    },
    {
     "data": {
      "application/vnd.jupyter.widget-view+json": {
       "model_id": "b43fd9536563404ab20d243bbb9a905a",
       "version_major": 2,
       "version_minor": 0
      },
      "text/plain": [
       "HBox(children=(FloatProgress(value=0.0, max=17.0), HTML(value='')))"
      ]
     },
     "metadata": {},
     "output_type": "display_data"
    },
    {
     "name": "stdout",
     "output_type": "stream",
     "text": [
      "\n",
      "[ Epoch | 048/140 ]           train_loss = 0.43857 mean_squared_error = 0.43857\n"
     ]
    },
    {
     "data": {
      "application/vnd.jupyter.widget-view+json": {
       "model_id": "4d0d8f0380b143a28526527fe624eed2",
       "version_major": 2,
       "version_minor": 0
      },
      "text/plain": [
       "HBox(children=(FloatProgress(value=0.0, max=17.0), HTML(value='')))"
      ]
     },
     "metadata": {},
     "output_type": "display_data"
    },
    {
     "name": "stdout",
     "output_type": "stream",
     "text": [
      "\n",
      "[ Epoch | 049/140 ]           train_loss = 0.43760 mean_squared_error = 0.43760\n"
     ]
    },
    {
     "data": {
      "application/vnd.jupyter.widget-view+json": {
       "model_id": "6cd0c275c2d74145aafc31ddf92adb82",
       "version_major": 2,
       "version_minor": 0
      },
      "text/plain": [
       "HBox(children=(FloatProgress(value=0.0, max=17.0), HTML(value='')))"
      ]
     },
     "metadata": {},
     "output_type": "display_data"
    },
    {
     "name": "stdout",
     "output_type": "stream",
     "text": [
      "\n",
      "[ Epoch | 050/140 ]           train_loss = 0.43975 mean_squared_error = 0.43975\n"
     ]
    },
    {
     "data": {
      "application/vnd.jupyter.widget-view+json": {
       "model_id": "11836a7cb7974b629e718155efb7cc91",
       "version_major": 2,
       "version_minor": 0
      },
      "text/plain": [
       "HBox(children=(FloatProgress(value=0.0, max=17.0), HTML(value='')))"
      ]
     },
     "metadata": {},
     "output_type": "display_data"
    },
    {
     "name": "stdout",
     "output_type": "stream",
     "text": [
      "\n",
      "[ Epoch | 051/140 ]           train_loss = 0.43686 mean_squared_error = 0.43686\n"
     ]
    },
    {
     "data": {
      "application/vnd.jupyter.widget-view+json": {
       "model_id": "797aeca52c324b4e9e4caf7f1df3a8bf",
       "version_major": 2,
       "version_minor": 0
      },
      "text/plain": [
       "HBox(children=(FloatProgress(value=0.0, max=17.0), HTML(value='')))"
      ]
     },
     "metadata": {},
     "output_type": "display_data"
    },
    {
     "name": "stdout",
     "output_type": "stream",
     "text": [
      "\n",
      "[ Epoch | 052/140 ]           train_loss = 0.43941 mean_squared_error = 0.43941\n"
     ]
    },
    {
     "data": {
      "application/vnd.jupyter.widget-view+json": {
       "model_id": "a3be5aaba0a64aeeac7c59edab168071",
       "version_major": 2,
       "version_minor": 0
      },
      "text/plain": [
       "HBox(children=(FloatProgress(value=0.0, max=17.0), HTML(value='')))"
      ]
     },
     "metadata": {},
     "output_type": "display_data"
    },
    {
     "name": "stdout",
     "output_type": "stream",
     "text": [
      "\n",
      "[ Epoch | 053/140 ]           train_loss = 0.43551 mean_squared_error = 0.43551\n"
     ]
    },
    {
     "data": {
      "application/vnd.jupyter.widget-view+json": {
       "model_id": "3812b233b217404e9e253cb3a3b36164",
       "version_major": 2,
       "version_minor": 0
      },
      "text/plain": [
       "HBox(children=(FloatProgress(value=0.0, max=17.0), HTML(value='')))"
      ]
     },
     "metadata": {},
     "output_type": "display_data"
    },
    {
     "name": "stdout",
     "output_type": "stream",
     "text": [
      "\n",
      "[ Epoch | 054/140 ]           train_loss = 0.43507 mean_squared_error = 0.43507\n"
     ]
    },
    {
     "data": {
      "application/vnd.jupyter.widget-view+json": {
       "model_id": "698734b730184bce9081133d46dc64b3",
       "version_major": 2,
       "version_minor": 0
      },
      "text/plain": [
       "HBox(children=(FloatProgress(value=0.0, max=17.0), HTML(value='')))"
      ]
     },
     "metadata": {},
     "output_type": "display_data"
    },
    {
     "name": "stdout",
     "output_type": "stream",
     "text": [
      "\n",
      "[ Epoch | 055/140 ]           train_loss = 0.43637 mean_squared_error = 0.43637\n"
     ]
    },
    {
     "data": {
      "application/vnd.jupyter.widget-view+json": {
       "model_id": "f8d2ce27fa3549db942cad8ea45f635a",
       "version_major": 2,
       "version_minor": 0
      },
      "text/plain": [
       "HBox(children=(FloatProgress(value=0.0, max=17.0), HTML(value='')))"
      ]
     },
     "metadata": {},
     "output_type": "display_data"
    },
    {
     "name": "stdout",
     "output_type": "stream",
     "text": [
      "\n",
      "[ Epoch | 056/140 ]           train_loss = 0.43558 mean_squared_error = 0.43558\n"
     ]
    },
    {
     "data": {
      "application/vnd.jupyter.widget-view+json": {
       "model_id": "bf735d0b7ca14b88b8b0e41dbc1a965f",
       "version_major": 2,
       "version_minor": 0
      },
      "text/plain": [
       "HBox(children=(FloatProgress(value=0.0, max=17.0), HTML(value='')))"
      ]
     },
     "metadata": {},
     "output_type": "display_data"
    },
    {
     "name": "stdout",
     "output_type": "stream",
     "text": [
      "\n",
      "[ Epoch | 057/140 ]           train_loss = 0.43740 mean_squared_error = 0.43740\n"
     ]
    },
    {
     "data": {
      "application/vnd.jupyter.widget-view+json": {
       "model_id": "76168c907bf944a8a52f61613a11b7e8",
       "version_major": 2,
       "version_minor": 0
      },
      "text/plain": [
       "HBox(children=(FloatProgress(value=0.0, max=17.0), HTML(value='')))"
      ]
     },
     "metadata": {},
     "output_type": "display_data"
    },
    {
     "name": "stdout",
     "output_type": "stream",
     "text": [
      "\n",
      "[ Epoch | 058/140 ]           train_loss = 0.43615 mean_squared_error = 0.43615\n"
     ]
    },
    {
     "data": {
      "application/vnd.jupyter.widget-view+json": {
       "model_id": "d9e6885bb4aa4f8d89777780bbe3da2f",
       "version_major": 2,
       "version_minor": 0
      },
      "text/plain": [
       "HBox(children=(FloatProgress(value=0.0, max=17.0), HTML(value='')))"
      ]
     },
     "metadata": {},
     "output_type": "display_data"
    },
    {
     "name": "stdout",
     "output_type": "stream",
     "text": [
      "\n",
      "[ Epoch | 059/140 ]           train_loss = 0.43884 mean_squared_error = 0.43884\n"
     ]
    },
    {
     "data": {
      "application/vnd.jupyter.widget-view+json": {
       "model_id": "5a9326dc58de4ccc94129143f6695a46",
       "version_major": 2,
       "version_minor": 0
      },
      "text/plain": [
       "HBox(children=(FloatProgress(value=0.0, max=17.0), HTML(value='')))"
      ]
     },
     "metadata": {},
     "output_type": "display_data"
    },
    {
     "name": "stdout",
     "output_type": "stream",
     "text": [
      "\n",
      "[ Epoch | 060/140 ]           train_loss = 0.43796 mean_squared_error = 0.43796\n"
     ]
    },
    {
     "data": {
      "application/vnd.jupyter.widget-view+json": {
       "model_id": "8144ca80246d4701818c0ce27c0b14e2",
       "version_major": 2,
       "version_minor": 0
      },
      "text/plain": [
       "HBox(children=(FloatProgress(value=0.0, max=17.0), HTML(value='')))"
      ]
     },
     "metadata": {},
     "output_type": "display_data"
    },
    {
     "name": "stdout",
     "output_type": "stream",
     "text": [
      "\n",
      "[ Epoch | 061/140 ]           train_loss = 0.43603 mean_squared_error = 0.43603\n"
     ]
    },
    {
     "data": {
      "application/vnd.jupyter.widget-view+json": {
       "model_id": "7b21546bd87c4f2cb04494270cde0a1c",
       "version_major": 2,
       "version_minor": 0
      },
      "text/plain": [
       "HBox(children=(FloatProgress(value=0.0, max=17.0), HTML(value='')))"
      ]
     },
     "metadata": {},
     "output_type": "display_data"
    },
    {
     "name": "stdout",
     "output_type": "stream",
     "text": [
      "\n",
      "[ Epoch | 062/140 ]           train_loss = 0.43576 mean_squared_error = 0.43576\n"
     ]
    },
    {
     "data": {
      "application/vnd.jupyter.widget-view+json": {
       "model_id": "ea3992dadd12477abd0a43d2acb1bdc8",
       "version_major": 2,
       "version_minor": 0
      },
      "text/plain": [
       "HBox(children=(FloatProgress(value=0.0, max=17.0), HTML(value='')))"
      ]
     },
     "metadata": {},
     "output_type": "display_data"
    },
    {
     "name": "stdout",
     "output_type": "stream",
     "text": [
      "\n",
      "[ Epoch | 063/140 ]           train_loss = 0.43587 mean_squared_error = 0.43587\n"
     ]
    },
    {
     "data": {
      "application/vnd.jupyter.widget-view+json": {
       "model_id": "d54841edd8c4427fb844bb599e8b2de0",
       "version_major": 2,
       "version_minor": 0
      },
      "text/plain": [
       "HBox(children=(FloatProgress(value=0.0, max=17.0), HTML(value='')))"
      ]
     },
     "metadata": {},
     "output_type": "display_data"
    },
    {
     "name": "stdout",
     "output_type": "stream",
     "text": [
      "\n",
      "[ Epoch | 064/140 ]           train_loss = 0.43587 mean_squared_error = 0.43587\n"
     ]
    },
    {
     "data": {
      "application/vnd.jupyter.widget-view+json": {
       "model_id": "33713f60fba14c74b757b8f47a70749b",
       "version_major": 2,
       "version_minor": 0
      },
      "text/plain": [
       "HBox(children=(FloatProgress(value=0.0, max=17.0), HTML(value='')))"
      ]
     },
     "metadata": {},
     "output_type": "display_data"
    },
    {
     "name": "stdout",
     "output_type": "stream",
     "text": [
      "\n",
      "[ Epoch | 065/140 ]           train_loss = 0.43610 mean_squared_error = 0.43610\n"
     ]
    },
    {
     "data": {
      "application/vnd.jupyter.widget-view+json": {
       "model_id": "8913f178f77048338dbf4f7694bcb1a9",
       "version_major": 2,
       "version_minor": 0
      },
      "text/plain": [
       "HBox(children=(FloatProgress(value=0.0, max=17.0), HTML(value='')))"
      ]
     },
     "metadata": {},
     "output_type": "display_data"
    },
    {
     "name": "stdout",
     "output_type": "stream",
     "text": [
      "\n",
      "[ Epoch | 066/140 ]           train_loss = 0.43492 mean_squared_error = 0.43492\n"
     ]
    },
    {
     "data": {
      "application/vnd.jupyter.widget-view+json": {
       "model_id": "6d431cca287e44058d408a44a0411a81",
       "version_major": 2,
       "version_minor": 0
      },
      "text/plain": [
       "HBox(children=(FloatProgress(value=0.0, max=17.0), HTML(value='')))"
      ]
     },
     "metadata": {},
     "output_type": "display_data"
    },
    {
     "name": "stdout",
     "output_type": "stream",
     "text": [
      "\n",
      "[ Epoch | 067/140 ]           train_loss = 0.43791 mean_squared_error = 0.43791\n"
     ]
    },
    {
     "data": {
      "application/vnd.jupyter.widget-view+json": {
       "model_id": "3379c5f8f76a46bca41d9f1f197fc898",
       "version_major": 2,
       "version_minor": 0
      },
      "text/plain": [
       "HBox(children=(FloatProgress(value=0.0, max=17.0), HTML(value='')))"
      ]
     },
     "metadata": {},
     "output_type": "display_data"
    },
    {
     "name": "stdout",
     "output_type": "stream",
     "text": [
      "\n",
      "[ Epoch | 068/140 ]           train_loss = 0.43741 mean_squared_error = 0.43741\n"
     ]
    },
    {
     "data": {
      "application/vnd.jupyter.widget-view+json": {
       "model_id": "d24c6f69f3bd44f7a73723dbbaae17f7",
       "version_major": 2,
       "version_minor": 0
      },
      "text/plain": [
       "HBox(children=(FloatProgress(value=0.0, max=17.0), HTML(value='')))"
      ]
     },
     "metadata": {},
     "output_type": "display_data"
    },
    {
     "name": "stdout",
     "output_type": "stream",
     "text": [
      "\n",
      "[ Epoch | 069/140 ]           train_loss = 0.43418 mean_squared_error = 0.43418\n"
     ]
    },
    {
     "data": {
      "application/vnd.jupyter.widget-view+json": {
       "model_id": "f8bbf2799ff349c1805f09c5449c66ad",
       "version_major": 2,
       "version_minor": 0
      },
      "text/plain": [
       "HBox(children=(FloatProgress(value=0.0, max=17.0), HTML(value='')))"
      ]
     },
     "metadata": {},
     "output_type": "display_data"
    },
    {
     "name": "stdout",
     "output_type": "stream",
     "text": [
      "\n",
      "[ Epoch | 070/140 ]           train_loss = 0.43553 mean_squared_error = 0.43553\n"
     ]
    },
    {
     "data": {
      "application/vnd.jupyter.widget-view+json": {
       "model_id": "c46a8a3464b6471193b5ee87ef40d39e",
       "version_major": 2,
       "version_minor": 0
      },
      "text/plain": [
       "HBox(children=(FloatProgress(value=0.0, max=17.0), HTML(value='')))"
      ]
     },
     "metadata": {},
     "output_type": "display_data"
    },
    {
     "name": "stdout",
     "output_type": "stream",
     "text": [
      "\n",
      "[ Epoch | 071/140 ]           train_loss = 0.43704 mean_squared_error = 0.43704\n"
     ]
    },
    {
     "data": {
      "application/vnd.jupyter.widget-view+json": {
       "model_id": "f94a512eed384ec2a1ac3e5ac10c9f96",
       "version_major": 2,
       "version_minor": 0
      },
      "text/plain": [
       "HBox(children=(FloatProgress(value=0.0, max=17.0), HTML(value='')))"
      ]
     },
     "metadata": {},
     "output_type": "display_data"
    },
    {
     "name": "stdout",
     "output_type": "stream",
     "text": [
      "\n",
      "[ Epoch | 072/140 ]           train_loss = 0.43369 mean_squared_error = 0.43369\n"
     ]
    },
    {
     "data": {
      "application/vnd.jupyter.widget-view+json": {
       "model_id": "12c0d4a3a1be4d0985bf74f0984a0032",
       "version_major": 2,
       "version_minor": 0
      },
      "text/plain": [
       "HBox(children=(FloatProgress(value=0.0, max=17.0), HTML(value='')))"
      ]
     },
     "metadata": {},
     "output_type": "display_data"
    },
    {
     "name": "stdout",
     "output_type": "stream",
     "text": [
      "\n",
      "[ Epoch | 073/140 ]           train_loss = 0.43458 mean_squared_error = 0.43458\n"
     ]
    },
    {
     "data": {
      "application/vnd.jupyter.widget-view+json": {
       "model_id": "7411b79d5205456ca5f888b3487ba2ae",
       "version_major": 2,
       "version_minor": 0
      },
      "text/plain": [
       "HBox(children=(FloatProgress(value=0.0, max=17.0), HTML(value='')))"
      ]
     },
     "metadata": {},
     "output_type": "display_data"
    },
    {
     "name": "stdout",
     "output_type": "stream",
     "text": [
      "\n",
      "[ Epoch | 074/140 ]           train_loss = 0.43734 mean_squared_error = 0.43734\n"
     ]
    },
    {
     "data": {
      "application/vnd.jupyter.widget-view+json": {
       "model_id": "8a2dd85167f64b40b2f60ec329770859",
       "version_major": 2,
       "version_minor": 0
      },
      "text/plain": [
       "HBox(children=(FloatProgress(value=0.0, max=17.0), HTML(value='')))"
      ]
     },
     "metadata": {},
     "output_type": "display_data"
    },
    {
     "name": "stdout",
     "output_type": "stream",
     "text": [
      "\n",
      "[ Epoch | 075/140 ]           train_loss = 0.43597 mean_squared_error = 0.43597\n"
     ]
    },
    {
     "data": {
      "application/vnd.jupyter.widget-view+json": {
       "model_id": "10f60845079040dd982f02cabd973a00",
       "version_major": 2,
       "version_minor": 0
      },
      "text/plain": [
       "HBox(children=(FloatProgress(value=0.0, max=17.0), HTML(value='')))"
      ]
     },
     "metadata": {},
     "output_type": "display_data"
    },
    {
     "name": "stdout",
     "output_type": "stream",
     "text": [
      "\n",
      "[ Epoch | 076/140 ]           train_loss = 0.43654 mean_squared_error = 0.43654\n"
     ]
    },
    {
     "data": {
      "application/vnd.jupyter.widget-view+json": {
       "model_id": "39ff9e5f90cd4211b1ce4a6b822ea581",
       "version_major": 2,
       "version_minor": 0
      },
      "text/plain": [
       "HBox(children=(FloatProgress(value=0.0, max=17.0), HTML(value='')))"
      ]
     },
     "metadata": {},
     "output_type": "display_data"
    },
    {
     "name": "stdout",
     "output_type": "stream",
     "text": [
      "\n",
      "[ Epoch | 077/140 ]           train_loss = 0.43521 mean_squared_error = 0.43521\n"
     ]
    },
    {
     "data": {
      "application/vnd.jupyter.widget-view+json": {
       "model_id": "d9e74efe94fc4e6c9620c8c660771835",
       "version_major": 2,
       "version_minor": 0
      },
      "text/plain": [
       "HBox(children=(FloatProgress(value=0.0, max=17.0), HTML(value='')))"
      ]
     },
     "metadata": {},
     "output_type": "display_data"
    },
    {
     "name": "stdout",
     "output_type": "stream",
     "text": [
      "\n",
      "[ Epoch | 078/140 ]           train_loss = 0.43610 mean_squared_error = 0.43610\n"
     ]
    },
    {
     "data": {
      "application/vnd.jupyter.widget-view+json": {
       "model_id": "5e3c8cb3f08e44daad78f5edd30f287c",
       "version_major": 2,
       "version_minor": 0
      },
      "text/plain": [
       "HBox(children=(FloatProgress(value=0.0, max=17.0), HTML(value='')))"
      ]
     },
     "metadata": {},
     "output_type": "display_data"
    },
    {
     "name": "stdout",
     "output_type": "stream",
     "text": [
      "\n",
      "[ Epoch | 079/140 ]           train_loss = 0.43683 mean_squared_error = 0.43683\n"
     ]
    },
    {
     "data": {
      "application/vnd.jupyter.widget-view+json": {
       "model_id": "c6be4cea885a4a0cb98ef5a5e8c1afc3",
       "version_major": 2,
       "version_minor": 0
      },
      "text/plain": [
       "HBox(children=(FloatProgress(value=0.0, max=17.0), HTML(value='')))"
      ]
     },
     "metadata": {},
     "output_type": "display_data"
    },
    {
     "name": "stdout",
     "output_type": "stream",
     "text": [
      "\n",
      "[ Epoch | 080/140 ]           train_loss = 0.43653 mean_squared_error = 0.43653\n"
     ]
    },
    {
     "data": {
      "application/vnd.jupyter.widget-view+json": {
       "model_id": "24dd9fd9ef204ecf9a0296fdbecd03de",
       "version_major": 2,
       "version_minor": 0
      },
      "text/plain": [
       "HBox(children=(FloatProgress(value=0.0, max=17.0), HTML(value='')))"
      ]
     },
     "metadata": {},
     "output_type": "display_data"
    },
    {
     "name": "stdout",
     "output_type": "stream",
     "text": [
      "\n",
      "[ Epoch | 081/140 ]           train_loss = 0.43711 mean_squared_error = 0.43711\n"
     ]
    },
    {
     "data": {
      "application/vnd.jupyter.widget-view+json": {
       "model_id": "f819bb680fb343e9bb8d56e5c3909263",
       "version_major": 2,
       "version_minor": 0
      },
      "text/plain": [
       "HBox(children=(FloatProgress(value=0.0, max=17.0), HTML(value='')))"
      ]
     },
     "metadata": {},
     "output_type": "display_data"
    },
    {
     "name": "stdout",
     "output_type": "stream",
     "text": [
      "\n",
      "[ Epoch | 082/140 ]           train_loss = 0.43832 mean_squared_error = 0.43832\n"
     ]
    },
    {
     "data": {
      "application/vnd.jupyter.widget-view+json": {
       "model_id": "12079472eb714570a7203e8c0e4948b4",
       "version_major": 2,
       "version_minor": 0
      },
      "text/plain": [
       "HBox(children=(FloatProgress(value=0.0, max=17.0), HTML(value='')))"
      ]
     },
     "metadata": {},
     "output_type": "display_data"
    },
    {
     "name": "stdout",
     "output_type": "stream",
     "text": [
      "\n",
      "[ Epoch | 083/140 ]           train_loss = 0.43543 mean_squared_error = 0.43543\n"
     ]
    },
    {
     "data": {
      "application/vnd.jupyter.widget-view+json": {
       "model_id": "0ec0da3aa65d41238546a642b8dd61aa",
       "version_major": 2,
       "version_minor": 0
      },
      "text/plain": [
       "HBox(children=(FloatProgress(value=0.0, max=17.0), HTML(value='')))"
      ]
     },
     "metadata": {},
     "output_type": "display_data"
    },
    {
     "name": "stdout",
     "output_type": "stream",
     "text": [
      "\n",
      "[ Epoch | 084/140 ]           train_loss = 0.43819 mean_squared_error = 0.43819\n"
     ]
    },
    {
     "data": {
      "application/vnd.jupyter.widget-view+json": {
       "model_id": "c2d376806389471d867625e29c6bd0b4",
       "version_major": 2,
       "version_minor": 0
      },
      "text/plain": [
       "HBox(children=(FloatProgress(value=0.0, max=17.0), HTML(value='')))"
      ]
     },
     "metadata": {},
     "output_type": "display_data"
    },
    {
     "name": "stdout",
     "output_type": "stream",
     "text": [
      "\n",
      "[ Epoch | 085/140 ]           train_loss = 0.43546 mean_squared_error = 0.43546\n"
     ]
    },
    {
     "data": {
      "application/vnd.jupyter.widget-view+json": {
       "model_id": "a5297ff9c5e546cb90a0fd8b4080cfe2",
       "version_major": 2,
       "version_minor": 0
      },
      "text/plain": [
       "HBox(children=(FloatProgress(value=0.0, max=17.0), HTML(value='')))"
      ]
     },
     "metadata": {},
     "output_type": "display_data"
    },
    {
     "name": "stdout",
     "output_type": "stream",
     "text": [
      "\n",
      "[ Epoch | 086/140 ]           train_loss = 0.43840 mean_squared_error = 0.43840\n"
     ]
    },
    {
     "data": {
      "application/vnd.jupyter.widget-view+json": {
       "model_id": "79efa9fabaa540eaa31c6ed141fda544",
       "version_major": 2,
       "version_minor": 0
      },
      "text/plain": [
       "HBox(children=(FloatProgress(value=0.0, max=17.0), HTML(value='')))"
      ]
     },
     "metadata": {},
     "output_type": "display_data"
    },
    {
     "name": "stdout",
     "output_type": "stream",
     "text": [
      "\n",
      "[ Epoch | 087/140 ]           train_loss = 0.43604 mean_squared_error = 0.43604\n"
     ]
    },
    {
     "data": {
      "application/vnd.jupyter.widget-view+json": {
       "model_id": "c1506b4131114eba8d33619b336d864d",
       "version_major": 2,
       "version_minor": 0
      },
      "text/plain": [
       "HBox(children=(FloatProgress(value=0.0, max=17.0), HTML(value='')))"
      ]
     },
     "metadata": {},
     "output_type": "display_data"
    },
    {
     "name": "stdout",
     "output_type": "stream",
     "text": [
      "\n",
      "[ Epoch | 088/140 ]           train_loss = 0.43481 mean_squared_error = 0.43481\n"
     ]
    },
    {
     "data": {
      "application/vnd.jupyter.widget-view+json": {
       "model_id": "4a51f24d63164f6d828cd779c3d449dd",
       "version_major": 2,
       "version_minor": 0
      },
      "text/plain": [
       "HBox(children=(FloatProgress(value=0.0, max=17.0), HTML(value='')))"
      ]
     },
     "metadata": {},
     "output_type": "display_data"
    },
    {
     "name": "stdout",
     "output_type": "stream",
     "text": [
      "\n",
      "[ Epoch | 089/140 ]           train_loss = 0.43617 mean_squared_error = 0.43617\n"
     ]
    },
    {
     "data": {
      "application/vnd.jupyter.widget-view+json": {
       "model_id": "f16ba09d27cc4ce3962deb9bf87a0320",
       "version_major": 2,
       "version_minor": 0
      },
      "text/plain": [
       "HBox(children=(FloatProgress(value=0.0, max=17.0), HTML(value='')))"
      ]
     },
     "metadata": {},
     "output_type": "display_data"
    },
    {
     "name": "stdout",
     "output_type": "stream",
     "text": [
      "\n",
      "[ Epoch | 090/140 ]           train_loss = 0.43384 mean_squared_error = 0.43384\n"
     ]
    },
    {
     "data": {
      "application/vnd.jupyter.widget-view+json": {
       "model_id": "3fd5280f24fb4345aa56222ef117e0dc",
       "version_major": 2,
       "version_minor": 0
      },
      "text/plain": [
       "HBox(children=(FloatProgress(value=0.0, max=17.0), HTML(value='')))"
      ]
     },
     "metadata": {},
     "output_type": "display_data"
    },
    {
     "name": "stdout",
     "output_type": "stream",
     "text": [
      "\n",
      "[ Epoch | 091/140 ]           train_loss = 0.43567 mean_squared_error = 0.43567\n"
     ]
    },
    {
     "data": {
      "application/vnd.jupyter.widget-view+json": {
       "model_id": "60282b37a7184701a45442500b0c2e78",
       "version_major": 2,
       "version_minor": 0
      },
      "text/plain": [
       "HBox(children=(FloatProgress(value=0.0, max=17.0), HTML(value='')))"
      ]
     },
     "metadata": {},
     "output_type": "display_data"
    },
    {
     "name": "stdout",
     "output_type": "stream",
     "text": [
      "\n",
      "[ Epoch | 092/140 ]           train_loss = 0.43559 mean_squared_error = 0.43559\n"
     ]
    },
    {
     "data": {
      "application/vnd.jupyter.widget-view+json": {
       "model_id": "abe59414c96b4dc1a1eeade0b9a7963c",
       "version_major": 2,
       "version_minor": 0
      },
      "text/plain": [
       "HBox(children=(FloatProgress(value=0.0, max=17.0), HTML(value='')))"
      ]
     },
     "metadata": {},
     "output_type": "display_data"
    },
    {
     "name": "stdout",
     "output_type": "stream",
     "text": [
      "\n",
      "[ Epoch | 093/140 ]           train_loss = 0.43392 mean_squared_error = 0.43392\n"
     ]
    },
    {
     "data": {
      "application/vnd.jupyter.widget-view+json": {
       "model_id": "a7021c2e874847d4af0f59885174bdec",
       "version_major": 2,
       "version_minor": 0
      },
      "text/plain": [
       "HBox(children=(FloatProgress(value=0.0, max=17.0), HTML(value='')))"
      ]
     },
     "metadata": {},
     "output_type": "display_data"
    },
    {
     "name": "stdout",
     "output_type": "stream",
     "text": [
      "\n",
      "[ Epoch | 094/140 ]           train_loss = 0.43537 mean_squared_error = 0.43537\n"
     ]
    },
    {
     "data": {
      "application/vnd.jupyter.widget-view+json": {
       "model_id": "b5440d6361a648b68ceea9969bf45b68",
       "version_major": 2,
       "version_minor": 0
      },
      "text/plain": [
       "HBox(children=(FloatProgress(value=0.0, max=17.0), HTML(value='')))"
      ]
     },
     "metadata": {},
     "output_type": "display_data"
    },
    {
     "name": "stdout",
     "output_type": "stream",
     "text": [
      "\n",
      "[ Epoch | 095/140 ]           train_loss = 0.43546 mean_squared_error = 0.43546\n"
     ]
    },
    {
     "data": {
      "application/vnd.jupyter.widget-view+json": {
       "model_id": "6ac7965311c74a5f819970173f3c7523",
       "version_major": 2,
       "version_minor": 0
      },
      "text/plain": [
       "HBox(children=(FloatProgress(value=0.0, max=17.0), HTML(value='')))"
      ]
     },
     "metadata": {},
     "output_type": "display_data"
    },
    {
     "name": "stdout",
     "output_type": "stream",
     "text": [
      "\n",
      "[ Epoch | 096/140 ]           train_loss = 0.43647 mean_squared_error = 0.43647\n"
     ]
    },
    {
     "data": {
      "application/vnd.jupyter.widget-view+json": {
       "model_id": "aebcdbab5d734e778e0740d3f745795e",
       "version_major": 2,
       "version_minor": 0
      },
      "text/plain": [
       "HBox(children=(FloatProgress(value=0.0, max=17.0), HTML(value='')))"
      ]
     },
     "metadata": {},
     "output_type": "display_data"
    },
    {
     "name": "stdout",
     "output_type": "stream",
     "text": [
      "\n",
      "[ Epoch | 097/140 ]           train_loss = 0.43563 mean_squared_error = 0.43563\n"
     ]
    },
    {
     "data": {
      "application/vnd.jupyter.widget-view+json": {
       "model_id": "df20382442584a51a951d29fa9c2b976",
       "version_major": 2,
       "version_minor": 0
      },
      "text/plain": [
       "HBox(children=(FloatProgress(value=0.0, max=17.0), HTML(value='')))"
      ]
     },
     "metadata": {},
     "output_type": "display_data"
    },
    {
     "name": "stdout",
     "output_type": "stream",
     "text": [
      "\n",
      "[ Epoch | 098/140 ]           train_loss = 0.43517 mean_squared_error = 0.43517\n"
     ]
    },
    {
     "data": {
      "application/vnd.jupyter.widget-view+json": {
       "model_id": "31365152463d49fe8b7abebd92c07c30",
       "version_major": 2,
       "version_minor": 0
      },
      "text/plain": [
       "HBox(children=(FloatProgress(value=0.0, max=17.0), HTML(value='')))"
      ]
     },
     "metadata": {},
     "output_type": "display_data"
    },
    {
     "name": "stdout",
     "output_type": "stream",
     "text": [
      "\n",
      "[ Epoch | 099/140 ]           train_loss = 0.43520 mean_squared_error = 0.43520\n"
     ]
    },
    {
     "data": {
      "application/vnd.jupyter.widget-view+json": {
       "model_id": "a247886e82484c24bea32d967012b788",
       "version_major": 2,
       "version_minor": 0
      },
      "text/plain": [
       "HBox(children=(FloatProgress(value=0.0, max=17.0), HTML(value='')))"
      ]
     },
     "metadata": {},
     "output_type": "display_data"
    },
    {
     "name": "stdout",
     "output_type": "stream",
     "text": [
      "\n",
      "[ Epoch | 100/140 ]           train_loss = 0.43431 mean_squared_error = 0.43431\n"
     ]
    },
    {
     "data": {
      "application/vnd.jupyter.widget-view+json": {
       "model_id": "b8b4209f790f46acaf7e060df29f988d",
       "version_major": 2,
       "version_minor": 0
      },
      "text/plain": [
       "HBox(children=(FloatProgress(value=0.0, max=17.0), HTML(value='')))"
      ]
     },
     "metadata": {},
     "output_type": "display_data"
    },
    {
     "name": "stdout",
     "output_type": "stream",
     "text": [
      "\n",
      "[ Epoch | 101/140 ]           train_loss = 0.43243 mean_squared_error = 0.43243\n"
     ]
    },
    {
     "data": {
      "application/vnd.jupyter.widget-view+json": {
       "model_id": "20048a79dd4a4355a7362ac4e625bd36",
       "version_major": 2,
       "version_minor": 0
      },
      "text/plain": [
       "HBox(children=(FloatProgress(value=0.0, max=17.0), HTML(value='')))"
      ]
     },
     "metadata": {},
     "output_type": "display_data"
    },
    {
     "name": "stdout",
     "output_type": "stream",
     "text": [
      "\n",
      "[ Epoch | 102/140 ]           train_loss = 0.43556 mean_squared_error = 0.43556\n"
     ]
    },
    {
     "data": {
      "application/vnd.jupyter.widget-view+json": {
       "model_id": "88df5dbc84b54d9bb5011631754886a4",
       "version_major": 2,
       "version_minor": 0
      },
      "text/plain": [
       "HBox(children=(FloatProgress(value=0.0, max=17.0), HTML(value='')))"
      ]
     },
     "metadata": {},
     "output_type": "display_data"
    },
    {
     "name": "stdout",
     "output_type": "stream",
     "text": [
      "\n",
      "[ Epoch | 103/140 ]           train_loss = 0.43392 mean_squared_error = 0.43392\n"
     ]
    },
    {
     "data": {
      "application/vnd.jupyter.widget-view+json": {
       "model_id": "7de430c8b2684040b08c35ea23d3fea5",
       "version_major": 2,
       "version_minor": 0
      },
      "text/plain": [
       "HBox(children=(FloatProgress(value=0.0, max=17.0), HTML(value='')))"
      ]
     },
     "metadata": {},
     "output_type": "display_data"
    },
    {
     "name": "stdout",
     "output_type": "stream",
     "text": [
      "\n",
      "[ Epoch | 104/140 ]           train_loss = 0.43331 mean_squared_error = 0.43331\n"
     ]
    },
    {
     "data": {
      "application/vnd.jupyter.widget-view+json": {
       "model_id": "032c5868adef41ab8640bd77c5fb9a9e",
       "version_major": 2,
       "version_minor": 0
      },
      "text/plain": [
       "HBox(children=(FloatProgress(value=0.0, max=17.0), HTML(value='')))"
      ]
     },
     "metadata": {},
     "output_type": "display_data"
    },
    {
     "name": "stdout",
     "output_type": "stream",
     "text": [
      "\n",
      "[ Epoch | 105/140 ]           train_loss = 0.43274 mean_squared_error = 0.43274\n"
     ]
    },
    {
     "data": {
      "application/vnd.jupyter.widget-view+json": {
       "model_id": "e797f84112b54fdcae2b4eadf6659cc7",
       "version_major": 2,
       "version_minor": 0
      },
      "text/plain": [
       "HBox(children=(FloatProgress(value=0.0, max=17.0), HTML(value='')))"
      ]
     },
     "metadata": {},
     "output_type": "display_data"
    },
    {
     "name": "stdout",
     "output_type": "stream",
     "text": [
      "\n",
      "[ Epoch | 106/140 ]           train_loss = 0.43374 mean_squared_error = 0.43374\n"
     ]
    },
    {
     "data": {
      "application/vnd.jupyter.widget-view+json": {
       "model_id": "a75dc776043345e691bb373f173f3ab8",
       "version_major": 2,
       "version_minor": 0
      },
      "text/plain": [
       "HBox(children=(FloatProgress(value=0.0, max=17.0), HTML(value='')))"
      ]
     },
     "metadata": {},
     "output_type": "display_data"
    },
    {
     "name": "stdout",
     "output_type": "stream",
     "text": [
      "\n",
      "[ Epoch | 107/140 ]           train_loss = 0.43164 mean_squared_error = 0.43164\n"
     ]
    },
    {
     "data": {
      "application/vnd.jupyter.widget-view+json": {
       "model_id": "8f59b7f20dcd44a380c39257227905c2",
       "version_major": 2,
       "version_minor": 0
      },
      "text/plain": [
       "HBox(children=(FloatProgress(value=0.0, max=17.0), HTML(value='')))"
      ]
     },
     "metadata": {},
     "output_type": "display_data"
    },
    {
     "name": "stdout",
     "output_type": "stream",
     "text": [
      "\n",
      "[ Epoch | 108/140 ]           train_loss = 0.43522 mean_squared_error = 0.43522\n"
     ]
    },
    {
     "data": {
      "application/vnd.jupyter.widget-view+json": {
       "model_id": "a794496d9ec24705a2c16d20b35278c4",
       "version_major": 2,
       "version_minor": 0
      },
      "text/plain": [
       "HBox(children=(FloatProgress(value=0.0, max=17.0), HTML(value='')))"
      ]
     },
     "metadata": {},
     "output_type": "display_data"
    },
    {
     "name": "stdout",
     "output_type": "stream",
     "text": [
      "\n",
      "[ Epoch | 109/140 ]           train_loss = 0.43347 mean_squared_error = 0.43347\n"
     ]
    },
    {
     "data": {
      "application/vnd.jupyter.widget-view+json": {
       "model_id": "4e4478cae4d04febb5c9117116a102e2",
       "version_major": 2,
       "version_minor": 0
      },
      "text/plain": [
       "HBox(children=(FloatProgress(value=0.0, max=17.0), HTML(value='')))"
      ]
     },
     "metadata": {},
     "output_type": "display_data"
    },
    {
     "name": "stdout",
     "output_type": "stream",
     "text": [
      "\n",
      "[ Epoch | 110/140 ]           train_loss = 0.43165 mean_squared_error = 0.43165\n"
     ]
    },
    {
     "data": {
      "application/vnd.jupyter.widget-view+json": {
       "model_id": "150feb3fa40841f99ffb0b2875e2e694",
       "version_major": 2,
       "version_minor": 0
      },
      "text/plain": [
       "HBox(children=(FloatProgress(value=0.0, max=17.0), HTML(value='')))"
      ]
     },
     "metadata": {},
     "output_type": "display_data"
    },
    {
     "name": "stdout",
     "output_type": "stream",
     "text": [
      "\n",
      "[ Epoch | 111/140 ]           train_loss = 0.43330 mean_squared_error = 0.43330\n"
     ]
    },
    {
     "data": {
      "application/vnd.jupyter.widget-view+json": {
       "model_id": "255e3cb2594141b7a42aa323220a490d",
       "version_major": 2,
       "version_minor": 0
      },
      "text/plain": [
       "HBox(children=(FloatProgress(value=0.0, max=17.0), HTML(value='')))"
      ]
     },
     "metadata": {},
     "output_type": "display_data"
    },
    {
     "name": "stdout",
     "output_type": "stream",
     "text": [
      "\n",
      "[ Epoch | 112/140 ]           train_loss = 0.43223 mean_squared_error = 0.43223\n"
     ]
    },
    {
     "data": {
      "application/vnd.jupyter.widget-view+json": {
       "model_id": "da2083da9f6545d78e9044f2bbb85a20",
       "version_major": 2,
       "version_minor": 0
      },
      "text/plain": [
       "HBox(children=(FloatProgress(value=0.0, max=17.0), HTML(value='')))"
      ]
     },
     "metadata": {},
     "output_type": "display_data"
    },
    {
     "name": "stdout",
     "output_type": "stream",
     "text": [
      "\n",
      "[ Epoch | 113/140 ]           train_loss = 0.43263 mean_squared_error = 0.43263\n"
     ]
    },
    {
     "data": {
      "application/vnd.jupyter.widget-view+json": {
       "model_id": "1c34ef9bacee4194a1248023b2a24b95",
       "version_major": 2,
       "version_minor": 0
      },
      "text/plain": [
       "HBox(children=(FloatProgress(value=0.0, max=17.0), HTML(value='')))"
      ]
     },
     "metadata": {},
     "output_type": "display_data"
    },
    {
     "name": "stdout",
     "output_type": "stream",
     "text": [
      "\n",
      "[ Epoch | 114/140 ]           train_loss = 0.43421 mean_squared_error = 0.43421\n"
     ]
    },
    {
     "data": {
      "application/vnd.jupyter.widget-view+json": {
       "model_id": "04c55f05cc13499d89fd2af90b778db0",
       "version_major": 2,
       "version_minor": 0
      },
      "text/plain": [
       "HBox(children=(FloatProgress(value=0.0, max=17.0), HTML(value='')))"
      ]
     },
     "metadata": {},
     "output_type": "display_data"
    },
    {
     "name": "stdout",
     "output_type": "stream",
     "text": [
      "\n",
      "[ Epoch | 115/140 ]           train_loss = 0.43329 mean_squared_error = 0.43329\n"
     ]
    },
    {
     "data": {
      "application/vnd.jupyter.widget-view+json": {
       "model_id": "3a2051d7fba3444f9a77c2f5a14c81ee",
       "version_major": 2,
       "version_minor": 0
      },
      "text/plain": [
       "HBox(children=(FloatProgress(value=0.0, max=17.0), HTML(value='')))"
      ]
     },
     "metadata": {},
     "output_type": "display_data"
    },
    {
     "name": "stdout",
     "output_type": "stream",
     "text": [
      "\n",
      "[ Epoch | 116/140 ]           train_loss = 0.43359 mean_squared_error = 0.43359\n"
     ]
    },
    {
     "data": {
      "application/vnd.jupyter.widget-view+json": {
       "model_id": "df6a6b7acd37482f903680d1265c37e3",
       "version_major": 2,
       "version_minor": 0
      },
      "text/plain": [
       "HBox(children=(FloatProgress(value=0.0, max=17.0), HTML(value='')))"
      ]
     },
     "metadata": {},
     "output_type": "display_data"
    },
    {
     "name": "stdout",
     "output_type": "stream",
     "text": [
      "\n",
      "[ Epoch | 117/140 ]           train_loss = 0.43495 mean_squared_error = 0.43495\n"
     ]
    },
    {
     "data": {
      "application/vnd.jupyter.widget-view+json": {
       "model_id": "3569cd1e95ba456cbf24038c1351c068",
       "version_major": 2,
       "version_minor": 0
      },
      "text/plain": [
       "HBox(children=(FloatProgress(value=0.0, max=17.0), HTML(value='')))"
      ]
     },
     "metadata": {},
     "output_type": "display_data"
    },
    {
     "name": "stdout",
     "output_type": "stream",
     "text": [
      "\n",
      "[ Epoch | 118/140 ]           train_loss = 0.43378 mean_squared_error = 0.43378\n"
     ]
    },
    {
     "data": {
      "application/vnd.jupyter.widget-view+json": {
       "model_id": "9dcdb12029bc4c03a44868e5dbda2123",
       "version_major": 2,
       "version_minor": 0
      },
      "text/plain": [
       "HBox(children=(FloatProgress(value=0.0, max=17.0), HTML(value='')))"
      ]
     },
     "metadata": {},
     "output_type": "display_data"
    },
    {
     "name": "stdout",
     "output_type": "stream",
     "text": [
      "\n",
      "[ Epoch | 119/140 ]           train_loss = 0.43417 mean_squared_error = 0.43417\n"
     ]
    },
    {
     "data": {
      "application/vnd.jupyter.widget-view+json": {
       "model_id": "e612bbcfcbc943148e5108e58c25124d",
       "version_major": 2,
       "version_minor": 0
      },
      "text/plain": [
       "HBox(children=(FloatProgress(value=0.0, max=17.0), HTML(value='')))"
      ]
     },
     "metadata": {},
     "output_type": "display_data"
    },
    {
     "name": "stdout",
     "output_type": "stream",
     "text": [
      "\n",
      "[ Epoch | 120/140 ]           train_loss = 0.43343 mean_squared_error = 0.43343\n"
     ]
    },
    {
     "data": {
      "application/vnd.jupyter.widget-view+json": {
       "model_id": "feb47ce6d5ab42919d98f355c120c367",
       "version_major": 2,
       "version_minor": 0
      },
      "text/plain": [
       "HBox(children=(FloatProgress(value=0.0, max=17.0), HTML(value='')))"
      ]
     },
     "metadata": {},
     "output_type": "display_data"
    },
    {
     "name": "stdout",
     "output_type": "stream",
     "text": [
      "\n",
      "[ Epoch | 121/140 ]           train_loss = 0.43234 mean_squared_error = 0.43234\n"
     ]
    },
    {
     "data": {
      "application/vnd.jupyter.widget-view+json": {
       "model_id": "4fe1e26a5479480c857120c5b5edb6f1",
       "version_major": 2,
       "version_minor": 0
      },
      "text/plain": [
       "HBox(children=(FloatProgress(value=0.0, max=17.0), HTML(value='')))"
      ]
     },
     "metadata": {},
     "output_type": "display_data"
    },
    {
     "name": "stdout",
     "output_type": "stream",
     "text": [
      "\n",
      "[ Epoch | 122/140 ]           train_loss = 0.43246 mean_squared_error = 0.43246\n"
     ]
    },
    {
     "data": {
      "application/vnd.jupyter.widget-view+json": {
       "model_id": "0c680cf047b045c98d3b73a6589158e9",
       "version_major": 2,
       "version_minor": 0
      },
      "text/plain": [
       "HBox(children=(FloatProgress(value=0.0, max=17.0), HTML(value='')))"
      ]
     },
     "metadata": {},
     "output_type": "display_data"
    },
    {
     "name": "stdout",
     "output_type": "stream",
     "text": [
      "\n",
      "[ Epoch | 123/140 ]           train_loss = 0.43180 mean_squared_error = 0.43180\n"
     ]
    },
    {
     "data": {
      "application/vnd.jupyter.widget-view+json": {
       "model_id": "17fcbba8b89c4ef3ad483a9f08453836",
       "version_major": 2,
       "version_minor": 0
      },
      "text/plain": [
       "HBox(children=(FloatProgress(value=0.0, max=17.0), HTML(value='')))"
      ]
     },
     "metadata": {},
     "output_type": "display_data"
    },
    {
     "name": "stdout",
     "output_type": "stream",
     "text": [
      "\n",
      "[ Epoch | 124/140 ]           train_loss = 0.43372 mean_squared_error = 0.43372\n"
     ]
    },
    {
     "data": {
      "application/vnd.jupyter.widget-view+json": {
       "model_id": "2bc6440e6be54e96bd87975a3994d6fb",
       "version_major": 2,
       "version_minor": 0
      },
      "text/plain": [
       "HBox(children=(FloatProgress(value=0.0, max=17.0), HTML(value='')))"
      ]
     },
     "metadata": {},
     "output_type": "display_data"
    },
    {
     "name": "stdout",
     "output_type": "stream",
     "text": [
      "\n",
      "[ Epoch | 125/140 ]           train_loss = 0.43192 mean_squared_error = 0.43192\n"
     ]
    },
    {
     "data": {
      "application/vnd.jupyter.widget-view+json": {
       "model_id": "94c7358acd5d4a678bf23fa222f06c84",
       "version_major": 2,
       "version_minor": 0
      },
      "text/plain": [
       "HBox(children=(FloatProgress(value=0.0, max=17.0), HTML(value='')))"
      ]
     },
     "metadata": {},
     "output_type": "display_data"
    },
    {
     "name": "stdout",
     "output_type": "stream",
     "text": [
      "\n",
      "[ Epoch | 126/140 ]           train_loss = 0.43247 mean_squared_error = 0.43247\n"
     ]
    },
    {
     "data": {
      "application/vnd.jupyter.widget-view+json": {
       "model_id": "ce034400b3cc41779410bb05291598b7",
       "version_major": 2,
       "version_minor": 0
      },
      "text/plain": [
       "HBox(children=(FloatProgress(value=0.0, max=17.0), HTML(value='')))"
      ]
     },
     "metadata": {},
     "output_type": "display_data"
    },
    {
     "name": "stdout",
     "output_type": "stream",
     "text": [
      "\n",
      "[ Epoch | 127/140 ]           train_loss = 0.43163 mean_squared_error = 0.43163\n"
     ]
    },
    {
     "data": {
      "application/vnd.jupyter.widget-view+json": {
       "model_id": "92cb8129dd74488faf761b6ca6172b49",
       "version_major": 2,
       "version_minor": 0
      },
      "text/plain": [
       "HBox(children=(FloatProgress(value=0.0, max=17.0), HTML(value='')))"
      ]
     },
     "metadata": {},
     "output_type": "display_data"
    },
    {
     "name": "stdout",
     "output_type": "stream",
     "text": [
      "\n",
      "[ Epoch | 128/140 ]           train_loss = 0.43116 mean_squared_error = 0.43116\n"
     ]
    },
    {
     "data": {
      "application/vnd.jupyter.widget-view+json": {
       "model_id": "07af61fa08a24f3cb2b4947c341da512",
       "version_major": 2,
       "version_minor": 0
      },
      "text/plain": [
       "HBox(children=(FloatProgress(value=0.0, max=17.0), HTML(value='')))"
      ]
     },
     "metadata": {},
     "output_type": "display_data"
    },
    {
     "name": "stdout",
     "output_type": "stream",
     "text": [
      "\n",
      "[ Epoch | 129/140 ]           train_loss = 0.43251 mean_squared_error = 0.43251\n"
     ]
    },
    {
     "data": {
      "application/vnd.jupyter.widget-view+json": {
       "model_id": "c69e6a72fc5d45b5b1e075d49f13680c",
       "version_major": 2,
       "version_minor": 0
      },
      "text/plain": [
       "HBox(children=(FloatProgress(value=0.0, max=17.0), HTML(value='')))"
      ]
     },
     "metadata": {},
     "output_type": "display_data"
    },
    {
     "name": "stdout",
     "output_type": "stream",
     "text": [
      "\n",
      "[ Epoch | 130/140 ]           train_loss = 0.43170 mean_squared_error = 0.43170\n"
     ]
    },
    {
     "data": {
      "application/vnd.jupyter.widget-view+json": {
       "model_id": "200678f73fd24426831632e2881943d0",
       "version_major": 2,
       "version_minor": 0
      },
      "text/plain": [
       "HBox(children=(FloatProgress(value=0.0, max=17.0), HTML(value='')))"
      ]
     },
     "metadata": {},
     "output_type": "display_data"
    },
    {
     "name": "stdout",
     "output_type": "stream",
     "text": [
      "\n",
      "[ Epoch | 131/140 ]           train_loss = 0.43396 mean_squared_error = 0.43396\n"
     ]
    },
    {
     "data": {
      "application/vnd.jupyter.widget-view+json": {
       "model_id": "39acd476f5e8476dbb8b17419df6a4d4",
       "version_major": 2,
       "version_minor": 0
      },
      "text/plain": [
       "HBox(children=(FloatProgress(value=0.0, max=17.0), HTML(value='')))"
      ]
     },
     "metadata": {},
     "output_type": "display_data"
    },
    {
     "name": "stdout",
     "output_type": "stream",
     "text": [
      "\n",
      "[ Epoch | 132/140 ]           train_loss = 0.43128 mean_squared_error = 0.43128\n"
     ]
    },
    {
     "data": {
      "application/vnd.jupyter.widget-view+json": {
       "model_id": "fb96fdcb18164a01afebf72d2881afc1",
       "version_major": 2,
       "version_minor": 0
      },
      "text/plain": [
       "HBox(children=(FloatProgress(value=0.0, max=17.0), HTML(value='')))"
      ]
     },
     "metadata": {},
     "output_type": "display_data"
    },
    {
     "name": "stdout",
     "output_type": "stream",
     "text": [
      "\n",
      "[ Epoch | 133/140 ]           train_loss = 0.43269 mean_squared_error = 0.43269\n"
     ]
    },
    {
     "data": {
      "application/vnd.jupyter.widget-view+json": {
       "model_id": "db0918aad8794b979b8a4d295ee041f9",
       "version_major": 2,
       "version_minor": 0
      },
      "text/plain": [
       "HBox(children=(FloatProgress(value=0.0, max=17.0), HTML(value='')))"
      ]
     },
     "metadata": {},
     "output_type": "display_data"
    },
    {
     "name": "stdout",
     "output_type": "stream",
     "text": [
      "\n",
      "[ Epoch | 134/140 ]           train_loss = 0.43285 mean_squared_error = 0.43285\n"
     ]
    },
    {
     "data": {
      "application/vnd.jupyter.widget-view+json": {
       "model_id": "0a08d38c117441f5b72d6db01db183f8",
       "version_major": 2,
       "version_minor": 0
      },
      "text/plain": [
       "HBox(children=(FloatProgress(value=0.0, max=17.0), HTML(value='')))"
      ]
     },
     "metadata": {},
     "output_type": "display_data"
    },
    {
     "name": "stdout",
     "output_type": "stream",
     "text": [
      "\n",
      "[ Epoch | 135/140 ]           train_loss = 0.43223 mean_squared_error = 0.43223\n"
     ]
    },
    {
     "data": {
      "application/vnd.jupyter.widget-view+json": {
       "model_id": "33a863c86bd6495dba0e90498314a6ba",
       "version_major": 2,
       "version_minor": 0
      },
      "text/plain": [
       "HBox(children=(FloatProgress(value=0.0, max=17.0), HTML(value='')))"
      ]
     },
     "metadata": {},
     "output_type": "display_data"
    },
    {
     "name": "stdout",
     "output_type": "stream",
     "text": [
      "\n",
      "[ Epoch | 136/140 ]           train_loss = 0.43200 mean_squared_error = 0.43200\n"
     ]
    },
    {
     "data": {
      "application/vnd.jupyter.widget-view+json": {
       "model_id": "1a9d051b53e14a21ac7b8ab6a1e62d9e",
       "version_major": 2,
       "version_minor": 0
      },
      "text/plain": [
       "HBox(children=(FloatProgress(value=0.0, max=17.0), HTML(value='')))"
      ]
     },
     "metadata": {},
     "output_type": "display_data"
    },
    {
     "name": "stdout",
     "output_type": "stream",
     "text": [
      "\n",
      "[ Epoch | 137/140 ]           train_loss = 0.43402 mean_squared_error = 0.43402\n"
     ]
    },
    {
     "data": {
      "application/vnd.jupyter.widget-view+json": {
       "model_id": "dda769df53114ec8bb55609884378bf7",
       "version_major": 2,
       "version_minor": 0
      },
      "text/plain": [
       "HBox(children=(FloatProgress(value=0.0, max=17.0), HTML(value='')))"
      ]
     },
     "metadata": {},
     "output_type": "display_data"
    },
    {
     "name": "stdout",
     "output_type": "stream",
     "text": [
      "\n",
      "[ Epoch | 138/140 ]           train_loss = 0.43351 mean_squared_error = 0.43351\n"
     ]
    },
    {
     "data": {
      "application/vnd.jupyter.widget-view+json": {
       "model_id": "b4de97acbf5a444e9829359ded9cc54c",
       "version_major": 2,
       "version_minor": 0
      },
      "text/plain": [
       "HBox(children=(FloatProgress(value=0.0, max=17.0), HTML(value='')))"
      ]
     },
     "metadata": {},
     "output_type": "display_data"
    },
    {
     "name": "stdout",
     "output_type": "stream",
     "text": [
      "\n",
      "[ Epoch | 139/140 ]           train_loss = 0.43179 mean_squared_error = 0.43179\n"
     ]
    },
    {
     "data": {
      "application/vnd.jupyter.widget-view+json": {
       "model_id": "9880384a5a2d4dd8be1f2e5dea91a196",
       "version_major": 2,
       "version_minor": 0
      },
      "text/plain": [
       "HBox(children=(FloatProgress(value=0.0, max=17.0), HTML(value='')))"
      ]
     },
     "metadata": {},
     "output_type": "display_data"
    },
    {
     "name": "stdout",
     "output_type": "stream",
     "text": [
      "\n",
      "[ Epoch | 140/140 ]           train_loss = 0.43251 mean_squared_error = 0.43251\n",
      "Defined the build_model and train_model functions.\n"
     ]
    },
    {
     "data": {
      "image/png": "[encoded data removed]",
      "text/plain": [
       "<Figure size 432x288 with 1 Axes>"
      ]
     },
     "metadata": {
      "needs_background": "light"
     },
     "output_type": "display_data"
    }
   ],
   "source": [
    "model = Sequential()\n",
    "\n",
    "optimizer = torch.optim.Adam(model.parameters(), lr=learning_rate, betas=(0.9, 0.999), \n",
    "                             eps=1e-08, weight_decay=0, amsgrad=False)\n",
    "\n",
    "loss_func = nn.MSELoss()   \n",
    "    \n",
    "    \n",
    "epoch_train_loss = []\n",
    "\n",
    "epoch_valid_loss = []\n",
    "\n",
    "    \n",
    "for epoch in range(n_epochs):\n",
    "    # ---------- Training ----------\n",
    "    # Make sure the model is in train mode before training.\n",
    "    model.train()\n",
    "\n",
    "    # These are used to record information in training.\n",
    "    train_loss = []\n",
    "    train_accs = []    \n",
    "    \n",
    "    # for batch in tqdm(trainloader):\n",
    "    for batch in tqdm(train_loader):\n",
    "        X, y = batch          \n",
    "        # print(X)\n",
    "        y_hat = model(X)\n",
    "        loss = loss_func(y_hat, y) #rmse\n",
    "        optimizer.zero_grad()\n",
    "        loss.backward()\n",
    "        optimizer.step()  \n",
    "        \n",
    "        # Record the loss and accuracy.\n",
    "        train_loss.append(loss.item())\n",
    "        \n",
    "    train_loss = sum(train_loss) / len(train_loss)\n",
    "    \n",
    "    epoch_train_loss.append(train_loss)   \n",
    "  \n",
    "    # Print the information.\n",
    "    print(f\"[ Epoch | {epoch + 1:03d}/{n_epochs:03d} ] \\\n",
    "          train_loss = {train_loss:.5f} mean_squared_error = {train_loss:.5f}\")\n",
    "    \n",
    "print(\"Defined the build_model and train_model functions.\")\n",
    "\n",
    "import matplotlib.pyplot as plt\n",
    "\n",
    "# Loss curve\n",
    "plt.plot(epoch_train_loss)\n",
    "plt.title('Loss')\n",
    "plt.legend(['train'])\n",
    "plt.savefig('loss.png')\n",
    "plt.show()"
   ]
  },
  {
   "cell_type": "code",
   "execution_count": 21,
   "id": "ff922952-c5f6-42c1-b948-caeacfe01635",
   "metadata": {},
   "outputs": [
    {
     "data": {
      "application/vnd.jupyter.widget-view+json": {
       "model_id": "6a5ef83c1c6a4d18a32b05d50890177e",
       "version_major": 2,
       "version_minor": 0
      },
      "text/plain": [
       "HBox(children=(FloatProgress(value=0.0, max=3.0), HTML(value='')))"
      ]
     },
     "metadata": {},
     "output_type": "display_data"
    },
    {
     "name": "stdout",
     "output_type": "stream",
     "text": [
      "\n",
      "test_loss = 0.43985 mean_squared_error = 0.43985\n"
     ]
    }
   ],
   "source": [
    "model.eval()\n",
    "\n",
    "# These are used to record information in validation.\n",
    "test_loss = []\n",
    "\n",
    "for batch in tqdm(test_loader):\n",
    "    X, y = batch          \n",
    "    # print(X)\n",
    "    y_hat = model(X)\n",
    "    loss = loss_func(y_hat, y) #rmse\n",
    "    \n",
    "    # Record the loss and accuracy.\n",
    "    test_loss.append(loss.item())\n",
    "    \n",
    "    \n",
    " # The average loss and accuracy for entire validation set is the average of the recorded values.\n",
    "test_loss = sum(test_loss) / len(test_loss)\n",
    "\n",
    "# Print the information.\n",
    "print(f\"test_loss = {test_loss:.5f} mean_squared_error = {test_loss:.5f}\")    "
   ]
  }
 ],
 "metadata": {
  "kernelspec": {
   "display_name": "Python 3",
   "language": "python",
   "name": "python3"
  },
  "language_info": {
   "codemirror_mode": {
    "name": "ipython",
    "version": 3
   },
   "file_extension": ".py",
   "mimetype": "text/x-python",
   "name": "python",
   "nbconvert_exporter": "python",
   "pygments_lexer": "ipython3",
   "version": "3.6.9"
  }
 },
 "nbformat": 4,
 "nbformat_minor": 5
}
