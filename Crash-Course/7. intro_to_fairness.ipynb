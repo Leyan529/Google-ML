{
 "cells": [
  {
   "cell_type": "markdown",
   "metadata": {
    "colab_type": "text",
    "id": "84x4Fxc5lzFv"
   },
   "source": [
    "# Introduction to Fairness in ML\n"
   ]
  },
  {
   "cell_type": "markdown",
   "metadata": {
    "colab_type": "text",
    "id": "J8daw3YOIAXH"
   },
   "source": [
    "## Disclaimer\n",
    "This exercise explores just a small subset of  ideas and techniques relevant to fairness in machine learning; it is not the whole story!"
   ]
  },
  {
   "cell_type": "markdown",
   "metadata": {
    "colab_type": "text",
    "id": "xFxZOg55lWJE"
   },
   "source": [
    "## Learning Objectives\n",
    "\n",
    "* Increase awareness of different types of biases that can manifest in model data.\n",
    "* Explore feature data to proactively identify potential sources of bias before training a model.\n",
    "* Evaluate model performace by subgroup rather than in aggregate."
   ]
  },
  {
   "cell_type": "markdown",
   "metadata": {
    "colab_type": "text",
    "id": "l-K-xqksm-X3"
   },
   "source": [
    "## Overview\n",
    "\n",
    "In this exercise, you'll explore datasets and evaluate classifiers with *fairness* in mind, noting the ways undesirable biases can creep into machine learning (ML).\n",
    "\n",
    "Throughout, you will see **FairAware** tasks, which provide opportunities to contextualize ML processes with respect to fairness. In performing these tasks, you'll identify biases and consider the long-term impact of model predictions if these biases are not addressed."
   ]
  },
  {
   "cell_type": "markdown",
   "metadata": {
    "colab_type": "text",
    "id": "TXkkHYyJ98_k"
   },
   "source": [
    "## About the Dataset and Prediction Task\n",
    "\n",
    "In this exercise, you'll work with the [Adult Census Income dataset](https://archive.ics.uci.edu/ml/datasets/Census+Income), which is commonly used in machine learning literature. This data was extracted from the [1994 Census bureau database](http://www.census.gov/en.html) by Ronny Kohavi and Barry Becker.\n",
    "\n",
    "Each example in the dataset contains the following demographic data for a set of individuals who took part in the 1994 Census:\n",
    "\n",
    "### Numeric Features\n",
    "*   `age`: The age of the individual in years.\n",
    "*   `fnlwgt`: The number of individuals the Census Organizations believes that set of observations represents.\n",
    "*   `education_num`:  An enumeration of the categorical representation of education. The higher the number, the higher the education that individual achieved. For example, an `education_num` of `11` represents `Assoc_voc` (associate degree at a vocational school), an `education_num` of `13` represents `Bachelors`, and an `education_num` of `9` represents `HS-grad` (high school graduate).\n",
    "*   `capital_gain`: Capital gain made by the individual, represented in US Dollars.\n",
    "*   `capital_loss`: Capital loss mabe by the individual, represented in US Dollars.\n",
    "*   `hours_per_week`: Hours worked per week.\n",
    "\n",
    "### Categorical Features\n",
    "*   `workclass`: The individual's type of employer. Examples include: `Private`, `Self-emp-not-inc`, `Self-emp-inc`, `Federal-gov`, `Local-gov`, `State-gov`, `Without-pay`, and `Never-worked`.\n",
    "*   `education`: The highest level of education achieved for that individual.\n",
    "*   `marital_status`: Marital status of the individual. Examples include: `Married-civ-spouse`, `Divorced`, `Never-married`, `Separated`, `Widowed`, `Married-spouse-absent`, and `Married-AF-spouse`.\n",
    "*   `occupation`: The occupation of the individual. Example include: `tech-support`, `Craft-repair`, `Other-service`, `Sales`, `Exec-managerial` and more.\n",
    "*   `relationship`:  The relationship of each individual in a household. Examples include: `Wife`, `Own-child`, `Husband`, `Not-in-family`, `Other-relative`, and `Unmarried`.\n",
    "*   `gender`:  Gender of the individual available only in binary choices: `Female` or `Male`.\n",
    "*   `race`: `White`, `Asian-Pac-Islander`, `Amer-Indian-Eskimo`, `Black`, and `Other`. \n",
    "*   `native_country`: Country of origin of the individual. Examples include: `United-States`, `Cambodia`, `England`, `Puerto-Rico`, `Canada`, `Germany`, `Outlying-US(Guam-USVI-etc)`, `India`, `Japan`, and more.\n",
    "\n",
    "### Prediction Task\n",
    "The prediction task is to **determine whether a person makes over $50,000 US Dollar a year.**\n",
    "\n",
    "### Label\n",
    "*   `income_bracket`: Whether the person makes more than $50,000 US Dollars annually.\n",
    "\n",
    "### Notes on Data Collection\n",
    "\n",
    "All the examples extracted for this dataset meet the following conditions: \n",
    "*   `age` is 16 years or older.\n",
    "*   The adjusted gross income (used to calculate `income_bracket`) is greater than $100 USD annually.\n",
    "*   `fnlwgt` is greater than 0.\n",
    "*   `hours_per_week` is greater than 0.\n",
    "\n",
    "\n",
    "\n",
    "\n"
   ]
  },
  {
   "cell_type": "markdown",
   "metadata": {
    "colab_type": "text",
    "id": "I0RMIktKy8xX"
   },
   "source": [
    "## Setup\n",
    "\n",
    "First, we should ensure that this Colaboratory notebook will run on TensorFlow 2.x."
   ]
  },
  {
   "cell_type": "markdown",
   "metadata": {
    "colab_type": "text",
    "id": "jUsgiVsUeKRR"
   },
   "source": [
    "Next, we'll import the necessary modules to run the code in the rest of this Colaboratory notebook. \n",
    "\n",
    "In addition to importing the usual libraries, this setup code cell also installs [Facets](https://pair-code.github.io/facets/), an open-source tool created by [PAIR](https://research.google/teams/brain/pair/) that contains two robust visualizations we'll be using to aid in understanding and analyzing ML datasets."
   ]
  },
  {
   "cell_type": "code",
   "execution_count": 1,
   "metadata": {
    "cellView": "both",
    "colab": {
     "base_uri": "https://localhost:8080/",
     "height": 243
    },
    "colab_type": "code",
    "id": "2e_0DJJ8zE29",
    "outputId": "eb15a970-1c36-4e59-beb8-147a889f7fa5"
   },
   "outputs": [],
   "source": [
    "import numpy as np\n",
    "import pandas as pd\n",
    "# import pytorch_lightning as pl\n",
    "# import pytorch_lightning.metrics.sklearns as plm\n",
    "import seaborn as sns\n",
    "import torch\n",
    "from torchmetrics import AUROC, Accuracy, Precision, Recall\n",
    "    \n",
    "# from matplotlib import pyplot as plt\n",
    "# from matplotlib import rcParams\n",
    "# from pytorch_lightning.loggers import TensorBoardLogger\n",
    "from sklearn.linear_model import LogisticRegression\n",
    "from sklearn.preprocessing import LabelEncoder, OneHotEncoder\n",
    "from torch import nn as nn\n",
    "from torch.nn import functional as F\n",
    "from torch.utils.data import DataLoader, Dataset, random_split\n",
    "from matplotlib import rcParams\n",
    "import matplotlib.pyplot as plt"
   ]
  },
  {
   "cell_type": "code",
   "execution_count": 2,
   "metadata": {},
   "outputs": [],
   "source": [
    "# For facets\n",
    "import base64\n",
    "\n",
    "from facets_overview.feature_statistics_generator import FeatureStatisticsGenerator\n",
    "from IPython.core.display import HTML, display\n",
    "from barbar import Bar"
   ]
  },
  {
   "cell_type": "markdown",
   "metadata": {
    "colab_type": "text",
    "id": "-xgIRapb5LaQ"
   },
   "source": [
    "### Load the Adult Dataset\n",
    "\n",
    "With the modules now imported, we can load the Adult dataset into a pandas DataFrame data structure."
   ]
  },
  {
   "cell_type": "code",
   "execution_count": 3,
   "metadata": {
    "colab": {
     "base_uri": "https://localhost:8080/",
     "height": 52
    },
    "colab_type": "code",
    "id": "TeCNVvVUVS0P",
    "outputId": "6d05c383-4aa1-4533-c766-413878103642"
   },
   "outputs": [],
   "source": [
    "COLUMNS = [\"age\", \"workclass\", \"fnlwgt\", \"education\", \"education_num\",\n",
    "           \"marital_status\", \"occupation\", \"relationship\", \"race\", \"gender\",\n",
    "           \"capital_gain\", \"capital_loss\", \"hours_per_week\", \"native_country\",\n",
    "           \"income_bracket\"]\n",
    "\n",
    "train_df = pd.read_csv(\n",
    "    \"https://download.mlcc.google.com/mledu-datasets/adult_census_train.csv\",\n",
    "    names=COLUMNS,\n",
    "    sep=r\"\\s*,\\s*\",\n",
    "    engine=\"python\",\n",
    "    na_values=\"?\",\n",
    ")\n",
    "test_df = pd.read_csv(\n",
    "    \"https://download.mlcc.google.com/mledu-datasets/adult_census_test.csv\",\n",
    "    names=COLUMNS,\n",
    "    sep=r\"\\s*,\\s*\",\n",
    "    skiprows=[0],\n",
    "    engine=\"python\",\n",
    "    na_values=\"?\",\n",
    ")\n",
    "test_df[\"income_bracket\"] = test_df[\"income_bracket\"].str.replace(\"\\.$\", \"\", regex=True)"
   ]
  },
  {
   "cell_type": "markdown",
   "metadata": {
    "colab_type": "text",
    "id": "coilRN-hooja"
   },
   "source": [
    "## Analyzing the Adult Dataset with Facets\n",
    "\n",
    "As mentioned in MLCC, it is important to understand your dataset *before* diving straight into the prediction task. \n",
    "\n",
    "Some important questions to investigate when auditing a dataset for fairness:\n",
    "\n",
    "* **Are there missing feature values for a large number of observations?**\n",
    "* **Are there features that are missing that might affect other features?**\n",
    "* **Are there any unexpected feature values?**\n",
    "* **What signs of data skew do you see?**"
   ]
  },
  {
   "cell_type": "markdown",
   "metadata": {
    "colab_type": "text",
    "id": "9yCIuAqWA1Pm"
   },
   "source": [
    "To start, we can use [Facets Overview](https://pair-code.github.io/facets/), an interactive visualization tool that can help us explore the dataset. With Facets Overview, we can quickly analyze the distribution of values across the Adult dataset."
   ]
  },
  {
   "cell_type": "markdown",
   "metadata": {
    "cellView": "form",
    "colab": {
     "base_uri": "https://localhost:8080/",
     "height": 1000
    },
    "colab_type": "code",
    "id": "MW-qryqs1gig",
    "outputId": "ad7095b9-c40a-40d5-86aa-8a0155aa459c"
   },
   "source": [
    "```python\n",
    "# @title Visualize the Data in Facets\n",
    "fsg = FeatureStatisticsGenerator()\n",
    "dataframes = [{\"table\": train_df, \"name\": \"trainData\"}]\n",
    "censusProto = fsg.ProtoFromDataFrames(dataframes)\n",
    "protostr = base64.b64encode(censusProto.SerializeToString()).decode(\"utf-8\")\n",
    "\n",
    "\n",
    "HTML_TEMPLATE = \"\"\"<script src=\"https://cdnjs.cloudflare.com/ajax/libs/webcomponentsjs/1.3.3/webcomponents-lite.js\"></script>\n",
    "        <link rel=\"import\" href=\"https://raw.githubusercontent.com/PAIR-code/facets/1.0.0/facets-dist/facets-jupyter.html\">\n",
    "        <facets-overview id=\"elem\"></facets-overview>\n",
    "        <script>\n",
    "          document.querySelector(\"#elem\").protoInput = \"{protostr}\";\n",
    "        </script>\"\"\"\n",
    "html = HTML_TEMPLATE.format(protostr=protostr)\n",
    "display(HTML(html))\n",
    "```"
   ]
  },
  {
   "cell_type": "markdown",
   "metadata": {
    "colab_type": "text",
    "id": "91wjnZFpPWw-"
   },
   "source": [
    "## FairAware Task #1\n",
    "\n",
    "Review the descriptive statistics and histograms for each numerical and continuous feature. Click the **Show Raw Data** button above the histograms for categorical features to see the distribution of values per category.\n",
    "\n",
    "Then, try to answer the following questions from earlier:\n",
    "\n",
    "1. Are there missing feature values for a large number of observations?\n",
    "2. Are there features that are missing that might affect other features?\n",
    "3. Are there any unexpected feature values?\n",
    "4. What signs of data skew do you see?"
   ]
  },
  {
   "cell_type": "markdown",
   "metadata": {
    "colab_type": "text",
    "id": "KlF-lQ8yQ69b"
   },
   "source": [
    "### Solution\n",
    "\n",
    "Click below for some insights we uncovered."
   ]
  },
  {
   "cell_type": "markdown",
   "metadata": {
    "colab_type": "text",
    "id": "xX_qjj5AQ_Hb"
   },
   "source": [
    "We can see from reviewing the **missing** column that the following categorical features contain missing values:\n",
    "\n",
    "*   workclass\n",
    "*   occupation\n",
    "\n",
    "Now, because it's only a small percentage of samples that contain either a missing workclass value or occupation value, we can safely drop those rows from the data set. If that percentage was much higher, then we would have to consider using a different data set that is more complete. \n",
    "\n",
    "Luckily, in Pandas, there is a convenient way to drop any row containing a missing value in the data set:\n",
    "\n",
    "```\n",
    "# pandas.DataFrame.dropna(how=\"any\", axis=0, inplace=True)\n",
    "```\n",
    "We will use this method prior to training the model when we convert a Pandas DataFrame to a Numpy array.\n",
    "\n",
    "As for the remaining data that does not contain any missing values: if we look at the min/max values and histograms for each numeric feature, then we can pinpoint any extreme outliers in our data set. \n",
    "\n",
    "For `hours_per_week`, we can see that the minimum is 1, which might be a bit surprising, given that most jobs typically require multiple hours of work per week. For `capital_gain` and `capital_loss`, we can see that over 90% of values are 0. Given that capital gains/losses are only registered by individuals who make investments, it's certainly plausible that less than 10% of examples would have nonzero values for these feature, but we may want to take a closer look to verify the values for these features are valid.\n",
    "\n",
    "In looking at the histogram for gender, we see that over two-thirds (approximately 67%) of examples represent males. This strongly suggests data skew, as we would expect the breakdown between genders to be closer to 50/50."
   ]
  },
  {
   "cell_type": "markdown",
   "metadata": {
    "colab_type": "text",
    "id": "hKj2hz-Sql7V"
   },
   "source": [
    "### A Deeper Dive\n",
    "\n",
    "To futher explore the dataset, we can use [Facets Dive](https://pair-code.github.io/facets/), a tool that provides an interactive interface where each individual item in the visualization represents a data point. But to use Facets Dive, we need to convert the data to a JSON array.\n",
    "Thankfully the DataFrame method `to_json()` takes care of this for us.\n",
    "\n",
    "Run the cell below to perform the data transform to JSON and also load Facets Dive. "
   ]
  },
  {
   "cell_type": "markdown",
   "metadata": {
    "cellView": "both",
    "colab": {
     "base_uri": "https://localhost:8080/",
     "height": 617
    },
    "colab_type": "code",
    "id": "stlklrG_xssF",
    "outputId": "bcdc8605-5178-4ab8-c05a-e519677f7a2e"
   },
   "source": [
    "```python\n",
    "# @title Set the Number of Data Points to Visualize in Facets Dive\n",
    "\n",
    "SAMPLE_SIZE = 5000  # @param\n",
    "\n",
    "train_dive = train_df.sample(SAMPLE_SIZE).to_json(orient=\"records\")\n",
    "\n",
    "HTML_TEMPLATE = \"\"\"<script src=\"https://cdnjs.cloudflare.com/ajax/libs/webcomponentsjs/1.3.3/webcomponents-lite.js\"></script>\n",
    "        <link rel=\"import\" href=\"https://raw.githubusercontent.com/PAIR-code/facets/1.0.0/facets-dist/facets-jupyter.html\">\n",
    "        <facets-dive id=\"elem\" height=\"600\"></facets-dive>\n",
    "        <script>\n",
    "          var data = {jsonstr};\n",
    "          document.querySelector(\"#elem\").data = data;\n",
    "        </script>\"\"\"\n",
    "html = HTML_TEMPLATE.format(jsonstr=train_dive)\n",
    "display(HTML(html))\n",
    "```"
   ]
  },
  {
   "cell_type": "markdown",
   "metadata": {
    "colab_type": "text",
    "id": "LxqAPDcRDFB2"
   },
   "source": [
    "## FairAware Task #2\n",
    "\n",
    "Use the menus on the left panel of the visualization to change how the data is organized:\n",
    "\n",
    "1. In the **Binning | X-Axis** menu, select **education**, and in the **Color By** and  **Label By** menus, select **income_bracket**. How would you describe the relationship between education level and income bracket?\n",
    "\n",
    "2. Next, in the **Binning | X-Axis** menu, select  **marital_status**, and in the **Color By** and  **Label By** menus, select **gender**. What noteworthy observations can you make about the gender distributions for each marital-status category?\n",
    "\n",
    "As you perform the above tasks, keep the following fairness-related questions in mind:\n",
    "\n",
    "* **What's missing?**\n",
    "* **What's being overgeneralized?**\n",
    "* **What's being underrepresented?**\n",
    "* **How do the variables, and their values, reflect the real world?**\n",
    "* **What might we be leaving out?**"
   ]
  },
  {
   "cell_type": "markdown",
   "metadata": {
    "colab_type": "text",
    "id": "qZ-9vJgSEpHj"
   },
   "source": [
    "### Solution\n",
    "\n",
    "Click below for some insights we uncovered."
   ]
  },
  {
   "cell_type": "markdown",
   "metadata": {
    "colab_type": "text",
    "id": "uYpbgdATEx8L"
   },
   "source": [
    "1. In the data set, higher education levels generally tend to correlate with a higher income bracket. An income level of greater than $50,000 is more heavily represented in examples where education level is Bachelor's degree or higher.\n",
    "\n",
    "2. In most marital-status categories, the distribution of male vs. female values is close to 1:1. The one notable exception is \"married-civ-spouse\", where male outnumbers female by more than 5:1. Given that we already discovered in Task #1 that there is a disproportionately high representation of men in the data set, we can now infer that it's married women specifically that are underrepresented in the data."
   ]
  },
  {
   "cell_type": "markdown",
   "metadata": {
    "colab_type": "text",
    "id": "7YVH8hYfSjer"
   },
   "source": [
    "### Summary\n",
    "\n",
    "Plotting histograms, ranking most-to-least common examples, identifying duplicate or missing examples, making sure the training and test sets are similar, computing feature quantiles—**these are all critical analyses to perform on your data.** \n",
    "\n",
    "**The better you know what's going on in your data, the more insight you'll have as to where unfairness might creep in!**"
   ]
  },
  {
   "cell_type": "markdown",
   "metadata": {
    "colab_type": "text",
    "id": "2ivWw9Wpj67m"
   },
   "source": [
    "## FairAware Task #3\n",
    "\n",
    "Now that you've explored the dataset using Facets, see if you can identify some of the problems that may arise with regard to fairness based on what you've learned about its features.\n",
    "\n",
    "Which of the following features might pose a problem with regard to fairness?\n",
    "\n",
    "### hours_per_week\n",
    "\n",
    "It does seem a little strange to see 'hours_per_week' max out at 99 hours,\n",
    "which could lead to data misrepresentation. One way to address this is by\n",
    "representing 'hours_per_week' as a binary \"working 40 hours/not working 40\n",
    "hours\" feature. Also keep in mind that data was extracted based on work hours\n",
    "being greater than 0. In other words, this feature representation exclude a\n",
    "subpopulation of the US that is not working. This could skew the outcomes of the\n",
    "model.\n",
    "\n",
    "### fnlwgt\n",
    "\n",
    "'fnlwgt' represents the weight of the observations. After fitting the model\n",
    "to this data set, if certain group of individuals end up performing poorly \n",
    "compared to other groups, then we could explore ways of reweighting each data \n",
    "point using this feature.\n",
    "\n",
    "### gender\n",
    "\n",
    "Looking at the ratio between men and women shows how disproportionate the data\n",
    "is compared to the real world where the ratio (at least in the US) is closer to\n",
    "1:1. This could pose a huge probem in performance across gender. Considerable\n",
    "measures may need to be taken to upsample the underrepresented group (in this\n",
    "case, women).\n",
    "\n",
    "### capital_gain / capital_loss\n",
    "\n",
    "As alluded to in Task #1, both 'capital_gain' and 'capital_loss' could be \n",
    "indicative of income status as only individuals who make investments register \n",
    "their capital gains and losses. The caveat is that over 90% of the values in \n",
    "both 'capital_gain' and 'capital_loss' are 0, and it's not entirely clear from \n",
    "the description of the data set why that is the case. That is, we don't know \n",
    "whether we should interpret all these 0s as \"no investment gain/loss or \"\n",
    "investment gain/loss is unknown.\" Lack of context is always a flag for concern, \n",
    "and one that could trigger fairness-related issues later on. For now, we are \n",
    "going to omit these features from the model, but you are more than welcome to \n",
    "experiment with them if you come up with an idea on how capital gains and \n",
    "losses should be handled.\n",
    "\n",
    "### age\n",
    "\n",
    "\"age\" has a lot of variance, so it might benefit from bucketing to learn\n",
    "fine-grained correlations between income and age, as well as to prevent\n",
    "overfitting."
   ]
  },
  {
   "cell_type": "markdown",
   "metadata": {
    "colab_type": "text",
    "id": "n3OT-YVpftEI"
   },
   "source": [
    "## Predicting income\n",
    "\n",
    "Now that we have a better sense of the Adult dataset, we can now begin with creating a neural network to predict income."
   ]
  },
  {
   "cell_type": "code",
   "execution_count": 4,
   "metadata": {
    "colab": {},
    "colab_type": "code",
    "id": "Bt-rQvJLx4Hm"
   },
   "outputs": [],
   "source": [
    "def extract_label(data):\n",
    "    # Drop empty rows.\n",
    "    data = data.dropna(how=\"any\", axis=0)\n",
    "\n",
    "    # Separate DataFrame into two Numpy arrays\"\n",
    "    labels = np.where(data[\"income_bracket\"] == \">50K\", 1.0, 0.0)\n",
    "    features = data.drop(\"income_bracket\", axis=1)\n",
    "\n",
    "    return features, labels\n",
    "\n",
    "\n",
    "dat_x, dat_y = extract_label(train_df)\n",
    "test_x, test_y = extract_label(test_df)"
   ]
  },
  {
   "cell_type": "markdown",
   "metadata": {
    "colab_type": "text",
    "id": "0mz2sts6IjBO"
   },
   "source": [
    "### Represent Features"
   ]
  },
  {
   "cell_type": "markdown",
   "metadata": {
    "colab_type": "text",
    "id": "3WqAbug6jePb"
   },
   "source": [
    "#### Make Age a Categorical Feature\n",
    "\n",
    "If you chose `age` when completing **FairAware Task #3**, you will have noticed that we suggested *bucketing* (also known as *binning*) this feature, grouping together similar ages into different groups. This might help the model generalize better across age. As such, we will convert `age` from a numeric feature (technically, an [ordinal feature](https://en.wikipedia.org/wiki/Ordinal_data)) to a categorical feature."
   ]
  },
  {
   "cell_type": "code",
   "execution_count": 5,
   "metadata": {
    "colab": {},
    "colab_type": "code",
    "id": "HxVm8X15yLR7"
   },
   "outputs": [],
   "source": [
    "age_buckets = [x for x in range(10, 100, 10)]\n",
    "dat_x[\"age_bucket\"] = pd.cut(dat_x[\"age\"], bins=age_buckets).astype(str)\n",
    "test_x[\"age_bucket\"] = pd.cut(test_x[\"age\"], bins=age_buckets).astype(str)\n",
    "\n",
    "# numerical_features = [\"age\", \"fnlwgt\", \"education_num\", \"capital_gain\", \"capital_loss\", \"hours_per_week\"]\n",
    "# categorical_features = [\"age_bucket\", \"occupation\", \"native_country\", \"gender\", \"race\", \"education\", \"marital_status\", \"relationship\", \"workclass\"]"
   ]
  },
  {
   "cell_type": "markdown",
   "metadata": {
    "colab_type": "text",
    "id": "2lx4JuLdi7jw"
   },
   "source": [
    "#### Consider Key Subgroups\n",
    "\n",
    "When performing feature engineering, it's important to keep in mind that you may be working with data drawn from individuals belonging to subgroups, for which you'll want to evaluate model performance separately.\n",
    "\n",
    "**_NOTE:_** *In this context, a subgroup is defined as a group of individuals who share a given characteristic—such as race, gender, or sexual orientation—that merits special consideration when evaluating a model with fairness in mind.*\n",
    "\n",
    "When we want our models to mitigate, or leverage, the learned signal of a characteristic pertaining to a subgroup, we will want to use different kinds of tools and techniques—**most of which are still actively being researched and developed**. You can find a list of related research work and techniques at our [Responsible AI Practices](https://ai.google/responsibilities/responsible-ai-practices/?category=fairness) page.\n",
    "\n",
    "As you work with different variables and define tasks for them, it can be useful to think about what comes next. For example, *where are the places where the interaction of the variable and the task could be a concern?*"
   ]
  },
  {
   "cell_type": "markdown",
   "metadata": {
    "colab_type": "text",
    "id": "5aD1OM8egad9"
   },
   "source": [
    "### Define the Model Features\n",
    "\n",
    "Now we can explicitly define which feature we will include in our model.\n",
    "\n",
    "We'll consider `gender` a subgroup and save it in a separate `subgroup_variables` list, so we can add special handling for it as needed."
   ]
  },
  {
   "cell_type": "markdown",
   "metadata": {
    "colab_type": "text",
    "id": "3nYSMg67jWaA"
   },
   "source": [
    "### Train a Deep Neural Net Model on Adult Dataset\n",
    "\n",
    "With the features now ready to go, we can try predicting income using deep learning.\n",
    "\n",
    "For the sake of simplicity, we are going to keep the neural network architecture light by simply **defining a feed-forward neural network with two hidden layers**.\n",
    "\n",
    "But first, we have to convert our high-dimensional categorical features into a low-dimensional and dense real-valued vector, which we call an embedding vector. Luckily, ```indicator_column``` (think of it as one-hot encoding) and ```embedding_column``` (that converts sparse features into dense features) helps us streamline the process.\n",
    "\n",
    "Based on our analysis of the data set from previous FairAware Tasks, we are going to move forward with the following features:\n",
    "\n",
    "- One-hot encode\n",
    "    -   `workclass`\n",
    "    -   `education`\n",
    "    -   `age_bucket`\n",
    "    -   `relationship`\n",
    "\n",
    "- Embedding\n",
    "    -   `native_country`\n",
    "    -   `occupation`\n",
    "\n",
    "All other features will be omitted from training — but you are welcome to experiment. `gender` is the only feature that will be used to filter the test set for subgroup evaluation purposes.\n",
    "\n",
    "The following cell creates the deep columns required to define the input layer of the model:"
   ]
  },
  {
   "cell_type": "code",
   "execution_count": 6,
   "metadata": {},
   "outputs": [],
   "source": [
    "ohe_features = [\n",
    "    \"workclass\",\n",
    "    \"education\",\n",
    "    \"age_bucket\",\n",
    "    \"relationship\",\n",
    "]\n",
    "embedding_layers = [\n",
    "    \"native_country\",\n",
    "    \"occupation\",\n",
    "]\n",
    "selected_features = ohe_features + embedding_layers"
   ]
  },
  {
   "cell_type": "markdown",
   "metadata": {},
   "source": [
    "### Logistic model (baseline)"
   ]
  },
  {
   "cell_type": "code",
   "execution_count": 7,
   "metadata": {},
   "outputs": [],
   "source": [
    "X, y = pd.get_dummies(dat_x[selected_features]), dat_y\n",
    "X_test, y_test = pd.get_dummies(test_x[selected_features]), test_y\n",
    "\n",
    "for col in X.columns:\n",
    "    if col not in X_test.columns:\n",
    "        X_test[col] = 0\n",
    "X_test = X_test[X.columns]"
   ]
  },
  {
   "cell_type": "code",
   "execution_count": 8,
   "metadata": {},
   "outputs": [
    {
     "name": "stdout",
     "output_type": "stream",
     "text": [
      "torch.float32\n",
      "torch.int64\n",
      "Training set: accuracy - 0.8326 | AUC - 0.7403\n",
      "    Test set: accuracy - 0.8296 | AUC - 0.7347\n"
     ]
    },
    {
     "name": "stderr",
     "output_type": "stream",
     "text": [
      "/home/leyan/anaconda3/envs/tensorflow/lib/python3.6/site-packages/torchmetrics/utilities/prints.py:36: UserWarning: Metric `AUROC` will save all targets and predictions in buffer. For large datasets this may lead to large memory footprint.\n",
      "  warnings.warn(*args, **kwargs)\n",
      "/home/leyan/anaconda3/envs/tensorflow/lib/python3.6/site-packages/torchmetrics/utilities/prints.py:36: UserWarning: Metric `AUROC` will save all targets and predictions in buffer. For large datasets this may lead to large memory footprint.\n",
      "  warnings.warn(*args, **kwargs)\n"
     ]
    }
   ],
   "source": [
    "logistic_model = LogisticRegression(random_state=42, max_iter=500).fit(X, y)\n",
    "train_pred, test_pred = logistic_model.predict(X), logistic_model.predict(X_test)\n",
    "\n",
    "train_pred = torch.Tensor(train_pred)\n",
    "y = torch.Tensor(y).type(torch.LongTensor)\n",
    "\n",
    "test_pred = torch.Tensor(test_pred)\n",
    "y_test = torch.Tensor(y_test).type(torch.LongTensor)\n",
    "\n",
    "print(train_pred.dtype)\n",
    "print(y.dtype)\n",
    "\n",
    "print(\n",
    "    f\"Training set: accuracy - {logistic_model.score(X, y):.4f} | AUC - {AUROC()(train_pred, y).item():.4f}\"\n",
    ")\n",
    "print(\n",
    "    f\"    Test set: accuracy - {logistic_model.score(X_test, y_test):.4f} | AUC - {AUROC()(test_pred, y_test).item():.4f}\"\n",
    ")"
   ]
  },
  {
   "cell_type": "markdown",
   "metadata": {},
   "source": [
    "### Neural network model with embedding"
   ]
  },
  {
   "cell_type": "code",
   "execution_count": 9,
   "metadata": {},
   "outputs": [],
   "source": [
    "encoders = {}\n",
    "for feat in selected_features:\n",
    "    enc = LabelEncoder()\n",
    "    dat_x[feat] = enc.fit_transform(dat_x[feat].to_numpy())\n",
    "    test_x[feat] = enc.transform(test_x[feat].to_numpy())\n",
    "    encoders[feat] = {\"encoder\": enc, \"classes\": enc.classes_.size}\n",
    "\n",
    "dat_x = dat_x[selected_features]\n",
    "test_x = test_x[selected_features]\n",
    "\n",
    "embedding_sizes = [encoders[x][\"classes\"] for x in embedding_layers]"
   ]
  },
  {
   "cell_type": "code",
   "execution_count": 10,
   "metadata": {},
   "outputs": [],
   "source": [
    "class IncomeDataset(Dataset):\n",
    "    def __init__(self, x1, x2, y, encoders):\n",
    "        \"\"\"\n",
    "        x1: list of one-hot encoded features\n",
    "        x2: list of embedding features\n",
    "        y: labels\n",
    "        \"\"\"\n",
    "        self.y = torch.tensor(y.reshape(-1, 1), dtype=torch.float)\n",
    "\n",
    "        self.x1 = torch.cat(\n",
    "            [\n",
    "                F.one_hot(\n",
    "                    torch.tensor(feat.to_numpy(), dtype=torch.long),\n",
    "                    num_classes=encoders[col][\"classes\"],\n",
    "                ).float()\n",
    "                for col, feat in x1.iteritems()\n",
    "            ],\n",
    "            dim=1,\n",
    "        )\n",
    "        self.x2 = torch.tensor(x2.to_numpy(), dtype=torch.long)\n",
    "\n",
    "    def __getitem__(self, idx):\n",
    "        return (self.x1[idx], self.x2[idx], self.y[idx])\n",
    "\n",
    "    def __len__(self):\n",
    "        return len(self.y)\n",
    "\n",
    "\n",
    "dat = IncomeDataset(dat_x[ohe_features], dat_x[embedding_layers], dat_y, encoders)\n",
    "dat_test = IncomeDataset(\n",
    "    test_x[ohe_features], test_x[embedding_layers], test_y, encoders\n",
    ")\n",
    "\n",
    "validation_set_size = int(len(dat.y) * 0.05)\n",
    "training_set_size = len(dat.y) - validation_set_size\n",
    "dat_train, dat_val = random_split(dat, [training_set_size, validation_set_size])"
   ]
  },
  {
   "cell_type": "code",
   "execution_count": 11,
   "metadata": {},
   "outputs": [],
   "source": [
    "# Seed everything\n",
    "# pl.seed_everything(42)\n",
    "seed = 42\n",
    "torch.manual_seed(seed)\n",
    "torch.cuda.manual_seed(seed)\n",
    "torch.cuda.manual_seed_all(seed)\n",
    "torch.backends.cudnn.deterministic = True\n",
    "\n",
    "hparams = {\n",
    "    \"layer1_units\": 128,\n",
    "    \"layer2_units\": 64,\n",
    "    \"learning_rate\": 0.1,\n",
    "    \"batch_size\": 500,\n",
    "    \"L1_regularization_strength\": 0.001,\n",
    "    \"L2_regularization_strength\": 0.001,\n",
    "    \"pred_cutoff\": 0.2,\n",
    "}\n",
    "\n",
    "epochs = 20\n"
   ]
  },
  {
   "cell_type": "code",
   "execution_count": 12,
   "metadata": {},
   "outputs": [
    {
     "data": {
      "text/plain": [
       "37"
      ]
     },
     "execution_count": 12,
     "metadata": {},
     "output_type": "execute_result"
    }
   ],
   "source": [
    " dat_train.dataset.x1.size(1)"
   ]
  },
  {
   "cell_type": "code",
   "execution_count": 13,
   "metadata": {},
   "outputs": [
    {
     "data": {
      "text/plain": [
       "NNModel(\n",
       "  (l_embeddings): ModuleList(\n",
       "    (0): Embedding(1000, 8)\n",
       "    (1): Embedding(1000, 8)\n",
       "  )\n",
       "  (l1): Linear(in_features=53, out_features=128, bias=True)\n",
       "  (l2): Linear(in_features=128, out_features=64, bias=True)\n",
       "  (l3): Linear(in_features=64, out_features=1, bias=True)\n",
       ")"
      ]
     },
     "execution_count": 13,
     "metadata": {},
     "output_type": "execute_result"
    }
   ],
   "source": [
    "class NNModel(nn.Module):\n",
    "    def __init__(self, hparams, embedding_sizes):\n",
    "        super().__init__()\n",
    "        self.hparams = hparams\n",
    "        self.dat_train = dat_train\n",
    "        self.dat_val = dat_val\n",
    "        self.dat_test = dat_test\n",
    "\n",
    "        self.l_embeddings = nn.ModuleList(\n",
    "            [\n",
    "                nn.Embedding(num_embeddings=1000, embedding_dim=8)\n",
    "                for _ in embedding_sizes\n",
    "            ]\n",
    "        )\n",
    "\n",
    "        self.l1 = nn.Linear(\n",
    "            37 + len(embedding_sizes) * 8,\n",
    "            hparams[\"layer1_units\"],\n",
    "        )\n",
    "        self.l2 = nn.Linear(hparams[\"layer1_units\"], hparams[\"layer2_units\"])\n",
    "        self.l3 = nn.Linear(hparams[\"layer2_units\"], 1)\n",
    "\n",
    "    def forward(self, x1, x2):\n",
    "        # Train embedding layers\n",
    "        x_embedding = [\n",
    "            l(x2[:, i].view(-1, 1)).view(x2.size(0), -1)\n",
    "            for i, l in enumerate(self.l_embeddings)\n",
    "        ]\n",
    "\n",
    "        # Flatten embedding layers\n",
    "        x = torch.cat(x_embedding, dim=1)\n",
    "        x = torch.cat((x1, x), dim=1)\n",
    "\n",
    "        # Fully connected layers\n",
    "        x = F.relu(self.l1(x))\n",
    "        x = F.relu(self.l2(x))\n",
    "        x = self.l3(x)\n",
    "\n",
    "        return x\n",
    "    \n",
    "NNModel(hparams, embedding_sizes)   "
   ]
  },
  {
   "cell_type": "code",
   "execution_count": 14,
   "metadata": {},
   "outputs": [],
   "source": [
    "device = torch.device(\"cuda:0\") if torch.cuda.is_available() else torch.device(\"cpu\")"
   ]
  },
  {
   "cell_type": "code",
   "execution_count": 15,
   "metadata": {},
   "outputs": [
    {
     "data": {
      "text/plain": [
       "criterion_loss(\n",
       "  (bce_with_logits): BCEWithLogitsLoss()\n",
       "  (L1): L1Loss()\n",
       ")"
      ]
     },
     "execution_count": 15,
     "metadata": {},
     "output_type": "execute_result"
    }
   ],
   "source": [
    "class criterion_loss(nn.Module):\n",
    "    def __init__(self, hparams):\n",
    "        super(criterion_loss, self).__init__()        \n",
    "        self.L1_regularization_strength = hparams[\"L1_regularization_strength\"]\n",
    "        self.bce_with_logits = nn.BCEWithLogitsLoss()\n",
    "        self.L1 = nn.L1Loss()\n",
    "        \n",
    "    def forward(self, y_hat, y_pred, y):\n",
    "        return self.bce_with_logits(\n",
    "            y_hat, y\n",
    "        ) + self.L1_regularization_strength * self.L1(y_pred, y)\n",
    "    \n",
    "    \n",
    "criterion = criterion_loss(hparams)           \n",
    "criterion"
   ]
  },
  {
   "cell_type": "code",
   "execution_count": 16,
   "metadata": {},
   "outputs": [
    {
     "name": "stderr",
     "output_type": "stream",
     "text": [
      "/home/leyan/anaconda3/envs/tensorflow/lib/python3.6/site-packages/torch/utils/data/dataloader.py:477: UserWarning: This DataLoader will create 8 worker processes in total. Our suggested max number of worker in current system is 6, which is smaller than what this DataLoader is going to create. Please be aware that excessive worker creation might get DataLoader running slow or even freeze, lower the worker number to avoid potential slowness/freeze if necessary.\n",
      "  cpuset_checked))\n"
     ]
    },
    {
     "name": "stdout",
     "output_type": "stream",
     "text": [
      "28654/28654: [===============================>] - ETA 0.1s\n",
      "1508/1508: [========================>.......] - ETA 0.0s\n"
     ]
    },
    {
     "data": {
      "text/plain": [
       "'[ Epoch | 001/020 ]           train_loss = 0.58040 train_accuracy = 0.68534 train_AUC = 0.74429  |           valid_loss = 0.34621 val_accuracy = 0.71050 val_AUC = 0.79881'"
      ]
     },
     "metadata": {},
     "output_type": "display_data"
    },
    {
     "name": "stdout",
     "output_type": "stream",
     "text": [
      "28654/28654: [===============================>] - ETA 0.0s\n",
      "1508/1508: [========================>.......] - ETA 0.0s\n"
     ]
    },
    {
     "data": {
      "text/plain": [
       "'[ Epoch | 002/020 ]           train_loss = 0.37267 train_accuracy = 0.74192 train_AUC = 0.78754  |           valid_loss = 0.34274 val_accuracy = 0.73500 val_AUC = 0.81019'"
      ]
     },
     "metadata": {},
     "output_type": "display_data"
    },
    {
     "name": "stdout",
     "output_type": "stream",
     "text": [
      "28654/28654: [===============================>] - ETA 0.0s\n",
      "1508/1508: [========================>.......] - ETA 0.0s\n"
     ]
    },
    {
     "data": {
      "text/plain": [
       "'[ Epoch | 003/020 ]           train_loss = 0.36692 train_accuracy = 0.75115 train_AUC = 0.79316  |           valid_loss = 0.33127 val_accuracy = 0.79225 val_AUC = 0.83963'"
      ]
     },
     "metadata": {},
     "output_type": "display_data"
    },
    {
     "name": "stdout",
     "output_type": "stream",
     "text": [
      "28654/28654: [===============================>] - ETA 0.0s\n",
      "1508/1508: [========================>.......] - ETA 0.0s\n"
     ]
    },
    {
     "data": {
      "text/plain": [
       "'[ Epoch | 004/020 ]           train_loss = 0.36678 train_accuracy = 0.75482 train_AUC = 0.79375  |           valid_loss = 0.32742 val_accuracy = 0.76000 val_AUC = 0.81758'"
      ]
     },
     "metadata": {},
     "output_type": "display_data"
    },
    {
     "name": "stdout",
     "output_type": "stream",
     "text": [
      "28654/28654: [===============================>] - ETA 0.0s\n",
      "1508/1508: [========================>.......] - ETA 0.0s\n"
     ]
    },
    {
     "data": {
      "text/plain": [
       "'[ Epoch | 005/020 ]           train_loss = 0.36590 train_accuracy = 0.75314 train_AUC = 0.79244  |           valid_loss = 0.33619 val_accuracy = 0.73050 val_AUC = 0.81102'"
      ]
     },
     "metadata": {},
     "output_type": "display_data"
    },
    {
     "name": "stdout",
     "output_type": "stream",
     "text": [
      "28654/28654: [===============================>] - ETA 0.0s\n",
      "1508/1508: [========================>.......] - ETA 0.0s\n"
     ]
    },
    {
     "data": {
      "text/plain": [
       "'[ Epoch | 006/020 ]           train_loss = 0.36260 train_accuracy = 0.75494 train_AUC = 0.79653  |           valid_loss = 0.32633 val_accuracy = 0.76400 val_AUC = 0.82299'"
      ]
     },
     "metadata": {},
     "output_type": "display_data"
    },
    {
     "name": "stdout",
     "output_type": "stream",
     "text": [
      "28654/28654: [===============================>] - ETA 0.0s\n",
      "1508/1508: [========================>.......] - ETA 0.0s\n"
     ]
    },
    {
     "data": {
      "text/plain": [
       "'[ Epoch | 007/020 ]           train_loss = 0.36241 train_accuracy = 0.75747 train_AUC = 0.79745  |           valid_loss = 0.37213 val_accuracy = 0.67800 val_AUC = 0.78509'"
      ]
     },
     "metadata": {},
     "output_type": "display_data"
    },
    {
     "name": "stdout",
     "output_type": "stream",
     "text": [
      "28654/28654: [===============================>] - ETA 0.0s\n",
      "1508/1508: [========================>.......] - ETA 0.0s\n"
     ]
    },
    {
     "data": {
      "text/plain": [
       "'[ Epoch | 008/020 ]           train_loss = 0.36214 train_accuracy = 0.75536 train_AUC = 0.79644  |           valid_loss = 0.32333 val_accuracy = 0.77450 val_AUC = 0.82170'"
      ]
     },
     "metadata": {},
     "output_type": "display_data"
    },
    {
     "name": "stdout",
     "output_type": "stream",
     "text": [
      "28654/28654: [===============================>] - ETA 0.0s\n",
      "1508/1508: [========================>.......] - ETA 0.0s\n"
     ]
    },
    {
     "data": {
      "text/plain": [
       "'[ Epoch | 009/020 ]           train_loss = 0.36153 train_accuracy = 0.75891 train_AUC = 0.79788  |           valid_loss = 0.33435 val_accuracy = 0.73400 val_AUC = 0.81259'"
      ]
     },
     "metadata": {},
     "output_type": "display_data"
    },
    {
     "name": "stdout",
     "output_type": "stream",
     "text": [
      "28654/28654: [===============================>] - ETA 0.0s\n",
      "1508/1508: [========================>.......] - ETA 0.0s\n"
     ]
    },
    {
     "data": {
      "text/plain": [
       "'[ Epoch | 010/020 ]           train_loss = 0.36037 train_accuracy = 0.75835 train_AUC = 0.79822  |           valid_loss = 0.32127 val_accuracy = 0.77500 val_AUC = 0.81992'"
      ]
     },
     "metadata": {},
     "output_type": "display_data"
    },
    {
     "name": "stdout",
     "output_type": "stream",
     "text": [
      "28654/28654: [===============================>] - ETA 0.0s\n",
      "1508/1508: [========================>.......] - ETA 0.0s\n"
     ]
    },
    {
     "data": {
      "text/plain": [
       "'[ Epoch | 011/020 ]           train_loss = 0.35932 train_accuracy = 0.75808 train_AUC = 0.79775  |           valid_loss = 0.32227 val_accuracy = 0.78550 val_AUC = 0.82227'"
      ]
     },
     "metadata": {},
     "output_type": "display_data"
    },
    {
     "name": "stdout",
     "output_type": "stream",
     "text": [
      "28654/28654: [===============================>] - ETA 0.0s\n",
      "1508/1508: [========================>.......] - ETA 0.0s\n"
     ]
    },
    {
     "data": {
      "text/plain": [
       "'[ Epoch | 012/020 ]           train_loss = 0.36038 train_accuracy = 0.75975 train_AUC = 0.79805  |           valid_loss = 0.33663 val_accuracy = 0.73400 val_AUC = 0.81401'"
      ]
     },
     "metadata": {},
     "output_type": "display_data"
    },
    {
     "name": "stdout",
     "output_type": "stream",
     "text": [
      "28654/28654: [===============================>] - ETA 0.0s\n",
      "1508/1508: [========================>.......] - ETA 0.0s\n"
     ]
    },
    {
     "data": {
      "text/plain": [
       "'[ Epoch | 013/020 ]           train_loss = 0.36097 train_accuracy = 0.75787 train_AUC = 0.79727  |           valid_loss = 0.32375 val_accuracy = 0.76550 val_AUC = 0.82228'"
      ]
     },
     "metadata": {},
     "output_type": "display_data"
    },
    {
     "name": "stdout",
     "output_type": "stream",
     "text": [
      "28654/28654: [===============================>] - ETA 0.0s\n",
      "1508/1508: [========================>.......] - ETA 0.0s\n"
     ]
    },
    {
     "data": {
      "text/plain": [
       "'[ Epoch | 014/020 ]           train_loss = 0.35966 train_accuracy = 0.75832 train_AUC = 0.79717  |           valid_loss = 0.32036 val_accuracy = 0.76550 val_AUC = 0.82556'"
      ]
     },
     "metadata": {},
     "output_type": "display_data"
    },
    {
     "name": "stdout",
     "output_type": "stream",
     "text": [
      "28654/28654: [===============================>] - ETA 0.0s\n",
      "1508/1508: [========================>.......] - ETA 0.0s\n"
     ]
    },
    {
     "data": {
      "text/plain": [
       "'[ Epoch | 015/020 ]           train_loss = 0.35877 train_accuracy = 0.75857 train_AUC = 0.79985  |           valid_loss = 0.32287 val_accuracy = 0.76000 val_AUC = 0.82104'"
      ]
     },
     "metadata": {},
     "output_type": "display_data"
    },
    {
     "name": "stdout",
     "output_type": "stream",
     "text": [
      "28654/28654: [===============================>] - ETA 0.0s\n",
      "1508/1508: [========================>.......] - ETA 0.0s\n"
     ]
    },
    {
     "data": {
      "text/plain": [
       "'[ Epoch | 016/020 ]           train_loss = 0.35866 train_accuracy = 0.75991 train_AUC = 0.79898  |           valid_loss = 0.31718 val_accuracy = 0.77450 val_AUC = 0.82600'"
      ]
     },
     "metadata": {},
     "output_type": "display_data"
    },
    {
     "name": "stdout",
     "output_type": "stream",
     "text": [
      "28654/28654: [===============================>] - ETA 0.0s\n",
      "1508/1508: [========================>.......] - ETA 0.0s\n"
     ]
    },
    {
     "data": {
      "text/plain": [
       "'[ Epoch | 017/020 ]           train_loss = 0.35833 train_accuracy = 0.75976 train_AUC = 0.79961  |           valid_loss = 0.31931 val_accuracy = 0.76800 val_AUC = 0.82485'"
      ]
     },
     "metadata": {},
     "output_type": "display_data"
    },
    {
     "name": "stdout",
     "output_type": "stream",
     "text": [
      "28654/28654: [===============================>] - ETA 0.0s\n",
      "1508/1508: [========================>.......] - ETA 0.0s\n"
     ]
    },
    {
     "data": {
      "text/plain": [
       "'[ Epoch | 018/020 ]           train_loss = 0.35872 train_accuracy = 0.76079 train_AUC = 0.79908  |           valid_loss = 0.33010 val_accuracy = 0.74700 val_AUC = 0.81703'"
      ]
     },
     "metadata": {},
     "output_type": "display_data"
    },
    {
     "name": "stdout",
     "output_type": "stream",
     "text": [
      "28654/28654: [===============================>] - ETA 0.0s\n",
      "1508/1508: [========================>.......] - ETA 0.0s\n"
     ]
    },
    {
     "data": {
      "text/plain": [
       "'[ Epoch | 019/020 ]           train_loss = 0.35788 train_accuracy = 0.76080 train_AUC = 0.80040  |           valid_loss = 0.32712 val_accuracy = 0.75700 val_AUC = 0.82424'"
      ]
     },
     "metadata": {},
     "output_type": "display_data"
    },
    {
     "name": "stdout",
     "output_type": "stream",
     "text": [
      "28654/28654: [===============================>] - ETA 0.0s\n",
      "1508/1508: [========================>.......] - ETA 0.0s\n"
     ]
    },
    {
     "data": {
      "text/plain": [
       "'[ Epoch | 020/020 ]           train_loss = 0.35855 train_accuracy = 0.75857 train_AUC = 0.79773  |           valid_loss = 0.32580 val_accuracy = 0.75200 val_AUC = 0.81887'"
      ]
     },
     "metadata": {},
     "output_type": "display_data"
    },
    {
     "name": "stdout",
     "output_type": "stream",
     "text": [
      "Defined the build_model and train_model functions.\n"
     ]
    }
   ],
   "source": [
    "# For now we use the entire dataset for training (no validation set)\n",
    "torch.manual_seed(42)\n",
    "model = None\n",
    "model = NNModel(hparams, embedding_sizes).to(device)\n",
    "criterion = criterion_loss(hparams)   \n",
    "\n",
    "optimizer = torch.optim.Adagrad(\n",
    "            model.parameters(),\n",
    "            lr=hparams[\"learning_rate\"],\n",
    "            weight_decay=hparams[\"L2_regularization_strength\"],\n",
    "        )\n",
    "\n",
    "train_loader = DataLoader(\n",
    "            dat_train,\n",
    "            batch_size=hparams[\"batch_size\"],\n",
    "            num_workers=8,\n",
    "            shuffle=True,\n",
    "        )\n",
    "\n",
    "valid_loader = DataLoader(\n",
    "            dat_val, batch_size=hparams[\"batch_size\"], num_workers=4\n",
    "        )\n",
    "\n",
    "test_loader = DataLoader(\n",
    "            dat_test, batch_size=hparams[\"batch_size\"], num_workers=4\n",
    "        )\n",
    "\n",
    "losses = []\n",
    "\n",
    "epoch_train_loss = []\n",
    "\n",
    "epoch_valid_loss = []\n",
    "\n",
    "for epoch in range(epochs):\n",
    "    # ---------- Training ----------\n",
    "    # Make sure the model is in train mode before training.\n",
    "    model.train()\n",
    "\n",
    "    # These are used to record information in training.\n",
    "    train_loss = []\n",
    "    train_accuracy = []    \n",
    "    train_AUC = []\n",
    "    \n",
    "    for batch in Bar(train_loader):\n",
    "        x1, x2, y = batch\n",
    "        x1, x2, y = x1.to(device), x2.to(device), y.to(device)       \n",
    "                \n",
    "        y_hat = model(x1, x2)\n",
    "        \n",
    "        y_pred = (y_hat.sigmoid() > hparams[\"pred_cutoff\"]).float()    \n",
    "        \n",
    "        loss = criterion(y_hat, y_pred, y)\n",
    "        \n",
    "        y = y.type(torch.LongTensor).cpu()\n",
    "        y_pred = y_pred.cpu()        \n",
    "       \n",
    "        accuarcy = Accuracy()(y_pred, y)\n",
    "        auc = AUROC()(y_pred, y)        \n",
    "        \n",
    "        optimizer.zero_grad()\n",
    "        loss.backward()\n",
    "        optimizer.step()  \n",
    "        \n",
    "        # Record the loss and accuracy.\n",
    "        train_loss.append(loss.item())\n",
    "        train_accuracy.append(accuarcy.item())\n",
    "        train_AUC.append(auc.item())\n",
    "        \n",
    "    train_loss = sum(train_loss) / len(train_loss)\n",
    "    train_accuracy = sum(train_accuracy) / len(train_accuracy)\n",
    "    train_AUC = sum(train_AUC) / len(train_AUC)\n",
    "    \n",
    "    epoch_train_loss.append(train_loss)\n",
    "   \n",
    "    # ---------- Validation ----------\n",
    "    # Make sure the model is in eval mode so that some modules like dropout are disabled and work normally.\n",
    "    model.eval()\n",
    "    \n",
    "    # These are used to record information in validation.\n",
    "    valid_loss = []\n",
    "    valid_accuracy = []    \n",
    "    valid_AUC = []\n",
    "    \n",
    "    # Iterate the validation set by batches.\n",
    "    for batch in Bar(valid_loader):\n",
    "        x1, x2, y = batch\n",
    "        x1, x2, y = x1.to(device), x2.to(device), y.to(device)       \n",
    "                \n",
    "        y_hat = model(x1, x2)\n",
    "        \n",
    "        y_pred = (y_hat.sigmoid() > hparams[\"pred_cutoff\"]).float()    \n",
    "        \n",
    "        loss = criterion(y_hat, y_pred, y)\n",
    "        \n",
    "        y = y.type(torch.LongTensor).cpu()\n",
    "        y_pred = y_pred.cpu()        \n",
    "       \n",
    "        accuarcy = Accuracy()(y_pred, y)\n",
    "        auc = AUROC()(y_pred, y)      \n",
    "        \n",
    "        # Record the loss and accuracy.\n",
    "        valid_loss.append(loss.item())\n",
    "        valid_accuracy.append(accuarcy.item())\n",
    "        valid_AUC.append(auc.item())\n",
    "        \n",
    "     # The average loss and accuracy for entire validation set is the average of the recorded values.\n",
    "    valid_loss = sum(valid_loss) / len(valid_loss)\n",
    "    valid_accuracy = sum(valid_accuracy) / len(valid_accuracy)\n",
    "    valid_AUC = sum(valid_AUC) / len(valid_AUC)\n",
    "    \n",
    "    epoch_valid_loss.append(valid_loss)\n",
    "        \n",
    "    # Print the information.\n",
    "    display(f\"[ Epoch | {epoch + 1:03d}/{epochs:03d} ] \\\n",
    "          train_loss = {train_loss:.5f} train_accuracy = {train_accuracy:.5f} train_AUC = {train_AUC:.5f}  | \\\n",
    "          valid_loss = {valid_loss:.5f} val_accuracy = {valid_accuracy:.5f} val_AUC = {valid_AUC:.5f}\")\n",
    "\n",
    "print(\"Defined the build_model and train_model functions.\")"
   ]
  },
  {
   "cell_type": "code",
   "execution_count": 17,
   "metadata": {},
   "outputs": [
    {
     "name": "stdout",
     "output_type": "stream",
     "text": [
      "15060/15060: [==============================>.] - ETA 0.0s\n"
     ]
    },
    {
     "data": {
      "text/plain": [
       "{'avg_test_loss': 0.35960320599617496,\n",
       " 'avg_test_accuracy': 0.7541935443878174,\n",
       " 'avg_test_precision': 0.5002116541708669,\n",
       " 'avg_test_recall': 0.8815959845819781,\n",
       " 'avg_test_AUC': 0.7970910976009984}"
      ]
     },
     "execution_count": 17,
     "metadata": {},
     "output_type": "execute_result"
    }
   ],
   "source": [
    "# ---------- Validation ----------\n",
    "# Make sure the model is in eval mode so that some modules like dropout are disabled and work normally.\n",
    "model.eval()\n",
    "\n",
    "# These are used to record information in validation.\n",
    "test_loss = []\n",
    "test_accuracy = []  \n",
    "test_precision= [] \n",
    "test_recall= [] \n",
    "test_AUC = []\n",
    "\n",
    "# Iterate the validation set by batches.\n",
    "for batch in Bar(test_loader):\n",
    "    x1, x2, y = batch\n",
    "    x1, x2, y = x1.to(device), x2.to(device), y.to(device)       \n",
    "\n",
    "    y_hat = model(x1, x2)\n",
    "\n",
    "    y_pred = (y_hat.sigmoid() > hparams[\"pred_cutoff\"]).float()    \n",
    "\n",
    "    loss = criterion(y_hat, y_pred, y)\n",
    "\n",
    "    y = y.type(torch.LongTensor).cpu()\n",
    "    y_pred = y_pred.cpu()        \n",
    "\n",
    "    accuarcy = Accuracy()(y_pred, y)\n",
    "    precision = Precision()(y_pred, y)\n",
    "    recall = Recall()(y_pred, y)\n",
    "    \n",
    "    auc = AUROC()(y_pred, y)      \n",
    "\n",
    "    # Record the loss and accuracy.\n",
    "    test_loss.append(loss.item())\n",
    "    test_accuracy.append(accuarcy.item())\n",
    "    test_precision.append(precision.item())\n",
    "    test_recall.append(recall.item())\n",
    "    test_AUC.append(auc.item())\n",
    "\n",
    " # The average loss and accuracy for entire validation set is the average of the recorded values.\n",
    "avg_loss = sum(test_loss) / len(test_loss)\n",
    "avg_acc = sum(test_accuracy) / len(test_accuracy)\n",
    "avg_precision = sum(test_precision) / len(test_precision)\n",
    "avg_recall = sum(test_recall) / len(test_recall)\n",
    "avg_AUC = sum(test_AUC) / len(test_AUC)\n",
    "\n",
    "{\n",
    "    \"avg_test_loss\": avg_loss,\n",
    "    \"avg_test_accuracy\": avg_acc,\n",
    "    \"avg_test_precision\": avg_precision,\n",
    "    \"avg_test_recall\": avg_recall,\n",
    "    \"avg_test_AUC\": avg_AUC\n",
    "}"
   ]
  },
  {
   "cell_type": "code",
   "execution_count": 18,
   "metadata": {},
   "outputs": [],
   "source": [
    "seed = 42\n",
    "torch.manual_seed(seed)\n",
    "torch.cuda.manual_seed(seed)\n",
    "torch.cuda.manual_seed_all(seed)\n",
    "torch.backends.cudnn.deterministic = True\n",
    "\n",
    "hyperparams = {\n",
    "    \"layer1_units\": 128,\n",
    "    \"layer2_units\": 64,\n",
    "    \"learning_rate\": 0.1,\n",
    "    \"batch_size\": 500,\n",
    "    \"L1_regularization_strength\": 0.001,\n",
    "    \"L2_regularization_strength\": 0.001,\n",
    "    \"pred_cutoff\": 0.2,\n",
    "}\n",
    "\n",
    "epochs = 20"
   ]
  },
  {
   "cell_type": "code",
   "execution_count": 19,
   "metadata": {},
   "outputs": [],
   "source": [
    "def perf_measure(y_actual, y_pred):\n",
    "    TP = 0\n",
    "    FP = 0\n",
    "    TN = 0\n",
    "    FN = 0\n",
    "\n",
    "    for i in range(len(y_pred)): \n",
    "        if y_actual[i]==y_pred[i]==1:\n",
    "            TP += 1\n",
    "        if y_pred[i]==1 and y_actual[i]!=y_pred[i]:\n",
    "            FP += 1\n",
    "        if y_actual[i]==y_pred[i]==0:\n",
    "            TN += 1\n",
    "        if y_pred[i]==0 and y_actual[i]!=y_pred[i]:\n",
    "            FN += 1\n",
    "    return(TP, FP, TN, FN)"
   ]
  },
  {
   "cell_type": "code",
   "execution_count": 20,
   "metadata": {},
   "outputs": [
    {
     "name": "stdout",
     "output_type": "stream",
     "text": [
      "28654/28654: [===============================>] - ETA 0.0s\n",
      "1508/1508: [========================>.......] - ETA 0.0s\n"
     ]
    },
    {
     "data": {
      "text/plain": [
       "'[ Epoch | 001/020 ]           train_loss = 0.58040 train_accuracy = 0.68534 train_AUC = 0.74429  |           valid_loss = 0.34621 val_accuracy = 0.71050 val_AUC = 0.79881'"
      ]
     },
     "metadata": {},
     "output_type": "display_data"
    },
    {
     "name": "stdout",
     "output_type": "stream",
     "text": [
      "28654/28654: [===============================>] - ETA 0.0s\n",
      "1508/1508: [========================>.......] - ETA 0.0s\n"
     ]
    },
    {
     "data": {
      "text/plain": [
       "'[ Epoch | 002/020 ]           train_loss = 0.37267 train_accuracy = 0.74192 train_AUC = 0.78754  |           valid_loss = 0.34274 val_accuracy = 0.73500 val_AUC = 0.81019'"
      ]
     },
     "metadata": {},
     "output_type": "display_data"
    },
    {
     "name": "stdout",
     "output_type": "stream",
     "text": [
      "28654/28654: [===============================>] - ETA 0.0s\n",
      "1508/1508: [========================>.......] - ETA 0.0s\n"
     ]
    },
    {
     "data": {
      "text/plain": [
       "'[ Epoch | 003/020 ]           train_loss = 0.36692 train_accuracy = 0.75115 train_AUC = 0.79316  |           valid_loss = 0.33127 val_accuracy = 0.79225 val_AUC = 0.83963'"
      ]
     },
     "metadata": {},
     "output_type": "display_data"
    },
    {
     "name": "stdout",
     "output_type": "stream",
     "text": [
      "28654/28654: [===============================>] - ETA 0.0s\n",
      "1508/1508: [========================>.......] - ETA 0.0s\n"
     ]
    },
    {
     "data": {
      "text/plain": [
       "'[ Epoch | 004/020 ]           train_loss = 0.36678 train_accuracy = 0.75482 train_AUC = 0.79375  |           valid_loss = 0.32742 val_accuracy = 0.76000 val_AUC = 0.81758'"
      ]
     },
     "metadata": {},
     "output_type": "display_data"
    },
    {
     "name": "stdout",
     "output_type": "stream",
     "text": [
      "28654/28654: [===============================>] - ETA 0.0s\n",
      "1508/1508: [========================>.......] - ETA 0.0s\n"
     ]
    },
    {
     "data": {
      "text/plain": [
       "'[ Epoch | 005/020 ]           train_loss = 0.36590 train_accuracy = 0.75314 train_AUC = 0.79244  |           valid_loss = 0.33619 val_accuracy = 0.73050 val_AUC = 0.81102'"
      ]
     },
     "metadata": {},
     "output_type": "display_data"
    },
    {
     "name": "stdout",
     "output_type": "stream",
     "text": [
      "28654/28654: [===============================>] - ETA 0.0s\n",
      "1508/1508: [========================>.......] - ETA 0.0s\n"
     ]
    },
    {
     "data": {
      "text/plain": [
       "'[ Epoch | 006/020 ]           train_loss = 0.36260 train_accuracy = 0.75494 train_AUC = 0.79653  |           valid_loss = 0.32633 val_accuracy = 0.76400 val_AUC = 0.82299'"
      ]
     },
     "metadata": {},
     "output_type": "display_data"
    },
    {
     "name": "stdout",
     "output_type": "stream",
     "text": [
      "28654/28654: [===============================>] - ETA 0.0s\n",
      "1508/1508: [========================>.......] - ETA 0.0s\n"
     ]
    },
    {
     "data": {
      "text/plain": [
       "'[ Epoch | 007/020 ]           train_loss = 0.36241 train_accuracy = 0.75747 train_AUC = 0.79745  |           valid_loss = 0.37213 val_accuracy = 0.67800 val_AUC = 0.78509'"
      ]
     },
     "metadata": {},
     "output_type": "display_data"
    },
    {
     "name": "stdout",
     "output_type": "stream",
     "text": [
      "28654/28654: [===============================>] - ETA 0.0s\n",
      "1508/1508: [========================>.......] - ETA 0.0s\n"
     ]
    },
    {
     "data": {
      "text/plain": [
       "'[ Epoch | 008/020 ]           train_loss = 0.36214 train_accuracy = 0.75536 train_AUC = 0.79644  |           valid_loss = 0.32333 val_accuracy = 0.77450 val_AUC = 0.82170'"
      ]
     },
     "metadata": {},
     "output_type": "display_data"
    },
    {
     "name": "stdout",
     "output_type": "stream",
     "text": [
      "28654/28654: [===============================>] - ETA 0.0s\n",
      "1508/1508: [========================>.......] - ETA 0.0s\n"
     ]
    },
    {
     "data": {
      "text/plain": [
       "'[ Epoch | 009/020 ]           train_loss = 0.36153 train_accuracy = 0.75891 train_AUC = 0.79788  |           valid_loss = 0.33435 val_accuracy = 0.73400 val_AUC = 0.81259'"
      ]
     },
     "metadata": {},
     "output_type": "display_data"
    },
    {
     "name": "stdout",
     "output_type": "stream",
     "text": [
      "28654/28654: [===============================>] - ETA 0.0s\n",
      "1508/1508: [========================>.......] - ETA 0.0s\n"
     ]
    },
    {
     "data": {
      "text/plain": [
       "'[ Epoch | 010/020 ]           train_loss = 0.36037 train_accuracy = 0.75835 train_AUC = 0.79822  |           valid_loss = 0.32127 val_accuracy = 0.77500 val_AUC = 0.81992'"
      ]
     },
     "metadata": {},
     "output_type": "display_data"
    },
    {
     "name": "stdout",
     "output_type": "stream",
     "text": [
      "28654/28654: [===============================>] - ETA 0.0s\n",
      "1508/1508: [========================>.......] - ETA 0.0s\n"
     ]
    },
    {
     "data": {
      "text/plain": [
       "'[ Epoch | 011/020 ]           train_loss = 0.35932 train_accuracy = 0.75808 train_AUC = 0.79775  |           valid_loss = 0.32227 val_accuracy = 0.78550 val_AUC = 0.82227'"
      ]
     },
     "metadata": {},
     "output_type": "display_data"
    },
    {
     "name": "stdout",
     "output_type": "stream",
     "text": [
      "28654/28654: [===============================>] - ETA 0.0s\n",
      "1508/1508: [========================>.......] - ETA 0.0s\n"
     ]
    },
    {
     "data": {
      "text/plain": [
       "'[ Epoch | 012/020 ]           train_loss = 0.36038 train_accuracy = 0.75975 train_AUC = 0.79805  |           valid_loss = 0.33663 val_accuracy = 0.73400 val_AUC = 0.81401'"
      ]
     },
     "metadata": {},
     "output_type": "display_data"
    },
    {
     "name": "stdout",
     "output_type": "stream",
     "text": [
      "28654/28654: [===============================>] - ETA 0.0s\n",
      "1508/1508: [========================>.......] - ETA 0.0s\n"
     ]
    },
    {
     "data": {
      "text/plain": [
       "'[ Epoch | 013/020 ]           train_loss = 0.36097 train_accuracy = 0.75787 train_AUC = 0.79727  |           valid_loss = 0.32375 val_accuracy = 0.76550 val_AUC = 0.82228'"
      ]
     },
     "metadata": {},
     "output_type": "display_data"
    },
    {
     "name": "stdout",
     "output_type": "stream",
     "text": [
      "28654/28654: [===============================>] - ETA 0.0s\n",
      "1508/1508: [========================>.......] - ETA 0.0s\n"
     ]
    },
    {
     "data": {
      "text/plain": [
       "'[ Epoch | 014/020 ]           train_loss = 0.35966 train_accuracy = 0.75832 train_AUC = 0.79717  |           valid_loss = 0.32036 val_accuracy = 0.76550 val_AUC = 0.82556'"
      ]
     },
     "metadata": {},
     "output_type": "display_data"
    },
    {
     "name": "stdout",
     "output_type": "stream",
     "text": [
      "28654/28654: [===============================>] - ETA 0.0s\n",
      "1508/1508: [========================>.......] - ETA 0.0s\n"
     ]
    },
    {
     "data": {
      "text/plain": [
       "'[ Epoch | 015/020 ]           train_loss = 0.35877 train_accuracy = 0.75857 train_AUC = 0.79985  |           valid_loss = 0.32287 val_accuracy = 0.76000 val_AUC = 0.82104'"
      ]
     },
     "metadata": {},
     "output_type": "display_data"
    },
    {
     "name": "stdout",
     "output_type": "stream",
     "text": [
      "28654/28654: [===============================>] - ETA 0.0s\n",
      "1508/1508: [========================>.......] - ETA 0.0s\n"
     ]
    },
    {
     "data": {
      "text/plain": [
       "'[ Epoch | 016/020 ]           train_loss = 0.35866 train_accuracy = 0.75991 train_AUC = 0.79898  |           valid_loss = 0.31718 val_accuracy = 0.77450 val_AUC = 0.82600'"
      ]
     },
     "metadata": {},
     "output_type": "display_data"
    },
    {
     "name": "stdout",
     "output_type": "stream",
     "text": [
      "28654/28654: [===============================>] - ETA 0.0s\n",
      "1508/1508: [========================>.......] - ETA 0.0s\n"
     ]
    },
    {
     "data": {
      "text/plain": [
       "'[ Epoch | 017/020 ]           train_loss = 0.35833 train_accuracy = 0.75976 train_AUC = 0.79961  |           valid_loss = 0.31931 val_accuracy = 0.76800 val_AUC = 0.82485'"
      ]
     },
     "metadata": {},
     "output_type": "display_data"
    },
    {
     "name": "stdout",
     "output_type": "stream",
     "text": [
      "28654/28654: [===============================>] - ETA 0.0s\n",
      "1508/1508: [========================>.......] - ETA 0.0s\n"
     ]
    },
    {
     "data": {
      "text/plain": [
       "'[ Epoch | 018/020 ]           train_loss = 0.35872 train_accuracy = 0.76079 train_AUC = 0.79908  |           valid_loss = 0.33010 val_accuracy = 0.74700 val_AUC = 0.81703'"
      ]
     },
     "metadata": {},
     "output_type": "display_data"
    },
    {
     "name": "stdout",
     "output_type": "stream",
     "text": [
      "28654/28654: [===============================>] - ETA 0.0s\n",
      "1508/1508: [========================>.......] - ETA 0.0s\n"
     ]
    },
    {
     "data": {
      "text/plain": [
       "'[ Epoch | 019/020 ]           train_loss = 0.35788 train_accuracy = 0.76080 train_AUC = 0.80040  |           valid_loss = 0.32712 val_accuracy = 0.75700 val_AUC = 0.82424'"
      ]
     },
     "metadata": {},
     "output_type": "display_data"
    },
    {
     "name": "stdout",
     "output_type": "stream",
     "text": [
      "28654/28654: [===============================>] - ETA 0.0s\n",
      "1508/1508: [========================>.......] - ETA 0.1s\n"
     ]
    },
    {
     "data": {
      "text/plain": [
       "'[ Epoch | 020/020 ]           train_loss = 0.35855 train_accuracy = 0.75857 train_AUC = 0.79773  |           valid_loss = 0.32580 val_accuracy = 0.75200 val_AUC = 0.81887'"
      ]
     },
     "metadata": {},
     "output_type": "display_data"
    },
    {
     "name": "stdout",
     "output_type": "stream",
     "text": [
      "Defined the build_model and train_model functions.\n"
     ]
    }
   ],
   "source": [
    "# For now we use the entire dataset for training (no validation set)\n",
    "torch.manual_seed(42)\n",
    "model = None\n",
    "model = NNModel(hparams, embedding_sizes).to(device)\n",
    "criterion = criterion_loss(hparams)   \n",
    "\n",
    "optimizer = torch.optim.Adagrad(\n",
    "            model.parameters(),\n",
    "            lr=hparams[\"learning_rate\"],\n",
    "            weight_decay=hparams[\"L2_regularization_strength\"],\n",
    "        )\n",
    "\n",
    "train_loader = DataLoader(\n",
    "            dat_train,\n",
    "            batch_size=hparams[\"batch_size\"],\n",
    "            num_workers=8,\n",
    "            shuffle=True,\n",
    "        )\n",
    "\n",
    "valid_loader = DataLoader(\n",
    "            dat_val, batch_size=hparams[\"batch_size\"], num_workers=4\n",
    "        )\n",
    "\n",
    "test_loader = DataLoader(\n",
    "            dat_test, batch_size=hparams[\"batch_size\"], num_workers=4\n",
    "        )\n",
    "\n",
    "losses = []\n",
    "\n",
    "epoch_train_loss = []\n",
    "\n",
    "epoch_valid_loss = []\n",
    "\n",
    "for epoch in range(epochs):\n",
    "    # ---------- Training ----------\n",
    "    # Make sure the model is in train mode before training.\n",
    "    model.train()\n",
    "\n",
    "    # These are used to record information in training.\n",
    "    train_loss = []\n",
    "    train_accuracy = []    \n",
    "    train_AUC = []\n",
    "    \n",
    "    for batch in Bar(train_loader):\n",
    "        x1, x2, y = batch\n",
    "        x1, x2, y = x1.to(device), x2.to(device), y.to(device)       \n",
    "                \n",
    "        y_hat = model(x1, x2)\n",
    "        \n",
    "        y_pred = (y_hat.sigmoid() > hparams[\"pred_cutoff\"]).float()    \n",
    "        \n",
    "        loss = criterion(y_hat, y_pred, y)\n",
    "        \n",
    "        y = y.type(torch.LongTensor).cpu()\n",
    "        y_pred = y_pred.cpu()        \n",
    "       \n",
    "        accuarcy = Accuracy()(y_pred, y)\n",
    "        auc = AUROC()(y_pred, y)        \n",
    "        \n",
    "        optimizer.zero_grad()\n",
    "        loss.backward()\n",
    "        optimizer.step()  \n",
    "        \n",
    "        # Record the loss and accuracy.\n",
    "        train_loss.append(loss.item())\n",
    "        train_accuracy.append(accuarcy.item())\n",
    "        train_AUC.append(auc.item())\n",
    "        \n",
    "    train_loss = sum(train_loss) / len(train_loss)\n",
    "    train_accuracy = sum(train_accuracy) / len(train_accuracy)\n",
    "    train_AUC = sum(train_AUC) / len(train_AUC)\n",
    "    \n",
    "    epoch_train_loss.append(train_loss)\n",
    "   \n",
    "    # ---------- Validation ----------\n",
    "    # Make sure the model is in eval mode so that some modules like dropout are disabled and work normally.\n",
    "    model.eval()\n",
    "    \n",
    "    # These are used to record information in validation.\n",
    "    valid_loss = []\n",
    "    valid_accuracy = []    \n",
    "    valid_AUC = []\n",
    "    \n",
    "    # Iterate the validation set by batches.\n",
    "    for batch in Bar(valid_loader):\n",
    "        x1, x2, y = batch\n",
    "        x1, x2, y = x1.to(device), x2.to(device), y.to(device)       \n",
    "                \n",
    "        y_hat = model(x1, x2)\n",
    "        \n",
    "        y_pred = (y_hat.sigmoid() > hparams[\"pred_cutoff\"]).float()    \n",
    "        \n",
    "        loss = criterion(y_hat, y_pred, y)\n",
    "        \n",
    "        y = y.type(torch.LongTensor).cpu()\n",
    "        y_pred = y_pred.cpu()        \n",
    "       \n",
    "        accuarcy = Accuracy()(y_pred, y)\n",
    "        auc = AUROC()(y_pred, y)      \n",
    "        \n",
    "        # Record the loss and accuracy.\n",
    "        valid_loss.append(loss.item())\n",
    "        valid_accuracy.append(accuarcy.item())\n",
    "        valid_AUC.append(auc.item())\n",
    "        \n",
    "     # The average loss and accuracy for entire validation set is the average of the recorded values.\n",
    "    valid_loss = sum(valid_loss) / len(valid_loss)\n",
    "    valid_accuracy = sum(valid_accuracy) / len(valid_accuracy)\n",
    "    valid_AUC = sum(valid_AUC) / len(valid_AUC)\n",
    "    \n",
    "    epoch_valid_loss.append(valid_loss)\n",
    "        \n",
    "    # Print the information.\n",
    "    display(f\"[ Epoch | {epoch + 1:03d}/{epochs:03d} ] \\\n",
    "          train_loss = {train_loss:.5f} train_accuracy = {train_accuracy:.5f} train_AUC = {train_AUC:.5f}  | \\\n",
    "          valid_loss = {valid_loss:.5f} val_accuracy = {valid_accuracy:.5f} val_AUC = {valid_AUC:.5f}\")\n",
    "\n",
    "print(\"Defined the build_model and train_model functions.\")"
   ]
  },
  {
   "cell_type": "code",
   "execution_count": 21,
   "metadata": {},
   "outputs": [
    {
     "name": "stdout",
     "output_type": "stream",
     "text": [
      "15060/15060: [==============================>.] - ETA 0.1s\n"
     ]
    },
    {
     "data": {
      "text/plain": [
       "{'avg_test_loss': 0.35960320599617496,\n",
       " 'avg_test_accuracy': 0.7541935443878174,\n",
       " 'avg_test_precision': 0.5002116541708669,\n",
       " 'avg_test_recall': 0.8815959845819781,\n",
       " 'avg_test_AUC': 0.7970910976009984}"
      ]
     },
     "execution_count": 21,
     "metadata": {},
     "output_type": "execute_result"
    }
   ],
   "source": [
    "# ---------- Validation ----------\n",
    "# Make sure the model is in eval mode so that some modules like dropout are disabled and work normally.\n",
    "model.eval()\n",
    "\n",
    "# These are used to record information in validation.\n",
    "test_loss = []\n",
    "test_accuracy = []  \n",
    "test_precision= [] \n",
    "test_recall= [] \n",
    "test_AUC = []\n",
    "\n",
    "\n",
    "TPs, FPs, TNs, FNs = 0, 0, 0, 0\n",
    "\n",
    "# Iterate the validation set by batches.\n",
    "for batch in Bar(test_loader):\n",
    "    x1, x2, y = batch\n",
    "    x1, x2, y = x1.to(device), x2.to(device), y.to(device)       \n",
    "\n",
    "    y_hat = model(x1, x2)\n",
    "\n",
    "    y_pred = (y_hat.sigmoid() > hparams[\"pred_cutoff\"]).float()    \n",
    "\n",
    "    loss = criterion(y_hat, y_pred, y)\n",
    "\n",
    "    y = y.type(torch.LongTensor).cpu()\n",
    "    y_pred = y_pred.cpu()   \n",
    "    \n",
    "    TP, FP, TN, FN = perf_measure(y, y_pred)\n",
    "    \n",
    "    TPs = TPs + TP\n",
    "    FPs = FPs + FP\n",
    "    TNs = TNs + TN\n",
    "    FNs = FNs + FN\n",
    "\n",
    "    accuarcy = Accuracy()(y_pred, y)\n",
    "    precision = Precision()(y_pred, y)\n",
    "    recall = Recall()(y_pred, y)\n",
    "    \n",
    "    auc = AUROC()(y_pred, y)      \n",
    "\n",
    "    # Record the loss and accuracy.\n",
    "    test_loss.append(loss.item())\n",
    "    test_accuracy.append(accuarcy.item())\n",
    "    test_precision.append(precision.item())\n",
    "    test_recall.append(recall.item())\n",
    "    test_AUC.append(auc.item())\n",
    "\n",
    " # The average loss and accuracy for entire validation set is the average of the recorded values.\n",
    "avg_loss = sum(test_loss) / len(test_loss)\n",
    "avg_acc = sum(test_accuracy) / len(test_accuracy)\n",
    "avg_precision = sum(test_precision) / len(test_precision)\n",
    "avg_recall = sum(test_recall) / len(test_recall)\n",
    "avg_AUC = sum(test_AUC) / len(test_AUC)\n",
    "\n",
    "{\n",
    "    \"avg_test_loss\": avg_loss,\n",
    "    \"avg_test_accuracy\": avg_acc,\n",
    "    \"avg_test_precision\": avg_precision,\n",
    "    \"avg_test_recall\": avg_recall,\n",
    "    \"avg_test_AUC\": avg_AUC\n",
    "}"
   ]
  },
  {
   "cell_type": "markdown",
   "metadata": {
    "colab_type": "text",
    "id": "7j0LrXMGlTDl"
   },
   "source": [
    "You can try retraining the model using different parameters. If you leave the parameters as is, then you see that this relatively simple deep neural net does a decent job in predicting income with an **overall accuracy of 0.8317** and an **AUC of 0.8817**. \n",
    "\n",
    "**But evaluation metrics with respect to subgroups are missing.** We will cover some of the ways you can evaluate at the subgroup level in the next section."
   ]
  },
  {
   "cell_type": "markdown",
   "metadata": {
    "colab_type": "text",
    "id": "sbwmbnUUU1kY"
   },
   "source": [
    "## Evaluating for Fairness Using a Confusion Matrix\n",
    "\n",
    "While evaluating the overall performance of the model gives us some insight into its quality, it doesn't give us much insight into how well our model performs for different subgroups.  \n",
    "\n",
    "When evaluating a model for fairness, it's important to determine whether prediction errors are uniform across subgroups or whether certain subgroups are more susceptible to certain prediction errors than others. \n",
    "\n",
    "A key tool for comparing the prevalence of different types of model errors is a *confusion matrix*. Recall from the [Classification module of Machine Learning Crash Course](https://developers.google.com/machine-learning/crash-course/classification/true-false-positive-negative) that a confusion matrix is a grid that plots predictions vs. ground truth for your model, and tabulates statistics summarizing how often your model made the correct prediction and how often it made the wrong prediction. \n",
    "\n",
    "Let's start by creating a binary confusion matrix for our income-prediction model—binary because our label (`income_bracket`) has only two possible values (`<50K` or `>50K`). We'll define an income of `>50K` as our **positive label**, and an income of `<50k` as our **negative label**.\n",
    "\n",
    "**NOTE:** *Positive* and *negative* in this context should not be interpreted as value judgments (we are not suggesting that someone who earns more than 50k a year is a better person than someone who earns less than 50k). They are just standard terms used to distinguish between the two possible predictions the model can make.\n",
    "\n",
    "Cases where the model makes the correct prediction (the prediction matches the ground truth) are classified as **true**, and cases where the model makes the wrong prediction are classified as **false**.\n",
    "\n",
    "Our confusion matrix thus represents four possible states:\n",
    "\n",
    "* **true positive**: Model predicts `>50K`, and that is the ground truth.\n",
    "* **true negative**: Model predicts `<50K`, and that is the ground truth.\n",
    "* **false positive**: Model predicts `>50K`, and that contradicts reality.\n",
    "* **false negative**: Model predicts `<50K`, and that contradicts reality.\n",
    "\n",
    "**NOTE:** If desired, we can use the number of outcomes in each of these states to calculate secondary evaluation metrics, such as [precision and recall](https://developers.google.com/machine-learning/crash-course/classification/precision-and-recall)."
   ]
  },
  {
   "cell_type": "markdown",
   "metadata": {
    "colab_type": "text",
    "id": "nsUj_XZHU_mI"
   },
   "source": [
    "### Plot the Confusion Matrix\n",
    "\n",
    "Since we've already defined which metrics we're interested in back when we defined and compiled our model, all we have to do now is:\n",
    "\n",
    "\n",
    "1.   Define a function that will help us visualize the heatmap.\n",
    "2.   Select which subgroup we're interested in, then pass that subgroup selection into `tf.keras.Model.predict()` for evaluation.\n",
    "\n"
   ]
  },
  {
   "cell_type": "code",
   "execution_count": 22,
   "metadata": {
    "cellView": "form",
    "colab": {},
    "colab_type": "code",
    "id": "ouE72GWSxu1j"
   },
   "outputs": [],
   "source": [
    "# @title Define Function to Visualize Binary Confusion Matrix\n",
    "def plot_confusion_matrix(confusion_matrix, class_names, subgroup, figsize=(8, 6)):\n",
    "    # We're taking our calculated binary confusion matrix that's already in the\n",
    "    # form of an array and turning it into a pandas DataFrame because it's a lot\n",
    "    # easier to work with a pandas DataFrame when visualizing a heat map in\n",
    "    # Seaborn.\n",
    "    df_cm = pd.DataFrame(confusion_matrix, index=class_names, columns=class_names,)\n",
    "\n",
    "    rcParams.update(\n",
    "        {\"font.family\": \"sans-serif\", \"font.sans-serif\": [\"Liberation Sans\"],}\n",
    "    )\n",
    "\n",
    "    sns.set_context(\"notebook\", font_scale=1.25)\n",
    "\n",
    "    fig = plt.figure(figsize=figsize)\n",
    "\n",
    "    plt.title(\"Confusion Matrix for Performance Across \" + subgroup)\n",
    "\n",
    "    # Combine the instance (numercial value) with its description\n",
    "    strings = np.asarray(\n",
    "        [[\"True Positives\", \"False Negatives\"], [\"False Positives\", \"True Negatives\"]]\n",
    "    )\n",
    "    labels = (\n",
    "        np.asarray(\n",
    "            [\n",
    "                \"{0:g}\\n{1}\".format(value, string)\n",
    "                for string, value in zip(strings.flatten(), confusion_matrix.flatten())\n",
    "            ]\n",
    "        )\n",
    "    ).reshape(2, 2)\n",
    "\n",
    "    heatmap = sns.heatmap(\n",
    "        df_cm, annot=labels, fmt=\"\", linewidths=2.0, cmap=sns.color_palette(\"GnBu_d\")\n",
    "    )\n",
    "    heatmap.yaxis.set_ticklabels(heatmap.yaxis.get_ticklabels(), rotation=0, ha=\"right\")\n",
    "    heatmap.xaxis.set_ticklabels(\n",
    "        heatmap.xaxis.get_ticklabels(), rotation=45, ha=\"right\"\n",
    "    )\n",
    "    plt.ylabel(\"References\")\n",
    "    plt.xlabel(\"Predictions\")\n",
    "    return fig\n"
   ]
  },
  {
   "cell_type": "markdown",
   "metadata": {
    "colab_type": "text",
    "id": "hUvBYtwXVzlQ"
   },
   "source": [
    "Now that we have all the necessary functions defined, we can now compute the binary confusion matrix and evaluation metrics using the outcomes from [our deep neural net model](#scrollTo=3nYSMg67jWaA). The output of this cell is a tabbed view, which allows us to toggle between the confusion matrix and evaluation metrics table."
   ]
  },
  {
   "cell_type": "markdown",
   "metadata": {
    "colab_type": "text",
    "id": "9enf_Jfi-AVS"
   },
   "source": [
    "### FairAware Task #4\n",
    "\n",
    "Use the form below to generate confusion matrices for the two gender subgroups: `Female` and `Male`. Compare the number of False Positives and False Negatives for each subgroup. Are there any significant disparities in error rates that suggest the model performs better for one subgroup than another?"
   ]
  },
  {
   "cell_type": "code",
   "execution_count": 23,
   "metadata": {
    "cellView": "form",
    "colab": {
     "base_uri": "https://localhost:8080/",
     "height": 541
    },
    "colab_type": "code",
    "id": "5TBzaWs1VKTa",
    "outputId": "7c8744b5-e9e7-4efa-d90c-f3798bc73a4b"
   },
   "outputs": [],
   "source": [
    "# #@title Visualize Binary Confusion Matrix and Compute Evaluation Metrics Per Subgroup\n",
    "CATEGORY  =  \"gender\" #@param {type:\"string\"}\n",
    "SUBGROUP =  \"Male\" #@param {type:\"string\"}\n",
    "\n",
    "# Labels for annotating axes in plot.\n",
    "classes = ['Over $50K', 'Less than $50K']"
   ]
  },
  {
   "cell_type": "code",
   "execution_count": 24,
   "metadata": {},
   "outputs": [],
   "source": [
    "#@title Define Function to Visualize Binary Confusion Matrix\n",
    "def plot_confusion_matrix(\n",
    "    confusion_matrix, class_names, subgroup, figsize = (8,6)):\n",
    "    # We're taking our calculated binary confusion matrix that's already in the \n",
    "    # form of an array and turning it into a pandas DataFrame because it's a lot \n",
    "    # easier to work with a pandas DataFrame when visualizing a heat map in \n",
    "    # Seaborn.\n",
    "    df_cm = pd.DataFrame(\n",
    "      confusion_matrix, index=class_names, columns=class_names, \n",
    "    )\n",
    "\n",
    "    rcParams.update({\n",
    "    'font.family':'sans-serif',\n",
    "    'font.sans-serif':['Liberation Sans'],\n",
    "    })\n",
    "\n",
    "    sns.set_context(\"notebook\", font_scale=1.25)\n",
    "\n",
    "    fig = plt.figure(figsize=figsize)\n",
    "\n",
    "    plt.title('Confusion Matrix for Performance Across ' + subgroup)\n",
    "\n",
    "    # Combine the instance (numercial value) with its description\n",
    "    strings = np.asarray([['True Positives', 'False Negatives'],\n",
    "                        ['False Positives', 'True Negatives']])\n",
    "    labels = (np.asarray(\n",
    "      [\"{0:g}\\n{1}\".format(value, string) for string, value in zip(\n",
    "          strings.flatten(), confusion_matrix.flatten())])).reshape(2, 2)\n",
    "\n",
    "    heatmap = sns.heatmap(df_cm, annot=labels, fmt=\"\", \n",
    "      linewidths=2.0, cmap=sns.color_palette(\"GnBu_d\"));\n",
    "    heatmap.yaxis.set_ticklabels(\n",
    "      heatmap.yaxis.get_ticklabels(), rotation=0, ha='right')\n",
    "    heatmap.xaxis.set_ticklabels(\n",
    "      heatmap.xaxis.get_ticklabels(), rotation=45, ha='right')\n",
    "    plt.ylabel('References')\n",
    "    plt.xlabel('Predictions')\n",
    "    return fig"
   ]
  },
  {
   "cell_type": "code",
   "execution_count": 25,
   "metadata": {},
   "outputs": [
    {
     "data": {
      "text/html": [
       "<div>\n",
       "<style scoped>\n",
       "    .dataframe tbody tr th:only-of-type {\n",
       "        vertical-align: middle;\n",
       "    }\n",
       "\n",
       "    .dataframe tbody tr th {\n",
       "        vertical-align: top;\n",
       "    }\n",
       "\n",
       "    .dataframe thead th {\n",
       "        text-align: right;\n",
       "    }\n",
       "</style>\n",
       "<table border=\"1\" class=\"dataframe\">\n",
       "  <thead>\n",
       "    <tr style=\"text-align: right;\">\n",
       "      <th></th>\n",
       "      <th>ACCURACY</th>\n",
       "      <th>PRECISION</th>\n",
       "      <th>RECALL</th>\n",
       "      <th>AUC</th>\n",
       "    </tr>\n",
       "  </thead>\n",
       "  <tbody>\n",
       "    <tr>\n",
       "      <th>Male</th>\n",
       "      <td>0.7542</td>\n",
       "      <td>0.8816</td>\n",
       "      <td>0.8816</td>\n",
       "      <td>0.7971</td>\n",
       "    </tr>\n",
       "  </tbody>\n",
       "</table>\n",
       "</div>"
      ],
      "text/plain": [
       "      ACCURACY  PRECISION  RECALL    AUC\n",
       "Male    0.7542     0.8816  0.8816 0.7971"
      ]
     },
     "execution_count": 25,
     "metadata": {},
     "output_type": "execute_result"
    },
    {
     "data": {
      "image/png": "[encoded data removed]",
      "text/plain": [
       "<Figure size 576x432 with 2 Axes>"
      ]
     },
     "metadata": {
      "needs_background": "light"
     },
     "output_type": "display_data"
    }
   ],
   "source": [
    "# subgroup_results = model.evaluate(x=features, y=labels, verbose=0)\n",
    "# tp - fp - tn - fn \n",
    "confusion_matrix = np.array([[TPs, FNs], \n",
    "                             [FPs, TNs]])\n",
    "\n",
    "subgroup_performance_metrics = {\n",
    "    'ACCURACY': avg_acc,\n",
    "    'PRECISION': avg_recall, \n",
    "    'RECALL': avg_recall,\n",
    "    'AUC': avg_AUC\n",
    "}\n",
    "performance_df = pd.DataFrame(subgroup_performance_metrics, index=[SUBGROUP])\n",
    "pd.options.display.float_format = '{:,.4f}'.format\n",
    "\n",
    "plot_confusion_matrix(confusion_matrix, classes, SUBGROUP);\n",
    "performance_df"
   ]
  },
  {
   "cell_type": "markdown",
   "metadata": {
    "colab_type": "text",
    "id": "TF3B5h3c-7Fb"
   },
   "source": [
    "### Solution\n",
    "\n",
    "Click below for some insights we uncovered"
   ]
  },
  {
   "cell_type": "markdown",
   "metadata": {
    "colab_type": "text",
    "id": "dhKR49AT_5ZK"
   },
   "source": [
    "Using default parameters, you may find that the model performs better for female than male. Specifically, in our run, we found that both accuracy and AUC for female (0.9137 and 0.9089, respectively) outperformed male (0.7923 and 0.8549, respectively). What is going on here?\n",
    "\n",
    "Notice the number of true positives (top-left corner) for female is way lower compared to male (479 to 3822). Recall that in Task #1 we noticed a disproportionately high representation of male in the data set (almost 2-to-1). If you further explore the data set using Facets Dive in Task #2 by setting the color to `income_bracket` and one of the axes to `gender`, then you will also find a disproportionately small number of female examples in the higher income bracket, our positive label. \n",
    "\n",
    "What this is all suggesting is that the model is **overfitting, particuarly with respect to female and lower income bracket**. In other words, this model will not generalize well, particularly with female data, as it does not have enough positive examples for the model to learn from. It is **not doing that much better with male, either, as there is a disproportionately small number of high income bracket compared to low income bracket** — though not nearly as poorly represented as with female.\n",
    "\n",
    "Hopefully going through this confusion matrix demonstration you find that the results varies slightly from the overall performance metrics, highlighting the importance of evaluating model performance across subgroup rather than in aggregate.\n",
    "\n",
    "In your work, make sure that you make a good decision about the tradeoffs between false positives, false negatives, true positives, and true negatives. For example, you may want a very low false positive rate, but a high true positive rate. Or you may want a high precision, but a low recall is okay.  \n",
    "\n",
    "**Choose your evaluation metrics in light of these desired tradeoffs.**"
   ]
  }
 ],
 "metadata": {
  "colab": {
   "collapsed_sections": [
    "J8daw3YOIAXH",
    "xFxZOg55lWJE",
    "l-K-xqksm-X3",
    "TXkkHYyJ98_k",
    "91wjnZFpPWw-",
    "KlF-lQ8yQ69b",
    "qZ-9vJgSEpHj",
    "7YVH8hYfSjer",
    "2lx4JuLdi7jw",
    "TF3B5h3c-7Fb"
   ],
   "name": "intro_to_fairness.ipynb",
   "provenance": [],
   "toc_visible": true
  },
  "kernelspec": {
   "display_name": "Python 3",
   "language": "python",
   "name": "python3"
  },
  "language_info": {
   "codemirror_mode": {
    "name": "ipython",
    "version": 3
   },
   "file_extension": ".py",
   "mimetype": "text/x-python",
   "name": "python",
   "nbconvert_exporter": "python",
   "pygments_lexer": "ipython3",
   "version": "3.6.9"
  }
 },
 "nbformat": 4,
 "nbformat_minor": 4
}
