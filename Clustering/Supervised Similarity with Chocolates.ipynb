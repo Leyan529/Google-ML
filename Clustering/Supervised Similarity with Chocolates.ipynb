{
 "cells": [
  {
   "cell_type": "markdown",
   "id": "fbfa23cd-cd22-44a8-b61f-c52ec22eeeaa",
   "metadata": {},
   "source": [
    "# Supervised Similarity Measure\n",
    "https://colab.research.google.com/github/google/eng-edu/blob/main/ml/clustering/clustering-supervised-similarity.ipynb?utm_source=ss-clustering&utm_campaign=colab-external&utm_medium=referral&utm_content=clustering-supervised-similarity\n",
    "\n",
    "We'll cluster chocolates in the [Chocolate Bar Ratings](https://www.kaggle.com/rtatman/chocolate-bar-ratings) dataset using k-means with a supervised similarity measure. The dataset has ratings\n",
    "of chocolate bars along with their cocoa percentage, bean type, bean origin,\n",
    "maker name, and maker country. You will:\n",
    "\n",
    "* Load and clean the data.\n",
    "* Process the data.\n",
    "* Generate embeddings by training a DNN.\n",
    "* Cluster the chocolates using k-means.\n",
    "* Check the clustering result using quality metrics.\n",
    "\n"
   ]
  },
  {
   "cell_type": "markdown",
   "id": "cebf7f76-c235-4f81-b2c7-c2de9301cfd1",
   "metadata": {},
   "source": [
    "# 1. Load and clean data\n",
    "Run the section below to load and clean the dataset. You do not need to understand the code. The code displays data for the first few chocolates."
   ]
  },
  {
   "cell_type": "code",
   "execution_count": 1,
   "id": "66a72855-4870-499c-b2ef-e57516be7793",
   "metadata": {},
   "outputs": [],
   "source": [
    "import torch\n",
    "import torch.nn as nn\n",
    "\n",
    "from torch.utils.data import Dataset, DataLoader\n",
    "from torch.utils.data.dataset import random_split\n",
    "from sklearn.preprocessing import OrdinalEncoder\n",
    "from tqdm import tqdm\n",
    "from IPython.display import clear_output, display\n",
    "\n",
    "device = torch.device(\"cuda:0\") if torch.cuda.is_available() else torch.device(\"cpu\")"
   ]
  },
  {
   "cell_type": "code",
   "execution_count": 2,
   "id": "623c445e-8e9a-4c5a-9685-ca0092e22234",
   "metadata": {},
   "outputs": [
    {
     "name": "stdout",
     "output_type": "stream",
     "text": [
      "WARNING:tensorflow:From /home/leyan/anaconda3/envs/tensorflow/lib/python3.6/site-packages/tensorflow/python/compat/v2_compat.py:96: disable_resource_variables (from tensorflow.python.ops.variable_scope) is deprecated and will be removed in a future version.\n",
      "Instructions for updating:\n",
      "non-resource variables are not supported in the long term\n"
     ]
    },
    {
     "data": {
      "text/html": [
       "<div>\n",
       "<style scoped>\n",
       "    .dataframe tbody tr th:only-of-type {\n",
       "        vertical-align: middle;\n",
       "    }\n",
       "\n",
       "    .dataframe tbody tr th {\n",
       "        vertical-align: top;\n",
       "    }\n",
       "\n",
       "    .dataframe thead th {\n",
       "        text-align: right;\n",
       "    }\n",
       "</style>\n",
       "<table border=\"1\" class=\"dataframe\">\n",
       "  <thead>\n",
       "    <tr style=\"text-align: right;\">\n",
       "      <th></th>\n",
       "      <th>maker</th>\n",
       "      <th>specific_origin</th>\n",
       "      <th>reference_number</th>\n",
       "      <th>review_date</th>\n",
       "      <th>cocoa_percent</th>\n",
       "      <th>maker_location</th>\n",
       "      <th>rating</th>\n",
       "      <th>bean_type</th>\n",
       "      <th>broad_origin</th>\n",
       "    </tr>\n",
       "  </thead>\n",
       "  <tbody>\n",
       "    <tr>\n",
       "      <th>0</th>\n",
       "      <td>A. Morin</td>\n",
       "      <td>Agua Grande</td>\n",
       "      <td>1876</td>\n",
       "      <td>2016</td>\n",
       "      <td>63.00</td>\n",
       "      <td>France</td>\n",
       "      <td>3.75</td>\n",
       "      <td>Blend</td>\n",
       "      <td>Sao Tome</td>\n",
       "    </tr>\n",
       "    <tr>\n",
       "      <th>1</th>\n",
       "      <td>A. Morin</td>\n",
       "      <td>Kpime</td>\n",
       "      <td>1676</td>\n",
       "      <td>2015</td>\n",
       "      <td>70.00</td>\n",
       "      <td>France</td>\n",
       "      <td>2.75</td>\n",
       "      <td>Blend</td>\n",
       "      <td>Togo</td>\n",
       "    </tr>\n",
       "    <tr>\n",
       "      <th>2</th>\n",
       "      <td>A. Morin</td>\n",
       "      <td>Atsane</td>\n",
       "      <td>1676</td>\n",
       "      <td>2015</td>\n",
       "      <td>70.00</td>\n",
       "      <td>France</td>\n",
       "      <td>3.00</td>\n",
       "      <td>Blend</td>\n",
       "      <td>Togo</td>\n",
       "    </tr>\n",
       "    <tr>\n",
       "      <th>3</th>\n",
       "      <td>A. Morin</td>\n",
       "      <td>Akata</td>\n",
       "      <td>1680</td>\n",
       "      <td>2015</td>\n",
       "      <td>70.00</td>\n",
       "      <td>France</td>\n",
       "      <td>3.50</td>\n",
       "      <td>Blend</td>\n",
       "      <td>Togo</td>\n",
       "    </tr>\n",
       "    <tr>\n",
       "      <th>4</th>\n",
       "      <td>A. Morin</td>\n",
       "      <td>Quilla</td>\n",
       "      <td>1704</td>\n",
       "      <td>2015</td>\n",
       "      <td>70.00</td>\n",
       "      <td>France</td>\n",
       "      <td>3.50</td>\n",
       "      <td>Blend</td>\n",
       "      <td>Peru</td>\n",
       "    </tr>\n",
       "  </tbody>\n",
       "</table>\n",
       "</div>"
      ],
      "text/plain": [
       "      maker specific_origin  reference_number  review_date  cocoa_percent  \\\n",
       "0  A. Morin     Agua Grande              1876         2016          63.00   \n",
       "1  A. Morin           Kpime              1676         2015          70.00   \n",
       "2  A. Morin          Atsane              1676         2015          70.00   \n",
       "3  A. Morin           Akata              1680         2015          70.00   \n",
       "4  A. Morin          Quilla              1704         2015          70.00   \n",
       "\n",
       "  maker_location  rating bean_type broad_origin  \n",
       "0         France    3.75     Blend     Sao Tome  \n",
       "1         France    2.75     Blend         Togo  \n",
       "2         France    3.00     Blend         Togo  \n",
       "3         France    3.50     Blend         Togo  \n",
       "4         France    3.50     Blend         Peru  "
      ]
     },
     "execution_count": 2,
     "metadata": {},
     "output_type": "execute_result"
    }
   ],
   "source": [
    "#@title Run to load and clean the dataset\n",
    "# %reset -f\n",
    "from __future__ import print_function\n",
    "\n",
    "import math\n",
    "import numpy as np\n",
    "import numpy.linalg as nla\n",
    "import pandas as pd\n",
    "import re\n",
    "import six\n",
    "from os.path import join\n",
    "from matplotlib import pyplot as plt\n",
    "\n",
    "import tensorflow.compat.v1 as tf\n",
    "from sklearn import metrics, preprocessing\n",
    "tf.disable_v2_behavior()\n",
    "\n",
    "from copy import deepcopy\n",
    "\n",
    "\n",
    "# Set the output display to have one digit for decimal places and limit it to\n",
    "# printing 15 rows.\n",
    "pd.options.display.float_format = '{:.2f}'.format\n",
    "pd.options.display.max_rows = 15\n",
    "\n",
    "\n",
    "\n",
    "choc_data = pd.read_csv(\"https://download.mlcc.google.com/mledu-datasets/flavors_of_cacao.csv\", sep=\",\", encoding='latin-1')\n",
    "\n",
    "# We can rename the columns.\n",
    "choc_data.columns = ['maker', 'specific_origin', 'reference_number', 'review_date', 'cocoa_percent', 'maker_location', 'rating', 'bean_type', 'broad_origin']\n",
    "\n",
    "# choc_data.dtypes\n",
    "\n",
    "# Replace empty/null values with \"Blend\"\n",
    "choc_data['bean_type'] = choc_data['bean_type'].fillna('Blend')\n",
    "\n",
    "#@title Cast bean_type to string to remove leading 'u'\n",
    "choc_data['bean_type'] = choc_data['bean_type'].astype(str)\n",
    "choc_data['cocoa_percent'] = choc_data['cocoa_percent'].str.strip('%')\n",
    "choc_data['cocoa_percent'] = pd.to_numeric(choc_data['cocoa_percent'])\n",
    "\n",
    "#@title Correct spelling mistakes, and replace city with country name\n",
    "choc_data['maker_location'] = choc_data['maker_location']\\\n",
    ".str.replace('Amsterdam', 'Holland')\\\n",
    ".str.replace('U.K.', 'England')\\\n",
    ".str.replace('Niacragua', 'Nicaragua')\\\n",
    ".str.replace('Domincan Republic', 'Dominican Republic')\n",
    "\n",
    "# Adding this so that Holland and Netherlands map to the same country.\n",
    "choc_data['maker_location'] = choc_data['maker_location']\\\n",
    ".str.replace('Holland', 'Netherlands')\n",
    "\n",
    "def cleanup_spelling_abbrev(text):\n",
    "    replacements = [\n",
    "        ['-', ', '], ['/ ', ', '], ['/', ', '], ['\\(', ', '], [' and', ', '], [' &', ', '], ['\\)', ''],\n",
    "        ['Dom Rep|DR|Domin Rep|Dominican Rep,|Domincan Republic', 'Dominican Republic'],\n",
    "        ['Mad,|Mad$', 'Madagascar, '],\n",
    "        ['PNG', 'Papua New Guinea, '],\n",
    "        ['Guat,|Guat$', 'Guatemala, '],\n",
    "        ['Ven,|Ven$|Venez,|Venez$', 'Venezuela, '],\n",
    "        ['Ecu,|Ecu$|Ecuad,|Ecuad$', 'Ecuador, '],\n",
    "        ['Nic,|Nic$', 'Nicaragua, '],\n",
    "        ['Cost Rica', 'Costa Rica'],\n",
    "        ['Mex,|Mex$', 'Mexico, '],\n",
    "        ['Jam,|Jam$', 'Jamaica, '],\n",
    "        ['Haw,|Haw$', 'Hawaii, '],\n",
    "        ['Gre,|Gre$', 'Grenada, '],\n",
    "        ['Tri,|Tri$', 'Trinidad, '],\n",
    "        ['C Am', 'Central America'],\n",
    "        ['S America', 'South America'],\n",
    "        [', $', ''], [',  ', ', '], [', ,', ', '], ['\\xa0', ' '],[',\\s+', ','],\n",
    "        [' Bali', ',Bali']\n",
    "    ]\n",
    "    for i, j in replacements:\n",
    "        text = re.sub(i, j, text)\n",
    "    return text\n",
    "\n",
    "choc_data['specific_origin'] = choc_data['specific_origin'].str.replace('.', '').apply(cleanup_spelling_abbrev)\n",
    "\n",
    "#@title Cast specific_origin to string\n",
    "choc_data['specific_origin'] = choc_data['specific_origin'].astype(str)\n",
    "\n",
    "#@title Replace null-valued fields with the same value as for specific_origin\n",
    "choc_data['broad_origin'] = choc_data['broad_origin'].fillna(choc_data['specific_origin'])\n",
    "\n",
    "#@title Clean up spelling mistakes and deal with abbreviations\n",
    "choc_data['broad_origin'] = choc_data['broad_origin'].str.replace('.', '').apply(cleanup_spelling_abbrev)\n",
    "\n",
    "# Change 'Trinitario, Criollo' to \"Criollo, Trinitario\"\n",
    "# Check with choc_data['bean_type'].unique()\n",
    "choc_data.loc[choc_data['bean_type'].isin(['Trinitario, Criollo']),'bean_type'] = \"Criollo, Trinitario\"\n",
    "# Confirm with choc_data[choc_data['bean_type'].isin(['Trinitario, Criollo'])]\n",
    "\n",
    "# Fix chocolate maker names\n",
    "choc_data.loc[choc_data['maker']=='Shattel','maker'] = 'Shattell'\n",
    "choc_data['maker'] = choc_data['maker'].str.replace(u'Na\\xef\\xbf\\xbdve','Naive')\n",
    "\n",
    "# Save the original column names\n",
    "original_cols = choc_data.columns.values\n",
    "\n",
    "orign_choc_data = deepcopy(choc_data)\n",
    "choc_data.head()"
   ]
  },
  {
   "cell_type": "markdown",
   "id": "a2467f55-fd1f-4476-a9a0-4cbaccacf5a8",
   "metadata": {},
   "source": [
    "# 2. Process Data\n",
    "Because you're using a DNN, you do not need to manually process the data. The DNN transforms the data for us. However, if possible, you should remove features that could distort the similarity calculation. Here, the features `review_date` and `reference_number` are not correlated with similarity. That is, chocolates that are reviewed closer together in time are not more or less similar than chocolates reviewed further apart. Remove these two features by running the following code."
   ]
  },
  {
   "cell_type": "code",
   "execution_count": 3,
   "id": "60559600-b484-4573-a80c-7300be5f10ee",
   "metadata": {},
   "outputs": [
    {
     "data": {
      "text/html": [
       "<div>\n",
       "<style scoped>\n",
       "    .dataframe tbody tr th:only-of-type {\n",
       "        vertical-align: middle;\n",
       "    }\n",
       "\n",
       "    .dataframe tbody tr th {\n",
       "        vertical-align: top;\n",
       "    }\n",
       "\n",
       "    .dataframe thead th {\n",
       "        text-align: right;\n",
       "    }\n",
       "</style>\n",
       "<table border=\"1\" class=\"dataframe\">\n",
       "  <thead>\n",
       "    <tr style=\"text-align: right;\">\n",
       "      <th></th>\n",
       "      <th>maker</th>\n",
       "      <th>specific_origin</th>\n",
       "      <th>reference_number</th>\n",
       "      <th>review_date</th>\n",
       "      <th>cocoa_percent</th>\n",
       "      <th>maker_location</th>\n",
       "      <th>rating</th>\n",
       "      <th>bean_type</th>\n",
       "      <th>broad_origin</th>\n",
       "    </tr>\n",
       "  </thead>\n",
       "  <tbody>\n",
       "    <tr>\n",
       "      <th>0</th>\n",
       "      <td>A. Morin</td>\n",
       "      <td>Agua Grande</td>\n",
       "      <td>1876</td>\n",
       "      <td>2016</td>\n",
       "      <td>63.00</td>\n",
       "      <td>France</td>\n",
       "      <td>3.75</td>\n",
       "      <td>Blend</td>\n",
       "      <td>Sao Tome</td>\n",
       "    </tr>\n",
       "    <tr>\n",
       "      <th>1</th>\n",
       "      <td>A. Morin</td>\n",
       "      <td>Kpime</td>\n",
       "      <td>1676</td>\n",
       "      <td>2015</td>\n",
       "      <td>70.00</td>\n",
       "      <td>France</td>\n",
       "      <td>2.75</td>\n",
       "      <td>Blend</td>\n",
       "      <td>Togo</td>\n",
       "    </tr>\n",
       "    <tr>\n",
       "      <th>2</th>\n",
       "      <td>A. Morin</td>\n",
       "      <td>Atsane</td>\n",
       "      <td>1676</td>\n",
       "      <td>2015</td>\n",
       "      <td>70.00</td>\n",
       "      <td>France</td>\n",
       "      <td>3.00</td>\n",
       "      <td>Blend</td>\n",
       "      <td>Togo</td>\n",
       "    </tr>\n",
       "    <tr>\n",
       "      <th>3</th>\n",
       "      <td>A. Morin</td>\n",
       "      <td>Akata</td>\n",
       "      <td>1680</td>\n",
       "      <td>2015</td>\n",
       "      <td>70.00</td>\n",
       "      <td>France</td>\n",
       "      <td>3.50</td>\n",
       "      <td>Blend</td>\n",
       "      <td>Togo</td>\n",
       "    </tr>\n",
       "    <tr>\n",
       "      <th>4</th>\n",
       "      <td>A. Morin</td>\n",
       "      <td>Quilla</td>\n",
       "      <td>1704</td>\n",
       "      <td>2015</td>\n",
       "      <td>70.00</td>\n",
       "      <td>France</td>\n",
       "      <td>3.50</td>\n",
       "      <td>Blend</td>\n",
       "      <td>Peru</td>\n",
       "    </tr>\n",
       "  </tbody>\n",
       "</table>\n",
       "</div>"
      ],
      "text/plain": [
       "      maker specific_origin  reference_number  review_date  cocoa_percent  \\\n",
       "0  A. Morin     Agua Grande              1876         2016          63.00   \n",
       "1  A. Morin           Kpime              1676         2015          70.00   \n",
       "2  A. Morin          Atsane              1676         2015          70.00   \n",
       "3  A. Morin           Akata              1680         2015          70.00   \n",
       "4  A. Morin          Quilla              1704         2015          70.00   \n",
       "\n",
       "  maker_location  rating bean_type broad_origin  \n",
       "0         France    3.75     Blend     Sao Tome  \n",
       "1         France    2.75     Blend         Togo  \n",
       "2         France    3.00     Blend         Togo  \n",
       "3         France    3.50     Blend         Togo  \n",
       "4         France    3.50     Blend         Peru  "
      ]
     },
     "execution_count": 3,
     "metadata": {},
     "output_type": "execute_result"
    }
   ],
   "source": [
    "# choc_data.drop(columns=['review_date','reference_number'],inplace=True)\n",
    "choc_data.head()"
   ]
  },
  {
   "cell_type": "code",
   "execution_count": 4,
   "id": "456f3c64-87de-4fa5-adc9-a564542db1bd",
   "metadata": {},
   "outputs": [],
   "source": [
    "# choc_data['rating_norm'] = (choc_data['rating'] - choc_data['rating'].mean()\n",
    "#                            ) / choc_data['rating'].std()\n",
    "\n",
    "# choc_data['rating_out'] = choc_data['rating']\n",
    "\n",
    "# choc_data['cocoa_percent_norm'] = (\n",
    "#     choc_data['cocoa_percent'] -\n",
    "#     choc_data['cocoa_percent'].mean()) / choc_data['cocoa_percent'].std()"
   ]
  },
  {
   "cell_type": "code",
   "execution_count": 5,
   "id": "05f184d6-64c6-4ec7-a084-be3fa6f57ee4",
   "metadata": {},
   "outputs": [],
   "source": [
    "# original_cols"
   ]
  },
  {
   "cell_type": "code",
   "execution_count": 6,
   "id": "03694ac8-e636-49db-b720-977919b6babf",
   "metadata": {},
   "outputs": [],
   "source": [
    "# # duplicate the \"maker\" feature since it's removed by one-hot encoding function\n",
    "# choc_data['maker2'] = choc_data['maker']\n",
    "# choc_data = pd.get_dummies(choc_data, columns=['maker2'], prefix=['maker'])\n",
    "# # similarly, duplicate the \"bean_type\" feature\n",
    "# choc_data['bean_type2'] = choc_data['bean_type']\n",
    "# choc_data = pd.get_dummies(choc_data, columns=['bean_type2'], prefix=['bean'])\n",
    "\n",
    "# # Split dataframe into two frames: Original data and data for clustering\n",
    "# choc_data_backup = choc_data.loc[:, original_cols].copy(deep=True)\n",
    "# choc_data.drop(columns=original_cols, inplace=True)\n",
    "\n",
    "# # get_dummies returned ints for one-hot encoding but we want floats so divide by\n",
    "# # 1.0\n",
    "# # Note: In the latest version of \"get_dummies\", you can set \"dtype\" to float\n",
    "# choc_data = choc_data / 1.0"
   ]
  },
  {
   "cell_type": "code",
   "execution_count": 7,
   "id": "412a7118-edee-4be0-a9aa-26a6d2b45af7",
   "metadata": {},
   "outputs": [
    {
     "data": {
      "text/html": [
       "<div>\n",
       "<style scoped>\n",
       "    .dataframe tbody tr th:only-of-type {\n",
       "        vertical-align: middle;\n",
       "    }\n",
       "\n",
       "    .dataframe tbody tr th {\n",
       "        vertical-align: top;\n",
       "    }\n",
       "\n",
       "    .dataframe thead th {\n",
       "        text-align: right;\n",
       "    }\n",
       "</style>\n",
       "<table border=\"1\" class=\"dataframe\">\n",
       "  <thead>\n",
       "    <tr style=\"text-align: right;\">\n",
       "      <th></th>\n",
       "      <th>maker</th>\n",
       "      <th>specific_origin</th>\n",
       "      <th>cocoa_percent</th>\n",
       "      <th>maker_location</th>\n",
       "      <th>rating</th>\n",
       "      <th>bean_type</th>\n",
       "      <th>broad_origin</th>\n",
       "    </tr>\n",
       "  </thead>\n",
       "  <tbody>\n",
       "    <tr>\n",
       "      <th>0</th>\n",
       "      <td>A. Morin</td>\n",
       "      <td>Agua Grande</td>\n",
       "      <td>63.00</td>\n",
       "      <td>France</td>\n",
       "      <td>3.75</td>\n",
       "      <td>Blend</td>\n",
       "      <td>Sao Tome</td>\n",
       "    </tr>\n",
       "    <tr>\n",
       "      <th>1</th>\n",
       "      <td>A. Morin</td>\n",
       "      <td>Kpime</td>\n",
       "      <td>70.00</td>\n",
       "      <td>France</td>\n",
       "      <td>2.75</td>\n",
       "      <td>Blend</td>\n",
       "      <td>Togo</td>\n",
       "    </tr>\n",
       "    <tr>\n",
       "      <th>2</th>\n",
       "      <td>A. Morin</td>\n",
       "      <td>Atsane</td>\n",
       "      <td>70.00</td>\n",
       "      <td>France</td>\n",
       "      <td>3.00</td>\n",
       "      <td>Blend</td>\n",
       "      <td>Togo</td>\n",
       "    </tr>\n",
       "    <tr>\n",
       "      <th>3</th>\n",
       "      <td>A. Morin</td>\n",
       "      <td>Akata</td>\n",
       "      <td>70.00</td>\n",
       "      <td>France</td>\n",
       "      <td>3.50</td>\n",
       "      <td>Blend</td>\n",
       "      <td>Togo</td>\n",
       "    </tr>\n",
       "    <tr>\n",
       "      <th>4</th>\n",
       "      <td>A. Morin</td>\n",
       "      <td>Quilla</td>\n",
       "      <td>70.00</td>\n",
       "      <td>France</td>\n",
       "      <td>3.50</td>\n",
       "      <td>Blend</td>\n",
       "      <td>Peru</td>\n",
       "    </tr>\n",
       "  </tbody>\n",
       "</table>\n",
       "</div>"
      ],
      "text/plain": [
       "      maker specific_origin  cocoa_percent maker_location  rating bean_type  \\\n",
       "0  A. Morin     Agua Grande          63.00         France    3.75     Blend   \n",
       "1  A. Morin           Kpime          70.00         France    2.75     Blend   \n",
       "2  A. Morin          Atsane          70.00         France    3.00     Blend   \n",
       "3  A. Morin           Akata          70.00         France    3.50     Blend   \n",
       "4  A. Morin          Quilla          70.00         France    3.50     Blend   \n",
       "\n",
       "  broad_origin  \n",
       "0     Sao Tome  \n",
       "1         Togo  \n",
       "2         Togo  \n",
       "3         Togo  \n",
       "4         Peru  "
      ]
     },
     "execution_count": 7,
     "metadata": {},
     "output_type": "execute_result"
    }
   ],
   "source": [
    "choc_data.drop(columns=['review_date','reference_number'],inplace=True)\n",
    "choc_data.head()"
   ]
  },
  {
   "cell_type": "code",
   "execution_count": 8,
   "id": "895914bf-fd8c-4814-9b46-b0adcbe7b94e",
   "metadata": {},
   "outputs": [
    {
     "name": "stderr",
     "output_type": "stream",
     "text": [
      "100%|██████████| 5/5 [00:00<00:00, 116.89it/s]"
     ]
    },
    {
     "name": "stdout",
     "output_type": "stream",
     "text": [
      "False\n",
      "False\n",
      "False\n",
      "False\n",
      "False\n"
     ]
    },
    {
     "name": "stderr",
     "output_type": "stream",
     "text": [
      "\n"
     ]
    }
   ],
   "source": [
    "categorical = ['maker', 'specific_origin', 'maker_location', 'bean_type', 'broad_origin']\n",
    "for feat in tqdm(categorical):\n",
    "#     lbl_enc = preprocessing.LabelEncoder()\n",
    "    \n",
    "#     choc_data[feat] = lbl_enc.fit_transform(choc_data[feat]. \\\n",
    "#                                          fillna('-1'). \\\n",
    "#                                          astype(str).values)\n",
    "    choc_data = pd.get_dummies(choc_data, columns=[feat], prefix=['OneHot'])\n",
    "    print(feat in set(choc_data.columns))"
   ]
  },
  {
   "cell_type": "code",
   "execution_count": 9,
   "id": "41e2dab1-e139-4070-85c2-2a6902df2057",
   "metadata": {},
   "outputs": [
    {
     "name": "stdout",
     "output_type": "stream",
     "text": [
      "(1795, 1566)\n"
     ]
    },
    {
     "data": {
      "text/html": [
       "<div>\n",
       "<style scoped>\n",
       "    .dataframe tbody tr th:only-of-type {\n",
       "        vertical-align: middle;\n",
       "    }\n",
       "\n",
       "    .dataframe tbody tr th {\n",
       "        vertical-align: top;\n",
       "    }\n",
       "\n",
       "    .dataframe thead th {\n",
       "        text-align: right;\n",
       "    }\n",
       "</style>\n",
       "<table border=\"1\" class=\"dataframe\">\n",
       "  <thead>\n",
       "    <tr style=\"text-align: right;\">\n",
       "      <th></th>\n",
       "      <th>cocoa_percent</th>\n",
       "      <th>rating</th>\n",
       "      <th>OneHot_A. Morin</th>\n",
       "      <th>OneHot_AMMA</th>\n",
       "      <th>OneHot_Acalli</th>\n",
       "      <th>OneHot_Adi</th>\n",
       "      <th>OneHot_Aequare (Gianduja)</th>\n",
       "      <th>OneHot_Ah Cacao</th>\n",
       "      <th>OneHot_Akesson's (Pralus)</th>\n",
       "      <th>OneHot_Alain Ducasse</th>\n",
       "      <th>...</th>\n",
       "      <th>OneHot_Venezuela,Africa,Brasil,Peru,Mexico</th>\n",
       "      <th>OneHot_Venezuela,Bolivia,Dominican Republic</th>\n",
       "      <th>OneHot_Venezuela,Carribean</th>\n",
       "      <th>OneHot_Venezuela,Dominican Republic</th>\n",
       "      <th>OneHot_Venezuela,Ecuador,Peru,Nicaragua</th>\n",
       "      <th>OneHot_Venezuela,Ghana</th>\n",
       "      <th>OneHot_Venezuela,Indonesia,Ecuador</th>\n",
       "      <th>OneHot_Venezuela,Java</th>\n",
       "      <th>OneHot_Venezuela,Trinidad,Ecuador</th>\n",
       "      <th>OneHot_Venezuela,Trinidad,Madagascar</th>\n",
       "    </tr>\n",
       "  </thead>\n",
       "  <tbody>\n",
       "    <tr>\n",
       "      <th>0</th>\n",
       "      <td>63.00</td>\n",
       "      <td>3.75</td>\n",
       "      <td>1</td>\n",
       "      <td>0</td>\n",
       "      <td>0</td>\n",
       "      <td>0</td>\n",
       "      <td>0</td>\n",
       "      <td>0</td>\n",
       "      <td>0</td>\n",
       "      <td>0</td>\n",
       "      <td>...</td>\n",
       "      <td>0</td>\n",
       "      <td>0</td>\n",
       "      <td>0</td>\n",
       "      <td>0</td>\n",
       "      <td>0</td>\n",
       "      <td>0</td>\n",
       "      <td>0</td>\n",
       "      <td>0</td>\n",
       "      <td>0</td>\n",
       "      <td>0</td>\n",
       "    </tr>\n",
       "    <tr>\n",
       "      <th>1</th>\n",
       "      <td>70.00</td>\n",
       "      <td>2.75</td>\n",
       "      <td>1</td>\n",
       "      <td>0</td>\n",
       "      <td>0</td>\n",
       "      <td>0</td>\n",
       "      <td>0</td>\n",
       "      <td>0</td>\n",
       "      <td>0</td>\n",
       "      <td>0</td>\n",
       "      <td>...</td>\n",
       "      <td>0</td>\n",
       "      <td>0</td>\n",
       "      <td>0</td>\n",
       "      <td>0</td>\n",
       "      <td>0</td>\n",
       "      <td>0</td>\n",
       "      <td>0</td>\n",
       "      <td>0</td>\n",
       "      <td>0</td>\n",
       "      <td>0</td>\n",
       "    </tr>\n",
       "    <tr>\n",
       "      <th>2</th>\n",
       "      <td>70.00</td>\n",
       "      <td>3.00</td>\n",
       "      <td>1</td>\n",
       "      <td>0</td>\n",
       "      <td>0</td>\n",
       "      <td>0</td>\n",
       "      <td>0</td>\n",
       "      <td>0</td>\n",
       "      <td>0</td>\n",
       "      <td>0</td>\n",
       "      <td>...</td>\n",
       "      <td>0</td>\n",
       "      <td>0</td>\n",
       "      <td>0</td>\n",
       "      <td>0</td>\n",
       "      <td>0</td>\n",
       "      <td>0</td>\n",
       "      <td>0</td>\n",
       "      <td>0</td>\n",
       "      <td>0</td>\n",
       "      <td>0</td>\n",
       "    </tr>\n",
       "    <tr>\n",
       "      <th>3</th>\n",
       "      <td>70.00</td>\n",
       "      <td>3.50</td>\n",
       "      <td>1</td>\n",
       "      <td>0</td>\n",
       "      <td>0</td>\n",
       "      <td>0</td>\n",
       "      <td>0</td>\n",
       "      <td>0</td>\n",
       "      <td>0</td>\n",
       "      <td>0</td>\n",
       "      <td>...</td>\n",
       "      <td>0</td>\n",
       "      <td>0</td>\n",
       "      <td>0</td>\n",
       "      <td>0</td>\n",
       "      <td>0</td>\n",
       "      <td>0</td>\n",
       "      <td>0</td>\n",
       "      <td>0</td>\n",
       "      <td>0</td>\n",
       "      <td>0</td>\n",
       "    </tr>\n",
       "    <tr>\n",
       "      <th>4</th>\n",
       "      <td>70.00</td>\n",
       "      <td>3.50</td>\n",
       "      <td>1</td>\n",
       "      <td>0</td>\n",
       "      <td>0</td>\n",
       "      <td>0</td>\n",
       "      <td>0</td>\n",
       "      <td>0</td>\n",
       "      <td>0</td>\n",
       "      <td>0</td>\n",
       "      <td>...</td>\n",
       "      <td>0</td>\n",
       "      <td>0</td>\n",
       "      <td>0</td>\n",
       "      <td>0</td>\n",
       "      <td>0</td>\n",
       "      <td>0</td>\n",
       "      <td>0</td>\n",
       "      <td>0</td>\n",
       "      <td>0</td>\n",
       "      <td>0</td>\n",
       "    </tr>\n",
       "  </tbody>\n",
       "</table>\n",
       "<p>5 rows × 1566 columns</p>\n",
       "</div>"
      ],
      "text/plain": [
       "   cocoa_percent  rating  OneHot_A. Morin  OneHot_AMMA  OneHot_Acalli  \\\n",
       "0          63.00    3.75                1            0              0   \n",
       "1          70.00    2.75                1            0              0   \n",
       "2          70.00    3.00                1            0              0   \n",
       "3          70.00    3.50                1            0              0   \n",
       "4          70.00    3.50                1            0              0   \n",
       "\n",
       "   OneHot_Adi  OneHot_Aequare (Gianduja)  OneHot_Ah Cacao  \\\n",
       "0           0                          0                0   \n",
       "1           0                          0                0   \n",
       "2           0                          0                0   \n",
       "3           0                          0                0   \n",
       "4           0                          0                0   \n",
       "\n",
       "   OneHot_Akesson's (Pralus)  OneHot_Alain Ducasse  ...  \\\n",
       "0                          0                     0  ...   \n",
       "1                          0                     0  ...   \n",
       "2                          0                     0  ...   \n",
       "3                          0                     0  ...   \n",
       "4                          0                     0  ...   \n",
       "\n",
       "   OneHot_Venezuela,Africa,Brasil,Peru,Mexico  \\\n",
       "0                                           0   \n",
       "1                                           0   \n",
       "2                                           0   \n",
       "3                                           0   \n",
       "4                                           0   \n",
       "\n",
       "   OneHot_Venezuela,Bolivia,Dominican Republic  OneHot_Venezuela,Carribean  \\\n",
       "0                                            0                           0   \n",
       "1                                            0                           0   \n",
       "2                                            0                           0   \n",
       "3                                            0                           0   \n",
       "4                                            0                           0   \n",
       "\n",
       "   OneHot_Venezuela,Dominican Republic  \\\n",
       "0                                    0   \n",
       "1                                    0   \n",
       "2                                    0   \n",
       "3                                    0   \n",
       "4                                    0   \n",
       "\n",
       "   OneHot_Venezuela,Ecuador,Peru,Nicaragua  OneHot_Venezuela,Ghana  \\\n",
       "0                                        0                       0   \n",
       "1                                        0                       0   \n",
       "2                                        0                       0   \n",
       "3                                        0                       0   \n",
       "4                                        0                       0   \n",
       "\n",
       "   OneHot_Venezuela,Indonesia,Ecuador  OneHot_Venezuela,Java  \\\n",
       "0                                   0                      0   \n",
       "1                                   0                      0   \n",
       "2                                   0                      0   \n",
       "3                                   0                      0   \n",
       "4                                   0                      0   \n",
       "\n",
       "   OneHot_Venezuela,Trinidad,Ecuador  OneHot_Venezuela,Trinidad,Madagascar  \n",
       "0                                  0                                     0  \n",
       "1                                  0                                     0  \n",
       "2                                  0                                     0  \n",
       "3                                  0                                     0  \n",
       "4                                  0                                     0  \n",
       "\n",
       "[5 rows x 1566 columns]"
      ]
     },
     "execution_count": 9,
     "metadata": {},
     "output_type": "execute_result"
    }
   ],
   "source": [
    "# choc_data.drop(columns=['review_date','reference_number'],inplace=True)\n",
    "choc_data[list(choc_data.columns)].head()\n",
    "choc_data = choc_data.loc[:,~choc_data.columns.duplicated()].copy()\n",
    "\n",
    "print(choc_data.shape)\n",
    "choc_data.head()"
   ]
  },
  {
   "cell_type": "code",
   "execution_count": 10,
   "id": "1c77309f-84f0-4f50-acd4-07f9afd3d8ec",
   "metadata": {},
   "outputs": [
    {
     "data": {
      "text/html": [
       "<div>\n",
       "<style scoped>\n",
       "    .dataframe tbody tr th:only-of-type {\n",
       "        vertical-align: middle;\n",
       "    }\n",
       "\n",
       "    .dataframe tbody tr th {\n",
       "        vertical-align: top;\n",
       "    }\n",
       "\n",
       "    .dataframe thead th {\n",
       "        text-align: right;\n",
       "    }\n",
       "</style>\n",
       "<table border=\"1\" class=\"dataframe\">\n",
       "  <thead>\n",
       "    <tr style=\"text-align: right;\">\n",
       "      <th></th>\n",
       "      <th>cocoa_percent</th>\n",
       "      <th>rating</th>\n",
       "      <th>OneHot_A. Morin</th>\n",
       "      <th>OneHot_AMMA</th>\n",
       "      <th>OneHot_Acalli</th>\n",
       "      <th>OneHot_Adi</th>\n",
       "      <th>OneHot_Aequare (Gianduja)</th>\n",
       "      <th>OneHot_Ah Cacao</th>\n",
       "      <th>OneHot_Akesson's (Pralus)</th>\n",
       "      <th>OneHot_Alain Ducasse</th>\n",
       "      <th>...</th>\n",
       "      <th>OneHot_Venezuela,Africa,Brasil,Peru,Mexico</th>\n",
       "      <th>OneHot_Venezuela,Bolivia,Dominican Republic</th>\n",
       "      <th>OneHot_Venezuela,Carribean</th>\n",
       "      <th>OneHot_Venezuela,Dominican Republic</th>\n",
       "      <th>OneHot_Venezuela,Ecuador,Peru,Nicaragua</th>\n",
       "      <th>OneHot_Venezuela,Ghana</th>\n",
       "      <th>OneHot_Venezuela,Indonesia,Ecuador</th>\n",
       "      <th>OneHot_Venezuela,Java</th>\n",
       "      <th>OneHot_Venezuela,Trinidad,Ecuador</th>\n",
       "      <th>OneHot_Venezuela,Trinidad,Madagascar</th>\n",
       "    </tr>\n",
       "  </thead>\n",
       "  <tbody>\n",
       "    <tr>\n",
       "      <th>0</th>\n",
       "      <td>63.00</td>\n",
       "      <td>3.75</td>\n",
       "      <td>1</td>\n",
       "      <td>0</td>\n",
       "      <td>0</td>\n",
       "      <td>0</td>\n",
       "      <td>0</td>\n",
       "      <td>0</td>\n",
       "      <td>0</td>\n",
       "      <td>0</td>\n",
       "      <td>...</td>\n",
       "      <td>0</td>\n",
       "      <td>0</td>\n",
       "      <td>0</td>\n",
       "      <td>0</td>\n",
       "      <td>0</td>\n",
       "      <td>0</td>\n",
       "      <td>0</td>\n",
       "      <td>0</td>\n",
       "      <td>0</td>\n",
       "      <td>0</td>\n",
       "    </tr>\n",
       "    <tr>\n",
       "      <th>1</th>\n",
       "      <td>70.00</td>\n",
       "      <td>2.75</td>\n",
       "      <td>1</td>\n",
       "      <td>0</td>\n",
       "      <td>0</td>\n",
       "      <td>0</td>\n",
       "      <td>0</td>\n",
       "      <td>0</td>\n",
       "      <td>0</td>\n",
       "      <td>0</td>\n",
       "      <td>...</td>\n",
       "      <td>0</td>\n",
       "      <td>0</td>\n",
       "      <td>0</td>\n",
       "      <td>0</td>\n",
       "      <td>0</td>\n",
       "      <td>0</td>\n",
       "      <td>0</td>\n",
       "      <td>0</td>\n",
       "      <td>0</td>\n",
       "      <td>0</td>\n",
       "    </tr>\n",
       "    <tr>\n",
       "      <th>2</th>\n",
       "      <td>70.00</td>\n",
       "      <td>3.00</td>\n",
       "      <td>1</td>\n",
       "      <td>0</td>\n",
       "      <td>0</td>\n",
       "      <td>0</td>\n",
       "      <td>0</td>\n",
       "      <td>0</td>\n",
       "      <td>0</td>\n",
       "      <td>0</td>\n",
       "      <td>...</td>\n",
       "      <td>0</td>\n",
       "      <td>0</td>\n",
       "      <td>0</td>\n",
       "      <td>0</td>\n",
       "      <td>0</td>\n",
       "      <td>0</td>\n",
       "      <td>0</td>\n",
       "      <td>0</td>\n",
       "      <td>0</td>\n",
       "      <td>0</td>\n",
       "    </tr>\n",
       "    <tr>\n",
       "      <th>3</th>\n",
       "      <td>70.00</td>\n",
       "      <td>3.50</td>\n",
       "      <td>1</td>\n",
       "      <td>0</td>\n",
       "      <td>0</td>\n",
       "      <td>0</td>\n",
       "      <td>0</td>\n",
       "      <td>0</td>\n",
       "      <td>0</td>\n",
       "      <td>0</td>\n",
       "      <td>...</td>\n",
       "      <td>0</td>\n",
       "      <td>0</td>\n",
       "      <td>0</td>\n",
       "      <td>0</td>\n",
       "      <td>0</td>\n",
       "      <td>0</td>\n",
       "      <td>0</td>\n",
       "      <td>0</td>\n",
       "      <td>0</td>\n",
       "      <td>0</td>\n",
       "    </tr>\n",
       "    <tr>\n",
       "      <th>4</th>\n",
       "      <td>70.00</td>\n",
       "      <td>3.50</td>\n",
       "      <td>1</td>\n",
       "      <td>0</td>\n",
       "      <td>0</td>\n",
       "      <td>0</td>\n",
       "      <td>0</td>\n",
       "      <td>0</td>\n",
       "      <td>0</td>\n",
       "      <td>0</td>\n",
       "      <td>...</td>\n",
       "      <td>0</td>\n",
       "      <td>0</td>\n",
       "      <td>0</td>\n",
       "      <td>0</td>\n",
       "      <td>0</td>\n",
       "      <td>0</td>\n",
       "      <td>0</td>\n",
       "      <td>0</td>\n",
       "      <td>0</td>\n",
       "      <td>0</td>\n",
       "    </tr>\n",
       "  </tbody>\n",
       "</table>\n",
       "<p>5 rows × 1566 columns</p>\n",
       "</div>"
      ],
      "text/plain": [
       "   cocoa_percent  rating  OneHot_A. Morin  OneHot_AMMA  OneHot_Acalli  \\\n",
       "0          63.00    3.75                1            0              0   \n",
       "1          70.00    2.75                1            0              0   \n",
       "2          70.00    3.00                1            0              0   \n",
       "3          70.00    3.50                1            0              0   \n",
       "4          70.00    3.50                1            0              0   \n",
       "\n",
       "   OneHot_Adi  OneHot_Aequare (Gianduja)  OneHot_Ah Cacao  \\\n",
       "0           0                          0                0   \n",
       "1           0                          0                0   \n",
       "2           0                          0                0   \n",
       "3           0                          0                0   \n",
       "4           0                          0                0   \n",
       "\n",
       "   OneHot_Akesson's (Pralus)  OneHot_Alain Ducasse  ...  \\\n",
       "0                          0                     0  ...   \n",
       "1                          0                     0  ...   \n",
       "2                          0                     0  ...   \n",
       "3                          0                     0  ...   \n",
       "4                          0                     0  ...   \n",
       "\n",
       "   OneHot_Venezuela,Africa,Brasil,Peru,Mexico  \\\n",
       "0                                           0   \n",
       "1                                           0   \n",
       "2                                           0   \n",
       "3                                           0   \n",
       "4                                           0   \n",
       "\n",
       "   OneHot_Venezuela,Bolivia,Dominican Republic  OneHot_Venezuela,Carribean  \\\n",
       "0                                            0                           0   \n",
       "1                                            0                           0   \n",
       "2                                            0                           0   \n",
       "3                                            0                           0   \n",
       "4                                            0                           0   \n",
       "\n",
       "   OneHot_Venezuela,Dominican Republic  \\\n",
       "0                                    0   \n",
       "1                                    0   \n",
       "2                                    0   \n",
       "3                                    0   \n",
       "4                                    0   \n",
       "\n",
       "   OneHot_Venezuela,Ecuador,Peru,Nicaragua  OneHot_Venezuela,Ghana  \\\n",
       "0                                        0                       0   \n",
       "1                                        0                       0   \n",
       "2                                        0                       0   \n",
       "3                                        0                       0   \n",
       "4                                        0                       0   \n",
       "\n",
       "   OneHot_Venezuela,Indonesia,Ecuador  OneHot_Venezuela,Java  \\\n",
       "0                                   0                      0   \n",
       "1                                   0                      0   \n",
       "2                                   0                      0   \n",
       "3                                   0                      0   \n",
       "4                                   0                      0   \n",
       "\n",
       "   OneHot_Venezuela,Trinidad,Ecuador  OneHot_Venezuela,Trinidad,Madagascar  \n",
       "0                                  0                                     0  \n",
       "1                                  0                                     0  \n",
       "2                                  0                                     0  \n",
       "3                                  0                                     0  \n",
       "4                                  0                                     0  \n",
       "\n",
       "[5 rows x 1566 columns]"
      ]
     },
     "execution_count": 10,
     "metadata": {},
     "output_type": "execute_result"
    }
   ],
   "source": [
    "choc_data[list(choc_data.columns)].head()"
   ]
  },
  {
   "cell_type": "code",
   "execution_count": 11,
   "id": "0e4e33b8-ac53-4427-83c8-ded94db2fd11",
   "metadata": {},
   "outputs": [
    {
     "data": {
      "text/plain": [
       "1566"
      ]
     },
     "execution_count": 11,
     "metadata": {},
     "output_type": "execute_result"
    }
   ],
   "source": [
    "# len(choc_data[[col for col in choc_data.columns if col != 'rating' ]].columns) \n",
    "\n",
    "len(choc_data.columns)"
   ]
  },
  {
   "cell_type": "code",
   "execution_count": 12,
   "id": "7d709288-82b5-4595-b1f5-3e92f6ba3590",
   "metadata": {},
   "outputs": [],
   "source": [
    "from sklearn.model_selection import train_test_split\n",
    "\n",
    "# Map features and labels into a tensor dataset\n",
    "class LocationDataset(Dataset):\n",
    "    def __init__(self, df, x_name, y_name):\n",
    "        self.x = torch.tensor(df[x_name].to_numpy().reshape(-1, len(x_name))).float()\n",
    "        self.y = torch.tensor(df[y_name].to_numpy().reshape(-1, 1)).float()\n",
    "    \n",
    "    def __getitem__(self, idx):\n",
    "        return (self.x[idx], self.y[idx])\n",
    "    \n",
    "    def __len__(self):\n",
    "        return len(self.y)\n",
    "    \n",
    "    \n",
    "# Shuffle the training set\n",
    "choc_data = (choc_data\n",
    "             .sample(frac=1, random_state=42)\n",
    "             .reset_index(drop=True))   \n",
    "\n",
    "dat = LocationDataset(choc_data, [col for col in choc_data.columns if col != 'rating' ], 'rating')"
   ]
  },
  {
   "cell_type": "markdown",
   "id": "c69a763c-7676-416b-85c4-49abec81ce7a",
   "metadata": {},
   "source": [
    "# 3. Generate Embeddings from DNN\n",
    "\n",
    "We're ready to generate embeddings by training the DNN on the feature data. This section draws on concepts discussed on the page [Supervised Similarity Measure](https://developers.google.com/machine-learning/clustering/similarity/supervised-similarity).\n",
    "\n",
    "Run the section below to set up functions to train the DNN that generates embeddings. You do not need to understand the code."
   ]
  },
  {
   "cell_type": "markdown",
   "id": "2dab37fe-f688-4aa4-9fd0-28c4ae941bb0",
   "metadata": {},
   "source": [
    "The next cell trains the DNN. You can choose either a predictor DNN or an autoencoder DNN by specifying the parameter `output_feature_names` as follows:\n",
    "\n",
    "* If choosing a predictor DNN, specify one feature, for example, [`rating`].\n",
    "* If choosing an autoencoder DNN, specify all features as follows: `['maker','maker_location','broad_origin','cocoa_percent','bean_type','rating']`.\n",
    "\n",
    "You do not need to change the other parameters, but if you're curious:\n",
    "* `l2_regularization`: Controls the weight for L2 regularization.\n",
    "* `hidden_dims`: Controls the dimensions of the hidden layers.\n",
    "\n",
    "Running the next cell generates the following plots:\n",
    "\n",
    "* '*total*': Total loss across all features.\n",
    "* '*feature*': Loss for the specified output features.\n",
    "* '*embeddings*': First two dimensions of the generated embeddings."
   ]
  },
  {
   "cell_type": "code",
   "execution_count": 13,
   "id": "c91b21ee-7235-4532-8662-5c73c5aa4792",
   "metadata": {},
   "outputs": [
    {
     "data": {
      "text/plain": [
       "LinearRegressionModel(\n",
       "  (linear): Sequential(\n",
       "    (0): Linear(in_features=1565, out_features=20, bias=True)\n",
       "    (1): Linear(in_features=20, out_features=10, bias=True)\n",
       "  )\n",
       ")"
      ]
     },
     "execution_count": 13,
     "metadata": {},
     "output_type": "execute_result"
    }
   ],
   "source": [
    "# Define the model\n",
    "class LinearRegressionModel(nn.Module):\n",
    "    def __init__(self, num_features):\n",
    "        super().__init__()\n",
    "        self.linear = nn.Sequential(\n",
    "                nn.Linear(num_features, 20),\n",
    "                nn.Linear(20, 10)\n",
    "            )\n",
    "        \n",
    "    def forward(self, x):\n",
    "        y_hat = self.linear(x)\n",
    "        return y_hat\n",
    "    \n",
    "model = LinearRegressionModel(choc_data.shape[1]-1).to(device)    \n",
    "model"
   ]
  },
  {
   "cell_type": "code",
   "execution_count": 14,
   "id": "7a5b87ec-a9b1-4487-ae17-bdc3af3e153f",
   "metadata": {},
   "outputs": [
    {
     "name": "stdout",
     "output_type": "stream",
     "text": [
      "input_feature_names:  ('maker', 'maker_location', 'broad_origin', 'cocoa_percent', 'bean_type', 'rating')\n",
      "output_feature_names:  ['rating']\n",
      "dense_feature_names:  ('reference_number', 'review_date', 'cocoa_percent', 'rating')\n",
      "hidden_dims:  [20, 10]\n",
      "l2_regularization:  10\n",
      "batch_size:  100\n",
      "use_bias:  True\n",
      "num_iterations:  10000\n",
      "learning_rate:  0.1\n",
      "optimizer:  <class 'tensorflow.python.training.adagrad.AdagradOptimizer'>\n",
      "------ build model\n"
     ]
    }
   ],
   "source": [
    "#@title Training a DNN Similarity Model\n",
    "\n",
    "# Define some constants related to this dataset.\n",
    "sparse_feature_names = ('maker', 'maker_location', 'broad_origin',\n",
    "                        'specific_origin', 'bean_type')\n",
    "dense_feature_names = ('reference_number', 'review_date', 'cocoa_percent',\n",
    "                       'rating')\n",
    "\n",
    "# Set of features used as input to the similarity model.\n",
    "input_feature_names = ('maker', 'maker_location', 'broad_origin',\n",
    "                       'cocoa_percent', 'bean_type','rating', )\n",
    "# Set of features used as output to the similarity model.\n",
    "output_feature_names = ['rating']  #@param\n",
    "\n",
    "# Weight of the L2 regularization applied to the top embedding layer.\n",
    "l2_regularization = 10  #@param\n",
    "# List of dimensions of the hidden layers of the deep neural network.\n",
    "hidden_dims = [20, 10]  #@param\n",
    "\n",
    "batch_size=100\n",
    "use_bias=True\n",
    "num_iterations=10000\n",
    "learning_rate=0.1\n",
    "optimizer=tf.train.AdagradOptimizer\n",
    "\n",
    "print(\"input_feature_names: \", input_feature_names)\n",
    "print(\"output_feature_names: \", output_feature_names)\n",
    "print(\"dense_feature_names: \", dense_feature_names)\n",
    "# print(\"sparse_input_feature_embedding_dims: \", sparse_input_feature_embedding_dims)\n",
    "print(\"hidden_dims: \", hidden_dims)\n",
    "print(\"l2_regularization: \", l2_regularization)\n",
    "print(\"batch_size: \", batch_size)\n",
    "print(\"use_bias: \", use_bias)\n",
    "\n",
    "print(\"num_iterations: \", num_iterations)\n",
    "print(\"learning_rate: \", learning_rate)\n",
    "print(\"optimizer: \", optimizer)\n",
    "\n",
    "print('------ build model')"
   ]
  },
  {
   "cell_type": "code",
   "execution_count": 15,
   "id": "73170230-7850-48ef-8584-183f8cc24ead",
   "metadata": {},
   "outputs": [
    {
     "data": {
      "text/plain": [
       "similarity_loss(\n",
       "  (mse): MSELoss()\n",
       ")"
      ]
     },
     "execution_count": 15,
     "metadata": {},
     "output_type": "execute_result"
    }
   ],
   "source": [
    "class similarity_loss(nn.Module):\n",
    "    def __init__(self):\n",
    "        super(similarity_loss, self).__init__()       \n",
    "        self.mse = nn.MSELoss()\n",
    "    \n",
    "    def forward(self, y_hat, y):    \n",
    "        \n",
    "        total_loss = torch.mul(torch.sum(torch.square(y_hat)) , l2_regularization)\n",
    "        losses_fn = self.mse(y_hat, y) \n",
    "        return (total_loss + losses_fn) , losses_fn\n",
    "    \n",
    "criterion = similarity_loss()\n",
    "criterion"
   ]
  },
  {
   "cell_type": "code",
   "execution_count": 16,
   "id": "b1446a16-c69e-4d4f-9415-5b3a32de64a5",
   "metadata": {},
   "outputs": [
    {
     "name": "stdout",
     "output_type": "stream",
     "text": [
      "1615/1615: [==============================>.] - ETA 0.0s\n",
      "180/180: [================>...............] - ETA 0.0s\n"
     ]
    },
    {
     "name": "stderr",
     "output_type": "stream",
     "text": [
      "/home/leyan/anaconda3/envs/tensorflow/lib/python3.6/site-packages/torch/nn/modules/loss.py:528: UserWarning: Using a target size (torch.Size([100, 1])) that is different to the input size (torch.Size([100, 10])). This will likely lead to incorrect results due to broadcasting. Please ensure they have the same size.\n",
      "  return F.mse_loss(input, target, reduction=self.reduction)\n",
      "/home/leyan/anaconda3/envs/tensorflow/lib/python3.6/site-packages/torch/nn/modules/loss.py:528: UserWarning: Using a target size (torch.Size([15, 1])) that is different to the input size (torch.Size([15, 10])). This will likely lead to incorrect results due to broadcasting. Please ensure they have the same size.\n",
      "  return F.mse_loss(input, target, reduction=self.reduction)\n",
      "/home/leyan/anaconda3/envs/tensorflow/lib/python3.6/site-packages/torch/nn/modules/loss.py:528: UserWarning: Using a target size (torch.Size([80, 1])) that is different to the input size (torch.Size([80, 10])). This will likely lead to incorrect results due to broadcasting. Please ensure they have the same size.\n",
      "  return F.mse_loss(input, target, reduction=self.reduction)\n"
     ]
    },
    {
     "data": {
      "text/plain": [
       "'[ Epoch | 001/030 ]           train_loss = 98835.63511 feature train rating loss = 20.26100|           valid_loss = 78.62353 feature valid rating loss = 10.49930'"
      ]
     },
     "metadata": {},
     "output_type": "display_data"
    },
    {
     "name": "stdout",
     "output_type": "stream",
     "text": [
      "1615/1615: [==============================>.] - ETA 0.0s\n",
      "180/180: [================>...............] - ETA 0.0s\n"
     ]
    },
    {
     "data": {
      "text/plain": [
       "'[ Epoch | 002/030 ]           train_loss = 199.83992 feature train rating loss = 10.35708|           valid_loss = 62.36059 feature valid rating loss = 10.48344'"
      ]
     },
     "metadata": {},
     "output_type": "display_data"
    },
    {
     "name": "stdout",
     "output_type": "stream",
     "text": [
      "1615/1615: [==============================>.] - ETA 0.0s\n",
      "180/180: [================>...............] - ETA 0.0s\n"
     ]
    },
    {
     "data": {
      "text/plain": [
       "'[ Epoch | 003/030 ]           train_loss = 124.81329 feature train rating loss = 10.34448|           valid_loss = 53.74308 feature valid rating loss = 10.44021'"
      ]
     },
     "metadata": {},
     "output_type": "display_data"
    },
    {
     "name": "stdout",
     "output_type": "stream",
     "text": [
      "1615/1615: [==============================>.] - ETA 0.0s\n",
      "180/180: [================>...............] - ETA 0.0s\n"
     ]
    },
    {
     "data": {
      "text/plain": [
       "'[ Epoch | 004/030 ]           train_loss = 93.03880 feature train rating loss = 10.34286|           valid_loss = 45.84605 feature valid rating loss = 10.48170'"
      ]
     },
     "metadata": {},
     "output_type": "display_data"
    },
    {
     "name": "stdout",
     "output_type": "stream",
     "text": [
      "1615/1615: [==============================>.] - ETA 0.0s\n",
      "180/180: [================>...............] - ETA 0.0s\n"
     ]
    },
    {
     "data": {
      "text/plain": [
       "'[ Epoch | 005/030 ]           train_loss = 75.82801 feature train rating loss = 10.33883|           valid_loss = 41.59286 feature valid rating loss = 10.46356'"
      ]
     },
     "metadata": {},
     "output_type": "display_data"
    },
    {
     "name": "stdout",
     "output_type": "stream",
     "text": [
      "1615/1615: [==============================>.] - ETA 0.0s\n",
      "180/180: [================>...............] - ETA 0.0s\n"
     ]
    },
    {
     "data": {
      "text/plain": [
       "'[ Epoch | 006/030 ]           train_loss = 64.87675 feature train rating loss = 10.34009|           valid_loss = 38.53871 feature valid rating loss = 10.45313'"
      ]
     },
     "metadata": {},
     "output_type": "display_data"
    },
    {
     "name": "stdout",
     "output_type": "stream",
     "text": [
      "1615/1615: [==============================>.] - ETA 0.0s\n",
      "180/180: [================>...............] - ETA 0.0s\n"
     ]
    },
    {
     "data": {
      "text/plain": [
       "'[ Epoch | 007/030 ]           train_loss = 56.84855 feature train rating loss = 10.33800|           valid_loss = 37.87135 feature valid rating loss = 10.52887'"
      ]
     },
     "metadata": {},
     "output_type": "display_data"
    },
    {
     "name": "stdout",
     "output_type": "stream",
     "text": [
      "1615/1615: [==============================>.] - ETA 0.0s\n",
      "180/180: [================>...............] - ETA 0.0s\n"
     ]
    },
    {
     "data": {
      "text/plain": [
       "'[ Epoch | 008/030 ]           train_loss = 49.47785 feature train rating loss = 10.33474|           valid_loss = 39.37659 feature valid rating loss = 10.39404'"
      ]
     },
     "metadata": {},
     "output_type": "display_data"
    },
    {
     "name": "stdout",
     "output_type": "stream",
     "text": [
      "1615/1615: [==============================>.] - ETA 0.0s\n",
      "180/180: [================>...............] - ETA 0.0s\n"
     ]
    },
    {
     "data": {
      "text/plain": [
       "'[ Epoch | 009/030 ]           train_loss = 43.41804 feature train rating loss = 10.33820|           valid_loss = 31.02050 feature valid rating loss = 10.46664'"
      ]
     },
     "metadata": {},
     "output_type": "display_data"
    },
    {
     "name": "stdout",
     "output_type": "stream",
     "text": [
      "1615/1615: [==============================>.] - ETA 0.0s\n",
      "180/180: [================>...............] - ETA 0.0s\n"
     ]
    },
    {
     "data": {
      "text/plain": [
       "'[ Epoch | 010/030 ]           train_loss = 39.28269 feature train rating loss = 10.33426|           valid_loss = 30.02623 feature valid rating loss = 10.45631'"
      ]
     },
     "metadata": {},
     "output_type": "display_data"
    },
    {
     "name": "stdout",
     "output_type": "stream",
     "text": [
      "1615/1615: [==============================>.] - ETA 0.0s\n",
      "180/180: [================>...............] - ETA 0.0s\n"
     ]
    },
    {
     "data": {
      "text/plain": [
       "'[ Epoch | 011/030 ]           train_loss = 35.94954 feature train rating loss = 10.33585|           valid_loss = 28.50196 feature valid rating loss = 10.45700'"
      ]
     },
     "metadata": {},
     "output_type": "display_data"
    },
    {
     "name": "stdout",
     "output_type": "stream",
     "text": [
      "1615/1615: [==============================>.] - ETA 0.0s\n",
      "180/180: [================>...............] - ETA 0.0s\n"
     ]
    },
    {
     "data": {
      "text/plain": [
       "'[ Epoch | 012/030 ]           train_loss = 33.42660 feature train rating loss = 10.33475|           valid_loss = 27.62816 feature valid rating loss = 10.45113'"
      ]
     },
     "metadata": {},
     "output_type": "display_data"
    },
    {
     "name": "stdout",
     "output_type": "stream",
     "text": [
      "1615/1615: [==============================>.] - ETA 0.0s\n",
      "180/180: [================>...............] - ETA 0.0s\n"
     ]
    },
    {
     "data": {
      "text/plain": [
       "'[ Epoch | 013/030 ]           train_loss = 31.24527 feature train rating loss = 10.33486|           valid_loss = 26.52440 feature valid rating loss = 10.45222'"
      ]
     },
     "metadata": {},
     "output_type": "display_data"
    },
    {
     "name": "stdout",
     "output_type": "stream",
     "text": [
      "1615/1615: [==============================>.] - ETA 0.0s\n",
      "180/180: [================>...............] - ETA 0.0s\n"
     ]
    },
    {
     "data": {
      "text/plain": [
       "'[ Epoch | 014/030 ]           train_loss = 29.37733 feature train rating loss = 10.33450|           valid_loss = 25.77240 feature valid rating loss = 10.44992'"
      ]
     },
     "metadata": {},
     "output_type": "display_data"
    },
    {
     "name": "stdout",
     "output_type": "stream",
     "text": [
      "1615/1615: [==============================>.] - ETA 0.0s\n",
      "180/180: [================>...............] - ETA 0.0s\n"
     ]
    },
    {
     "data": {
      "text/plain": [
       "'[ Epoch | 015/030 ]           train_loss = 27.73919 feature train rating loss = 10.33444|           valid_loss = 24.95819 feature valid rating loss = 10.45011'"
      ]
     },
     "metadata": {},
     "output_type": "display_data"
    },
    {
     "name": "stdout",
     "output_type": "stream",
     "text": [
      "1615/1615: [==============================>.] - ETA 0.0s\n",
      "180/180: [================>...............] - ETA 0.0s\n"
     ]
    },
    {
     "data": {
      "text/plain": [
       "'[ Epoch | 016/030 ]           train_loss = 26.30358 feature train rating loss = 10.33426|           valid_loss = 24.29296 feature valid rating loss = 10.44912'"
      ]
     },
     "metadata": {},
     "output_type": "display_data"
    },
    {
     "name": "stdout",
     "output_type": "stream",
     "text": [
      "1615/1615: [==============================>.] - ETA 0.0s\n",
      "180/180: [================>...............] - ETA 0.0s\n"
     ]
    },
    {
     "data": {
      "text/plain": [
       "'[ Epoch | 017/030 ]           train_loss = 25.03253 feature train rating loss = 10.33418|           valid_loss = 23.68226 feature valid rating loss = 10.44859'"
      ]
     },
     "metadata": {},
     "output_type": "display_data"
    },
    {
     "name": "stdout",
     "output_type": "stream",
     "text": [
      "1615/1615: [==============================>.] - ETA 0.0s\n",
      "180/180: [================>...............] - ETA 0.0s\n"
     ]
    },
    {
     "data": {
      "text/plain": [
       "'[ Epoch | 018/030 ]           train_loss = 23.90467 feature train rating loss = 10.33407|           valid_loss = 23.14491 feature valid rating loss = 10.44783'"
      ]
     },
     "metadata": {},
     "output_type": "display_data"
    },
    {
     "name": "stdout",
     "output_type": "stream",
     "text": [
      "1615/1615: [==============================>.] - ETA 0.0s\n",
      "180/180: [================>...............] - ETA 0.0s\n"
     ]
    },
    {
     "data": {
      "text/plain": [
       "'[ Epoch | 019/030 ]           train_loss = 22.89822 feature train rating loss = 10.33399|           valid_loss = 22.64605 feature valid rating loss = 10.44727'"
      ]
     },
     "metadata": {},
     "output_type": "display_data"
    },
    {
     "name": "stdout",
     "output_type": "stream",
     "text": [
      "1615/1615: [==============================>.] - ETA 0.0s\n",
      "180/180: [================>...............] - ETA 0.0s\n"
     ]
    },
    {
     "data": {
      "text/plain": [
       "'[ Epoch | 020/030 ]           train_loss = 21.99678 feature train rating loss = 10.33391|           valid_loss = 22.20141 feature valid rating loss = 10.44671'"
      ]
     },
     "metadata": {},
     "output_type": "display_data"
    },
    {
     "name": "stdout",
     "output_type": "stream",
     "text": [
      "1615/1615: [==============================>.] - ETA 0.0s\n",
      "180/180: [================>...............] - ETA 0.0s\n"
     ]
    },
    {
     "data": {
      "text/plain": [
       "'[ Epoch | 021/030 ]           train_loss = 21.18652 feature train rating loss = 10.33385|           valid_loss = 21.79504 feature valid rating loss = 10.44619'"
      ]
     },
     "metadata": {},
     "output_type": "display_data"
    },
    {
     "name": "stdout",
     "output_type": "stream",
     "text": [
      "1615/1615: [==============================>.] - ETA 0.0s\n",
      "180/180: [================>...............] - ETA 0.0s\n"
     ]
    },
    {
     "data": {
      "text/plain": [
       "'[ Epoch | 022/030 ]           train_loss = 20.45575 feature train rating loss = 10.33379|           valid_loss = 21.42352 feature valid rating loss = 10.44571'"
      ]
     },
     "metadata": {},
     "output_type": "display_data"
    },
    {
     "name": "stdout",
     "output_type": "stream",
     "text": [
      "1615/1615: [==============================>.] - ETA 0.0s\n",
      "180/180: [================>...............] - ETA 0.0s\n"
     ]
    },
    {
     "data": {
      "text/plain": [
       "'[ Epoch | 023/030 ]           train_loss = 19.79464 feature train rating loss = 10.33373|           valid_loss = 21.08375 feature valid rating loss = 10.44526'"
      ]
     },
     "metadata": {},
     "output_type": "display_data"
    },
    {
     "name": "stdout",
     "output_type": "stream",
     "text": [
      "1615/1615: [==============================>.] - ETA 0.0s\n",
      "180/180: [================>...............] - ETA 0.0s\n"
     ]
    },
    {
     "data": {
      "text/plain": [
       "'[ Epoch | 024/030 ]           train_loss = 19.19483 feature train rating loss = 10.33368|           valid_loss = 20.77399 feature valid rating loss = 10.44482'"
      ]
     },
     "metadata": {},
     "output_type": "display_data"
    },
    {
     "name": "stdout",
     "output_type": "stream",
     "text": [
      "1615/1615: [==============================>.] - ETA 0.0s\n",
      "180/180: [================>...............] - ETA 0.0s\n"
     ]
    },
    {
     "data": {
      "text/plain": [
       "'[ Epoch | 025/030 ]           train_loss = 18.64919 feature train rating loss = 10.33364|           valid_loss = 20.48803 feature valid rating loss = 10.44441'"
      ]
     },
     "metadata": {},
     "output_type": "display_data"
    },
    {
     "name": "stdout",
     "output_type": "stream",
     "text": [
      "1615/1615: [==============================>.] - ETA 0.0s\n",
      "180/180: [================>...............] - ETA 0.0s\n"
     ]
    },
    {
     "data": {
      "text/plain": [
       "'[ Epoch | 026/030 ]           train_loss = 18.15156 feature train rating loss = 10.33360|           valid_loss = 20.22549 feature valid rating loss = 10.44401'"
      ]
     },
     "metadata": {},
     "output_type": "display_data"
    },
    {
     "name": "stdout",
     "output_type": "stream",
     "text": [
      "1615/1615: [==============================>.] - ETA 0.0s\n",
      "180/180: [================>...............] - ETA 0.0s\n"
     ]
    },
    {
     "data": {
      "text/plain": [
       "'[ Epoch | 027/030 ]           train_loss = 17.69662 feature train rating loss = 10.33356|           valid_loss = 19.98343 feature valid rating loss = 10.44362'"
      ]
     },
     "metadata": {},
     "output_type": "display_data"
    },
    {
     "name": "stdout",
     "output_type": "stream",
     "text": [
      "1615/1615: [==============================>.] - ETA 0.0s\n",
      "180/180: [================>...............] - ETA 0.0s\n"
     ]
    },
    {
     "data": {
      "text/plain": [
       "'[ Epoch | 028/030 ]           train_loss = 17.27978 feature train rating loss = 10.33353|           valid_loss = 19.75959 feature valid rating loss = 10.44324'"
      ]
     },
     "metadata": {},
     "output_type": "display_data"
    },
    {
     "name": "stdout",
     "output_type": "stream",
     "text": [
      "1615/1615: [==============================>.] - ETA 0.0s\n",
      "180/180: [================>...............] - ETA 0.0s\n"
     ]
    },
    {
     "data": {
      "text/plain": [
       "'[ Epoch | 029/030 ]           train_loss = 16.89700 feature train rating loss = 10.33350|           valid_loss = 19.55227 feature valid rating loss = 10.44288'"
      ]
     },
     "metadata": {},
     "output_type": "display_data"
    },
    {
     "name": "stdout",
     "output_type": "stream",
     "text": [
      "1615/1615: [==============================>.] - ETA 0.0s\n",
      "180/180: [================>...............] - ETA 0.0s\n"
     ]
    },
    {
     "data": {
      "text/plain": [
       "'[ Epoch | 030/030 ]           train_loss = 16.54477 feature train rating loss = 10.33347|           valid_loss = 19.36006 feature valid rating loss = 10.44252'"
      ]
     },
     "metadata": {},
     "output_type": "display_data"
    }
   ],
   "source": [
    "import math\n",
    "from barbar import Bar\n",
    "\n",
    "# Hyperparameters\n",
    "# learning_rate = 0.05\n",
    "epochs = 30\n",
    "batch_size = 100\n",
    "# batch_size = 5\n",
    "\n",
    "# For now we use the entire dataset for training (no validation set)\n",
    "torch.manual_seed(42)\n",
    "model = None\n",
    "model = LinearRegressionModel(choc_data.shape[1]-1).to(device)   \n",
    "\n",
    "criterion = similarity_loss()\n",
    "optimizer = torch.optim.Adagrad(model.parameters(), lr=learning_rate, \n",
    "                                lr_decay=0, weight_decay=0, initial_accumulator_value=0)\n",
    "\n",
    "\n",
    "train_ds, valid_ds = train_test_split(dat, test_size=0.1)\n",
    "train_loader=DataLoader(train_ds,batch_size=batch_size,shuffle=False)\n",
    "valid_loader=DataLoader(valid_ds,batch_size=batch_size,shuffle=False)\n",
    "\n",
    "losses = []\n",
    "\n",
    "epoch_train_loss = []\n",
    "epoch_valid_loss = []\n",
    "\n",
    "epoch_train_loss_fn = []\n",
    "epoch_valid_loss_fn = []\n",
    "\n",
    "for epoch in range(epochs):\n",
    "    # ---------- Training ----------\n",
    "    # Make sure the model is in train mode before training.\n",
    "    model.train()\n",
    "\n",
    "    # These are used to record information in training.\n",
    "    train_loss = []\n",
    "    train_loss_fn = []    \n",
    "    \n",
    "    for x_batch, y_batch in Bar(train_loader):\n",
    "        x_batch, y_batch = x_batch.to(device), y_batch.to(device)\n",
    "        \n",
    "        y_hat = model(x_batch)\n",
    "    \n",
    "        loss, losses_fn = criterion(y_hat, y_batch)\n",
    "        optimizer.zero_grad()\n",
    "        loss.backward()\n",
    "        optimizer.step()  \n",
    "        \n",
    "        # Record the loss and accuracy.\n",
    "        train_loss.append(loss.item())\n",
    "        train_loss_fn.append(losses_fn.item())\n",
    "        \n",
    "    train_loss = sum(train_loss) / len(train_loss)\n",
    "    train_loss_fn = sum(train_loss_fn) / len(train_loss_fn)    \n",
    "    \n",
    "    epoch_train_loss.append(train_loss)\n",
    "    epoch_train_loss_fn.append(train_loss_fn)\n",
    "    \n",
    "    # ---------- Validation ----------\n",
    "    # Make sure the model is in eval mode so that some modules like dropout are disabled and work normally.\n",
    "    model.eval()\n",
    "    \n",
    "    # These are used to record information in validation.\n",
    "    valid_loss = []\n",
    "    valid_loss_fn = []\n",
    "   \n",
    "    \n",
    "    # Iterate the validation set by batches.    \n",
    "    for x_batch, y_batch in Bar(valid_loader):\n",
    "        x_batch, y_batch = x_batch.to(device), y_batch.to(device)\n",
    "        \n",
    "        y_hat = model(x_batch)\n",
    "    \n",
    "        loss, losses_fn = criterion(y_hat, y_batch)\n",
    "        \n",
    "        # Record the loss and accuracy.\n",
    "        # losses.append(loss.item())\n",
    "        valid_loss.append(loss.item())\n",
    "        valid_loss_fn.append(losses_fn.item())\n",
    "        \n",
    "    valid_loss = sum(valid_loss) / len(valid_loss)\n",
    "    valid_loss_fn = sum(valid_loss_fn) / len(valid_loss_fn) \n",
    "    \n",
    "    epoch_valid_loss.append(valid_loss)\n",
    "    epoch_valid_loss_fn.append(valid_loss_fn)               \n",
    "\n",
    "    \n",
    "    display(f\"[ Epoch | {epoch + 1:03d}/{epochs:03d} ] \\\n",
    "          train_loss = {train_loss:.5f} feature train rating loss = {train_loss_fn:.5f}| \\\n",
    "          valid_loss = {valid_loss:.5f} feature valid rating loss = {valid_loss_fn:.5f}\")"
   ]
  },
  {
   "cell_type": "code",
   "execution_count": 17,
   "id": "a954b420-476c-4a8d-8d48-9132ef53b635",
   "metadata": {},
   "outputs": [
    {
     "data": {
      "image/png": "[encoded data removed]",
      "text/plain": [
       "<Figure size 432x288 with 1 Axes>"
      ]
     },
     "metadata": {
      "needs_background": "light"
     },
     "output_type": "display_data"
    }
   ],
   "source": [
    "# Loss curve\n",
    "plt.plot(epoch_train_loss)\n",
    "plt.plot(epoch_valid_loss)\n",
    "plt.title('Loss')\n",
    "plt.legend(['train', 'valid'])\n",
    "plt.savefig('loss.png')\n",
    "plt.show()"
   ]
  },
  {
   "cell_type": "code",
   "execution_count": 18,
   "id": "bc73894e-7113-4c4c-97b5-717f2d523bd5",
   "metadata": {},
   "outputs": [
    {
     "data": {
      "image/png": "[encoded data removed]",
      "text/plain": [
       "<Figure size 432x288 with 1 Axes>"
      ]
     },
     "metadata": {
      "needs_background": "light"
     },
     "output_type": "display_data"
    }
   ],
   "source": [
    "# Loss curve\n",
    "plt.plot(epoch_train_loss_fn)\n",
    "plt.plot(epoch_valid_loss_fn)\n",
    "plt.title('Feature Loss')\n",
    "plt.legend(['train', 'valid'])\n",
    "plt.savefig('Feature loss.png')\n",
    "plt.show()"
   ]
  },
  {
   "cell_type": "markdown",
   "id": "b30c6f7b-ee57-4011-8069-2edb6554076b",
   "metadata": {},
   "source": [
    "# 4. Cluster Chocolate Dataset\n",
    "We're ready to cluster the chocolates! Run the code to set up the k-means clustering functions. You do not need to understand the code.\n",
    "\n",
    "**Note**: If you're following the Clustering self study, then before running the rest of this Colab, read the sections on [k-means](https://developers.google.com/machine-learning/clustering/algorithm/run-algorithm) and [quality metrics](https://developers.google.com/machine-learning/clustering/interpret)."
   ]
  },
  {
   "cell_type": "code",
   "execution_count": 19,
   "id": "9ae8436f-7dab-46f7-9e5e-454601068538",
   "metadata": {},
   "outputs": [],
   "source": [
    "#@title Run cell to set up functions\n",
    "def dfSimilarity(df,centroids):\n",
    "  ### dfSimilarity = Calculate similarities for dataframe input\n",
    "  ### We need to calculate ||a-b||^2 = |a|^2 + |b|^2 - 2*|a|*|b|\n",
    "  ### Implement this with matrix operations\n",
    "  ### See the Appendix for further explanation\n",
    "  numPoints = len(df.index)\n",
    "  numCentroids = len(centroids.index)\n",
    "  ## Strictly speaking, we don't need to calculate the norm of points\n",
    "  # because it adds a constant bias to distances\n",
    "  # But calculating it so that the similarity doesn't go negative\n",
    "  # And that we expect similarities in [0,1] which aids debugging\n",
    "  pointNorms = np.square(nla.norm(df,axis=1))\n",
    "  pointNorms = np.reshape(pointNorms,[numPoints,1])\n",
    "  ## Calculate the norm of centroids\n",
    "  centroidNorms = np.square(nla.norm(centroids,axis=1))\n",
    "  centroidNorms = np.reshape(centroidNorms,(1,numCentroids))\n",
    "  ## Calculate |a|^2 + |b|^2 - 2*|a|*|b|\n",
    "  similarities = pointNorms + centroidNorms - 2.0*np.dot(df,np.transpose(centroids))\n",
    "  # Divide by the number of features\n",
    "  # Which is 10 because the one-hot encoding means the \"Maker\" and \"Bean\" are\n",
    "  # weighted twice\n",
    "  similarities = similarities/10.0\n",
    "  # numerical artifacts lead to negligible but negative values that go to NaN on the root\n",
    "  similarities = similarities.clip(min=0.0)\n",
    "  # Square root since it's ||a-b||^2\n",
    "  similarities = np.sqrt(similarities)\n",
    "  return similarities\n",
    "\n",
    "def initCentroids(df,k,feature_cols):\n",
    "  # Pick 'k' examples are random to serve as initial centroids\n",
    "  limit = len(df.index)\n",
    "  centroids_key = np.random.randint(0,limit-1,k)\n",
    "  centroids = df.loc[centroids_key,feature_cols].copy(deep=True)\n",
    "  # the indexes get copied over so reset them\n",
    "  centroids.reset_index(drop=True,inplace=True)\n",
    "  return centroids\n",
    "\n",
    "def pt2centroid(df,centroids,feature_cols):\n",
    "  ### Calculate similarities between all points and centroids\n",
    "  ### And assign points to the closest centroid + save that distance\n",
    "  numCentroids = len(centroids.index)\n",
    "  numExamples = len(df.index)\n",
    "  # dfSimilarity = Calculate similarities for dataframe input\n",
    "  dist = dfSimilarity(df.loc[:,feature_cols],centroids.loc[:,feature_cols])\n",
    "  df.loc[:,'centroid'] = np.argmin(dist,axis=1) # closest centroid\n",
    "  df.loc[:,'pt2centroid'] = np.min(dist,axis=1) # minimum distance\n",
    "  return df\n",
    "\n",
    "def recomputeCentroids(df,centroids,feature_cols):\n",
    "  ### For every centroid, recompute it as an average of the points\n",
    "  ### assigned to it\n",
    "  numCentroids = len(centroids.index)\n",
    "  for cen in range(numCentroids):\n",
    "    dfSubset = df.loc[df['centroid'] == cen, feature_cols] # all points for centroid\n",
    "    if not(dfSubset.empty): # if there are points assigned to the centroid\n",
    "      clusterAvg = np.sum(dfSubset)/len(dfSubset.index)\n",
    "      centroids.loc[cen] = clusterAvg\n",
    "  return centroids\n",
    "\n",
    "def kmeans(df,k,feature_cols,verbose):\n",
    "  flagConvergence = False\n",
    "  maxIter = 100\n",
    "  iter = 0                      # ensure kmeans doesn't run for ever\n",
    "  centroids = initCentroids(df,k,feature_cols)\n",
    "  while not(flagConvergence):\n",
    "    iter += 1\n",
    "    #Save old mapping of points to centroids\n",
    "    oldMapping = df['centroid'].copy(deep=True)\n",
    "    # Perform k-means\n",
    "    df = pt2centroid(df,centroids,feature_cols)\n",
    "    centroids = recomputeCentroids(df,centroids,feature_cols)\n",
    "    # Check convergence by comparing [oldMapping, newMapping]\n",
    "    newMapping = df['centroid']\n",
    "    flagConvergence = all(oldMapping == newMapping)\n",
    "    if verbose == 1:\n",
    "      print(\"Total distance:\" + str(np.sum(df['pt2centroid'])))\n",
    "    if (iter > maxIter):\n",
    "      print('k-means did not converge! Reached maximum iteration limit of ' \\\n",
    "            + str(maxIter) + '.')\n",
    "      sys.exit()\n",
    "      return\n",
    "  print('k-means converged for ' + str(k) + ' clusters' + \\\n",
    "        ' after ' + str(iter) + ' iterations!')\n",
    "  return [df,centroids]"
   ]
  },
  {
   "cell_type": "markdown",
   "id": "92dfba32-303d-4dcd-95db-1653ce86a4cc",
   "metadata": {},
   "source": [
    "Run the following cell to cluster the chocolate dataset, where `k` is the number of clusters. You'll experiment with different values of `k` later. For now, use `k = 160`.\n",
    "\n",
    "On every iteration of k-means, the output shows how the sum of distances from all examples to their centroids reduces, such that k-means always converges. The following table shows the data for the first few chocolates. On the extreme right of the table, check the assigned centroid for each example in the `centroid` column and the distance from the example to its centroid in the `pt2centroid` column.\n",
    "\n"
   ]
  },
  {
   "cell_type": "code",
   "execution_count": 20,
   "id": "735cc877-4839-45c2-ac4a-6494d7fd460a",
   "metadata": {},
   "outputs": [],
   "source": [
    "similarity_model = model"
   ]
  },
  {
   "cell_type": "code",
   "execution_count": 21,
   "id": "1596c263-5123-4dd4-b2f4-441a84530874",
   "metadata": {},
   "outputs": [
    {
     "data": {
      "text/plain": [
       "(1565, 20)"
      ]
     },
     "execution_count": 21,
     "metadata": {},
     "output_type": "execute_result"
    }
   ],
   "source": [
    "mat1 = similarity_model.linear[0].weight.cpu().detach().numpy().transpose()\n",
    "mat1.shape"
   ]
  },
  {
   "cell_type": "code",
   "execution_count": 22,
   "id": "488f4560-60ab-4aba-aa2a-150a659edf27",
   "metadata": {},
   "outputs": [
    {
     "data": {
      "text/plain": [
       "(20, 10)"
      ]
     },
     "execution_count": 22,
     "metadata": {},
     "output_type": "execute_result"
    }
   ],
   "source": [
    "mat2 = similarity_model.linear[1].weight.cpu().detach().numpy().transpose()\n",
    "mat2.shape"
   ]
  },
  {
   "cell_type": "code",
   "execution_count": 23,
   "id": "2d03585b-326d-4b7b-ac05-1e05d384fbf7",
   "metadata": {},
   "outputs": [
    {
     "data": {
      "text/plain": [
       "array([[ 0.00050044,  0.00066562, -0.00147812, ..., -0.00280403,\n",
       "        -0.0028304 ,  0.00094694],\n",
       "       [-0.02609221, -0.02610696,  0.00362875, ...,  0.01290037,\n",
       "        -0.01878367, -0.00014476],\n",
       "       [-0.03858438, -0.02759607,  0.02262289, ...,  0.01872006,\n",
       "        -0.01129825,  0.01944071],\n",
       "       ...,\n",
       "       [-0.01211078, -0.01428892,  0.03070612, ..., -0.01285394,\n",
       "        -0.02359587,  0.00482127],\n",
       "       [-0.04834351, -0.02620183,  0.03419513, ..., -0.09815264,\n",
       "        -0.0503666 ,  0.06159482],\n",
       "       [-0.01447017, -0.01537115,  0.01596514, ..., -0.0030916 ,\n",
       "        -0.01199387,  0.00537171]], dtype=float32)"
      ]
     },
     "execution_count": 23,
     "metadata": {},
     "output_type": "execute_result"
    }
   ],
   "source": [
    "embeddings = np.matmul(mat1, mat2)\n",
    "embeddings"
   ]
  },
  {
   "cell_type": "code",
   "execution_count": 24,
   "id": "60a0befa-9152-4ce3-9dc1-2940ff65f8ae",
   "metadata": {},
   "outputs": [
    {
     "data": {
      "text/plain": [
       "(1565, 10)"
      ]
     },
     "execution_count": 24,
     "metadata": {},
     "output_type": "execute_result"
    }
   ],
   "source": [
    "embeddings.shape"
   ]
  },
  {
   "cell_type": "code",
   "execution_count": 25,
   "id": "e15a649b-62cf-4d09-8192-4211bedbc110",
   "metadata": {},
   "outputs": [
    {
     "data": {
      "text/plain": [
       "array([[1., 1., 1., ..., 1., 1., 1.],\n",
       "       [1., 1., 1., ..., 1., 1., 1.],\n",
       "       [1., 1., 1., ..., 1., 1., 1.],\n",
       "       ...,\n",
       "       [1., 1., 1., ..., 1., 1., 1.],\n",
       "       [1., 1., 1., ..., 1., 1., 1.],\n",
       "       [1., 1., 1., ..., 1., 1., 1.]])"
      ]
     },
     "execution_count": 25,
     "metadata": {},
     "output_type": "execute_result"
    }
   ],
   "source": [
    "embeddings2 = np.ones(embeddings.shape)\n",
    "embeddings2"
   ]
  },
  {
   "cell_type": "code",
   "execution_count": 26,
   "id": "14a3bfca-912b-4831-98ce-89d75bdaee7c",
   "metadata": {},
   "outputs": [
    {
     "name": "stdout",
     "output_type": "stream",
     "text": [
      "Total distance:15.398369\n",
      "Total distance:13.778715\n",
      "Total distance:13.275129\n",
      "Total distance:13.075998\n",
      "Total distance:12.945223\n",
      "Total distance:12.859351\n",
      "Total distance:12.808529\n",
      "Total distance:12.785168\n",
      "Total distance:12.763905\n",
      "Total distance:12.743519\n",
      "Total distance:12.733763\n",
      "Total distance:12.727879\n",
      "Total distance:12.726597\n",
      "Total distance:12.723444\n",
      "k-means converged for 160 clusters after 14 iterations!\n",
      "Data for the first few chocolates, with 'centroid' and 'pt2centroid' on the extreme right:\n"
     ]
    },
    {
     "data": {
      "text/html": [
       "<div>\n",
       "<style scoped>\n",
       "    .dataframe tbody tr th:only-of-type {\n",
       "        vertical-align: middle;\n",
       "    }\n",
       "\n",
       "    .dataframe tbody tr th {\n",
       "        vertical-align: top;\n",
       "    }\n",
       "\n",
       "    .dataframe thead th {\n",
       "        text-align: right;\n",
       "    }\n",
       "</style>\n",
       "<table border=\"1\" class=\"dataframe\">\n",
       "  <thead>\n",
       "    <tr style=\"text-align: right;\">\n",
       "      <th></th>\n",
       "      <th>0</th>\n",
       "      <th>1</th>\n",
       "      <th>2</th>\n",
       "      <th>3</th>\n",
       "      <th>4</th>\n",
       "      <th>5</th>\n",
       "      <th>6</th>\n",
       "      <th>7</th>\n",
       "      <th>8</th>\n",
       "      <th>9</th>\n",
       "      <th>centroid</th>\n",
       "      <th>pt2centroid</th>\n",
       "    </tr>\n",
       "  </thead>\n",
       "  <tbody>\n",
       "    <tr>\n",
       "      <th>0</th>\n",
       "      <td>0.00</td>\n",
       "      <td>0.00</td>\n",
       "      <td>-0.00</td>\n",
       "      <td>0.00</td>\n",
       "      <td>0.00</td>\n",
       "      <td>-0.00</td>\n",
       "      <td>0.00</td>\n",
       "      <td>-0.00</td>\n",
       "      <td>-0.00</td>\n",
       "      <td>0.00</td>\n",
       "      <td>39</td>\n",
       "      <td>0.01</td>\n",
       "    </tr>\n",
       "    <tr>\n",
       "      <th>1</th>\n",
       "      <td>-0.03</td>\n",
       "      <td>-0.03</td>\n",
       "      <td>0.00</td>\n",
       "      <td>-0.01</td>\n",
       "      <td>-0.01</td>\n",
       "      <td>-0.01</td>\n",
       "      <td>0.01</td>\n",
       "      <td>0.01</td>\n",
       "      <td>-0.02</td>\n",
       "      <td>-0.00</td>\n",
       "      <td>130</td>\n",
       "      <td>0.01</td>\n",
       "    </tr>\n",
       "    <tr>\n",
       "      <th>2</th>\n",
       "      <td>-0.04</td>\n",
       "      <td>-0.03</td>\n",
       "      <td>0.02</td>\n",
       "      <td>0.00</td>\n",
       "      <td>0.01</td>\n",
       "      <td>-0.04</td>\n",
       "      <td>-0.00</td>\n",
       "      <td>0.02</td>\n",
       "      <td>-0.01</td>\n",
       "      <td>0.02</td>\n",
       "      <td>90</td>\n",
       "      <td>0.01</td>\n",
       "    </tr>\n",
       "    <tr>\n",
       "      <th>3</th>\n",
       "      <td>-0.07</td>\n",
       "      <td>-0.01</td>\n",
       "      <td>0.03</td>\n",
       "      <td>0.02</td>\n",
       "      <td>0.02</td>\n",
       "      <td>-0.03</td>\n",
       "      <td>0.01</td>\n",
       "      <td>-0.01</td>\n",
       "      <td>-0.00</td>\n",
       "      <td>0.03</td>\n",
       "      <td>67</td>\n",
       "      <td>0.01</td>\n",
       "    </tr>\n",
       "    <tr>\n",
       "      <th>4</th>\n",
       "      <td>-0.03</td>\n",
       "      <td>-0.00</td>\n",
       "      <td>-0.01</td>\n",
       "      <td>-0.02</td>\n",
       "      <td>-0.03</td>\n",
       "      <td>-0.04</td>\n",
       "      <td>-0.01</td>\n",
       "      <td>0.03</td>\n",
       "      <td>-0.01</td>\n",
       "      <td>-0.02</td>\n",
       "      <td>68</td>\n",
       "      <td>0.01</td>\n",
       "    </tr>\n",
       "  </tbody>\n",
       "</table>\n",
       "</div>"
      ],
      "text/plain": [
       "      0     1     2     3     4     5     6     7     8     9  centroid  \\\n",
       "0  0.00  0.00 -0.00  0.00  0.00 -0.00  0.00 -0.00 -0.00  0.00        39   \n",
       "1 -0.03 -0.03  0.00 -0.01 -0.01 -0.01  0.01  0.01 -0.02 -0.00       130   \n",
       "2 -0.04 -0.03  0.02  0.00  0.01 -0.04 -0.00  0.02 -0.01  0.02        90   \n",
       "3 -0.07 -0.01  0.03  0.02  0.02 -0.03  0.01 -0.01 -0.00  0.03        67   \n",
       "4 -0.03 -0.00 -0.01 -0.02 -0.03 -0.04 -0.01  0.03 -0.01 -0.02        68   \n",
       "\n",
       "   pt2centroid  \n",
       "0         0.01  \n",
       "1         0.01  \n",
       "2         0.01  \n",
       "3         0.01  \n",
       "4         0.01  "
      ]
     },
     "execution_count": 26,
     "metadata": {},
     "output_type": "execute_result"
    }
   ],
   "source": [
    "k = 160 #@param\n",
    "\n",
    "# Extract embeddings into a dataframe\n",
    "# choc_embed = similarity_model.embeddings\n",
    "choc_embed = embeddings\n",
    "choc_embed = pd.DataFrame(choc_embed)\n",
    "\n",
    "feature_cols = choc_embed.columns.values # save original columns\n",
    "# initialize every point to an impossible value, the k+1 cluster\n",
    "choc_embed['centroid'] = k\n",
    "# init the point to centroid distance to an impossible value \"2\" (>1)\n",
    "choc_embed['pt2centroid'] = 2\n",
    "[choc_embed,centroids] = kmeans(choc_embed,k,feature_cols,1)\n",
    "print(\"Data for the first few chocolates, with 'centroid' and 'pt2centroid' on the extreme right:\")\n",
    "choc_embed.head()"
   ]
  },
  {
   "cell_type": "markdown",
   "id": "7ad1d347-8490-4fd3-bed9-c0a09bb94669",
   "metadata": {},
   "source": [
    "## Inspect Clustering Result"
   ]
  },
  {
   "cell_type": "markdown",
   "id": "5e875775-02a1-43eb-8f02-6f62cca4b72f",
   "metadata": {},
   "source": [
    "Inspect the chocolates in different clusters by changing the parameter `clusterNumber`\n",
    "in the next cell and running the cell. Consider these questions as you inspect the clusters:\n",
    "\n",
    "* Are the clusters meaningful?\n",
    "* Is the clustering result better with a manual similarity measure (see your previous Colab) or a supervised similarity measure?\n",
    "* Does changing the number of clusters make the clusters more or less meaningful?\n",
    "\n",
    "For context, on the page [Supervised Similarity Measure](https://developers.google.com/machine-learning/clustering/similarity/supervised-similarity), read the table \"*Comparison of Manual and Supervised Measures*\". Then click the next cell for the discussion."
   ]
  },
  {
   "cell_type": "code",
   "execution_count": 27,
   "id": "cedd65a9-dfbe-408c-9b0f-0faee1875375",
   "metadata": {},
   "outputs": [
    {
     "data": {
      "text/plain": [
       "False    1561\n",
       "True        4\n",
       "Name: centroid, dtype: int64"
      ]
     },
     "execution_count": 27,
     "metadata": {},
     "output_type": "execute_result"
    }
   ],
   "source": [
    "clusterNumber = 20 #@param\n",
    "(choc_embed['centroid']==clusterNumber).value_counts()"
   ]
  },
  {
   "cell_type": "code",
   "execution_count": 28,
   "id": "53b1a9dc-4cca-4943-8444-2d0d337f34ab",
   "metadata": {},
   "outputs": [
    {
     "data": {
      "text/plain": [
       "(1565,)"
      ]
     },
     "execution_count": 28,
     "metadata": {},
     "output_type": "execute_result"
    }
   ],
   "source": [
    "(choc_embed['centroid']==clusterNumber).shape"
   ]
  },
  {
   "cell_type": "code",
   "execution_count": 29,
   "id": "0dd853e7-fd63-413b-bb10-3bedc6f01397",
   "metadata": {},
   "outputs": [
    {
     "data": {
      "text/plain": [
       "(1565, 12)"
      ]
     },
     "execution_count": 29,
     "metadata": {},
     "output_type": "execute_result"
    }
   ],
   "source": [
    "choc_embed.shape"
   ]
  },
  {
   "cell_type": "code",
   "execution_count": 30,
   "id": "0a2708dc-963b-442b-a8f0-d23e6c91269a",
   "metadata": {},
   "outputs": [
    {
     "data": {
      "text/plain": [
       "260     True\n",
       "804     True\n",
       "966     True\n",
       "1534    True\n",
       "Name: centroid, dtype: bool"
      ]
     },
     "execution_count": 30,
     "metadata": {},
     "output_type": "execute_result"
    }
   ],
   "source": [
    "myseries = (choc_embed['centroid']==clusterNumber)\n",
    "choc_embed_l = myseries[myseries == True]\n",
    "choc_embed_l"
   ]
  },
  {
   "cell_type": "code",
   "execution_count": 31,
   "id": "346991cd-caf5-481d-af0e-fed53efd5e25",
   "metadata": {},
   "outputs": [
    {
     "data": {
      "text/plain": [
       "[260, 804, 966, 1534]"
      ]
     },
     "execution_count": 31,
     "metadata": {},
     "output_type": "execute_result"
    }
   ],
   "source": [
    "list(choc_embed_l.index)"
   ]
  },
  {
   "cell_type": "code",
   "execution_count": 32,
   "id": "a32f10ca-b25f-40f1-9234-4eaa45411f16",
   "metadata": {},
   "outputs": [
    {
     "data": {
      "text/html": [
       "<div>\n",
       "<style scoped>\n",
       "    .dataframe tbody tr th:only-of-type {\n",
       "        vertical-align: middle;\n",
       "    }\n",
       "\n",
       "    .dataframe tbody tr th {\n",
       "        vertical-align: top;\n",
       "    }\n",
       "\n",
       "    .dataframe thead th {\n",
       "        text-align: right;\n",
       "    }\n",
       "</style>\n",
       "<table border=\"1\" class=\"dataframe\">\n",
       "  <thead>\n",
       "    <tr style=\"text-align: right;\">\n",
       "      <th></th>\n",
       "      <th>maker</th>\n",
       "      <th>specific_origin</th>\n",
       "      <th>reference_number</th>\n",
       "      <th>review_date</th>\n",
       "      <th>cocoa_percent</th>\n",
       "      <th>maker_location</th>\n",
       "      <th>rating</th>\n",
       "      <th>bean_type</th>\n",
       "      <th>broad_origin</th>\n",
       "    </tr>\n",
       "  </thead>\n",
       "  <tbody>\n",
       "    <tr>\n",
       "      <th>260</th>\n",
       "      <td>Brasstown aka It's Chocolate</td>\n",
       "      <td>Chuao,Mantuano blend</td>\n",
       "      <td>1129</td>\n",
       "      <td>2013</td>\n",
       "      <td>85.00</td>\n",
       "      <td>U.S.A.</td>\n",
       "      <td>3.50</td>\n",
       "      <td>Trinitario</td>\n",
       "      <td>Venezuela</td>\n",
       "    </tr>\n",
       "    <tr>\n",
       "      <th>804</th>\n",
       "      <td>hexx</td>\n",
       "      <td>Venezuela</td>\n",
       "      <td>1546</td>\n",
       "      <td>2015</td>\n",
       "      <td>70.00</td>\n",
       "      <td>U.S.A.</td>\n",
       "      <td>3.00</td>\n",
       "      <td>Blend</td>\n",
       "      <td>Venezuela</td>\n",
       "    </tr>\n",
       "    <tr>\n",
       "      <th>966</th>\n",
       "      <td>Letterpress</td>\n",
       "      <td>Maranura</td>\n",
       "      <td>1371</td>\n",
       "      <td>2014</td>\n",
       "      <td>70.00</td>\n",
       "      <td>U.S.A.</td>\n",
       "      <td>3.50</td>\n",
       "      <td>Forastero (Nacional)</td>\n",
       "      <td>Peru</td>\n",
       "    </tr>\n",
       "    <tr>\n",
       "      <th>1534</th>\n",
       "      <td>Soma</td>\n",
       "      <td>O'ahu</td>\n",
       "      <td>833</td>\n",
       "      <td>2012</td>\n",
       "      <td>70.00</td>\n",
       "      <td>Canada</td>\n",
       "      <td>3.75</td>\n",
       "      <td>Blend</td>\n",
       "      <td>Hawaii</td>\n",
       "    </tr>\n",
       "  </tbody>\n",
       "</table>\n",
       "</div>"
      ],
      "text/plain": [
       "                             maker       specific_origin  reference_number  \\\n",
       "260   Brasstown aka It's Chocolate  Chuao,Mantuano blend              1129   \n",
       "804                           hexx             Venezuela              1546   \n",
       "966                    Letterpress              Maranura              1371   \n",
       "1534                          Soma                 O'ahu               833   \n",
       "\n",
       "      review_date  cocoa_percent maker_location  rating             bean_type  \\\n",
       "260          2013          85.00         U.S.A.    3.50            Trinitario   \n",
       "804          2015          70.00         U.S.A.    3.00                 Blend   \n",
       "966          2014          70.00         U.S.A.    3.50  Forastero (Nacional)   \n",
       "1534         2012          70.00         Canada    3.75                 Blend   \n",
       "\n",
       "     broad_origin  \n",
       "260     Venezuela  \n",
       "804     Venezuela  \n",
       "966          Peru  \n",
       "1534       Hawaii  "
      ]
     },
     "execution_count": 32,
     "metadata": {},
     "output_type": "execute_result"
    }
   ],
   "source": [
    "orign_choc_data.loc[list(choc_embed_l.index)]"
   ]
  },
  {
   "cell_type": "markdown",
   "id": "9837a8ca-e285-4d80-b3df-7ffc5f0f6ccf",
   "metadata": {},
   "source": [
    "### Solution: Discussion of clustering results\n",
    "Click below for the answer."
   ]
  },
  {
   "cell_type": "markdown",
   "id": "d4a7b6a4-8a19-4475-b690-1007e5dc4725",
   "metadata": {},
   "source": [
    "**Discussion**:\n",
    "\n",
    "**Q. Are the clusters meaningful?** \n",
    "\n",
    "The clusters become more meaningful when you increase the number of clusters above approximately 100. Below ~100 clusters, dissimilar chocolates tend to be grouped together. Specifically, the grouping of numeric features is more meaningful than the categorical features. A possible cause is that the DNN isn't accurately encoding the categorical features because ~1800 examples isn't enough data to encode each of the dozens of values that categorical features have.\n",
    "\n",
    "**Q. Is the clustering result better with a manual similarity measure or a supervised similarity measure?**\n",
    "\n",
    "The clusters are more meaningful for the manual similarity measure because you customized the measure to accurately capture similarity between chocolates. Manual design was possible because the dataset was not complex. In comparison, in your supervised similarity measure, you just threw your data into the DNN and relied on the DNN to encode the similarity. The disadvantage is that with such a small dataset, the DNN lacks the data to accurately encode similarity.\n",
    "\n",
    "**Q. Does changing the number of clusters make the clusters more or less meaningful?**\n",
    "\n",
    "Increasing the number of clusters makes the clusters more meaningful up to a limit, because dissimilar chocolates can be broken up into distinct clusters."
   ]
  },
  {
   "cell_type": "markdown",
   "id": "755c8c39-bbdd-4e82-b087-76bbe46f6835",
   "metadata": {},
   "source": [
    "# 5. Quality Metrics for Clusters\n",
    "For the clusters, let's calculate the metrics discussed in [Interpret Results](https://developers.google.com/machine-learning/clustering/interpret). Read that course content before starting this code section.\n",
    "\n",
    "Run the next cell to set up functions."
   ]
  },
  {
   "cell_type": "code",
   "execution_count": 33,
   "id": "dddd7ab9-09e3-46ce-a684-2b8920998aa7",
   "metadata": {},
   "outputs": [],
   "source": [
    "#@title Run cell to setup functions { display-mode: \"form\" }\n",
    "def clusterCardinality(df):\n",
    "  k = np.max(df[\"centroid\"]) + 1\n",
    "  if six.PY2:\n",
    "    k = k.astype(int)\n",
    "  print(\"Number of clusters:\"+str(k))\n",
    "  clCard = np.zeros(k)\n",
    "  for kk in range(k):\n",
    "    clCard[kk] = np.sum(df[\"centroid\"]==kk)\n",
    "  if six.PY2:\n",
    "    clCard = clCard.astype(int)\n",
    "  # print \"Cluster Cardinality:\"+str(clCard)\n",
    "  plt.figure()\n",
    "  plt.bar(range(k),clCard)\n",
    "  plt.title('Cluster Cardinality')\n",
    "  plt.xlabel('Cluster Number: '+str(0)+' to '+str(k-1))\n",
    "  plt.ylabel('Points in Cluster')\n",
    "  return clCard\n",
    "\n",
    "def clusterMagnitude(df):\n",
    "  k = np.max(df[\"centroid\"]) + 1\n",
    "  if six.PY2:\n",
    "    k = k.astype(int)\n",
    "  cl = np.zeros(k)\n",
    "  clMag = np.zeros(k)\n",
    "  for kk in range(k):\n",
    "    idx = np.where(df[\"centroid\"]==kk)\n",
    "    idx = idx[0]\n",
    "    clMag[kk] = np.sum(df.loc[idx,\"pt2centroid\"])\n",
    "  # print \"Cluster Magnitude:\",clMag #precision set using np pref\n",
    "  plt.figure()\n",
    "  plt.bar(range(k),clMag)\n",
    "  plt.title('Cluster Magnitude')\n",
    "  plt.xlabel('Cluster Number: '+str(0)+' to '+str(k-1))\n",
    "  plt.ylabel('Total Point-to-Centroid Distance')\n",
    "  return clMag\n",
    "\n",
    "def plotCardVsMag(clCard,clMag):\n",
    "  plt.figure()\n",
    "  plt.scatter(clCard,clMag)\n",
    "  plt.xlim(xmin=0)\n",
    "  plt.ylim(ymin=0)\n",
    "  plt.title('Magnitude vs Cardinality')\n",
    "  plt.ylabel('Magnitude')\n",
    "  plt.xlabel('Cardinality')\n",
    "\n",
    "def clusterQualityMetrics(df):\n",
    "  clCard = clusterCardinality(df)\n",
    "  clMag = clusterMagnitude(df)\n",
    "  plotCardVsMag(clCard,clMag)"
   ]
  },
  {
   "cell_type": "markdown",
   "id": "83267e60-6323-4503-aa44-044a9e21406e",
   "metadata": {},
   "source": [
    "Calculate the following metrics by running the next cell:\n",
    "\n",
    "* cardinality of your clusters\n",
    "* magnitude of your clusters\n",
    "* cardinality vs magnitude\n",
    "\n",
    "Observe:\n",
    "* The plots show that inspecting cluster metrics for many clusters isn't easy. However, the plots provide a general idea of the quality of the clustering. There are a number of outlying clusters.\n",
    "* The correlation between cluster cardinality and cluster magnitude is lower than it was for a manual similarity measure. The lower correlation shows that some chocolates were harder to cluster, leading to large example-centroid distances.\n",
    "\n",
    "Experiment by changing these options and checking the result:\n",
    "* dimensions of DNN's hidden layer\n",
    "* autoencoder or predictor DNN\n",
    "* number of clusters"
   ]
  },
  {
   "cell_type": "code",
   "execution_count": 34,
   "id": "663d7fba-46a7-4f7e-9df2-1e8085cbd675",
   "metadata": {},
   "outputs": [
    {
     "name": "stdout",
     "output_type": "stream",
     "text": [
      "Number of clusters:160\n"
     ]
    },
    {
     "data": {
      "image/png": "[encoded data removed]",
      "text/plain": [
       "<Figure size 432x288 with 1 Axes>"
      ]
     },
     "metadata": {
      "needs_background": "light"
     },
     "output_type": "display_data"
    },
    {
     "data": {
      "image/png": "[encoded data removed]",
      "text/plain": [
       "<Figure size 432x288 with 1 Axes>"
      ]
     },
     "metadata": {
      "needs_background": "light"
     },
     "output_type": "display_data"
    },
    {
     "data": {
      "image/png": "[encoded data removed]",
      "text/plain": [
       "<Figure size 432x288 with 1 Axes>"
      ]
     },
     "metadata": {
      "needs_background": "light"
     },
     "output_type": "display_data"
    }
   ],
   "source": [
    "clusterQualityMetrics(choc_embed)"
   ]
  },
  {
   "cell_type": "markdown",
   "id": "e5a4425e-8bdd-4f7e-888b-5fe01029cea9",
   "metadata": {},
   "source": [
    "## Find Optimum Number of Clusters\n",
    "\n",
    "Let's try finding the right number of clusters as you did in the previous programming exercise. For details, read \"*Step Three: Optimum Number of Clusters*\" on [Interpret Results](https://developers.google.com/machine-learning/clustering/interpret).\n",
    "\n",
    "Run the code below (it takes a while!). The resulting plot is uneven for low `k`, showing that the k-means has a difficult time clustering the data. As `k` increases past 100, the loss evens out, showing that k-means is effectively grouping the data into clusters."
   ]
  },
  {
   "cell_type": "code",
   "execution_count": 35,
   "id": "5cfe0425-644d-4f72-9bf7-80383c0fd1af",
   "metadata": {},
   "outputs": [
    {
     "name": "stdout",
     "output_type": "stream",
     "text": [
      "k-means converged for 5 clusters after 49 iterations!\n",
      "k-means converged for 15 clusters after 48 iterations!\n",
      "k-means converged for 25 clusters after 42 iterations!\n",
      "k-means converged for 35 clusters after 32 iterations!\n",
      "k-means converged for 45 clusters after 22 iterations!\n",
      "k-means converged for 55 clusters after 16 iterations!\n",
      "k-means converged for 65 clusters after 18 iterations!\n",
      "k-means converged for 75 clusters after 14 iterations!\n",
      "k-means converged for 85 clusters after 21 iterations!\n",
      "k-means converged for 95 clusters after 14 iterations!\n",
      "k-means converged for 105 clusters after 22 iterations!\n",
      "k-means converged for 115 clusters after 13 iterations!\n",
      "k-means converged for 125 clusters after 15 iterations!\n",
      "k-means converged for 135 clusters after 16 iterations!\n",
      "k-means converged for 145 clusters after 13 iterations!\n",
      "k-means converged for 155 clusters after 16 iterations!\n",
      "k-means converged for 165 clusters after 16 iterations!\n",
      "k-means converged for 175 clusters after 15 iterations!\n",
      "k-means converged for 185 clusters after 12 iterations!\n",
      "k-means converged for 195 clusters after 11 iterations!\n"
     ]
    },
    {
     "data": {
      "image/png": "[encoded data removed]",
      "text/plain": [
       "<Figure size 432x288 with 1 Axes>"
      ]
     },
     "metadata": {
      "needs_background": "light"
     },
     "output_type": "display_data"
    }
   ],
   "source": [
    "# Plot loss vs number of clusters\n",
    "def lossVsClusters(kmin, kmax, kstep, choc_data):\n",
    "  kmax += 1  # include kmax-th cluster in range\n",
    "  kRange = range(kmin, kmax, kstep)\n",
    "  loss = np.zeros(len(kRange))\n",
    "  lossCtr = 0\n",
    "  for kk in kRange:\n",
    "    [choc_data, centroids] = kmeans(choc_data, kk, feature_cols, 0)\n",
    "    loss[lossCtr] = np.sum(choc_data['pt2centroid'])\n",
    "    lossCtr += 1\n",
    "  plt.scatter(kRange, loss)\n",
    "  plt.title('Loss vs Clusters Used')\n",
    "  plt.xlabel('Number of clusters')\n",
    "  plt.ylabel('Total Point-to-Centroid Distance')\n",
    "\n",
    "\n",
    "kmin = 5  # @param\n",
    "kmax = 200  # @param\n",
    "kstep = 10  # @param\n",
    "lossVsClusters(kmin, kmax, kstep, choc_embed)"
   ]
  },
  {
   "cell_type": "markdown",
   "id": "a48ab712-90f0-410c-86a2-a02f7be97749",
   "metadata": {},
   "source": [
    "# Summary\n",
    "\n",
    "The codelab demonstrates these characteristics of a supervised similarity measure, described on the page [Supervised Similarity Measure](https://developers.google.com/machine-learning/clustering/similarity/supervised-similarity) in the table \"*Comparison of Manual and Supervised Measures*\":\n",
    "\n",
    "* **Eliminates redundant information in correlated features**. As discussed in this [section](#scrollTo=MJtuP9w5jJHq), the DNN eliminates redundant information. However, to prove this characteristic, you'd need to train the DNN on adequate data and then compare with the results of a manual similarity measure.\n",
    "* **Does not provides insight into calculated similarities**. Because you do not know what the embeddings represent, you have no insight into the clustering result.\n",
    "* **Suitable for large datasets with complex features**. Our dataset was too small to adequately train the DNN, demonstrating that DNNs need large datasets to train. The advantage is that you do not need to understand the input data. Since large datasets are not easy to understand, these two characteristics go hand-in-hand.\n",
    "* **Not suitable for small datasets**. A small dataset does not have enough information to train the DNN."
   ]
  }
 ],
 "metadata": {
  "kernelspec": {
   "display_name": "Python 3",
   "language": "python",
   "name": "python3"
  },
  "language_info": {
   "codemirror_mode": {
    "name": "ipython",
    "version": 3
   },
   "file_extension": ".py",
   "mimetype": "text/x-python",
   "name": "python",
   "nbconvert_exporter": "python",
   "pygments_lexer": "ipython3",
   "version": "3.6.9"
  }
 },
 "nbformat": 4,
 "nbformat_minor": 5
}
